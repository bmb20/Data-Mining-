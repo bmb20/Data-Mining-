{
  "nbformat": 4,
  "nbformat_minor": 0,
  "metadata": {
    "colab": {
      "provenance": []
    },
    "kernelspec": {
      "name": "python3",
      "display_name": "Python 3"
    },
    "language_info": {
      "name": "python"
    }
  },
  "cells": [
    {
      "cell_type": "code",
      "execution_count": 60,
      "metadata": {
        "id": "NBRk3Ew7TdIC"
      },
      "outputs": [],
      "source": [
        "import numpy as np\n",
        "import pandas as pd\n",
        "import matplotlib.pyplot as plt\n",
        "from sklearn.preprocessing import StandardScaler\n",
        "\n",
        "from collections import Counter\n",
        "from collections import defaultdict\n",
        "\n",
        "#!pip install scikit-plot\n",
        "from sklearn.neighbors import KNeighborsClassifier\n",
        "from sklearn.tree import DecisionTreeClassifier\n",
        "from sklearn.model_selection import train_test_split, cross_val_score \n",
        "from scikitplot.metrics import plot_precision_recall, plot_roc, plot_cumulative_gain, plot_lift_curve\n",
        "from sklearn.metrics import roc_curve, auc, roc_auc_score\n",
        "from sklearn.model_selection import KFold\n",
        "from sklearn.metrics import accuracy_score, precision_score, recall_score, confusion_matrix, f1_score, classification_report"
      ]
    },
    {
      "cell_type": "code",
      "source": [
        "df_test = pd.read_csv(\"/content/Test_ripulito\")\n",
        "df_train = pd.read_csv(\"/content/Train_ripulito\")"
      ],
      "metadata": {
        "id": "WBruEWFbT46y"
      },
      "execution_count": 61,
      "outputs": []
    },
    {
      "cell_type": "code",
      "source": [
        "df_test = df_test.drop(columns=['Unnamed: 0'],axis=1)\n",
        "df_train = df_train.drop(columns=['Unnamed: 0'],axis=1)"
      ],
      "metadata": {
        "id": "HLWKKdr4Upr0"
      },
      "execution_count": 62,
      "outputs": []
    },
    {
      "cell_type": "code",
      "source": [
        "df_train_copy = df_train\n",
        "df_test_copy = df_test"
      ],
      "metadata": {
        "id": "sg3zUktUUsZb"
      },
      "execution_count": 63,
      "outputs": []
    },
    {
      "cell_type": "code",
      "source": [
        "t_train = df_train.drop(columns=['vocal_channel', 'emotion', 'emotional_intensity', 'statement', 'repetition', 'sex', 'filename'])\n",
        "t_test = df_test.drop(columns=['vocal_channel', 'emotion', 'emotional_intensity', 'statement', 'repetition', 'sex', 'filename'])"
      ],
      "metadata": {
        "id": "llhMACrDUy0V"
      },
      "execution_count": 64,
      "outputs": []
    },
    {
      "cell_type": "code",
      "source": [
        "columns_train = []\n",
        "columns_train = t_train.columns\n",
        "columns_test = []\n",
        "columns_test = t_test.columns"
      ],
      "metadata": {
        "id": "1MtqIjj8U6-1"
      },
      "execution_count": 66,
      "outputs": []
    },
    {
      "cell_type": "code",
      "source": [
        "scaler = StandardScaler()\n",
        "x_train_norm = scaler.fit_transform(t_train)\n",
        "#print(x_train_norm)\n",
        "x_test_norm = scaler.transform(t_test)\n",
        "#print(x_test_norm)"
      ],
      "metadata": {
        "id": "Mb9GapMrVQ4j"
      },
      "execution_count": 67,
      "outputs": []
    },
    {
      "cell_type": "code",
      "source": [
        "df_trainNORM = pd.DataFrame(x_train_norm, columns = columns_train)\n",
        "df_testNORM = pd.DataFrame(x_test_norm, columns = columns_test)"
      ],
      "metadata": {
        "id": "0enBarYHVfmw"
      },
      "execution_count": 68,
      "outputs": []
    },
    {
      "cell_type": "code",
      "source": [
        "\"\"\"df_trainNORM = df_trainNORM.assign(vocal_channel = df_train_copy['vocal_channel'].values)\n",
        "df_trainNORM = df_trainNORM.assign(emotional_intensity = df_train_copy['emotional_intensity'].values)\n",
        "df_trainNORM = df_trainNORM.assign(statement = df_train_copy['statement'].values)\n",
        "df_trainNORM = df_trainNORM.assign(repetition = df_train_copy['repetition'].values)\n",
        "df_trainNORM = df_trainNORM.assign(sex = df_train_copy['sex'].values)\n",
        "df_trainNORM = df_trainNORM.assign(filename = df_train_copy['filename'].values)\"\"\"\n",
        "df_trainNORM = df_trainNORM.assign(emotion = df_train_copy['emotion'].values)"
      ],
      "metadata": {
        "id": "vSG3vi7kVhUk"
      },
      "execution_count": 69,
      "outputs": []
    },
    {
      "cell_type": "code",
      "source": [
        "\"\"\"df_testNORM = df_testNORM.assign(vocal_channel = df_test_copy['vocal_channel'].values)\n",
        "df_testNORM = df_testNORM.assign(emotional_intensity = df_test_copy['emotional_intensity'].values)\n",
        "df_testNORM = df_testNORM.assign(statement = df_test_copy['statement'].values)\n",
        "df_testNORM = df_testNORM.assign(repetition = df_test_copy['repetition'].values)\n",
        "df_testNORM = df_testNORM.assign(sex = df_test_copy['sex'].values)\n",
        "df_testNORM = df_testNORM.assign(filename = df_test_copy['filename'].values)\"\"\"\n",
        "df_testNORM = df_testNORM.assign(emotion = df_test_copy['emotion'].values)"
      ],
      "metadata": {
        "id": "O1PAww_7V2Cj"
      },
      "execution_count": 70,
      "outputs": []
    },
    {
      "cell_type": "markdown",
      "source": [
        "aggiungo colonna happy al dataset di test e train dopo averli normalizzati "
      ],
      "metadata": {
        "id": "993s7_Z9JEtv"
      }
    },
    {
      "cell_type": "code",
      "source": [
        "train_happy = []\n",
        "for value in df_trainNORM['emotion']:\n",
        "  if(value == 'happy'):\n",
        "    train_happy.append(1)\n",
        "  else:\n",
        "    train_happy.append(0)"
      ],
      "metadata": {
        "id": "KtO6d5VhAhBI"
      },
      "execution_count": 71,
      "outputs": []
    },
    {
      "cell_type": "code",
      "source": [
        "df_trainNORM = df_trainNORM.assign(happy = train_happy)"
      ],
      "metadata": {
        "id": "UaIua6SsIsz_"
      },
      "execution_count": 72,
      "outputs": []
    },
    {
      "cell_type": "code",
      "source": [
        "test_happy = []\n",
        "for value in df_testNORM['emotion']:\n",
        "  if(value == 'happy'):\n",
        "    test_happy.append(1)\n",
        "  else:\n",
        "    test_happy.append(0)"
      ],
      "metadata": {
        "id": "TRNHX54MIwAa"
      },
      "execution_count": 73,
      "outputs": []
    },
    {
      "cell_type": "code",
      "source": [
        "df_testNORM = df_testNORM.assign(happy = test_happy)"
      ],
      "metadata": {
        "id": "pCORc7JaI2oW"
      },
      "execution_count": 74,
      "outputs": []
    },
    {
      "cell_type": "markdown",
      "source": [
        "uso train ribilanciato con la tecnica migliore ottenuta e uso test sbilanciato "
      ],
      "metadata": {
        "id": "z4Q8ePCeI9ri"
      }
    },
    {
      "cell_type": "markdown",
      "source": [
        "sbilancio del 96 e 4 % il test e il train"
      ],
      "metadata": {
        "id": "g8Gt8_rKJaX3"
      }
    },
    {
      "cell_type": "code",
      "source": [
        "from sklearn.metrics import r2_score, mean_squared_error, mean_absolute_error\n",
        "import numpy as np\n",
        "import pandas as pd\n",
        "import matplotlib.pyplot as plt\n",
        "import seaborn as sns"
      ],
      "metadata": {
        "id": "w6k0PaiRMgiH"
      },
      "execution_count": 75,
      "outputs": []
    },
    {
      "cell_type": "code",
      "source": [
        "#classe da sbilanciare\n",
        "class_name = 'happy'"
      ],
      "metadata": {
        "id": "zvjVdqoKJeXp"
      },
      "execution_count": 76,
      "outputs": []
    },
    {
      "cell_type": "code",
      "source": [
        "#sbilanciamento train\n",
        "attributes = [col for col in df_trainNORM.columns if col != class_name]\n",
        "X = df_trainNORM[attributes].values\n",
        "y = df_trainNORM[class_name]"
      ],
      "metadata": {
        "id": "TPDT-SKcJjc3"
      },
      "execution_count": 77,
      "outputs": []
    },
    {
      "cell_type": "code",
      "source": [
        "ax = sns.countplot(y=\"happy\", data=df_trainNORM)\n",
        "plt.title('Distribution of happy')\n",
        "plt.xlabel('Number of records')\n",
        "total = len(df_trainNORM['happy'])\n",
        "for p in ax.patches:\n",
        "        percentage = '{:.1f}%'.format(100 * p.get_width()/total)\n",
        "        x = p.get_x() + p.get_width() + 0.02\n",
        "        y = p.get_y() + p.get_height()/2\n",
        "        ax.annotate(percentage, (x, y))\n",
        "\n",
        "plt.show()"
      ],
      "metadata": {
        "colab": {
          "base_uri": "https://localhost:8080/",
          "height": 295
        },
        "id": "PpZOZv2fMOpE",
        "outputId": "c393a118-c3f6-49c9-acee-8f42e9d4f068"
      },
      "execution_count": 78,
      "outputs": [
        {
          "output_type": "display_data",
          "data": {
            "text/plain": [
              "<Figure size 432x288 with 1 Axes>"
            ],
            "image/png": "[encoded data removed]"
          },
          "metadata": {
            "needs_background": "light"
          }
        }
      ]
    },
    {
      "cell_type": "code",
      "source": [
        "from imblearn.datasets import make_imbalance\n",
        "seed = 100\n",
        "attributes = [col for col in df_trainNORM.columns if col != class_name]\n",
        "X = df_trainNORM[attributes]\n",
        "y = df_trainNORM[class_name]\n",
        "#sbilanciamento 96% e 4%\n",
        "X_res, y_res = make_imbalance(X, y, sampling_strategy={0: 1548, 1: 64}, random_state=seed)\n",
        "\n",
        "dxres = pd.DataFrame(X_res)\n",
        "dyres = pd.DataFrame(y_res)\n",
        "\n",
        "df2_train_sbil=pd.concat([dxres, dyres], axis=1, join=\"inner\")\n",
        "#attr= [col for col in df_trainNORM.columns]\n",
        "#df2.columns = attr\n",
        "ax = sns.countplot(y=\"happy\", data=df2_train_sbil)\n",
        "plt.title('Distribution of happy')\n",
        "plt.xlabel('Number of records')\n",
        "total = len(df2_train_sbil['happy'])\n",
        "for p in ax.patches:\n",
        "        percentage = '{:.1f}%'.format(100 * p.get_width()/total)\n",
        "        x = p.get_x() + p.get_width() + 0.02\n",
        "        y = p.get_y() + p.get_height()/2\n",
        "        ax.annotate(percentage, (x, y))\n",
        "\n",
        "plt.show()"
      ],
      "metadata": {
        "colab": {
          "base_uri": "https://localhost:8080/",
          "height": 295
        },
        "id": "wPdzJT9iMjNr",
        "outputId": "5e8dd4e8-d2a1-4aa2-c464-4ed5515ac1ae"
      },
      "execution_count": 79,
      "outputs": [
        {
          "output_type": "display_data",
          "data": {
            "text/plain": [
              "<Figure size 432x288 with 1 Axes>"
            ],
            "image/png": "[encoded data removed]"
          },
          "metadata": {
            "needs_background": "light"
          }
        }
      ]
    },
    {
      "cell_type": "code",
      "source": [
        "#sbilanciamento test\n",
        "attributes2 = [col for col in df_testNORM.columns if col != class_name]\n",
        "X = df_testNORM[attributes2].values\n",
        "y = df_testNORM[class_name]"
      ],
      "metadata": {
        "id": "QSAcO7m4NfD2"
      },
      "execution_count": 80,
      "outputs": []
    },
    {
      "cell_type": "code",
      "source": [
        "ax = sns.countplot(y=\"happy\", data=df_testNORM)\n",
        "plt.title('Distribution of emotional happy')\n",
        "plt.xlabel('Number of records')\n",
        "total = len(df_testNORM['happy'])\n",
        "for p in ax.patches:\n",
        "        percentage = '{:.1f}%'.format(100 * p.get_width()/total)\n",
        "        x = p.get_x() + p.get_width() + 0.02\n",
        "        y = p.get_y() + p.get_height()/2\n",
        "        ax.annotate(percentage, (x, y))\n",
        "\n",
        "plt.show()"
      ],
      "metadata": {
        "colab": {
          "base_uri": "https://localhost:8080/",
          "height": 295
        },
        "id": "Of0WhM_NNjGI",
        "outputId": "34e85772-5f2a-46ea-ec21-75f67b99153d"
      },
      "execution_count": 81,
      "outputs": [
        {
          "output_type": "display_data",
          "data": {
            "text/plain": [
              "<Figure size 432x288 with 1 Axes>"
            ],
            "image/png": "[encoded data removed]"
          },
          "metadata": {
            "needs_background": "light"
          }
        }
      ]
    },
    {
      "cell_type": "code",
      "source": [
        "from imblearn.datasets import make_imbalance\n",
        "seed = 100\n",
        "attributes = [col for col in df_testNORM.columns if col != class_name]\n",
        "X = df_testNORM[attributes]\n",
        "y = df_testNORM[class_name]\n",
        "#sbilanciamento 96% e 4%\n",
        "X_res, y_res = make_imbalance(X, y, sampling_strategy={0: 528, 1: 22}, random_state=seed)\n",
        "\n",
        "dxres = pd.DataFrame(X_res)\n",
        "dyres = pd.DataFrame(y_res)\n",
        "\n",
        "df2_test_sbil=pd.concat([dxres, dyres], axis=1, join=\"inner\")\n",
        "#attr= [col for col in df_trainNORM.columns]\n",
        "#df2.columns = attr\n",
        "ax = sns.countplot(y=\"happy\", data=df2_test_sbil)\n",
        "plt.title('Distribution of emotional happy')\n",
        "plt.xlabel('Number of records')\n",
        "total = len(df2_test_sbil['happy'])\n",
        "for p in ax.patches:\n",
        "        percentage = '{:.1f}%'.format(100 * p.get_width()/total)\n",
        "        x = p.get_x() + p.get_width() + 0.02\n",
        "        y = p.get_y() + p.get_height()/2\n",
        "        ax.annotate(percentage, (x, y))\n",
        "\n",
        "plt.show()"
      ],
      "metadata": {
        "colab": {
          "base_uri": "https://localhost:8080/",
          "height": 295
        },
        "id": "RWryYCZVNqGU",
        "outputId": "3f9b35e4-d03b-4c00-b92f-048c50837ff1"
      },
      "execution_count": 82,
      "outputs": [
        {
          "output_type": "display_data",
          "data": {
            "text/plain": [
              "<Figure size 432x288 with 1 Axes>"
            ],
            "image/png": "[encoded data removed]"
          },
          "metadata": {
            "needs_background": "light"
          }
        }
      ]
    },
    {
      "cell_type": "code",
      "source": [
        "#!pip install scikit-plot\n",
        "from sklearn.neighbors import KNeighborsClassifier\n",
        "from sklearn.model_selection import train_test_split, cross_val_score \n",
        "from scikitplot.metrics import plot_precision_recall, plot_roc, plot_cumulative_gain, plot_lift_curve\n",
        "from sklearn.metrics import roc_curve, auc, roc_auc_score\n",
        "from scikitplot.metrics import plot_roc_curve\n",
        "from sklearn.model_selection import KFold, StratifiedKFold,RepeatedStratifiedKFold, cross_val_score, KFold, RandomizedSearchCV,GridSearchCV, RepeatedKFold\n",
        "from sklearn import tree\n",
        "from sklearn.metrics import accuracy_score, precision_score, recall_score, confusion_matrix, f1_score, classification_report"
      ],
      "metadata": {
        "id": "MgrMm_eTOeso"
      },
      "execution_count": 83,
      "outputs": []
    },
    {
      "cell_type": "markdown",
      "source": [
        "Dopo aver sbilanciato del 96% e 4% i due dataset, come fatto nell'imbalanced learning, ora ribilancio con la miglior tecnica ottenuta dall'imbalanced il dataset di train; mentre il dataset di test lo lascio sbilanciato."
      ],
      "metadata": {
        "id": "PFgM43woOwJQ"
      }
    },
    {
      "cell_type": "code",
      "source": [
        "X_train = df2_train_sbil.drop(columns = ['happy', 'emotion'])\n",
        "y_train = df2_train_sbil[['happy']]\n",
        "X_test = df2_test_sbil.drop(columns = ['happy', 'emotion'])\n",
        "y_test = df2_test_sbil[['happy']]\n",
        "#0 not happy e 1 happy"
      ],
      "metadata": {
        "id": "ryOY0IYFOjQQ"
      },
      "execution_count": 84,
      "outputs": []
    },
    {
      "cell_type": "code",
      "source": [
        "y_train.value_counts()"
      ],
      "metadata": {
        "colab": {
          "base_uri": "https://localhost:8080/"
        },
        "id": "8WwMcvFPi-i8",
        "outputId": "d2738888-799a-41b0-b535-ef41e4d7c1bc"
      },
      "execution_count": 85,
      "outputs": [
        {
          "output_type": "execute_result",
          "data": {
            "text/plain": [
              "happy\n",
              "0        1548\n",
              "1          64\n",
              "dtype: int64"
            ]
          },
          "metadata": {},
          "execution_count": 85
        }
      ]
    },
    {
      "cell_type": "code",
      "source": [
        "#tecnica di ribilanciamento scelta = CNN \n",
        "from imblearn.under_sampling import CondensedNearestNeighbour\n",
        "cnn = CondensedNearestNeighbour(random_state=42, n_jobs=10)   #n_jobs numero di processori da utilizzare \n",
        "X_res, y_res = cnn.fit_resample(X_train, y_train['happy'])\n",
        "print('Resampled dataset shape %s' % Counter(y_res))"
      ],
      "metadata": {
        "colab": {
          "base_uri": "https://localhost:8080/"
        },
        "id": "XEa3GiqAPIJ6",
        "outputId": "a0d546e9-1194-4252-aa45-c96e18414859"
      },
      "execution_count": 86,
      "outputs": [
        {
          "output_type": "stream",
          "name": "stdout",
          "text": [
            "Resampled dataset shape Counter({0: 247, 1: 64})\n"
          ]
        }
      ]
    },
    {
      "cell_type": "code",
      "source": [
        "X_res #nuovo dataset di train da considerare.. ovvero quello ri-bilanciato"
      ],
      "metadata": {
        "colab": {
          "base_uri": "https://localhost:8080/",
          "height": 487
        },
        "id": "RYiKJDlHkg2D",
        "outputId": "ed12b699-e0d8-4881-8dcb-512cbefd867d"
      },
      "execution_count": 87,
      "outputs": [
        {
          "output_type": "execute_result",
          "data": {
            "text/plain": [
              "          sum       std       q25       q50       q75       kur      skew  \\\n",
              "0   -0.001191 -0.279088  0.603864 -0.063106 -0.748640  2.762523  1.552638   \n",
              "1    0.031822  0.619406 -2.103481 -0.063106  4.375025 -0.934996 -0.735521   \n",
              "2    0.303044 -0.916425  0.585063 -0.063106 -0.645341 -0.148802 -1.592160   \n",
              "3    0.006202 -0.228802  0.585063 -0.063106 -0.748640  0.508856  0.654520   \n",
              "4    0.178059 -0.175318 -0.242181 -0.063106  0.201717  0.636907  0.295529   \n",
              "..        ...       ...       ...       ...       ...       ...       ...   \n",
              "306  0.498093 -0.487172  0.566262 -0.063106 -0.542041  0.039736 -0.935504   \n",
              "307 -0.041378 -0.178707 -0.542997 -0.063106  1.090094 -1.060654 -0.389414   \n",
              "308 -0.085931  1.042703  0.397053 -0.063106 -0.480061  0.199978  0.181318   \n",
              "309  0.024757  0.226174  0.340650 -0.063106  1.792532 -0.791260 -0.547137   \n",
              "310 -0.005777  1.577228 -0.937818 -0.063106  0.966135 -0.475921  0.493205   \n",
              "\n",
              "     lag1_sum  lag1_q25  lag1_kur  ...  sc_q25_w4  sc_kur_w4  sc_skew_w4  \\\n",
              "0    0.027433  0.603131  1.139540  ...   1.359687   2.329878   -1.678346   \n",
              "1   -0.655365 -0.818754 -0.756630  ...  -1.821192  -0.604285    0.782487   \n",
              "2    0.179166  0.603131  0.403355  ...   1.141403  -0.110478    0.658416   \n",
              "3    0.027433  0.603131  0.393771  ...   1.059419   0.215524   -0.432006   \n",
              "4   -1.945095  0.247660  0.126079  ...  -1.433835  -0.375639    0.907477   \n",
              "..        ...       ...       ...  ...        ...        ...         ...   \n",
              "306  0.027433  0.484641  0.452141  ...   0.672651   0.178876   -0.952562   \n",
              "307  0.141233 -0.107811 -0.384384  ...  -1.498369  -0.698687    0.518051   \n",
              "308  0.027433  0.129169 -0.689063  ...   0.056089  -0.447941   -0.275274   \n",
              "309  0.065366 -0.226302 -0.767683  ...  -0.393048  -0.524963    0.590588   \n",
              "310  0.027433 -1.648186 -0.770737  ...  -0.287690  -0.437533   -0.412113   \n",
              "\n",
              "     stft_sum_w4  stft_mean_w4  stft_std_w4  stft_min_w4  stft_q95_w4  \\\n",
              "0       0.503814      0.996620    -1.505683     1.660745     0.036057   \n",
              "1       4.407202      1.284841    -0.243718     0.059038     0.036057   \n",
              "2      -0.498057      1.136865    -1.583484     2.268027     0.036057   \n",
              "3      -0.300172      0.536332    -0.729762     0.050839     0.036057   \n",
              "4       0.371353      1.491335    -1.093245     1.523521     0.036057   \n",
              "..           ...           ...          ...          ...          ...   \n",
              "306    -0.458616      0.072804    -0.537430    -0.336379     0.036057   \n",
              "307    -0.284721     -0.870661     1.210881    -0.725238     0.036057   \n",
              "308    -0.608113     -0.209275     0.767704    -0.611216     0.036057   \n",
              "309     0.183955     -1.130240     0.795997    -0.296222     0.036057   \n",
              "310     0.467082     -0.036503     0.432081    -0.654417     0.036057   \n",
              "\n",
              "     stft_kur_w4  stft_skew_w4  \n",
              "0       0.088156      0.235493  \n",
              "1       1.165259     -1.758966  \n",
              "2      -0.278330      0.352553  \n",
              "3       0.507684     -0.355923  \n",
              "4       0.959866     -1.312710  \n",
              "..           ...           ...  \n",
              "306    -0.045914      0.437535  \n",
              "307    -0.963499      0.449542  \n",
              "308    -0.389754     -0.456016  \n",
              "309    -0.967548      1.382950  \n",
              "310     0.206880     -0.694721  \n",
              "\n",
              "[311 rows x 197 columns]"
            ],
            "text/html": [
              "\n",
              "  <div id=\"df-c669a1c7-35b2-4bbb-b6ba-13b085c7c830\">\n",
              "    <div class=\"colab-df-container\">\n",
              "      <div>\n",
              "<style scoped>\n",
              "    .dataframe tbody tr th:only-of-type {\n",
              "        vertical-align: middle;\n",
              "    }\n",
              "\n",
              "    .dataframe tbody tr th {\n",
              "        vertical-align: top;\n",
              "    }\n",
              "\n",
              "    .dataframe thead th {\n",
              "        text-align: right;\n",
              "    }\n",
              "</style>\n",
              "<table border=\"1\" class=\"dataframe\">\n",
              "  <thead>\n",
              "    <tr style=\"text-align: right;\">\n",
              "      <th></th>\n",
              "      <th>sum</th>\n",
              "      <th>std</th>\n",
              "      <th>q25</th>\n",
              "      <th>q50</th>\n",
              "      <th>q75</th>\n",
              "      <th>kur</th>\n",
              "      <th>skew</th>\n",
              "      <th>lag1_sum</th>\n",
              "      <th>lag1_q25</th>\n",
              "      <th>lag1_kur</th>\n",
              "      <th>...</th>\n",
              "      <th>sc_q25_w4</th>\n",
              "      <th>sc_kur_w4</th>\n",
              "      <th>sc_skew_w4</th>\n",
              "      <th>stft_sum_w4</th>\n",
              "      <th>stft_mean_w4</th>\n",
              "      <th>stft_std_w4</th>\n",
              "      <th>stft_min_w4</th>\n",
              "      <th>stft_q95_w4</th>\n",
              "      <th>stft_kur_w4</th>\n",
              "      <th>stft_skew_w4</th>\n",
              "    </tr>\n",
              "  </thead>\n",
              "  <tbody>\n",
              "    <tr>\n",
              "      <th>0</th>\n",
              "      <td>-0.001191</td>\n",
              "      <td>-0.279088</td>\n",
              "      <td>0.603864</td>\n",
              "      <td>-0.063106</td>\n",
              "      <td>-0.748640</td>\n",
              "      <td>2.762523</td>\n",
              "      <td>1.552638</td>\n",
              "      <td>0.027433</td>\n",
              "      <td>0.603131</td>\n",
              "      <td>1.139540</td>\n",
              "      <td>...</td>\n",
              "      <td>1.359687</td>\n",
              "      <td>2.329878</td>\n",
              "      <td>-1.678346</td>\n",
              "      <td>0.503814</td>\n",
              "      <td>0.996620</td>\n",
              "      <td>-1.505683</td>\n",
              "      <td>1.660745</td>\n",
              "      <td>0.036057</td>\n",
              "      <td>0.088156</td>\n",
              "      <td>0.235493</td>\n",
              "    </tr>\n",
              "    <tr>\n",
              "      <th>1</th>\n",
              "      <td>0.031822</td>\n",
              "      <td>0.619406</td>\n",
              "      <td>-2.103481</td>\n",
              "      <td>-0.063106</td>\n",
              "      <td>4.375025</td>\n",
              "      <td>-0.934996</td>\n",
              "      <td>-0.735521</td>\n",
              "      <td>-0.655365</td>\n",
              "      <td>-0.818754</td>\n",
              "      <td>-0.756630</td>\n",
              "      <td>...</td>\n",
              "      <td>-1.821192</td>\n",
              "      <td>-0.604285</td>\n",
              "      <td>0.782487</td>\n",
              "      <td>4.407202</td>\n",
              "      <td>1.284841</td>\n",
              "      <td>-0.243718</td>\n",
              "      <td>0.059038</td>\n",
              "      <td>0.036057</td>\n",
              "      <td>1.165259</td>\n",
              "      <td>-1.758966</td>\n",
              "    </tr>\n",
              "    <tr>\n",
              "      <th>2</th>\n",
              "      <td>0.303044</td>\n",
              "      <td>-0.916425</td>\n",
              "      <td>0.585063</td>\n",
              "      <td>-0.063106</td>\n",
              "      <td>-0.645341</td>\n",
              "      <td>-0.148802</td>\n",
              "      <td>-1.592160</td>\n",
              "      <td>0.179166</td>\n",
              "      <td>0.603131</td>\n",
              "      <td>0.403355</td>\n",
              "      <td>...</td>\n",
              "      <td>1.141403</td>\n",
              "      <td>-0.110478</td>\n",
              "      <td>0.658416</td>\n",
              "      <td>-0.498057</td>\n",
              "      <td>1.136865</td>\n",
              "      <td>-1.583484</td>\n",
              "      <td>2.268027</td>\n",
              "      <td>0.036057</td>\n",
              "      <td>-0.278330</td>\n",
              "      <td>0.352553</td>\n",
              "    </tr>\n",
              "    <tr>\n",
              "      <th>3</th>\n",
              "      <td>0.006202</td>\n",
              "      <td>-0.228802</td>\n",
              "      <td>0.585063</td>\n",
              "      <td>-0.063106</td>\n",
              "      <td>-0.748640</td>\n",
              "      <td>0.508856</td>\n",
              "      <td>0.654520</td>\n",
              "      <td>0.027433</td>\n",
              "      <td>0.603131</td>\n",
              "      <td>0.393771</td>\n",
              "      <td>...</td>\n",
              "      <td>1.059419</td>\n",
              "      <td>0.215524</td>\n",
              "      <td>-0.432006</td>\n",
              "      <td>-0.300172</td>\n",
              "      <td>0.536332</td>\n",
              "      <td>-0.729762</td>\n",
              "      <td>0.050839</td>\n",
              "      <td>0.036057</td>\n",
              "      <td>0.507684</td>\n",
              "      <td>-0.355923</td>\n",
              "    </tr>\n",
              "    <tr>\n",
              "      <th>4</th>\n",
              "      <td>0.178059</td>\n",
              "      <td>-0.175318</td>\n",
              "      <td>-0.242181</td>\n",
              "      <td>-0.063106</td>\n",
              "      <td>0.201717</td>\n",
              "      <td>0.636907</td>\n",
              "      <td>0.295529</td>\n",
              "      <td>-1.945095</td>\n",
              "      <td>0.247660</td>\n",
              "      <td>0.126079</td>\n",
              "      <td>...</td>\n",
              "      <td>-1.433835</td>\n",
              "      <td>-0.375639</td>\n",
              "      <td>0.907477</td>\n",
              "      <td>0.371353</td>\n",
              "      <td>1.491335</td>\n",
              "      <td>-1.093245</td>\n",
              "      <td>1.523521</td>\n",
              "      <td>0.036057</td>\n",
              "      <td>0.959866</td>\n",
              "      <td>-1.312710</td>\n",
              "    </tr>\n",
              "    <tr>\n",
              "      <th>...</th>\n",
              "      <td>...</td>\n",
              "      <td>...</td>\n",
              "      <td>...</td>\n",
              "      <td>...</td>\n",
              "      <td>...</td>\n",
              "      <td>...</td>\n",
              "      <td>...</td>\n",
              "      <td>...</td>\n",
              "      <td>...</td>\n",
              "      <td>...</td>\n",
              "      <td>...</td>\n",
              "      <td>...</td>\n",
              "      <td>...</td>\n",
              "      <td>...</td>\n",
              "      <td>...</td>\n",
              "      <td>...</td>\n",
              "      <td>...</td>\n",
              "      <td>...</td>\n",
              "      <td>...</td>\n",
              "      <td>...</td>\n",
              "      <td>...</td>\n",
              "    </tr>\n",
              "    <tr>\n",
              "      <th>306</th>\n",
              "      <td>0.498093</td>\n",
              "      <td>-0.487172</td>\n",
              "      <td>0.566262</td>\n",
              "      <td>-0.063106</td>\n",
              "      <td>-0.542041</td>\n",
              "      <td>0.039736</td>\n",
              "      <td>-0.935504</td>\n",
              "      <td>0.027433</td>\n",
              "      <td>0.484641</td>\n",
              "      <td>0.452141</td>\n",
              "      <td>...</td>\n",
              "      <td>0.672651</td>\n",
              "      <td>0.178876</td>\n",
              "      <td>-0.952562</td>\n",
              "      <td>-0.458616</td>\n",
              "      <td>0.072804</td>\n",
              "      <td>-0.537430</td>\n",
              "      <td>-0.336379</td>\n",
              "      <td>0.036057</td>\n",
              "      <td>-0.045914</td>\n",
              "      <td>0.437535</td>\n",
              "    </tr>\n",
              "    <tr>\n",
              "      <th>307</th>\n",
              "      <td>-0.041378</td>\n",
              "      <td>-0.178707</td>\n",
              "      <td>-0.542997</td>\n",
              "      <td>-0.063106</td>\n",
              "      <td>1.090094</td>\n",
              "      <td>-1.060654</td>\n",
              "      <td>-0.389414</td>\n",
              "      <td>0.141233</td>\n",
              "      <td>-0.107811</td>\n",
              "      <td>-0.384384</td>\n",
              "      <td>...</td>\n",
              "      <td>-1.498369</td>\n",
              "      <td>-0.698687</td>\n",
              "      <td>0.518051</td>\n",
              "      <td>-0.284721</td>\n",
              "      <td>-0.870661</td>\n",
              "      <td>1.210881</td>\n",
              "      <td>-0.725238</td>\n",
              "      <td>0.036057</td>\n",
              "      <td>-0.963499</td>\n",
              "      <td>0.449542</td>\n",
              "    </tr>\n",
              "    <tr>\n",
              "      <th>308</th>\n",
              "      <td>-0.085931</td>\n",
              "      <td>1.042703</td>\n",
              "      <td>0.397053</td>\n",
              "      <td>-0.063106</td>\n",
              "      <td>-0.480061</td>\n",
              "      <td>0.199978</td>\n",
              "      <td>0.181318</td>\n",
              "      <td>0.027433</td>\n",
              "      <td>0.129169</td>\n",
              "      <td>-0.689063</td>\n",
              "      <td>...</td>\n",
              "      <td>0.056089</td>\n",
              "      <td>-0.447941</td>\n",
              "      <td>-0.275274</td>\n",
              "      <td>-0.608113</td>\n",
              "      <td>-0.209275</td>\n",
              "      <td>0.767704</td>\n",
              "      <td>-0.611216</td>\n",
              "      <td>0.036057</td>\n",
              "      <td>-0.389754</td>\n",
              "      <td>-0.456016</td>\n",
              "    </tr>\n",
              "    <tr>\n",
              "      <th>309</th>\n",
              "      <td>0.024757</td>\n",
              "      <td>0.226174</td>\n",
              "      <td>0.340650</td>\n",
              "      <td>-0.063106</td>\n",
              "      <td>1.792532</td>\n",
              "      <td>-0.791260</td>\n",
              "      <td>-0.547137</td>\n",
              "      <td>0.065366</td>\n",
              "      <td>-0.226302</td>\n",
              "      <td>-0.767683</td>\n",
              "      <td>...</td>\n",
              "      <td>-0.393048</td>\n",
              "      <td>-0.524963</td>\n",
              "      <td>0.590588</td>\n",
              "      <td>0.183955</td>\n",
              "      <td>-1.130240</td>\n",
              "      <td>0.795997</td>\n",
              "      <td>-0.296222</td>\n",
              "      <td>0.036057</td>\n",
              "      <td>-0.967548</td>\n",
              "      <td>1.382950</td>\n",
              "    </tr>\n",
              "    <tr>\n",
              "      <th>310</th>\n",
              "      <td>-0.005777</td>\n",
              "      <td>1.577228</td>\n",
              "      <td>-0.937818</td>\n",
              "      <td>-0.063106</td>\n",
              "      <td>0.966135</td>\n",
              "      <td>-0.475921</td>\n",
              "      <td>0.493205</td>\n",
              "      <td>0.027433</td>\n",
              "      <td>-1.648186</td>\n",
              "      <td>-0.770737</td>\n",
              "      <td>...</td>\n",
              "      <td>-0.287690</td>\n",
              "      <td>-0.437533</td>\n",
              "      <td>-0.412113</td>\n",
              "      <td>0.467082</td>\n",
              "      <td>-0.036503</td>\n",
              "      <td>0.432081</td>\n",
              "      <td>-0.654417</td>\n",
              "      <td>0.036057</td>\n",
              "      <td>0.206880</td>\n",
              "      <td>-0.694721</td>\n",
              "    </tr>\n",
              "  </tbody>\n",
              "</table>\n",
              "<p>311 rows × 197 columns</p>\n",
              "</div>\n",
              "      <button class=\"colab-df-convert\" onclick=\"convertToInteractive('df-c669a1c7-35b2-4bbb-b6ba-13b085c7c830')\"\n",
              "              title=\"Convert this dataframe to an interactive table.\"\n",
              "              style=\"display:none;\">\n",
              "        \n",
              "  <svg xmlns=\"http://www.w3.org/2000/svg\" height=\"24px\"viewBox=\"0 0 24 24\"\n",
              "       width=\"24px\">\n",
              "    <path d=\"M0 0h24v24H0V0z\" fill=\"none\"/>\n",
              "    <path d=\"M18.56 5.44l.94 2.06.94-2.06 2.06-.94-2.06-.94-.94-2.06-.94 2.06-2.06.94zm-11 1L8.5 8.5l.94-2.06 2.06-.94-2.06-.94L8.5 2.5l-.94 2.06-2.06.94zm10 10l.94 2.06.94-2.06 2.06-.94-2.06-.94-.94-2.06-.94 2.06-2.06.94z\"/><path d=\"M17.41 7.96l-1.37-1.37c-.4-.4-.92-.59-1.43-.59-.52 0-1.04.2-1.43.59L10.3 9.45l-7.72 7.72c-.78.78-.78 2.05 0 2.83L4 21.41c.39.39.9.59 1.41.59.51 0 1.02-.2 1.41-.59l7.78-7.78 2.81-2.81c.8-.78.8-2.07 0-2.86zM5.41 20L4 18.59l7.72-7.72 1.47 1.35L5.41 20z\"/>\n",
              "  </svg>\n",
              "      </button>\n",
              "      \n",
              "  <style>\n",
              "    .colab-df-container {\n",
              "      display:flex;\n",
              "      flex-wrap:wrap;\n",
              "      gap: 12px;\n",
              "    }\n",
              "\n",
              "    .colab-df-convert {\n",
              "      background-color: #E8F0FE;\n",
              "      border: none;\n",
              "      border-radius: 50%;\n",
              "      cursor: pointer;\n",
              "      display: none;\n",
              "      fill: #1967D2;\n",
              "      height: 32px;\n",
              "      padding: 0 0 0 0;\n",
              "      width: 32px;\n",
              "    }\n",
              "\n",
              "    .colab-df-convert:hover {\n",
              "      background-color: #E2EBFA;\n",
              "      box-shadow: 0px 1px 2px rgba(60, 64, 67, 0.3), 0px 1px 3px 1px rgba(60, 64, 67, 0.15);\n",
              "      fill: #174EA6;\n",
              "    }\n",
              "\n",
              "    [theme=dark] .colab-df-convert {\n",
              "      background-color: #3B4455;\n",
              "      fill: #D2E3FC;\n",
              "    }\n",
              "\n",
              "    [theme=dark] .colab-df-convert:hover {\n",
              "      background-color: #434B5C;\n",
              "      box-shadow: 0px 1px 3px 1px rgba(0, 0, 0, 0.15);\n",
              "      filter: drop-shadow(0px 1px 2px rgba(0, 0, 0, 0.3));\n",
              "      fill: #FFFFFF;\n",
              "    }\n",
              "  </style>\n",
              "\n",
              "      <script>\n",
              "        const buttonEl =\n",
              "          document.querySelector('#df-c669a1c7-35b2-4bbb-b6ba-13b085c7c830 button.colab-df-convert');\n",
              "        buttonEl.style.display =\n",
              "          google.colab.kernel.accessAllowed ? 'block' : 'none';\n",
              "\n",
              "        async function convertToInteractive(key) {\n",
              "          const element = document.querySelector('#df-c669a1c7-35b2-4bbb-b6ba-13b085c7c830');\n",
              "          const dataTable =\n",
              "            await google.colab.kernel.invokeFunction('convertToInteractive',\n",
              "                                                     [key], {});\n",
              "          if (!dataTable) return;\n",
              "\n",
              "          const docLinkHtml = 'Like what you see? Visit the ' +\n",
              "            '<a target=\"_blank\" href=https://colab.research.google.com/notebooks/data_table.ipynb>data table notebook</a>'\n",
              "            + ' to learn more about interactive tables.';\n",
              "          element.innerHTML = '';\n",
              "          dataTable['output_type'] = 'display_data';\n",
              "          await google.colab.output.renderOutput(dataTable, element);\n",
              "          const docLink = document.createElement('div');\n",
              "          docLink.innerHTML = docLinkHtml;\n",
              "          element.appendChild(docLink);\n",
              "        }\n",
              "      </script>\n",
              "    </div>\n",
              "  </div>\n",
              "  "
            ]
          },
          "metadata": {},
          "execution_count": 87
        }
      ]
    },
    {
      "cell_type": "code",
      "source": [
        "X_res = X_res.dropna()"
      ],
      "metadata": {
        "id": "t5qWokI_1Qw0"
      },
      "execution_count": 88,
      "outputs": []
    },
    {
      "cell_type": "markdown",
      "source": [
        "Definizione funzione Grid Search"
      ],
      "metadata": {
        "id": "ZcTAO8UzNRMZ"
      }
    },
    {
      "cell_type": "code",
      "source": [
        "# Funzione per fare la GridSearch()\n",
        "def customGridSearch(X_train, y_train, model, tuned_parameters,score):\n",
        "\n",
        "    print(\"____________________________________________ START GRID SEARCH ____________________________________________\")\n",
        "\n",
        "    results = {}\n",
        "    \n",
        "    print(\"------- Score = \" + score +  \"------- \\n\")\n",
        "        \n",
        "    k_fold = RepeatedStratifiedKFold() # 5 split default, 10 repetitions default\n",
        "    print(\"> Fold = \" + str(k_fold) + \"\\n\")\n",
        "        \n",
        "    clf = GridSearchCV(model, tuned_parameters, error_score='raise', cv=k_fold, scoring = score, return_train_score=True)\n",
        "    clf.fit(X_train, y_train)\n",
        "\n",
        "    print(\"> Best Parameter set: \\n\")\n",
        "    best = clf.best_params_\n",
        "    print(best)\n",
        "        \n",
        "    print(\"\\n> Grid scores:\\n\")\n",
        "\n",
        "    means = clf.cv_results_['mean_train_score']\n",
        "    stds = clf.cv_results_['std_train_score']\n",
        "\n",
        "    print(\"...........RESULTS FOR TRAINING.........\")\n",
        "    print(\"........................................\")\n",
        "\n",
        "   \n",
        "    \n",
        "    for mean, std, params in zip(means, stds, clf.cv_results_['params']):\n",
        "        print(\"%0.3f (+/-%0.03f) for %r\" % (mean, std * 2, params))\n",
        "                          \n",
        "    print(\"____________________________________________ END GRID SEARCH ____________________________________________\")\n",
        "        \n",
        "    results[score] = best\n",
        "    \n",
        "    return results"
      ],
      "metadata": {
        "id": "lCt2WLm0NQ8L"
      },
      "execution_count": 89,
      "outputs": []
    },
    {
      "cell_type": "markdown",
      "source": [
        "Iniziamo con le tecniche di dimensionality reduction"
      ],
      "metadata": {
        "id": "omWqIZmvxSvU"
      }
    },
    {
      "cell_type": "markdown",
      "source": [
        "*   X_res = dataset di train ri-bialanciato da utilizzare \n",
        "*   y_res = etichetta del train ri-bilanciato\n"
      ],
      "metadata": {
        "id": "yaDmlkWB2K99"
      }
    },
    {
      "cell_type": "markdown",
      "source": [
        "Variance Threshold"
      ],
      "metadata": {
        "id": "AETpQSzAxWfD"
      }
    },
    {
      "cell_type": "code",
      "source": [
        "from sklearn.decomposition import PCA\n",
        "from itertools import product\n",
        "from yellowbrick.datasets import load_credit\n",
        "from yellowbrick.features import PCA as yPCA\n",
        "\n",
        "from sklearn.model_selection import train_test_split as tts\n",
        "from sklearn.preprocessing import StandardScaler\n",
        "from sklearn.datasets import make_moons\n",
        "from sklearn.neighbors import KNeighborsClassifier\n",
        "from yellowbrick.contrib.classifier import DecisionViz\n",
        "\n",
        "from sklearn.feature_selection import VarianceThreshold"
      ],
      "metadata": {
        "id": "6JTp6Ad0vb6s"
      },
      "execution_count": 90,
      "outputs": []
    },
    {
      "cell_type": "code",
      "source": [
        "def test_threshold(classifier):\n",
        "    ran = [0.03, 0.04, 0.05, 0.10, 0.15, 0.18, 0.19, 0.2]\n",
        "    print(classifier)\n",
        "    for i in ran:\n",
        "        print(i)\n",
        "        sel = VarianceThreshold(i)\n",
        "        X_train_sel = sel.fit_transform(X_res)\n",
        "\n",
        "        print(X_train_sel.shape)\n",
        "        X_test_sel = sel.transform(X_test)\n",
        "\n",
        "        clf = classifier\n",
        "        clf.fit(X_train_sel, y_res)\n",
        "\n",
        "        y_pred = clf.predict(X_test_sel)\n",
        "\n",
        "        print('Accuracy %s' % accuracy_score(y_test, y_pred))\n",
        "        print('F1-score %s' % f1_score(y_test, y_pred, average=None))\n",
        "        print(classification_report(y_test, y_pred))"
      ],
      "metadata": {
        "id": "z5LbbP2t_z6g"
      },
      "execution_count": 91,
      "outputs": []
    },
    {
      "cell_type": "code",
      "source": [
        "test_threshold(DecisionTreeClassifier(min_samples_leaf=3, random_state=1000))\n",
        "test_threshold(KNeighborsClassifier(n_neighbors=5))"
      ],
      "metadata": {
        "colab": {
          "base_uri": "https://localhost:8080/"
        },
        "id": "hjMdv3NuACca",
        "outputId": "7ae64eb4-e8eb-48fc-c568-be7a33457d5c"
      },
      "execution_count": 92,
      "outputs": [
        {
          "output_type": "stream",
          "name": "stdout",
          "text": [
            "DecisionTreeClassifier(min_samples_leaf=3, random_state=1000)\n",
            "0.03\n",
            "(311, 195)\n",
            "Accuracy 0.8345454545454546\n",
            "F1-score [0.90909091 0.08080808]\n",
            "              precision    recall  f1-score   support\n",
            "\n",
            "           0       0.96      0.86      0.91       528\n",
            "           1       0.05      0.18      0.08        22\n",
            "\n",
            "    accuracy                           0.83       550\n",
            "   macro avg       0.51      0.52      0.49       550\n",
            "weighted avg       0.93      0.83      0.88       550\n",
            "\n",
            "0.04\n",
            "(311, 195)\n",
            "Accuracy 0.8345454545454546\n",
            "F1-score [0.90909091 0.08080808]\n",
            "              precision    recall  f1-score   support\n",
            "\n",
            "           0       0.96      0.86      0.91       528\n",
            "           1       0.05      0.18      0.08        22\n",
            "\n",
            "    accuracy                           0.83       550\n",
            "   macro avg       0.51      0.52      0.49       550\n",
            "weighted avg       0.93      0.83      0.88       550\n",
            "\n",
            "0.05\n",
            "(311, 195)\n",
            "Accuracy 0.8345454545454546\n",
            "F1-score [0.90909091 0.08080808]\n",
            "              precision    recall  f1-score   support\n",
            "\n",
            "           0       0.96      0.86      0.91       528\n",
            "           1       0.05      0.18      0.08        22\n",
            "\n",
            "    accuracy                           0.83       550\n",
            "   macro avg       0.51      0.52      0.49       550\n",
            "weighted avg       0.93      0.83      0.88       550\n",
            "\n",
            "0.1\n",
            "(311, 195)\n",
            "Accuracy 0.8345454545454546\n",
            "F1-score [0.90909091 0.08080808]\n",
            "              precision    recall  f1-score   support\n",
            "\n",
            "           0       0.96      0.86      0.91       528\n",
            "           1       0.05      0.18      0.08        22\n",
            "\n",
            "    accuracy                           0.83       550\n",
            "   macro avg       0.51      0.52      0.49       550\n",
            "weighted avg       0.93      0.83      0.88       550\n",
            "\n",
            "0.15\n",
            "(311, 195)\n",
            "Accuracy 0.8345454545454546\n",
            "F1-score [0.90909091 0.08080808]\n",
            "              precision    recall  f1-score   support\n",
            "\n",
            "           0       0.96      0.86      0.91       528\n",
            "           1       0.05      0.18      0.08        22\n",
            "\n",
            "    accuracy                           0.83       550\n",
            "   macro avg       0.51      0.52      0.49       550\n",
            "weighted avg       0.93      0.83      0.88       550\n",
            "\n",
            "0.18\n",
            "(311, 195)\n",
            "Accuracy 0.8345454545454546\n",
            "F1-score [0.90909091 0.08080808]\n",
            "              precision    recall  f1-score   support\n",
            "\n",
            "           0       0.96      0.86      0.91       528\n",
            "           1       0.05      0.18      0.08        22\n",
            "\n",
            "    accuracy                           0.83       550\n",
            "   macro avg       0.51      0.52      0.49       550\n",
            "weighted avg       0.93      0.83      0.88       550\n",
            "\n",
            "0.19\n",
            "(311, 195)\n",
            "Accuracy 0.8345454545454546\n",
            "F1-score [0.90909091 0.08080808]\n",
            "              precision    recall  f1-score   support\n",
            "\n",
            "           0       0.96      0.86      0.91       528\n",
            "           1       0.05      0.18      0.08        22\n",
            "\n",
            "    accuracy                           0.83       550\n",
            "   macro avg       0.51      0.52      0.49       550\n",
            "weighted avg       0.93      0.83      0.88       550\n",
            "\n",
            "0.2\n",
            "(311, 195)\n",
            "Accuracy 0.8345454545454546\n",
            "F1-score [0.90909091 0.08080808]\n",
            "              precision    recall  f1-score   support\n",
            "\n",
            "           0       0.96      0.86      0.91       528\n",
            "           1       0.05      0.18      0.08        22\n",
            "\n",
            "    accuracy                           0.83       550\n",
            "   macro avg       0.51      0.52      0.49       550\n",
            "weighted avg       0.93      0.83      0.88       550\n",
            "\n",
            "KNeighborsClassifier()\n",
            "0.03\n",
            "(311, 195)\n",
            "Accuracy 0.9454545454545454\n",
            "F1-score [0.97191011 0.0625    ]\n",
            "              precision    recall  f1-score   support\n",
            "\n",
            "           0       0.96      0.98      0.97       528\n",
            "           1       0.10      0.05      0.06        22\n",
            "\n",
            "    accuracy                           0.95       550\n",
            "   macro avg       0.53      0.51      0.52       550\n",
            "weighted avg       0.93      0.95      0.94       550\n",
            "\n",
            "0.04\n",
            "(311, 195)\n",
            "Accuracy 0.9454545454545454\n",
            "F1-score [0.97191011 0.0625    ]\n",
            "              precision    recall  f1-score   support\n",
            "\n",
            "           0       0.96      0.98      0.97       528\n",
            "           1       0.10      0.05      0.06        22\n",
            "\n",
            "    accuracy                           0.95       550\n",
            "   macro avg       0.53      0.51      0.52       550\n",
            "weighted avg       0.93      0.95      0.94       550\n",
            "\n",
            "0.05\n",
            "(311, 195)\n",
            "Accuracy 0.9454545454545454\n",
            "F1-score [0.97191011 0.0625    ]\n",
            "              precision    recall  f1-score   support\n",
            "\n",
            "           0       0.96      0.98      0.97       528\n",
            "           1       0.10      0.05      0.06        22\n",
            "\n",
            "    accuracy                           0.95       550\n",
            "   macro avg       0.53      0.51      0.52       550\n",
            "weighted avg       0.93      0.95      0.94       550\n",
            "\n",
            "0.1\n",
            "(311, 195)\n",
            "Accuracy 0.9454545454545454\n",
            "F1-score [0.97191011 0.0625    ]\n",
            "              precision    recall  f1-score   support\n",
            "\n",
            "           0       0.96      0.98      0.97       528\n",
            "           1       0.10      0.05      0.06        22\n",
            "\n",
            "    accuracy                           0.95       550\n",
            "   macro avg       0.53      0.51      0.52       550\n",
            "weighted avg       0.93      0.95      0.94       550\n",
            "\n",
            "0.15\n",
            "(311, 195)\n",
            "Accuracy 0.9454545454545454\n",
            "F1-score [0.97191011 0.0625    ]\n",
            "              precision    recall  f1-score   support\n",
            "\n",
            "           0       0.96      0.98      0.97       528\n",
            "           1       0.10      0.05      0.06        22\n",
            "\n",
            "    accuracy                           0.95       550\n",
            "   macro avg       0.53      0.51      0.52       550\n",
            "weighted avg       0.93      0.95      0.94       550\n",
            "\n",
            "0.18\n",
            "(311, 195)\n",
            "Accuracy 0.9454545454545454\n",
            "F1-score [0.97191011 0.0625    ]\n",
            "              precision    recall  f1-score   support\n",
            "\n",
            "           0       0.96      0.98      0.97       528\n",
            "           1       0.10      0.05      0.06        22\n",
            "\n",
            "    accuracy                           0.95       550\n",
            "   macro avg       0.53      0.51      0.52       550\n",
            "weighted avg       0.93      0.95      0.94       550\n",
            "\n",
            "0.19\n",
            "(311, 195)\n",
            "Accuracy 0.9454545454545454\n",
            "F1-score [0.97191011 0.0625    ]\n",
            "              precision    recall  f1-score   support\n",
            "\n",
            "           0       0.96      0.98      0.97       528\n",
            "           1       0.10      0.05      0.06        22\n",
            "\n",
            "    accuracy                           0.95       550\n",
            "   macro avg       0.53      0.51      0.52       550\n",
            "weighted avg       0.93      0.95      0.94       550\n",
            "\n",
            "0.2\n",
            "(311, 195)\n",
            "Accuracy 0.9454545454545454\n",
            "F1-score [0.97191011 0.0625    ]\n",
            "              precision    recall  f1-score   support\n",
            "\n",
            "           0       0.96      0.98      0.97       528\n",
            "           1       0.10      0.05      0.06        22\n",
            "\n",
            "    accuracy                           0.95       550\n",
            "   macro avg       0.53      0.51      0.52       550\n",
            "weighted avg       0.93      0.95      0.94       550\n",
            "\n"
          ]
        }
      ]
    },
    {
      "cell_type": "code",
      "source": [
        "thresholds = [0.02, 0.04, 0.06, 0.08, 0.1, 0.12, 0.15, 0.16, 0.19]\n",
        "for i in thresholds:\n",
        "    sel = VarianceThreshold(i)\n",
        "    print(str(i))\n",
        "    X_train_sel = sel.fit_transform(X_res, y_res)\n",
        "    print(X_train_sel.shape)\n",
        "    X_test_sel = sel.transform(X_test)\n",
        "\n",
        "    clf = KNeighborsClassifier(n_neighbors=5)\n",
        "    clf.fit(X_train_sel, y_res)\n",
        "    y_pred = clf.predict(X_test_sel)\n",
        "    print('KNN - Accuracy %s' % accuracy_score(y_test, y_pred))\n",
        "    \n",
        "    clf = DecisionTreeClassifier(min_samples_leaf=3, random_state=1000)\n",
        "    clf.fit(X_train_sel, y_res)\n",
        "    y_pred = clf.predict(X_test_sel)\n",
        "    print('DecisionTree - Accuracy %s' % accuracy_score(y_test, y_pred))\n",
        "  "
      ],
      "metadata": {
        "colab": {
          "base_uri": "https://localhost:8080/"
        },
        "id": "ko0rko2tBEoW",
        "outputId": "9f5a86dc-ac96-45cc-9e85-670d96e8648d"
      },
      "execution_count": 93,
      "outputs": [
        {
          "output_type": "stream",
          "name": "stdout",
          "text": [
            "0.02\n",
            "(311, 195)\n",
            "KNN - Accuracy 0.9454545454545454\n",
            "DecisionTree - Accuracy 0.8345454545454546\n",
            "0.04\n",
            "(311, 195)\n",
            "KNN - Accuracy 0.9454545454545454\n",
            "DecisionTree - Accuracy 0.8345454545454546\n",
            "0.06\n",
            "(311, 195)\n",
            "KNN - Accuracy 0.9454545454545454\n",
            "DecisionTree - Accuracy 0.8345454545454546\n",
            "0.08\n",
            "(311, 195)\n",
            "KNN - Accuracy 0.9454545454545454\n",
            "DecisionTree - Accuracy 0.8345454545454546\n",
            "0.1\n",
            "(311, 195)\n",
            "KNN - Accuracy 0.9454545454545454\n",
            "DecisionTree - Accuracy 0.8345454545454546\n",
            "0.12\n",
            "(311, 195)\n",
            "KNN - Accuracy 0.9454545454545454\n",
            "DecisionTree - Accuracy 0.8345454545454546\n",
            "0.15\n",
            "(311, 195)\n",
            "KNN - Accuracy 0.9454545454545454\n",
            "DecisionTree - Accuracy 0.8345454545454546\n",
            "0.16\n",
            "(311, 195)\n",
            "KNN - Accuracy 0.9454545454545454\n",
            "DecisionTree - Accuracy 0.8345454545454546\n",
            "0.19\n",
            "(311, 195)\n",
            "KNN - Accuracy 0.9454545454545454\n",
            "DecisionTree - Accuracy 0.8345454545454546\n"
          ]
        }
      ]
    },
    {
      "cell_type": "markdown",
      "source": [
        "stesso metodo ma applicando la grid search"
      ],
      "metadata": {
        "id": "exSRwpm7Qz-a"
      }
    },
    {
      "cell_type": "code",
      "source": [
        "sel = VarianceThreshold(threshold=(.8 * (1 - .8)))\n",
        "X_train_sel = sel.fit_transform(X_res)\n",
        "X_test_sel = sel.transform(X_test)\n",
        "X_train_sel.shape"
      ],
      "metadata": {
        "colab": {
          "base_uri": "https://localhost:8080/"
        },
        "id": "iHbLpbcTQzrK",
        "outputId": "20c626f8-de1b-4906-f787-7a7a7a114b9a"
      },
      "execution_count": 94,
      "outputs": [
        {
          "output_type": "execute_result",
          "data": {
            "text/plain": [
              "(311, 195)"
            ]
          },
          "metadata": {},
          "execution_count": 94
        }
      ]
    },
    {
      "cell_type": "code",
      "source": [
        "check_params ={\"criterion\":[\"gini\", \"entropy\"],\n",
        "         \"max_depth\":[4, 6, 8, 10],\n",
        "         \"min_samples_split\": [5, 10, 15, 20],\n",
        "         \"min_samples_leaf\": [3, 5, 7, 9, 11]}\n",
        "\n",
        "dt=DecisionTreeClassifier()\n",
        "          \n",
        "results = customGridSearch(X_train_sel, y_res, dt, check_params, \"f1_macro\")"
      ],
      "metadata": {
        "colab": {
          "base_uri": "https://localhost:8080/"
        },
        "id": "GCBEckjIRRbx",
        "outputId": "4e33c58d-d7b7-4951-b082-ef94da5cdb25"
      },
      "execution_count": null,
      "outputs": [
        {
          "output_type": "stream",
          "name": "stdout",
          "text": [
            "____________________________________________ START GRID SEARCH ____________________________________________\n",
            "------- Score = f1_macro------- \n",
            "\n",
            "> Fold = RepeatedStratifiedKFold(n_repeats=10, n_splits=5, random_state=None)\n",
            "\n",
            "> Best Parameter set: \n",
            "\n",
            "{'criterion': 'entropy', 'max_depth': 8, 'min_samples_leaf': 7, 'min_samples_split': 15}\n",
            "\n",
            "> Grid scores:\n",
            "\n",
            "...........RESULTS FOR TRAINING.........\n",
            "........................................\n",
            "0.770 (+/-0.131) for {'criterion': 'gini', 'max_depth': 4, 'min_samples_leaf': 3, 'min_samples_split': 5}\n",
            "0.761 (+/-0.138) for {'criterion': 'gini', 'max_depth': 4, 'min_samples_leaf': 3, 'min_samples_split': 10}\n",
            "0.749 (+/-0.127) for {'criterion': 'gini', 'max_depth': 4, 'min_samples_leaf': 3, 'min_samples_split': 15}\n",
            "0.735 (+/-0.128) for {'criterion': 'gini', 'max_depth': 4, 'min_samples_leaf': 3, 'min_samples_split': 20}\n",
            "0.765 (+/-0.120) for {'criterion': 'gini', 'max_depth': 4, 'min_samples_leaf': 5, 'min_samples_split': 5}\n",
            "0.765 (+/-0.120) for {'criterion': 'gini', 'max_depth': 4, 'min_samples_leaf': 5, 'min_samples_split': 10}\n",
            "0.751 (+/-0.112) for {'criterion': 'gini', 'max_depth': 4, 'min_samples_leaf': 5, 'min_samples_split': 15}\n",
            "0.738 (+/-0.111) for {'criterion': 'gini', 'max_depth': 4, 'min_samples_leaf': 5, 'min_samples_split': 20}\n",
            "0.754 (+/-0.109) for {'criterion': 'gini', 'max_depth': 4, 'min_samples_leaf': 7, 'min_samples_split': 5}\n",
            "0.754 (+/-0.109) for {'criterion': 'gini', 'max_depth': 4, 'min_samples_leaf': 7, 'min_samples_split': 10}\n",
            "0.753 (+/-0.109) for {'criterion': 'gini', 'max_depth': 4, 'min_samples_leaf': 7, 'min_samples_split': 15}\n",
            "0.741 (+/-0.098) for {'criterion': 'gini', 'max_depth': 4, 'min_samples_leaf': 7, 'min_samples_split': 20}\n",
            "0.739 (+/-0.093) for {'criterion': 'gini', 'max_depth': 4, 'min_samples_leaf': 9, 'min_samples_split': 5}\n",
            "0.739 (+/-0.093) for {'criterion': 'gini', 'max_depth': 4, 'min_samples_leaf': 9, 'min_samples_split': 10}\n",
            "0.740 (+/-0.090) for {'criterion': 'gini', 'max_depth': 4, 'min_samples_leaf': 9, 'min_samples_split': 15}\n",
            "0.736 (+/-0.094) for {'criterion': 'gini', 'max_depth': 4, 'min_samples_leaf': 9, 'min_samples_split': 20}\n",
            "0.733 (+/-0.091) for {'criterion': 'gini', 'max_depth': 4, 'min_samples_leaf': 11, 'min_samples_split': 5}\n",
            "0.732 (+/-0.091) for {'criterion': 'gini', 'max_depth': 4, 'min_samples_leaf': 11, 'min_samples_split': 10}\n",
            "0.733 (+/-0.089) for {'criterion': 'gini', 'max_depth': 4, 'min_samples_leaf': 11, 'min_samples_split': 15}\n",
            "0.732 (+/-0.091) for {'criterion': 'gini', 'max_depth': 4, 'min_samples_leaf': 11, 'min_samples_split': 20}\n",
            "0.882 (+/-0.076) for {'criterion': 'gini', 'max_depth': 6, 'min_samples_leaf': 3, 'min_samples_split': 5}\n",
            "0.868 (+/-0.077) for {'criterion': 'gini', 'max_depth': 6, 'min_samples_leaf': 3, 'min_samples_split': 10}\n",
            "0.841 (+/-0.078) for {'criterion': 'gini', 'max_depth': 6, 'min_samples_leaf': 3, 'min_samples_split': 15}\n",
            "0.818 (+/-0.089) for {'criterion': 'gini', 'max_depth': 6, 'min_samples_leaf': 3, 'min_samples_split': 20}\n",
            "0.864 (+/-0.066) for {'criterion': 'gini', 'max_depth': 6, 'min_samples_leaf': 5, 'min_samples_split': 5}\n",
            "0.863 (+/-0.066) for {'criterion': 'gini', 'max_depth': 6, 'min_samples_leaf': 5, 'min_samples_split': 10}\n",
            "0.837 (+/-0.074) for {'criterion': 'gini', 'max_depth': 6, 'min_samples_leaf': 5, 'min_samples_split': 15}\n",
            "0.807 (+/-0.085) for {'criterion': 'gini', 'max_depth': 6, 'min_samples_leaf': 5, 'min_samples_split': 20}\n",
            "0.818 (+/-0.077) for {'criterion': 'gini', 'max_depth': 6, 'min_samples_leaf': 7, 'min_samples_split': 5}\n",
            "0.819 (+/-0.077) for {'criterion': 'gini', 'max_depth': 6, 'min_samples_leaf': 7, 'min_samples_split': 10}\n",
            "0.817 (+/-0.079) for {'criterion': 'gini', 'max_depth': 6, 'min_samples_leaf': 7, 'min_samples_split': 15}\n",
            "0.798 (+/-0.073) for {'criterion': 'gini', 'max_depth': 6, 'min_samples_leaf': 7, 'min_samples_split': 20}\n",
            "0.788 (+/-0.063) for {'criterion': 'gini', 'max_depth': 6, 'min_samples_leaf': 9, 'min_samples_split': 5}\n",
            "0.788 (+/-0.065) for {'criterion': 'gini', 'max_depth': 6, 'min_samples_leaf': 9, 'min_samples_split': 10}\n",
            "0.788 (+/-0.065) for {'criterion': 'gini', 'max_depth': 6, 'min_samples_leaf': 9, 'min_samples_split': 15}\n",
            "0.782 (+/-0.077) for {'criterion': 'gini', 'max_depth': 6, 'min_samples_leaf': 9, 'min_samples_split': 20}\n",
            "0.766 (+/-0.073) for {'criterion': 'gini', 'max_depth': 6, 'min_samples_leaf': 11, 'min_samples_split': 5}\n",
            "0.768 (+/-0.074) for {'criterion': 'gini', 'max_depth': 6, 'min_samples_leaf': 11, 'min_samples_split': 10}\n",
            "0.766 (+/-0.074) for {'criterion': 'gini', 'max_depth': 6, 'min_samples_leaf': 11, 'min_samples_split': 15}\n",
            "0.767 (+/-0.074) for {'criterion': 'gini', 'max_depth': 6, 'min_samples_leaf': 11, 'min_samples_split': 20}\n",
            "0.922 (+/-0.041) for {'criterion': 'gini', 'max_depth': 8, 'min_samples_leaf': 3, 'min_samples_split': 5}\n",
            "0.899 (+/-0.054) for {'criterion': 'gini', 'max_depth': 8, 'min_samples_leaf': 3, 'min_samples_split': 10}\n",
            "0.862 (+/-0.063) for {'criterion': 'gini', 'max_depth': 8, 'min_samples_leaf': 3, 'min_samples_split': 15}\n",
            "0.838 (+/-0.075) for {'criterion': 'gini', 'max_depth': 8, 'min_samples_leaf': 3, 'min_samples_split': 20}\n",
            "0.883 (+/-0.054) for {'criterion': 'gini', 'max_depth': 8, 'min_samples_leaf': 5, 'min_samples_split': 5}\n",
            "0.884 (+/-0.055) for {'criterion': 'gini', 'max_depth': 8, 'min_samples_leaf': 5, 'min_samples_split': 10}\n",
            "0.848 (+/-0.062) for {'criterion': 'gini', 'max_depth': 8, 'min_samples_leaf': 5, 'min_samples_split': 15}\n",
            "0.816 (+/-0.080) for {'criterion': 'gini', 'max_depth': 8, 'min_samples_leaf': 5, 'min_samples_split': 20}\n",
            "0.834 (+/-0.060) for {'criterion': 'gini', 'max_depth': 8, 'min_samples_leaf': 7, 'min_samples_split': 5}\n",
            "0.834 (+/-0.061) for {'criterion': 'gini', 'max_depth': 8, 'min_samples_leaf': 7, 'min_samples_split': 10}\n",
            "0.831 (+/-0.064) for {'criterion': 'gini', 'max_depth': 8, 'min_samples_leaf': 7, 'min_samples_split': 15}\n",
            "0.804 (+/-0.072) for {'criterion': 'gini', 'max_depth': 8, 'min_samples_leaf': 7, 'min_samples_split': 20}\n",
            "0.795 (+/-0.064) for {'criterion': 'gini', 'max_depth': 8, 'min_samples_leaf': 9, 'min_samples_split': 5}\n",
            "0.796 (+/-0.061) for {'criterion': 'gini', 'max_depth': 8, 'min_samples_leaf': 9, 'min_samples_split': 10}\n",
            "0.797 (+/-0.061) for {'criterion': 'gini', 'max_depth': 8, 'min_samples_leaf': 9, 'min_samples_split': 15}\n",
            "0.789 (+/-0.073) for {'criterion': 'gini', 'max_depth': 8, 'min_samples_leaf': 9, 'min_samples_split': 20}\n",
            "0.769 (+/-0.075) for {'criterion': 'gini', 'max_depth': 8, 'min_samples_leaf': 11, 'min_samples_split': 5}\n",
            "0.769 (+/-0.075) for {'criterion': 'gini', 'max_depth': 8, 'min_samples_leaf': 11, 'min_samples_split': 10}\n",
            "0.771 (+/-0.076) for {'criterion': 'gini', 'max_depth': 8, 'min_samples_leaf': 11, 'min_samples_split': 15}\n",
            "0.769 (+/-0.074) for {'criterion': 'gini', 'max_depth': 8, 'min_samples_leaf': 11, 'min_samples_split': 20}\n",
            "0.932 (+/-0.031) for {'criterion': 'gini', 'max_depth': 10, 'min_samples_leaf': 3, 'min_samples_split': 5}\n",
            "0.906 (+/-0.047) for {'criterion': 'gini', 'max_depth': 10, 'min_samples_leaf': 3, 'min_samples_split': 10}\n",
            "0.866 (+/-0.058) for {'criterion': 'gini', 'max_depth': 10, 'min_samples_leaf': 3, 'min_samples_split': 15}\n",
            "0.839 (+/-0.082) for {'criterion': 'gini', 'max_depth': 10, 'min_samples_leaf': 3, 'min_samples_split': 20}\n",
            "0.885 (+/-0.050) for {'criterion': 'gini', 'max_depth': 10, 'min_samples_leaf': 5, 'min_samples_split': 5}\n",
            "0.885 (+/-0.053) for {'criterion': 'gini', 'max_depth': 10, 'min_samples_leaf': 5, 'min_samples_split': 10}\n",
            "0.849 (+/-0.061) for {'criterion': 'gini', 'max_depth': 10, 'min_samples_leaf': 5, 'min_samples_split': 15}\n",
            "0.818 (+/-0.083) for {'criterion': 'gini', 'max_depth': 10, 'min_samples_leaf': 5, 'min_samples_split': 20}\n",
            "0.832 (+/-0.063) for {'criterion': 'gini', 'max_depth': 10, 'min_samples_leaf': 7, 'min_samples_split': 5}\n",
            "0.832 (+/-0.060) for {'criterion': 'gini', 'max_depth': 10, 'min_samples_leaf': 7, 'min_samples_split': 10}\n",
            "0.831 (+/-0.065) for {'criterion': 'gini', 'max_depth': 10, 'min_samples_leaf': 7, 'min_samples_split': 15}\n",
            "0.804 (+/-0.075) for {'criterion': 'gini', 'max_depth': 10, 'min_samples_leaf': 7, 'min_samples_split': 20}\n",
            "0.796 (+/-0.063) for {'criterion': 'gini', 'max_depth': 10, 'min_samples_leaf': 9, 'min_samples_split': 5}\n",
            "0.796 (+/-0.065) for {'criterion': 'gini', 'max_depth': 10, 'min_samples_leaf': 9, 'min_samples_split': 10}\n",
            "0.795 (+/-0.064) for {'criterion': 'gini', 'max_depth': 10, 'min_samples_leaf': 9, 'min_samples_split': 15}\n",
            "0.789 (+/-0.070) for {'criterion': 'gini', 'max_depth': 10, 'min_samples_leaf': 9, 'min_samples_split': 20}\n",
            "0.770 (+/-0.075) for {'criterion': 'gini', 'max_depth': 10, 'min_samples_leaf': 11, 'min_samples_split': 5}\n",
            "0.770 (+/-0.074) for {'criterion': 'gini', 'max_depth': 10, 'min_samples_leaf': 11, 'min_samples_split': 10}\n",
            "0.772 (+/-0.076) for {'criterion': 'gini', 'max_depth': 10, 'min_samples_leaf': 11, 'min_samples_split': 15}\n",
            "0.770 (+/-0.076) for {'criterion': 'gini', 'max_depth': 10, 'min_samples_leaf': 11, 'min_samples_split': 20}\n",
            "0.718 (+/-0.147) for {'criterion': 'entropy', 'max_depth': 4, 'min_samples_leaf': 3, 'min_samples_split': 5}\n",
            "0.711 (+/-0.142) for {'criterion': 'entropy', 'max_depth': 4, 'min_samples_leaf': 3, 'min_samples_split': 10}\n",
            "0.702 (+/-0.142) for {'criterion': 'entropy', 'max_depth': 4, 'min_samples_leaf': 3, 'min_samples_split': 15}\n",
            "0.690 (+/-0.140) for {'criterion': 'entropy', 'max_depth': 4, 'min_samples_leaf': 3, 'min_samples_split': 20}\n",
            "0.702 (+/-0.146) for {'criterion': 'entropy', 'max_depth': 4, 'min_samples_leaf': 5, 'min_samples_split': 5}\n",
            "0.703 (+/-0.145) for {'criterion': 'entropy', 'max_depth': 4, 'min_samples_leaf': 5, 'min_samples_split': 10}\n",
            "0.697 (+/-0.145) for {'criterion': 'entropy', 'max_depth': 4, 'min_samples_leaf': 5, 'min_samples_split': 15}\n",
            "0.685 (+/-0.149) for {'criterion': 'entropy', 'max_depth': 4, 'min_samples_leaf': 5, 'min_samples_split': 20}\n",
            "0.710 (+/-0.141) for {'criterion': 'entropy', 'max_depth': 4, 'min_samples_leaf': 7, 'min_samples_split': 5}\n",
            "0.711 (+/-0.143) for {'criterion': 'entropy', 'max_depth': 4, 'min_samples_leaf': 7, 'min_samples_split': 10}\n",
            "0.709 (+/-0.141) for {'criterion': 'entropy', 'max_depth': 4, 'min_samples_leaf': 7, 'min_samples_split': 15}\n",
            "0.699 (+/-0.139) for {'criterion': 'entropy', 'max_depth': 4, 'min_samples_leaf': 7, 'min_samples_split': 20}\n",
            "0.701 (+/-0.144) for {'criterion': 'entropy', 'max_depth': 4, 'min_samples_leaf': 9, 'min_samples_split': 5}\n",
            "0.701 (+/-0.144) for {'criterion': 'entropy', 'max_depth': 4, 'min_samples_leaf': 9, 'min_samples_split': 10}\n",
            "0.701 (+/-0.144) for {'criterion': 'entropy', 'max_depth': 4, 'min_samples_leaf': 9, 'min_samples_split': 15}\n",
            "0.696 (+/-0.146) for {'criterion': 'entropy', 'max_depth': 4, 'min_samples_leaf': 9, 'min_samples_split': 20}\n",
            "0.701 (+/-0.135) for {'criterion': 'entropy', 'max_depth': 4, 'min_samples_leaf': 11, 'min_samples_split': 5}\n",
            "0.701 (+/-0.135) for {'criterion': 'entropy', 'max_depth': 4, 'min_samples_leaf': 11, 'min_samples_split': 10}\n",
            "0.703 (+/-0.132) for {'criterion': 'entropy', 'max_depth': 4, 'min_samples_leaf': 11, 'min_samples_split': 15}\n",
            "0.703 (+/-0.132) for {'criterion': 'entropy', 'max_depth': 4, 'min_samples_leaf': 11, 'min_samples_split': 20}\n",
            "0.851 (+/-0.128) for {'criterion': 'entropy', 'max_depth': 6, 'min_samples_leaf': 3, 'min_samples_split': 5}\n",
            "0.840 (+/-0.128) for {'criterion': 'entropy', 'max_depth': 6, 'min_samples_leaf': 3, 'min_samples_split': 10}\n",
            "0.825 (+/-0.117) for {'criterion': 'entropy', 'max_depth': 6, 'min_samples_leaf': 3, 'min_samples_split': 15}\n",
            "0.795 (+/-0.126) for {'criterion': 'entropy', 'max_depth': 6, 'min_samples_leaf': 3, 'min_samples_split': 20}\n",
            "0.828 (+/-0.118) for {'criterion': 'entropy', 'max_depth': 6, 'min_samples_leaf': 5, 'min_samples_split': 5}\n",
            "0.826 (+/-0.118) for {'criterion': 'entropy', 'max_depth': 6, 'min_samples_leaf': 5, 'min_samples_split': 10}\n",
            "0.812 (+/-0.116) for {'criterion': 'entropy', 'max_depth': 6, 'min_samples_leaf': 5, 'min_samples_split': 15}\n",
            "0.784 (+/-0.122) for {'criterion': 'entropy', 'max_depth': 6, 'min_samples_leaf': 5, 'min_samples_split': 20}\n",
            "0.816 (+/-0.117) for {'criterion': 'entropy', 'max_depth': 6, 'min_samples_leaf': 7, 'min_samples_split': 5}\n",
            "0.815 (+/-0.118) for {'criterion': 'entropy', 'max_depth': 6, 'min_samples_leaf': 7, 'min_samples_split': 10}\n",
            "0.812 (+/-0.117) for {'criterion': 'entropy', 'max_depth': 6, 'min_samples_leaf': 7, 'min_samples_split': 15}\n",
            "0.791 (+/-0.127) for {'criterion': 'entropy', 'max_depth': 6, 'min_samples_leaf': 7, 'min_samples_split': 20}\n",
            "0.804 (+/-0.105) for {'criterion': 'entropy', 'max_depth': 6, 'min_samples_leaf': 9, 'min_samples_split': 5}\n",
            "0.804 (+/-0.102) for {'criterion': 'entropy', 'max_depth': 6, 'min_samples_leaf': 9, 'min_samples_split': 10}\n",
            "0.803 (+/-0.104) for {'criterion': 'entropy', 'max_depth': 6, 'min_samples_leaf': 9, 'min_samples_split': 15}\n",
            "0.794 (+/-0.109) for {'criterion': 'entropy', 'max_depth': 6, 'min_samples_leaf': 9, 'min_samples_split': 20}\n",
            "0.777 (+/-0.112) for {'criterion': 'entropy', 'max_depth': 6, 'min_samples_leaf': 11, 'min_samples_split': 5}\n",
            "0.776 (+/-0.113) for {'criterion': 'entropy', 'max_depth': 6, 'min_samples_leaf': 11, 'min_samples_split': 10}\n",
            "0.776 (+/-0.113) for {'criterion': 'entropy', 'max_depth': 6, 'min_samples_leaf': 11, 'min_samples_split': 15}\n",
            "0.778 (+/-0.112) for {'criterion': 'entropy', 'max_depth': 6, 'min_samples_leaf': 11, 'min_samples_split': 20}\n",
            "0.919 (+/-0.087) for {'criterion': 'entropy', 'max_depth': 8, 'min_samples_leaf': 3, 'min_samples_split': 5}\n",
            "0.903 (+/-0.089) for {'criterion': 'entropy', 'max_depth': 8, 'min_samples_leaf': 3, 'min_samples_split': 10}\n",
            "0.881 (+/-0.083) for {'criterion': 'entropy', 'max_depth': 8, 'min_samples_leaf': 3, 'min_samples_split': 15}\n",
            "0.848 (+/-0.089) for {'criterion': 'entropy', 'max_depth': 8, 'min_samples_leaf': 3, 'min_samples_split': 20}\n",
            "0.889 (+/-0.091) for {'criterion': 'entropy', 'max_depth': 8, 'min_samples_leaf': 5, 'min_samples_split': 5}\n",
            "0.890 (+/-0.086) for {'criterion': 'entropy', 'max_depth': 8, 'min_samples_leaf': 5, 'min_samples_split': 10}\n",
            "0.868 (+/-0.087) for {'criterion': 'entropy', 'max_depth': 8, 'min_samples_leaf': 5, 'min_samples_split': 15}\n",
            "0.835 (+/-0.090) for {'criterion': 'entropy', 'max_depth': 8, 'min_samples_leaf': 5, 'min_samples_split': 20}\n",
            "0.867 (+/-0.068) for {'criterion': 'entropy', 'max_depth': 8, 'min_samples_leaf': 7, 'min_samples_split': 5}\n",
            "0.867 (+/-0.069) for {'criterion': 'entropy', 'max_depth': 8, 'min_samples_leaf': 7, 'min_samples_split': 10}\n",
            "0.863 (+/-0.063) for {'criterion': 'entropy', 'max_depth': 8, 'min_samples_leaf': 7, 'min_samples_split': 15}\n",
            "0.840 (+/-0.064) for {'criterion': 'entropy', 'max_depth': 8, 'min_samples_leaf': 7, 'min_samples_split': 20}\n",
            "0.838 (+/-0.062) for {'criterion': 'entropy', 'max_depth': 8, 'min_samples_leaf': 9, 'min_samples_split': 5}\n",
            "0.839 (+/-0.065) for {'criterion': 'entropy', 'max_depth': 8, 'min_samples_leaf': 9, 'min_samples_split': 10}\n",
            "0.839 (+/-0.063) for {'criterion': 'entropy', 'max_depth': 8, 'min_samples_leaf': 9, 'min_samples_split': 15}\n",
            "0.826 (+/-0.061) for {'criterion': 'entropy', 'max_depth': 8, 'min_samples_leaf': 9, 'min_samples_split': 20}\n",
            "0.809 (+/-0.065) for {'criterion': 'entropy', 'max_depth': 8, 'min_samples_leaf': 11, 'min_samples_split': 5}\n",
            "0.808 (+/-0.065) for {'criterion': 'entropy', 'max_depth': 8, 'min_samples_leaf': 11, 'min_samples_split': 10}\n",
            "0.808 (+/-0.065) for {'criterion': 'entropy', 'max_depth': 8, 'min_samples_leaf': 11, 'min_samples_split': 15}\n",
            "0.809 (+/-0.065) for {'criterion': 'entropy', 'max_depth': 8, 'min_samples_leaf': 11, 'min_samples_split': 20}\n",
            "0.947 (+/-0.054) for {'criterion': 'entropy', 'max_depth': 10, 'min_samples_leaf': 3, 'min_samples_split': 5}\n",
            "0.926 (+/-0.059) for {'criterion': 'entropy', 'max_depth': 10, 'min_samples_leaf': 3, 'min_samples_split': 10}\n",
            "0.901 (+/-0.054) for {'criterion': 'entropy', 'max_depth': 10, 'min_samples_leaf': 3, 'min_samples_split': 15}\n",
            "0.866 (+/-0.073) for {'criterion': 'entropy', 'max_depth': 10, 'min_samples_leaf': 3, 'min_samples_split': 20}\n",
            "0.916 (+/-0.061) for {'criterion': 'entropy', 'max_depth': 10, 'min_samples_leaf': 5, 'min_samples_split': 5}\n",
            "0.916 (+/-0.060) for {'criterion': 'entropy', 'max_depth': 10, 'min_samples_leaf': 5, 'min_samples_split': 10}\n",
            "0.886 (+/-0.058) for {'criterion': 'entropy', 'max_depth': 10, 'min_samples_leaf': 5, 'min_samples_split': 15}\n",
            "0.852 (+/-0.069) for {'criterion': 'entropy', 'max_depth': 10, 'min_samples_leaf': 5, 'min_samples_split': 20}\n",
            "0.880 (+/-0.050) for {'criterion': 'entropy', 'max_depth': 10, 'min_samples_leaf': 7, 'min_samples_split': 5}\n",
            "0.881 (+/-0.048) for {'criterion': 'entropy', 'max_depth': 10, 'min_samples_leaf': 7, 'min_samples_split': 10}\n",
            "0.876 (+/-0.050) for {'criterion': 'entropy', 'max_depth': 10, 'min_samples_leaf': 7, 'min_samples_split': 15}\n",
            "0.849 (+/-0.060) for {'criterion': 'entropy', 'max_depth': 10, 'min_samples_leaf': 7, 'min_samples_split': 20}\n",
            "0.849 (+/-0.055) for {'criterion': 'entropy', 'max_depth': 10, 'min_samples_leaf': 9, 'min_samples_split': 5}\n",
            "0.849 (+/-0.055) for {'criterion': 'entropy', 'max_depth': 10, 'min_samples_leaf': 9, 'min_samples_split': 10}\n",
            "0.850 (+/-0.054) for {'criterion': 'entropy', 'max_depth': 10, 'min_samples_leaf': 9, 'min_samples_split': 15}\n",
            "0.836 (+/-0.057) for {'criterion': 'entropy', 'max_depth': 10, 'min_samples_leaf': 9, 'min_samples_split': 20}\n",
            "0.812 (+/-0.062) for {'criterion': 'entropy', 'max_depth': 10, 'min_samples_leaf': 11, 'min_samples_split': 5}\n",
            "0.813 (+/-0.062) for {'criterion': 'entropy', 'max_depth': 10, 'min_samples_leaf': 11, 'min_samples_split': 10}\n",
            "0.813 (+/-0.061) for {'criterion': 'entropy', 'max_depth': 10, 'min_samples_leaf': 11, 'min_samples_split': 15}\n",
            "0.812 (+/-0.062) for {'criterion': 'entropy', 'max_depth': 10, 'min_samples_leaf': 11, 'min_samples_split': 20}\n",
            "____________________________________________ END GRID SEARCH ____________________________________________\n"
          ]
        }
      ]
    },
    {
      "cell_type": "code",
      "source": [
        "results"
      ],
      "metadata": {
        "colab": {
          "base_uri": "https://localhost:8080/"
        },
        "id": "zEm6PCaSSROb",
        "outputId": "af431d12-51e8-4e30-9390-981803f96380"
      },
      "execution_count": null,
      "outputs": [
        {
          "output_type": "execute_result",
          "data": {
            "text/plain": [
              "{'f1_macro': {'criterion': 'entropy',\n",
              "  'max_depth': 8,\n",
              "  'min_samples_leaf': 7,\n",
              "  'min_samples_split': 15}}"
            ]
          },
          "metadata": {},
          "execution_count": 174
        }
      ]
    },
    {
      "cell_type": "code",
      "source": [
        "#decision tree\n",
        "clf = DecisionTreeClassifier(criterion = 'entropy', max_depth = 8, min_samples_leaf = 7, min_samples_split = 15, random_state=42)\n",
        "clf.fit(X_train_sel, y_res)\n",
        "\n",
        "y_pred = clf.predict(X_test_sel)\n",
        "print('Decision Tree')\n",
        "print('Accuracy %s' % accuracy_score(y_test, y_pred))\n",
        "print('F1-score %s' % f1_score(y_test, y_pred, average=None))\n",
        "print(classification_report(y_test, y_pred, digits=3))"
      ],
      "metadata": {
        "colab": {
          "base_uri": "https://localhost:8080/"
        },
        "id": "Sxa09Z1vQ8uO",
        "outputId": "b22e5d0f-e48d-47d3-e4e0-79cd2555bb0c"
      },
      "execution_count": 95,
      "outputs": [
        {
          "output_type": "stream",
          "name": "stdout",
          "text": [
            "Decision Tree\n",
            "Accuracy 0.8381818181818181\n",
            "F1-score [0.91091091 0.11881188]\n",
            "              precision    recall  f1-score   support\n",
            "\n",
            "           0      0.966     0.862     0.911       528\n",
            "           1      0.076     0.273     0.119        22\n",
            "\n",
            "    accuracy                          0.838       550\n",
            "   macro avg      0.521     0.567     0.515       550\n",
            "weighted avg      0.930     0.838     0.879       550\n",
            "\n"
          ]
        }
      ]
    },
    {
      "cell_type": "code",
      "source": [
        "check_params = {'n_neighbors': [1, 5, 10, 15, 20], \"weights\":[\"distance\", \"uniform\"], 'metric' :['minkowski', 'manhattan', 'euclidean']}\n",
        "\n",
        "clf=KNeighborsClassifier()\n",
        "          \n",
        "results = customGridSearch(X_train_sel, y_res, clf, check_params, \"f1_macro\")"
      ],
      "metadata": {
        "colab": {
          "base_uri": "https://localhost:8080/"
        },
        "id": "AAlNcN3dSyCM",
        "outputId": "9bc8af7c-611f-4e5d-b7ca-b2fac4d1b2c5"
      },
      "execution_count": null,
      "outputs": [
        {
          "output_type": "stream",
          "name": "stdout",
          "text": [
            "____________________________________________ START GRID SEARCH ____________________________________________\n",
            "------- Score = f1_macro------- \n",
            "\n",
            "> Fold = RepeatedStratifiedKFold(n_repeats=10, n_splits=5, random_state=None)\n",
            "\n",
            "> Best Parameter set: \n",
            "\n",
            "{'metric': 'minkowski', 'n_neighbors': 5, 'weights': 'uniform'}\n",
            "\n",
            "> Grid scores:\n",
            "\n",
            "...........RESULTS FOR TRAINING.........\n",
            "........................................\n",
            "1.000 (+/-0.000) for {'metric': 'minkowski', 'n_neighbors': 1, 'weights': 'distance'}\n",
            "1.000 (+/-0.000) for {'metric': 'minkowski', 'n_neighbors': 1, 'weights': 'uniform'}\n",
            "1.000 (+/-0.000) for {'metric': 'minkowski', 'n_neighbors': 5, 'weights': 'distance'}\n",
            "0.572 (+/-0.065) for {'metric': 'minkowski', 'n_neighbors': 5, 'weights': 'uniform'}\n",
            "1.000 (+/-0.000) for {'metric': 'minkowski', 'n_neighbors': 10, 'weights': 'distance'}\n",
            "0.459 (+/-0.031) for {'metric': 'minkowski', 'n_neighbors': 10, 'weights': 'uniform'}\n",
            "1.000 (+/-0.000) for {'metric': 'minkowski', 'n_neighbors': 15, 'weights': 'distance'}\n",
            "0.447 (+/-0.018) for {'metric': 'minkowski', 'n_neighbors': 15, 'weights': 'uniform'}\n",
            "1.000 (+/-0.000) for {'metric': 'minkowski', 'n_neighbors': 20, 'weights': 'distance'}\n",
            "0.443 (+/-0.001) for {'metric': 'minkowski', 'n_neighbors': 20, 'weights': 'uniform'}\n",
            "1.000 (+/-0.000) for {'metric': 'manhattan', 'n_neighbors': 1, 'weights': 'distance'}\n",
            "1.000 (+/-0.000) for {'metric': 'manhattan', 'n_neighbors': 1, 'weights': 'uniform'}\n",
            "1.000 (+/-0.000) for {'metric': 'manhattan', 'n_neighbors': 5, 'weights': 'distance'}\n",
            "0.575 (+/-0.056) for {'metric': 'manhattan', 'n_neighbors': 5, 'weights': 'uniform'}\n",
            "1.000 (+/-0.000) for {'metric': 'manhattan', 'n_neighbors': 10, 'weights': 'distance'}\n",
            "0.450 (+/-0.024) for {'metric': 'manhattan', 'n_neighbors': 10, 'weights': 'uniform'}\n",
            "1.000 (+/-0.000) for {'metric': 'manhattan', 'n_neighbors': 15, 'weights': 'distance'}\n",
            "0.445 (+/-0.013) for {'metric': 'manhattan', 'n_neighbors': 15, 'weights': 'uniform'}\n",
            "1.000 (+/-0.000) for {'metric': 'manhattan', 'n_neighbors': 20, 'weights': 'distance'}\n",
            "0.443 (+/-0.006) for {'metric': 'manhattan', 'n_neighbors': 20, 'weights': 'uniform'}\n",
            "1.000 (+/-0.000) for {'metric': 'euclidean', 'n_neighbors': 1, 'weights': 'distance'}\n",
            "1.000 (+/-0.000) for {'metric': 'euclidean', 'n_neighbors': 1, 'weights': 'uniform'}\n",
            "1.000 (+/-0.000) for {'metric': 'euclidean', 'n_neighbors': 5, 'weights': 'distance'}\n",
            "0.572 (+/-0.065) for {'metric': 'euclidean', 'n_neighbors': 5, 'weights': 'uniform'}\n",
            "1.000 (+/-0.000) for {'metric': 'euclidean', 'n_neighbors': 10, 'weights': 'distance'}\n",
            "0.459 (+/-0.031) for {'metric': 'euclidean', 'n_neighbors': 10, 'weights': 'uniform'}\n",
            "1.000 (+/-0.000) for {'metric': 'euclidean', 'n_neighbors': 15, 'weights': 'distance'}\n",
            "0.447 (+/-0.018) for {'metric': 'euclidean', 'n_neighbors': 15, 'weights': 'uniform'}\n",
            "1.000 (+/-0.000) for {'metric': 'euclidean', 'n_neighbors': 20, 'weights': 'distance'}\n",
            "0.443 (+/-0.001) for {'metric': 'euclidean', 'n_neighbors': 20, 'weights': 'uniform'}\n",
            "____________________________________________ END GRID SEARCH ____________________________________________\n"
          ]
        }
      ]
    },
    {
      "cell_type": "code",
      "source": [
        "results"
      ],
      "metadata": {
        "colab": {
          "base_uri": "https://localhost:8080/"
        },
        "id": "_yD0lL5ITF2B",
        "outputId": "b9b8f268-0915-4b8e-be3b-fd3b81f4c2c0"
      },
      "execution_count": null,
      "outputs": [
        {
          "output_type": "execute_result",
          "data": {
            "text/plain": [
              "{'f1_macro': {'metric': 'minkowski', 'n_neighbors': 5, 'weights': 'uniform'}}"
            ]
          },
          "metadata": {},
          "execution_count": 179
        }
      ]
    },
    {
      "cell_type": "code",
      "source": [
        "#knn\n",
        "clf = KNeighborsClassifier(metric = 'minkowski', n_neighbors=5, weights = 'uniform')\n",
        "clf.fit(X_train_sel, y_res)\n",
        "\n",
        "y_pred = clf.predict(X_test_sel)\n",
        "print('KNN')\n",
        "print('Accuracy %s' % accuracy_score(y_test, y_pred))\n",
        "print('F1-score %s' % f1_score(y_test, y_pred, average=None))\n",
        "print(classification_report(y_test, y_pred, digits=3))"
      ],
      "metadata": {
        "colab": {
          "base_uri": "https://localhost:8080/"
        },
        "id": "lDQg27w1THlI",
        "outputId": "f217e5cf-f97f-45cf-85a0-63e64e3612a7"
      },
      "execution_count": 96,
      "outputs": [
        {
          "output_type": "stream",
          "name": "stdout",
          "text": [
            "KNN\n",
            "Accuracy 0.9454545454545454\n",
            "F1-score [0.97191011 0.0625    ]\n",
            "              precision    recall  f1-score   support\n",
            "\n",
            "           0      0.961     0.983     0.972       528\n",
            "           1      0.100     0.045     0.063        22\n",
            "\n",
            "    accuracy                          0.945       550\n",
            "   macro avg      0.531     0.514     0.517       550\n",
            "weighted avg      0.927     0.945     0.936       550\n",
            "\n"
          ]
        }
      ]
    },
    {
      "cell_type": "markdown",
      "source": [
        "Univariate Feature Selection\n",
        "1.   It selects the best features based on univariate statistical tests.\n"
      ],
      "metadata": {
        "id": "6CPJrwW2CCXx"
      }
    },
    {
      "cell_type": "code",
      "source": [
        "#scelta del k\n",
        "from sklearn.feature_selection import SelectKBest\n",
        "for i in range(1, 11):\n",
        "    sel = SelectKBest(k=i)\n",
        "    print(str(i))\n",
        "    X_train_sel = sel.fit_transform(X_res, y_res)\n",
        "    print(X_train_sel.shape)\n",
        "    X_test_sel = sel.transform(X_test)\n",
        "\n",
        "    clf = KNeighborsClassifier(n_neighbors=5)\n",
        "    clf.fit(X_train_sel, y_res)\n",
        "    y_pred = clf.predict(X_test_sel)\n",
        "    print('KNN - Accuracy %s' % accuracy_score(y_test, y_pred))\n",
        "    print('kNN - F1-score %s' % f1_score(y_test, y_pred, average=None))\n",
        "    print(classification_report(y_test, y_pred, digits=3))\n",
        "    \n",
        "    clf = DecisionTreeClassifier(min_samples_leaf=3, random_state=1000)\n",
        "    clf.fit(X_train_sel, y_res)\n",
        "    y_pred = clf.predict(X_test_sel)\n",
        "    print('DecisionTree - Accuracy %s' % accuracy_score(y_test, y_pred))\n",
        "    print('DecisionTree - F1-score %s' % f1_score(y_test, y_pred, average=None))\n",
        "    print(classification_report(y_test, y_pred, digits=3))\n",
        "\n",
        "    #migliori risultati con k = 5 o  k = 8 \n",
        "\n"
      ],
      "metadata": {
        "colab": {
          "base_uri": "https://localhost:8080/"
        },
        "id": "ZWSwcMdQCI9_",
        "outputId": "a924d8ea-b03e-4b2c-c3e1-cfc3ae7555f0"
      },
      "execution_count": 97,
      "outputs": [
        {
          "output_type": "stream",
          "name": "stdout",
          "text": [
            "1\n",
            "(311, 1)\n",
            "KNN - Accuracy 0.9\n",
            "kNN - F1-score [0.94716619 0.06779661]\n",
            "              precision    recall  f1-score   support\n",
            "\n",
            "           0      0.961     0.934     0.947       528\n",
            "           1      0.054     0.091     0.068        22\n",
            "\n",
            "    accuracy                          0.900       550\n",
            "   macro avg      0.508     0.512     0.507       550\n",
            "weighted avg      0.925     0.900     0.912       550\n",
            "\n",
            "DecisionTree - Accuracy 0.7509090909090909\n",
            "DecisionTree - F1-score [0.85714286 0.02836879]\n",
            "              precision    recall  f1-score   support\n",
            "\n",
            "           0      0.954     0.778     0.857       528\n",
            "           1      0.017     0.091     0.028        22\n",
            "\n",
            "    accuracy                          0.751       550\n",
            "   macro avg      0.485     0.435     0.443       550\n",
            "weighted avg      0.916     0.751     0.824       550\n",
            "\n",
            "2\n",
            "(311, 2)\n",
            "KNN - Accuracy 0.8854545454545455\n",
            "kNN - F1-score [0.93901258 0.05970149]\n",
            "              precision    recall  f1-score   support\n",
            "\n",
            "           0      0.960     0.919     0.939       528\n",
            "           1      0.044     0.091     0.060        22\n",
            "\n",
            "    accuracy                          0.885       550\n",
            "   macro avg      0.502     0.505     0.499       550\n",
            "weighted avg      0.924     0.885     0.904       550\n",
            "\n",
            "DecisionTree - Accuracy 0.8127272727272727\n",
            "DecisionTree - F1-score [0.89627392 0.03738318]\n",
            "              precision    recall  f1-score   support\n",
            "\n",
            "           0      0.957     0.843     0.896       528\n",
            "           1      0.024     0.091     0.037        22\n",
            "\n",
            "    accuracy                          0.813       550\n",
            "   macro avg      0.490     0.467     0.467       550\n",
            "weighted avg      0.920     0.813     0.862       550\n",
            "\n",
            "3\n",
            "(311, 3)\n",
            "KNN - Accuracy 0.8981818181818182\n",
            "kNN - F1-score [0.9462572  0.03448276]\n",
            "              precision    recall  f1-score   support\n",
            "\n",
            "           0      0.959     0.934     0.946       528\n",
            "           1      0.028     0.045     0.034        22\n",
            "\n",
            "    accuracy                          0.898       550\n",
            "   macro avg      0.493     0.490     0.490       550\n",
            "weighted avg      0.922     0.898     0.910       550\n",
            "\n",
            "DecisionTree - Accuracy 0.7527272727272727\n",
            "DecisionTree - F1-score [0.85803758 0.04225352]\n",
            "              precision    recall  f1-score   support\n",
            "\n",
            "           0      0.956     0.778     0.858       528\n",
            "           1      0.025     0.136     0.042        22\n",
            "\n",
            "    accuracy                          0.753       550\n",
            "   macro avg      0.490     0.457     0.450       550\n",
            "weighted avg      0.919     0.753     0.825       550\n",
            "\n",
            "4\n",
            "(311, 4)\n",
            "KNN - Accuracy 0.9018181818181819\n",
            "kNN - F1-score [0.94817658 0.06896552]\n",
            "              precision    recall  f1-score   support\n",
            "\n",
            "           0      0.961     0.936     0.948       528\n",
            "           1      0.056     0.091     0.069        22\n",
            "\n",
            "    accuracy                          0.902       550\n",
            "   macro avg      0.508     0.513     0.509       550\n",
            "weighted avg      0.925     0.902     0.913       550\n",
            "\n",
            "DecisionTree - Accuracy 0.7363636363636363\n",
            "DecisionTree - F1-score [0.84752892 0.02684564]\n",
            "              precision    recall  f1-score   support\n",
            "\n",
            "           0      0.953     0.763     0.848       528\n",
            "           1      0.016     0.091     0.027        22\n",
            "\n",
            "    accuracy                          0.736       550\n",
            "   macro avg      0.484     0.427     0.437       550\n",
            "weighted avg      0.915     0.736     0.815       550\n",
            "\n",
            "5\n",
            "(311, 5)\n",
            "KNN - Accuracy 0.9090909090909091\n",
            "kNN - F1-score [0.95210728 0.10714286]\n",
            "              precision    recall  f1-score   support\n",
            "\n",
            "           0      0.963     0.941     0.952       528\n",
            "           1      0.088     0.136     0.107        22\n",
            "\n",
            "    accuracy                          0.909       550\n",
            "   macro avg      0.526     0.539     0.530       550\n",
            "weighted avg      0.928     0.909     0.918       550\n",
            "\n",
            "DecisionTree - Accuracy 0.8054545454545454\n",
            "DecisionTree - F1-score [0.8907048  0.11570248]\n",
            "              precision    recall  f1-score   support\n",
            "\n",
            "           0      0.967     0.826     0.891       528\n",
            "           1      0.071     0.318     0.116        22\n",
            "\n",
            "    accuracy                          0.805       550\n",
            "   macro avg      0.519     0.572     0.503       550\n",
            "weighted avg      0.931     0.805     0.860       550\n",
            "\n",
            "6\n",
            "(311, 6)\n",
            "KNN - Accuracy 0.9072727272727272\n",
            "kNN - F1-score [0.9512894  0.03773585]\n",
            "              precision    recall  f1-score   support\n",
            "\n",
            "           0      0.960     0.943     0.951       528\n",
            "           1      0.032     0.045     0.038        22\n",
            "\n",
            "    accuracy                          0.907       550\n",
            "   macro avg      0.496     0.494     0.495       550\n",
            "weighted avg      0.922     0.907     0.915       550\n",
            "\n",
            "DecisionTree - Accuracy 0.8218181818181818\n",
            "DecisionTree - F1-score [0.90140845 0.0754717 ]\n",
            "              precision    recall  f1-score   support\n",
            "\n",
            "           0      0.961     0.848     0.901       528\n",
            "           1      0.048     0.182     0.075        22\n",
            "\n",
            "    accuracy                          0.822       550\n",
            "   macro avg      0.504     0.515     0.488       550\n",
            "weighted avg      0.925     0.822     0.868       550\n",
            "\n",
            "7\n",
            "(311, 7)\n",
            "KNN - Accuracy 0.9218181818181819\n",
            "kNN - F1-score [0.95931883 0.        ]\n",
            "              precision    recall  f1-score   support\n",
            "\n",
            "           0      0.958     0.960     0.959       528\n",
            "           1      0.000     0.000     0.000        22\n",
            "\n",
            "    accuracy                          0.922       550\n",
            "   macro avg      0.479     0.480     0.480       550\n",
            "weighted avg      0.920     0.922     0.921       550\n",
            "\n",
            "DecisionTree - Accuracy 0.7836363636363637\n",
            "DecisionTree - F1-score [0.87693899 0.10526316]\n",
            "              precision    recall  f1-score   support\n",
            "\n",
            "           0      0.966     0.803     0.877       528\n",
            "           1      0.063     0.318     0.105        22\n",
            "\n",
            "    accuracy                          0.784       550\n",
            "   macro avg      0.514     0.561     0.491       550\n",
            "weighted avg      0.930     0.784     0.846       550\n",
            "\n",
            "8\n",
            "(311, 8)\n",
            "KNN - Accuracy 0.9290909090909091\n",
            "kNN - F1-score [0.96310312 0.09302326]\n",
            "              precision    recall  f1-score   support\n",
            "\n",
            "           0      0.962     0.964     0.963       528\n",
            "           1      0.095     0.091     0.093        22\n",
            "\n",
            "    accuracy                          0.929       550\n",
            "   macro avg      0.529     0.527     0.528       550\n",
            "weighted avg      0.928     0.929     0.928       550\n",
            "\n",
            "DecisionTree - Accuracy 0.7545454545454545\n",
            "DecisionTree - F1-score [0.85834208 0.08163265]\n",
            "              precision    recall  f1-score   support\n",
            "\n",
            "           0      0.962     0.775     0.858       528\n",
            "           1      0.048     0.273     0.082        22\n",
            "\n",
            "    accuracy                          0.755       550\n",
            "   macro avg      0.505     0.524     0.470       550\n",
            "weighted avg      0.926     0.755     0.827       550\n",
            "\n",
            "9\n",
            "(311, 9)\n",
            "KNN - Accuracy 0.9090909090909091\n",
            "kNN - F1-score [0.95219885 0.07407407]\n",
            "              precision    recall  f1-score   support\n",
            "\n",
            "           0      0.961     0.943     0.952       528\n",
            "           1      0.062     0.091     0.074        22\n",
            "\n",
            "    accuracy                          0.909       550\n",
            "   macro avg      0.512     0.517     0.513       550\n",
            "weighted avg      0.925     0.909     0.917       550\n",
            "\n",
            "DecisionTree - Accuracy 0.7290909090909091\n",
            "DecisionTree - F1-score [0.84098186 0.08588957]\n",
            "              precision    recall  f1-score   support\n",
            "\n",
            "           0      0.963     0.746     0.841       528\n",
            "           1      0.050     0.318     0.086        22\n",
            "\n",
            "    accuracy                          0.729       550\n",
            "   macro avg      0.506     0.532     0.463       550\n",
            "weighted avg      0.927     0.729     0.811       550\n",
            "\n",
            "10\n",
            "(311, 10)\n",
            "KNN - Accuracy 0.9254545454545454\n",
            "kNN - F1-score [0.96121097 0.04651163]\n",
            "              precision    recall  f1-score   support\n",
            "\n",
            "           0      0.960     0.962     0.961       528\n",
            "           1      0.048     0.045     0.047        22\n",
            "\n",
            "    accuracy                          0.925       550\n",
            "   macro avg      0.504     0.504     0.504       550\n",
            "weighted avg      0.924     0.925     0.925       550\n",
            "\n",
            "DecisionTree - Accuracy 0.7709090909090909\n",
            "DecisionTree - F1-score [0.86902287 0.08695652]\n",
            "              precision    recall  f1-score   support\n",
            "\n",
            "           0      0.963     0.792     0.869       528\n",
            "           1      0.052     0.273     0.087        22\n",
            "\n",
            "    accuracy                          0.771       550\n",
            "   macro avg      0.507     0.532     0.478       550\n",
            "weighted avg      0.927     0.771     0.838       550\n",
            "\n"
          ]
        }
      ]
    },
    {
      "cell_type": "markdown",
      "source": [
        "Ai migliori risultati, applicato la grid search"
      ],
      "metadata": {
        "id": "hslo5PBhT8cj"
      }
    },
    {
      "cell_type": "code",
      "source": [
        "sel = SelectKBest(k=5)\n",
        "X_train_sel = sel.fit_transform(X_res, y_res)\n",
        "print(X_train_sel.shape)\n",
        "X_test_sel = sel.transform(X_test)"
      ],
      "metadata": {
        "colab": {
          "base_uri": "https://localhost:8080/"
        },
        "id": "evfXjKtRT_p0",
        "outputId": "1f55ec91-e080-4e1a-c056-72a12f03069d"
      },
      "execution_count": 98,
      "outputs": [
        {
          "output_type": "stream",
          "name": "stdout",
          "text": [
            "(311, 5)\n"
          ]
        }
      ]
    },
    {
      "cell_type": "code",
      "source": [
        "check_params ={\"criterion\":[\"gini\", \"entropy\"],\n",
        "         \"max_depth\":[4, 6, 8, 10],\n",
        "         \"min_samples_split\": [5, 10, 15, 20],\n",
        "         \"min_samples_leaf\": [3, 5, 7, 9, 11]}\n",
        "dt=DecisionTreeClassifier()\n",
        "results = customGridSearch(X_train_sel, y_res, dt, check_params, \"f1_macro\")"
      ],
      "metadata": {
        "colab": {
          "base_uri": "https://localhost:8080/"
        },
        "id": "hVKAq9KVUPzZ",
        "outputId": "22a9313c-84f6-42f1-aa49-69bf408386c3"
      },
      "execution_count": 100,
      "outputs": [
        {
          "output_type": "stream",
          "name": "stdout",
          "text": [
            "____________________________________________ START GRID SEARCH ____________________________________________\n",
            "------- Score = f1_macro------- \n",
            "\n",
            "> Fold = RepeatedStratifiedKFold(n_repeats=10, n_splits=5, random_state=None)\n",
            "\n",
            "> Best Parameter set: \n",
            "\n",
            "{'criterion': 'entropy', 'max_depth': 6, 'min_samples_leaf': 5, 'min_samples_split': 15}\n",
            "\n",
            "> Grid scores:\n",
            "\n",
            "...........RESULTS FOR TRAINING.........\n",
            "........................................\n",
            "0.700 (+/-0.082) for {'criterion': 'gini', 'max_depth': 4, 'min_samples_leaf': 3, 'min_samples_split': 5}\n",
            "0.699 (+/-0.080) for {'criterion': 'gini', 'max_depth': 4, 'min_samples_leaf': 3, 'min_samples_split': 10}\n",
            "0.680 (+/-0.094) for {'criterion': 'gini', 'max_depth': 4, 'min_samples_leaf': 3, 'min_samples_split': 15}\n",
            "0.672 (+/-0.088) for {'criterion': 'gini', 'max_depth': 4, 'min_samples_leaf': 3, 'min_samples_split': 20}\n",
            "0.693 (+/-0.081) for {'criterion': 'gini', 'max_depth': 4, 'min_samples_leaf': 5, 'min_samples_split': 5}\n",
            "0.693 (+/-0.080) for {'criterion': 'gini', 'max_depth': 4, 'min_samples_leaf': 5, 'min_samples_split': 10}\n",
            "0.676 (+/-0.089) for {'criterion': 'gini', 'max_depth': 4, 'min_samples_leaf': 5, 'min_samples_split': 15}\n",
            "0.664 (+/-0.087) for {'criterion': 'gini', 'max_depth': 4, 'min_samples_leaf': 5, 'min_samples_split': 20}\n",
            "0.676 (+/-0.091) for {'criterion': 'gini', 'max_depth': 4, 'min_samples_leaf': 7, 'min_samples_split': 5}\n",
            "0.676 (+/-0.090) for {'criterion': 'gini', 'max_depth': 4, 'min_samples_leaf': 7, 'min_samples_split': 10}\n",
            "0.672 (+/-0.095) for {'criterion': 'gini', 'max_depth': 4, 'min_samples_leaf': 7, 'min_samples_split': 15}\n",
            "0.661 (+/-0.089) for {'criterion': 'gini', 'max_depth': 4, 'min_samples_leaf': 7, 'min_samples_split': 20}\n",
            "0.659 (+/-0.090) for {'criterion': 'gini', 'max_depth': 4, 'min_samples_leaf': 9, 'min_samples_split': 5}\n",
            "0.658 (+/-0.090) for {'criterion': 'gini', 'max_depth': 4, 'min_samples_leaf': 9, 'min_samples_split': 10}\n",
            "0.659 (+/-0.090) for {'criterion': 'gini', 'max_depth': 4, 'min_samples_leaf': 9, 'min_samples_split': 15}\n",
            "0.657 (+/-0.092) for {'criterion': 'gini', 'max_depth': 4, 'min_samples_leaf': 9, 'min_samples_split': 20}\n",
            "0.651 (+/-0.095) for {'criterion': 'gini', 'max_depth': 4, 'min_samples_leaf': 11, 'min_samples_split': 5}\n",
            "0.651 (+/-0.095) for {'criterion': 'gini', 'max_depth': 4, 'min_samples_leaf': 11, 'min_samples_split': 10}\n",
            "0.651 (+/-0.095) for {'criterion': 'gini', 'max_depth': 4, 'min_samples_leaf': 11, 'min_samples_split': 15}\n",
            "0.651 (+/-0.095) for {'criterion': 'gini', 'max_depth': 4, 'min_samples_leaf': 11, 'min_samples_split': 20}\n",
            "0.806 (+/-0.059) for {'criterion': 'gini', 'max_depth': 6, 'min_samples_leaf': 3, 'min_samples_split': 5}\n",
            "0.792 (+/-0.061) for {'criterion': 'gini', 'max_depth': 6, 'min_samples_leaf': 3, 'min_samples_split': 10}\n",
            "0.759 (+/-0.072) for {'criterion': 'gini', 'max_depth': 6, 'min_samples_leaf': 3, 'min_samples_split': 15}\n",
            "0.738 (+/-0.074) for {'criterion': 'gini', 'max_depth': 6, 'min_samples_leaf': 3, 'min_samples_split': 20}\n",
            "0.772 (+/-0.053) for {'criterion': 'gini', 'max_depth': 6, 'min_samples_leaf': 5, 'min_samples_split': 5}\n",
            "0.772 (+/-0.054) for {'criterion': 'gini', 'max_depth': 6, 'min_samples_leaf': 5, 'min_samples_split': 10}\n",
            "0.747 (+/-0.064) for {'criterion': 'gini', 'max_depth': 6, 'min_samples_leaf': 5, 'min_samples_split': 15}\n",
            "0.723 (+/-0.081) for {'criterion': 'gini', 'max_depth': 6, 'min_samples_leaf': 5, 'min_samples_split': 20}\n",
            "0.740 (+/-0.077) for {'criterion': 'gini', 'max_depth': 6, 'min_samples_leaf': 7, 'min_samples_split': 5}\n",
            "0.740 (+/-0.076) for {'criterion': 'gini', 'max_depth': 6, 'min_samples_leaf': 7, 'min_samples_split': 10}\n",
            "0.731 (+/-0.081) for {'criterion': 'gini', 'max_depth': 6, 'min_samples_leaf': 7, 'min_samples_split': 15}\n",
            "0.705 (+/-0.090) for {'criterion': 'gini', 'max_depth': 6, 'min_samples_leaf': 7, 'min_samples_split': 20}\n",
            "0.694 (+/-0.093) for {'criterion': 'gini', 'max_depth': 6, 'min_samples_leaf': 9, 'min_samples_split': 5}\n",
            "0.695 (+/-0.093) for {'criterion': 'gini', 'max_depth': 6, 'min_samples_leaf': 9, 'min_samples_split': 10}\n",
            "0.696 (+/-0.094) for {'criterion': 'gini', 'max_depth': 6, 'min_samples_leaf': 9, 'min_samples_split': 15}\n",
            "0.689 (+/-0.094) for {'criterion': 'gini', 'max_depth': 6, 'min_samples_leaf': 9, 'min_samples_split': 20}\n",
            "0.679 (+/-0.086) for {'criterion': 'gini', 'max_depth': 6, 'min_samples_leaf': 11, 'min_samples_split': 5}\n",
            "0.679 (+/-0.086) for {'criterion': 'gini', 'max_depth': 6, 'min_samples_leaf': 11, 'min_samples_split': 10}\n",
            "0.678 (+/-0.086) for {'criterion': 'gini', 'max_depth': 6, 'min_samples_leaf': 11, 'min_samples_split': 15}\n",
            "0.679 (+/-0.086) for {'criterion': 'gini', 'max_depth': 6, 'min_samples_leaf': 11, 'min_samples_split': 20}\n",
            "0.861 (+/-0.050) for {'criterion': 'gini', 'max_depth': 8, 'min_samples_leaf': 3, 'min_samples_split': 5}\n",
            "0.826 (+/-0.061) for {'criterion': 'gini', 'max_depth': 8, 'min_samples_leaf': 3, 'min_samples_split': 10}\n",
            "0.782 (+/-0.064) for {'criterion': 'gini', 'max_depth': 8, 'min_samples_leaf': 3, 'min_samples_split': 15}\n",
            "0.757 (+/-0.065) for {'criterion': 'gini', 'max_depth': 8, 'min_samples_leaf': 3, 'min_samples_split': 20}\n",
            "0.800 (+/-0.050) for {'criterion': 'gini', 'max_depth': 8, 'min_samples_leaf': 5, 'min_samples_split': 5}\n",
            "0.800 (+/-0.049) for {'criterion': 'gini', 'max_depth': 8, 'min_samples_leaf': 5, 'min_samples_split': 10}\n",
            "0.766 (+/-0.063) for {'criterion': 'gini', 'max_depth': 8, 'min_samples_leaf': 5, 'min_samples_split': 15}\n",
            "0.736 (+/-0.078) for {'criterion': 'gini', 'max_depth': 8, 'min_samples_leaf': 5, 'min_samples_split': 20}\n",
            "0.752 (+/-0.075) for {'criterion': 'gini', 'max_depth': 8, 'min_samples_leaf': 7, 'min_samples_split': 5}\n",
            "0.753 (+/-0.075) for {'criterion': 'gini', 'max_depth': 8, 'min_samples_leaf': 7, 'min_samples_split': 10}\n",
            "0.742 (+/-0.083) for {'criterion': 'gini', 'max_depth': 8, 'min_samples_leaf': 7, 'min_samples_split': 15}\n",
            "0.714 (+/-0.087) for {'criterion': 'gini', 'max_depth': 8, 'min_samples_leaf': 7, 'min_samples_split': 20}\n",
            "0.700 (+/-0.083) for {'criterion': 'gini', 'max_depth': 8, 'min_samples_leaf': 9, 'min_samples_split': 5}\n",
            "0.702 (+/-0.084) for {'criterion': 'gini', 'max_depth': 8, 'min_samples_leaf': 9, 'min_samples_split': 10}\n",
            "0.703 (+/-0.084) for {'criterion': 'gini', 'max_depth': 8, 'min_samples_leaf': 9, 'min_samples_split': 15}\n",
            "0.695 (+/-0.086) for {'criterion': 'gini', 'max_depth': 8, 'min_samples_leaf': 9, 'min_samples_split': 20}\n",
            "0.681 (+/-0.084) for {'criterion': 'gini', 'max_depth': 8, 'min_samples_leaf': 11, 'min_samples_split': 5}\n",
            "0.682 (+/-0.084) for {'criterion': 'gini', 'max_depth': 8, 'min_samples_leaf': 11, 'min_samples_split': 10}\n",
            "0.681 (+/-0.084) for {'criterion': 'gini', 'max_depth': 8, 'min_samples_leaf': 11, 'min_samples_split': 15}\n",
            "0.682 (+/-0.084) for {'criterion': 'gini', 'max_depth': 8, 'min_samples_leaf': 11, 'min_samples_split': 20}\n",
            "0.878 (+/-0.036) for {'criterion': 'gini', 'max_depth': 10, 'min_samples_leaf': 3, 'min_samples_split': 5}\n",
            "0.836 (+/-0.058) for {'criterion': 'gini', 'max_depth': 10, 'min_samples_leaf': 3, 'min_samples_split': 10}\n",
            "0.786 (+/-0.065) for {'criterion': 'gini', 'max_depth': 10, 'min_samples_leaf': 3, 'min_samples_split': 15}\n",
            "0.759 (+/-0.063) for {'criterion': 'gini', 'max_depth': 10, 'min_samples_leaf': 3, 'min_samples_split': 20}\n",
            "0.804 (+/-0.050) for {'criterion': 'gini', 'max_depth': 10, 'min_samples_leaf': 5, 'min_samples_split': 5}\n",
            "0.804 (+/-0.048) for {'criterion': 'gini', 'max_depth': 10, 'min_samples_leaf': 5, 'min_samples_split': 10}\n",
            "0.767 (+/-0.066) for {'criterion': 'gini', 'max_depth': 10, 'min_samples_leaf': 5, 'min_samples_split': 15}\n",
            "0.734 (+/-0.076) for {'criterion': 'gini', 'max_depth': 10, 'min_samples_leaf': 5, 'min_samples_split': 20}\n",
            "0.753 (+/-0.075) for {'criterion': 'gini', 'max_depth': 10, 'min_samples_leaf': 7, 'min_samples_split': 5}\n",
            "0.754 (+/-0.075) for {'criterion': 'gini', 'max_depth': 10, 'min_samples_leaf': 7, 'min_samples_split': 10}\n",
            "0.745 (+/-0.081) for {'criterion': 'gini', 'max_depth': 10, 'min_samples_leaf': 7, 'min_samples_split': 15}\n",
            "0.715 (+/-0.086) for {'criterion': 'gini', 'max_depth': 10, 'min_samples_leaf': 7, 'min_samples_split': 20}\n",
            "0.704 (+/-0.084) for {'criterion': 'gini', 'max_depth': 10, 'min_samples_leaf': 9, 'min_samples_split': 5}\n",
            "0.702 (+/-0.083) for {'criterion': 'gini', 'max_depth': 10, 'min_samples_leaf': 9, 'min_samples_split': 10}\n",
            "0.706 (+/-0.083) for {'criterion': 'gini', 'max_depth': 10, 'min_samples_leaf': 9, 'min_samples_split': 15}\n",
            "0.696 (+/-0.085) for {'criterion': 'gini', 'max_depth': 10, 'min_samples_leaf': 9, 'min_samples_split': 20}\n",
            "0.682 (+/-0.084) for {'criterion': 'gini', 'max_depth': 10, 'min_samples_leaf': 11, 'min_samples_split': 5}\n",
            "0.681 (+/-0.084) for {'criterion': 'gini', 'max_depth': 10, 'min_samples_leaf': 11, 'min_samples_split': 10}\n",
            "0.682 (+/-0.083) for {'criterion': 'gini', 'max_depth': 10, 'min_samples_leaf': 11, 'min_samples_split': 15}\n",
            "0.681 (+/-0.084) for {'criterion': 'gini', 'max_depth': 10, 'min_samples_leaf': 11, 'min_samples_split': 20}\n",
            "0.652 (+/-0.097) for {'criterion': 'entropy', 'max_depth': 4, 'min_samples_leaf': 3, 'min_samples_split': 5}\n",
            "0.651 (+/-0.097) for {'criterion': 'entropy', 'max_depth': 4, 'min_samples_leaf': 3, 'min_samples_split': 10}\n",
            "0.643 (+/-0.095) for {'criterion': 'entropy', 'max_depth': 4, 'min_samples_leaf': 3, 'min_samples_split': 15}\n",
            "0.639 (+/-0.098) for {'criterion': 'entropy', 'max_depth': 4, 'min_samples_leaf': 3, 'min_samples_split': 20}\n",
            "0.651 (+/-0.097) for {'criterion': 'entropy', 'max_depth': 4, 'min_samples_leaf': 5, 'min_samples_split': 5}\n",
            "0.650 (+/-0.097) for {'criterion': 'entropy', 'max_depth': 4, 'min_samples_leaf': 5, 'min_samples_split': 10}\n",
            "0.644 (+/-0.096) for {'criterion': 'entropy', 'max_depth': 4, 'min_samples_leaf': 5, 'min_samples_split': 15}\n",
            "0.639 (+/-0.106) for {'criterion': 'entropy', 'max_depth': 4, 'min_samples_leaf': 5, 'min_samples_split': 20}\n",
            "0.652 (+/-0.108) for {'criterion': 'entropy', 'max_depth': 4, 'min_samples_leaf': 7, 'min_samples_split': 5}\n",
            "0.652 (+/-0.108) for {'criterion': 'entropy', 'max_depth': 4, 'min_samples_leaf': 7, 'min_samples_split': 10}\n",
            "0.654 (+/-0.105) for {'criterion': 'entropy', 'max_depth': 4, 'min_samples_leaf': 7, 'min_samples_split': 15}\n",
            "0.647 (+/-0.107) for {'criterion': 'entropy', 'max_depth': 4, 'min_samples_leaf': 7, 'min_samples_split': 20}\n",
            "0.660 (+/-0.101) for {'criterion': 'entropy', 'max_depth': 4, 'min_samples_leaf': 9, 'min_samples_split': 5}\n",
            "0.661 (+/-0.096) for {'criterion': 'entropy', 'max_depth': 4, 'min_samples_leaf': 9, 'min_samples_split': 10}\n",
            "0.660 (+/-0.101) for {'criterion': 'entropy', 'max_depth': 4, 'min_samples_leaf': 9, 'min_samples_split': 15}\n",
            "0.661 (+/-0.096) for {'criterion': 'entropy', 'max_depth': 4, 'min_samples_leaf': 9, 'min_samples_split': 20}\n",
            "0.651 (+/-0.104) for {'criterion': 'entropy', 'max_depth': 4, 'min_samples_leaf': 11, 'min_samples_split': 5}\n",
            "0.650 (+/-0.103) for {'criterion': 'entropy', 'max_depth': 4, 'min_samples_leaf': 11, 'min_samples_split': 10}\n",
            "0.651 (+/-0.104) for {'criterion': 'entropy', 'max_depth': 4, 'min_samples_leaf': 11, 'min_samples_split': 15}\n",
            "0.651 (+/-0.104) for {'criterion': 'entropy', 'max_depth': 4, 'min_samples_leaf': 11, 'min_samples_split': 20}\n",
            "0.774 (+/-0.080) for {'criterion': 'entropy', 'max_depth': 6, 'min_samples_leaf': 3, 'min_samples_split': 5}\n",
            "0.763 (+/-0.072) for {'criterion': 'entropy', 'max_depth': 6, 'min_samples_leaf': 3, 'min_samples_split': 10}\n",
            "0.744 (+/-0.070) for {'criterion': 'entropy', 'max_depth': 6, 'min_samples_leaf': 3, 'min_samples_split': 15}\n",
            "0.729 (+/-0.077) for {'criterion': 'entropy', 'max_depth': 6, 'min_samples_leaf': 3, 'min_samples_split': 20}\n",
            "0.750 (+/-0.075) for {'criterion': 'entropy', 'max_depth': 6, 'min_samples_leaf': 5, 'min_samples_split': 5}\n",
            "0.748 (+/-0.078) for {'criterion': 'entropy', 'max_depth': 6, 'min_samples_leaf': 5, 'min_samples_split': 10}\n",
            "0.736 (+/-0.074) for {'criterion': 'entropy', 'max_depth': 6, 'min_samples_leaf': 5, 'min_samples_split': 15}\n",
            "0.723 (+/-0.075) for {'criterion': 'entropy', 'max_depth': 6, 'min_samples_leaf': 5, 'min_samples_split': 20}\n",
            "0.740 (+/-0.084) for {'criterion': 'entropy', 'max_depth': 6, 'min_samples_leaf': 7, 'min_samples_split': 5}\n",
            "0.740 (+/-0.085) for {'criterion': 'entropy', 'max_depth': 6, 'min_samples_leaf': 7, 'min_samples_split': 10}\n",
            "0.738 (+/-0.083) for {'criterion': 'entropy', 'max_depth': 6, 'min_samples_leaf': 7, 'min_samples_split': 15}\n",
            "0.726 (+/-0.088) for {'criterion': 'entropy', 'max_depth': 6, 'min_samples_leaf': 7, 'min_samples_split': 20}\n",
            "0.722 (+/-0.078) for {'criterion': 'entropy', 'max_depth': 6, 'min_samples_leaf': 9, 'min_samples_split': 5}\n",
            "0.721 (+/-0.077) for {'criterion': 'entropy', 'max_depth': 6, 'min_samples_leaf': 9, 'min_samples_split': 10}\n",
            "0.722 (+/-0.078) for {'criterion': 'entropy', 'max_depth': 6, 'min_samples_leaf': 9, 'min_samples_split': 15}\n",
            "0.718 (+/-0.071) for {'criterion': 'entropy', 'max_depth': 6, 'min_samples_leaf': 9, 'min_samples_split': 20}\n",
            "0.693 (+/-0.087) for {'criterion': 'entropy', 'max_depth': 6, 'min_samples_leaf': 11, 'min_samples_split': 5}\n",
            "0.692 (+/-0.087) for {'criterion': 'entropy', 'max_depth': 6, 'min_samples_leaf': 11, 'min_samples_split': 10}\n",
            "0.692 (+/-0.090) for {'criterion': 'entropy', 'max_depth': 6, 'min_samples_leaf': 11, 'min_samples_split': 15}\n",
            "0.693 (+/-0.087) for {'criterion': 'entropy', 'max_depth': 6, 'min_samples_leaf': 11, 'min_samples_split': 20}\n",
            "0.849 (+/-0.066) for {'criterion': 'entropy', 'max_depth': 8, 'min_samples_leaf': 3, 'min_samples_split': 5}\n",
            "0.824 (+/-0.057) for {'criterion': 'entropy', 'max_depth': 8, 'min_samples_leaf': 3, 'min_samples_split': 10}\n",
            "0.795 (+/-0.054) for {'criterion': 'entropy', 'max_depth': 8, 'min_samples_leaf': 3, 'min_samples_split': 15}\n",
            "0.768 (+/-0.066) for {'criterion': 'entropy', 'max_depth': 8, 'min_samples_leaf': 3, 'min_samples_split': 20}\n",
            "0.807 (+/-0.057) for {'criterion': 'entropy', 'max_depth': 8, 'min_samples_leaf': 5, 'min_samples_split': 5}\n",
            "0.808 (+/-0.054) for {'criterion': 'entropy', 'max_depth': 8, 'min_samples_leaf': 5, 'min_samples_split': 10}\n",
            "0.785 (+/-0.047) for {'criterion': 'entropy', 'max_depth': 8, 'min_samples_leaf': 5, 'min_samples_split': 15}\n",
            "0.762 (+/-0.062) for {'criterion': 'entropy', 'max_depth': 8, 'min_samples_leaf': 5, 'min_samples_split': 20}\n",
            "0.778 (+/-0.053) for {'criterion': 'entropy', 'max_depth': 8, 'min_samples_leaf': 7, 'min_samples_split': 5}\n",
            "0.776 (+/-0.053) for {'criterion': 'entropy', 'max_depth': 8, 'min_samples_leaf': 7, 'min_samples_split': 10}\n",
            "0.775 (+/-0.053) for {'criterion': 'entropy', 'max_depth': 8, 'min_samples_leaf': 7, 'min_samples_split': 15}\n",
            "0.750 (+/-0.064) for {'criterion': 'entropy', 'max_depth': 8, 'min_samples_leaf': 7, 'min_samples_split': 20}\n",
            "0.732 (+/-0.076) for {'criterion': 'entropy', 'max_depth': 8, 'min_samples_leaf': 9, 'min_samples_split': 5}\n",
            "0.731 (+/-0.075) for {'criterion': 'entropy', 'max_depth': 8, 'min_samples_leaf': 9, 'min_samples_split': 10}\n",
            "0.732 (+/-0.074) for {'criterion': 'entropy', 'max_depth': 8, 'min_samples_leaf': 9, 'min_samples_split': 15}\n",
            "0.727 (+/-0.072) for {'criterion': 'entropy', 'max_depth': 8, 'min_samples_leaf': 9, 'min_samples_split': 20}\n",
            "0.693 (+/-0.086) for {'criterion': 'entropy', 'max_depth': 8, 'min_samples_leaf': 11, 'min_samples_split': 5}\n",
            "0.695 (+/-0.082) for {'criterion': 'entropy', 'max_depth': 8, 'min_samples_leaf': 11, 'min_samples_split': 10}\n",
            "0.693 (+/-0.086) for {'criterion': 'entropy', 'max_depth': 8, 'min_samples_leaf': 11, 'min_samples_split': 15}\n",
            "0.693 (+/-0.086) for {'criterion': 'entropy', 'max_depth': 8, 'min_samples_leaf': 11, 'min_samples_split': 20}\n",
            "0.890 (+/-0.043) for {'criterion': 'entropy', 'max_depth': 10, 'min_samples_leaf': 3, 'min_samples_split': 5}\n",
            "0.855 (+/-0.046) for {'criterion': 'entropy', 'max_depth': 10, 'min_samples_leaf': 3, 'min_samples_split': 10}\n",
            "0.815 (+/-0.053) for {'criterion': 'entropy', 'max_depth': 10, 'min_samples_leaf': 3, 'min_samples_split': 15}\n",
            "0.785 (+/-0.063) for {'criterion': 'entropy', 'max_depth': 10, 'min_samples_leaf': 3, 'min_samples_split': 20}\n",
            "0.829 (+/-0.045) for {'criterion': 'entropy', 'max_depth': 10, 'min_samples_leaf': 5, 'min_samples_split': 5}\n",
            "0.829 (+/-0.043) for {'criterion': 'entropy', 'max_depth': 10, 'min_samples_leaf': 5, 'min_samples_split': 10}\n",
            "0.798 (+/-0.051) for {'criterion': 'entropy', 'max_depth': 10, 'min_samples_leaf': 5, 'min_samples_split': 15}\n",
            "0.772 (+/-0.060) for {'criterion': 'entropy', 'max_depth': 10, 'min_samples_leaf': 5, 'min_samples_split': 20}\n",
            "0.780 (+/-0.054) for {'criterion': 'entropy', 'max_depth': 10, 'min_samples_leaf': 7, 'min_samples_split': 5}\n",
            "0.782 (+/-0.054) for {'criterion': 'entropy', 'max_depth': 10, 'min_samples_leaf': 7, 'min_samples_split': 10}\n",
            "0.775 (+/-0.052) for {'criterion': 'entropy', 'max_depth': 10, 'min_samples_leaf': 7, 'min_samples_split': 15}\n",
            "0.751 (+/-0.063) for {'criterion': 'entropy', 'max_depth': 10, 'min_samples_leaf': 7, 'min_samples_split': 20}\n",
            "0.734 (+/-0.073) for {'criterion': 'entropy', 'max_depth': 10, 'min_samples_leaf': 9, 'min_samples_split': 5}\n",
            "0.732 (+/-0.073) for {'criterion': 'entropy', 'max_depth': 10, 'min_samples_leaf': 9, 'min_samples_split': 10}\n",
            "0.733 (+/-0.073) for {'criterion': 'entropy', 'max_depth': 10, 'min_samples_leaf': 9, 'min_samples_split': 15}\n",
            "0.727 (+/-0.072) for {'criterion': 'entropy', 'max_depth': 10, 'min_samples_leaf': 9, 'min_samples_split': 20}\n",
            "0.694 (+/-0.085) for {'criterion': 'entropy', 'max_depth': 10, 'min_samples_leaf': 11, 'min_samples_split': 5}\n",
            "0.694 (+/-0.085) for {'criterion': 'entropy', 'max_depth': 10, 'min_samples_leaf': 11, 'min_samples_split': 10}\n",
            "0.693 (+/-0.086) for {'criterion': 'entropy', 'max_depth': 10, 'min_samples_leaf': 11, 'min_samples_split': 15}\n",
            "0.695 (+/-0.082) for {'criterion': 'entropy', 'max_depth': 10, 'min_samples_leaf': 11, 'min_samples_split': 20}\n",
            "____________________________________________ END GRID SEARCH ____________________________________________\n"
          ]
        }
      ]
    },
    {
      "cell_type": "code",
      "source": [
        "results"
      ],
      "metadata": {
        "colab": {
          "base_uri": "https://localhost:8080/"
        },
        "id": "76yxt7anVARL",
        "outputId": "d63a935a-a517-4549-8038-51738a531276"
      },
      "execution_count": 101,
      "outputs": [
        {
          "output_type": "execute_result",
          "data": {
            "text/plain": [
              "{'f1_macro': {'criterion': 'entropy',\n",
              "  'max_depth': 6,\n",
              "  'min_samples_leaf': 5,\n",
              "  'min_samples_split': 15}}"
            ]
          },
          "metadata": {},
          "execution_count": 101
        }
      ]
    },
    {
      "cell_type": "code",
      "source": [
        "#decision tree\n",
        "clf = DecisionTreeClassifier(criterion = 'entropy', max_depth = 10, min_samples_leaf=3, min_samples_split=20, random_state=42)\n",
        "clf.fit(X_train_sel, y_res)\n",
        "\n",
        "y_pred = clf.predict(X_test_sel)\n",
        "\n",
        "print('Accuracy %s' % accuracy_score(y_test, y_pred))\n",
        "print('F1-score %s' % f1_score(y_test, y_pred, average=None))\n",
        "print(classification_report(y_test, y_pred, digits=3))"
      ],
      "metadata": {
        "colab": {
          "base_uri": "https://localhost:8080/"
        },
        "id": "unMgH0UrVDa7",
        "outputId": "b939ed76-fe2e-4934-a4b1-94e741876901"
      },
      "execution_count": 105,
      "outputs": [
        {
          "output_type": "stream",
          "name": "stdout",
          "text": [
            "Accuracy 0.8854545454545455\n",
            "F1-score [0.93901258 0.05970149]\n",
            "              precision    recall  f1-score   support\n",
            "\n",
            "           0      0.960     0.919     0.939       528\n",
            "           1      0.044     0.091     0.060        22\n",
            "\n",
            "    accuracy                          0.885       550\n",
            "   macro avg      0.502     0.505     0.499       550\n",
            "weighted avg      0.924     0.885     0.904       550\n",
            "\n"
          ]
        }
      ]
    },
    {
      "cell_type": "code",
      "source": [
        "check_params = {'n_neighbors': [1, 5, 10, 15, 20], \"weights\":[\"distance\", \"uniform\"], 'metric' :['minkowski', 'manhattan', 'euclidean']}\n",
        "clf=KNeighborsClassifier()\n",
        "results = customGridSearch(X_train_sel, y_res, clf, check_params, \"f1_macro\")"
      ],
      "metadata": {
        "colab": {
          "base_uri": "https://localhost:8080/"
        },
        "id": "TGJGC-fEVfWW",
        "outputId": "5c08fcd0-2c03-4819-96f7-18609d8c3c84"
      },
      "execution_count": null,
      "outputs": [
        {
          "output_type": "stream",
          "name": "stdout",
          "text": [
            "____________________________________________ START GRID SEARCH ____________________________________________\n",
            "------- Score = f1_macro------- \n",
            "\n",
            "> Fold = RepeatedStratifiedKFold(n_repeats=10, n_splits=5, random_state=None)\n",
            "\n",
            "> Best Parameter set: \n",
            "\n",
            "{'metric': 'minkowski', 'n_neighbors': 1, 'weights': 'distance'}\n",
            "\n",
            "> Grid scores:\n",
            "\n",
            "...........RESULTS FOR TRAINING.........\n",
            "........................................\n",
            "1.000 (+/-0.000) for {'metric': 'minkowski', 'n_neighbors': 1, 'weights': 'distance'}\n",
            "1.000 (+/-0.000) for {'metric': 'minkowski', 'n_neighbors': 1, 'weights': 'uniform'}\n",
            "1.000 (+/-0.000) for {'metric': 'minkowski', 'n_neighbors': 5, 'weights': 'distance'}\n",
            "0.649 (+/-0.075) for {'metric': 'minkowski', 'n_neighbors': 5, 'weights': 'uniform'}\n",
            "1.000 (+/-0.000) for {'metric': 'minkowski', 'n_neighbors': 10, 'weights': 'distance'}\n",
            "0.493 (+/-0.055) for {'metric': 'minkowski', 'n_neighbors': 10, 'weights': 'uniform'}\n",
            "1.000 (+/-0.000) for {'metric': 'minkowski', 'n_neighbors': 15, 'weights': 'distance'}\n",
            "0.475 (+/-0.061) for {'metric': 'minkowski', 'n_neighbors': 15, 'weights': 'uniform'}\n",
            "1.000 (+/-0.000) for {'metric': 'minkowski', 'n_neighbors': 20, 'weights': 'distance'}\n",
            "0.446 (+/-0.019) for {'metric': 'minkowski', 'n_neighbors': 20, 'weights': 'uniform'}\n",
            "1.000 (+/-0.000) for {'metric': 'manhattan', 'n_neighbors': 1, 'weights': 'distance'}\n",
            "1.000 (+/-0.000) for {'metric': 'manhattan', 'n_neighbors': 1, 'weights': 'uniform'}\n",
            "1.000 (+/-0.000) for {'metric': 'manhattan', 'n_neighbors': 5, 'weights': 'distance'}\n",
            "0.654 (+/-0.067) for {'metric': 'manhattan', 'n_neighbors': 5, 'weights': 'uniform'}\n",
            "1.000 (+/-0.000) for {'metric': 'manhattan', 'n_neighbors': 10, 'weights': 'distance'}\n",
            "0.459 (+/-0.036) for {'metric': 'manhattan', 'n_neighbors': 10, 'weights': 'uniform'}\n",
            "1.000 (+/-0.000) for {'metric': 'manhattan', 'n_neighbors': 15, 'weights': 'distance'}\n",
            "0.477 (+/-0.060) for {'metric': 'manhattan', 'n_neighbors': 15, 'weights': 'uniform'}\n",
            "1.000 (+/-0.000) for {'metric': 'manhattan', 'n_neighbors': 20, 'weights': 'distance'}\n",
            "0.460 (+/-0.037) for {'metric': 'manhattan', 'n_neighbors': 20, 'weights': 'uniform'}\n",
            "1.000 (+/-0.000) for {'metric': 'euclidean', 'n_neighbors': 1, 'weights': 'distance'}\n",
            "1.000 (+/-0.000) for {'metric': 'euclidean', 'n_neighbors': 1, 'weights': 'uniform'}\n",
            "1.000 (+/-0.000) for {'metric': 'euclidean', 'n_neighbors': 5, 'weights': 'distance'}\n",
            "0.649 (+/-0.075) for {'metric': 'euclidean', 'n_neighbors': 5, 'weights': 'uniform'}\n",
            "1.000 (+/-0.000) for {'metric': 'euclidean', 'n_neighbors': 10, 'weights': 'distance'}\n",
            "0.493 (+/-0.055) for {'metric': 'euclidean', 'n_neighbors': 10, 'weights': 'uniform'}\n",
            "1.000 (+/-0.000) for {'metric': 'euclidean', 'n_neighbors': 15, 'weights': 'distance'}\n",
            "0.475 (+/-0.061) for {'metric': 'euclidean', 'n_neighbors': 15, 'weights': 'uniform'}\n",
            "1.000 (+/-0.000) for {'metric': 'euclidean', 'n_neighbors': 20, 'weights': 'distance'}\n",
            "0.446 (+/-0.019) for {'metric': 'euclidean', 'n_neighbors': 20, 'weights': 'uniform'}\n",
            "____________________________________________ END GRID SEARCH ____________________________________________\n"
          ]
        }
      ]
    },
    {
      "cell_type": "code",
      "source": [
        "results"
      ],
      "metadata": {
        "colab": {
          "base_uri": "https://localhost:8080/"
        },
        "id": "X1HJxH2KV8oJ",
        "outputId": "7874b4ef-9967-486e-b276-4f4c1806cbd7"
      },
      "execution_count": null,
      "outputs": [
        {
          "output_type": "execute_result",
          "data": {
            "text/plain": [
              "{'f1_macro': {'metric': 'minkowski', 'n_neighbors': 1, 'weights': 'distance'}}"
            ]
          },
          "metadata": {},
          "execution_count": 190
        }
      ]
    },
    {
      "cell_type": "code",
      "source": [
        "#knn\n",
        "clf = KNeighborsClassifier(metric = 'minkowski', n_neighbors=1, weights = 'distance')\n",
        "clf.fit(X_train_sel, y_res)\n",
        "y_pred = clf.predict(X_test_sel)\n",
        "print('KNN')\n",
        "print('Accuracy %s' % accuracy_score(y_test, y_pred))\n",
        "print('F1-score %s' % f1_score(y_test, y_pred, average=None))\n",
        "print(classification_report(y_test, y_pred, digits=3))"
      ],
      "metadata": {
        "colab": {
          "base_uri": "https://localhost:8080/"
        },
        "id": "4BAJgzw0V_Gz",
        "outputId": "0d33cc6f-bed1-45a4-adf4-4b36f6804b70"
      },
      "execution_count": 106,
      "outputs": [
        {
          "output_type": "stream",
          "name": "stdout",
          "text": [
            "KNN\n",
            "Accuracy 0.7963636363636364\n",
            "F1-score [0.88571429 0.06666667]\n",
            "              precision    recall  f1-score   support\n",
            "\n",
            "           0      0.960     0.822     0.886       528\n",
            "           1      0.041     0.182     0.067        22\n",
            "\n",
            "    accuracy                          0.796       550\n",
            "   macro avg      0.500     0.502     0.476       550\n",
            "weighted avg      0.923     0.796     0.853       550\n",
            "\n"
          ]
        }
      ]
    },
    {
      "cell_type": "markdown",
      "source": [
        "Select From Model"
      ],
      "metadata": {
        "id": "xVj2YimpJL2c"
      }
    },
    {
      "cell_type": "code",
      "source": [
        "from sklearn.feature_selection import SelectFromModel"
      ],
      "metadata": {
        "id": "i5YXDGgFEjIR"
      },
      "execution_count": 107,
      "outputs": []
    },
    {
      "cell_type": "code",
      "source": [
        "sel = SelectFromModel(DecisionTreeClassifier())\n",
        "X_train_sel = sel.fit_transform(X_res, y_res)\n",
        "X_test_sel = sel.transform(X_test)\n",
        "X_train_sel.shape"
      ],
      "metadata": {
        "colab": {
          "base_uri": "https://localhost:8080/"
        },
        "id": "szb9T4WuJR_k",
        "outputId": "bcd06149-a219-4e94-af45-359ee56ab2cd"
      },
      "execution_count": 112,
      "outputs": [
        {
          "output_type": "execute_result",
          "data": {
            "text/plain": [
              "(311, 32)"
            ]
          },
          "metadata": {},
          "execution_count": 112
        }
      ]
    },
    {
      "cell_type": "code",
      "source": [
        "check_params ={\"criterion\":[\"gini\", \"entropy\"],\n",
        "         \"max_depth\":[4, 6, 8, 10],\n",
        "         \"min_samples_split\": [5, 10, 15, 20],\n",
        "         \"min_samples_leaf\": [3, 5, 7, 9, 11]}\n",
        "dt=DecisionTreeClassifier()\n",
        "results = customGridSearch(X_train_sel, y_res, dt, check_params, \"f1_macro\")"
      ],
      "metadata": {
        "colab": {
          "base_uri": "https://localhost:8080/"
        },
        "id": "BhGqYZCmWTwU",
        "outputId": "73005586-dc4d-4817-d89f-19706ceba67c"
      },
      "execution_count": null,
      "outputs": [
        {
          "output_type": "stream",
          "name": "stdout",
          "text": [
            "____________________________________________ START GRID SEARCH ____________________________________________\n",
            "------- Score = f1_macro------- \n",
            "\n",
            "> Fold = RepeatedStratifiedKFold(n_repeats=10, n_splits=5, random_state=None)\n",
            "\n",
            "> Best Parameter set: \n",
            "\n",
            "{'criterion': 'entropy', 'max_depth': 10, 'min_samples_leaf': 9, 'min_samples_split': 20}\n",
            "\n",
            "> Grid scores:\n",
            "\n",
            "...........RESULTS FOR TRAINING.........\n",
            "........................................\n",
            "0.745 (+/-0.101) for {'criterion': 'gini', 'max_depth': 4, 'min_samples_leaf': 3, 'min_samples_split': 5}\n",
            "0.744 (+/-0.099) for {'criterion': 'gini', 'max_depth': 4, 'min_samples_leaf': 3, 'min_samples_split': 10}\n",
            "0.734 (+/-0.089) for {'criterion': 'gini', 'max_depth': 4, 'min_samples_leaf': 3, 'min_samples_split': 15}\n",
            "0.728 (+/-0.081) for {'criterion': 'gini', 'max_depth': 4, 'min_samples_leaf': 3, 'min_samples_split': 20}\n",
            "0.739 (+/-0.099) for {'criterion': 'gini', 'max_depth': 4, 'min_samples_leaf': 5, 'min_samples_split': 5}\n",
            "0.739 (+/-0.099) for {'criterion': 'gini', 'max_depth': 4, 'min_samples_leaf': 5, 'min_samples_split': 10}\n",
            "0.727 (+/-0.104) for {'criterion': 'gini', 'max_depth': 4, 'min_samples_leaf': 5, 'min_samples_split': 15}\n",
            "0.718 (+/-0.100) for {'criterion': 'gini', 'max_depth': 4, 'min_samples_leaf': 5, 'min_samples_split': 20}\n",
            "0.735 (+/-0.089) for {'criterion': 'gini', 'max_depth': 4, 'min_samples_leaf': 7, 'min_samples_split': 5}\n",
            "0.736 (+/-0.089) for {'criterion': 'gini', 'max_depth': 4, 'min_samples_leaf': 7, 'min_samples_split': 10}\n",
            "0.736 (+/-0.092) for {'criterion': 'gini', 'max_depth': 4, 'min_samples_leaf': 7, 'min_samples_split': 15}\n",
            "0.725 (+/-0.108) for {'criterion': 'gini', 'max_depth': 4, 'min_samples_leaf': 7, 'min_samples_split': 20}\n",
            "0.728 (+/-0.090) for {'criterion': 'gini', 'max_depth': 4, 'min_samples_leaf': 9, 'min_samples_split': 5}\n",
            "0.729 (+/-0.089) for {'criterion': 'gini', 'max_depth': 4, 'min_samples_leaf': 9, 'min_samples_split': 10}\n",
            "0.729 (+/-0.089) for {'criterion': 'gini', 'max_depth': 4, 'min_samples_leaf': 9, 'min_samples_split': 15}\n",
            "0.722 (+/-0.104) for {'criterion': 'gini', 'max_depth': 4, 'min_samples_leaf': 9, 'min_samples_split': 20}\n",
            "0.715 (+/-0.096) for {'criterion': 'gini', 'max_depth': 4, 'min_samples_leaf': 11, 'min_samples_split': 5}\n",
            "0.713 (+/-0.096) for {'criterion': 'gini', 'max_depth': 4, 'min_samples_leaf': 11, 'min_samples_split': 10}\n",
            "0.715 (+/-0.096) for {'criterion': 'gini', 'max_depth': 4, 'min_samples_leaf': 11, 'min_samples_split': 15}\n",
            "0.715 (+/-0.096) for {'criterion': 'gini', 'max_depth': 4, 'min_samples_leaf': 11, 'min_samples_split': 20}\n",
            "0.844 (+/-0.076) for {'criterion': 'gini', 'max_depth': 6, 'min_samples_leaf': 3, 'min_samples_split': 5}\n",
            "0.832 (+/-0.078) for {'criterion': 'gini', 'max_depth': 6, 'min_samples_leaf': 3, 'min_samples_split': 10}\n",
            "0.808 (+/-0.066) for {'criterion': 'gini', 'max_depth': 6, 'min_samples_leaf': 3, 'min_samples_split': 15}\n",
            "0.790 (+/-0.069) for {'criterion': 'gini', 'max_depth': 6, 'min_samples_leaf': 3, 'min_samples_split': 20}\n",
            "0.829 (+/-0.067) for {'criterion': 'gini', 'max_depth': 6, 'min_samples_leaf': 5, 'min_samples_split': 5}\n",
            "0.829 (+/-0.067) for {'criterion': 'gini', 'max_depth': 6, 'min_samples_leaf': 5, 'min_samples_split': 10}\n",
            "0.800 (+/-0.058) for {'criterion': 'gini', 'max_depth': 6, 'min_samples_leaf': 5, 'min_samples_split': 15}\n",
            "0.777 (+/-0.071) for {'criterion': 'gini', 'max_depth': 6, 'min_samples_leaf': 5, 'min_samples_split': 20}\n",
            "0.799 (+/-0.060) for {'criterion': 'gini', 'max_depth': 6, 'min_samples_leaf': 7, 'min_samples_split': 5}\n",
            "0.797 (+/-0.060) for {'criterion': 'gini', 'max_depth': 6, 'min_samples_leaf': 7, 'min_samples_split': 10}\n",
            "0.793 (+/-0.067) for {'criterion': 'gini', 'max_depth': 6, 'min_samples_leaf': 7, 'min_samples_split': 15}\n",
            "0.771 (+/-0.095) for {'criterion': 'gini', 'max_depth': 6, 'min_samples_leaf': 7, 'min_samples_split': 20}\n",
            "0.769 (+/-0.065) for {'criterion': 'gini', 'max_depth': 6, 'min_samples_leaf': 9, 'min_samples_split': 5}\n",
            "0.768 (+/-0.065) for {'criterion': 'gini', 'max_depth': 6, 'min_samples_leaf': 9, 'min_samples_split': 10}\n",
            "0.769 (+/-0.065) for {'criterion': 'gini', 'max_depth': 6, 'min_samples_leaf': 9, 'min_samples_split': 15}\n",
            "0.760 (+/-0.080) for {'criterion': 'gini', 'max_depth': 6, 'min_samples_leaf': 9, 'min_samples_split': 20}\n",
            "0.750 (+/-0.078) for {'criterion': 'gini', 'max_depth': 6, 'min_samples_leaf': 11, 'min_samples_split': 5}\n",
            "0.751 (+/-0.075) for {'criterion': 'gini', 'max_depth': 6, 'min_samples_leaf': 11, 'min_samples_split': 10}\n",
            "0.750 (+/-0.078) for {'criterion': 'gini', 'max_depth': 6, 'min_samples_leaf': 11, 'min_samples_split': 15}\n",
            "0.749 (+/-0.078) for {'criterion': 'gini', 'max_depth': 6, 'min_samples_leaf': 11, 'min_samples_split': 20}\n",
            "0.900 (+/-0.047) for {'criterion': 'gini', 'max_depth': 8, 'min_samples_leaf': 3, 'min_samples_split': 5}\n",
            "0.877 (+/-0.048) for {'criterion': 'gini', 'max_depth': 8, 'min_samples_leaf': 3, 'min_samples_split': 10}\n",
            "0.839 (+/-0.063) for {'criterion': 'gini', 'max_depth': 8, 'min_samples_leaf': 3, 'min_samples_split': 15}\n",
            "0.815 (+/-0.071) for {'criterion': 'gini', 'max_depth': 8, 'min_samples_leaf': 3, 'min_samples_split': 20}\n",
            "0.856 (+/-0.043) for {'criterion': 'gini', 'max_depth': 8, 'min_samples_leaf': 5, 'min_samples_split': 5}\n",
            "0.859 (+/-0.045) for {'criterion': 'gini', 'max_depth': 8, 'min_samples_leaf': 5, 'min_samples_split': 10}\n",
            "0.818 (+/-0.061) for {'criterion': 'gini', 'max_depth': 8, 'min_samples_leaf': 5, 'min_samples_split': 15}\n",
            "0.790 (+/-0.079) for {'criterion': 'gini', 'max_depth': 8, 'min_samples_leaf': 5, 'min_samples_split': 20}\n",
            "0.812 (+/-0.053) for {'criterion': 'gini', 'max_depth': 8, 'min_samples_leaf': 7, 'min_samples_split': 5}\n",
            "0.812 (+/-0.053) for {'criterion': 'gini', 'max_depth': 8, 'min_samples_leaf': 7, 'min_samples_split': 10}\n",
            "0.806 (+/-0.063) for {'criterion': 'gini', 'max_depth': 8, 'min_samples_leaf': 7, 'min_samples_split': 15}\n",
            "0.781 (+/-0.090) for {'criterion': 'gini', 'max_depth': 8, 'min_samples_leaf': 7, 'min_samples_split': 20}\n",
            "0.776 (+/-0.064) for {'criterion': 'gini', 'max_depth': 8, 'min_samples_leaf': 9, 'min_samples_split': 5}\n",
            "0.776 (+/-0.065) for {'criterion': 'gini', 'max_depth': 8, 'min_samples_leaf': 9, 'min_samples_split': 10}\n",
            "0.777 (+/-0.063) for {'criterion': 'gini', 'max_depth': 8, 'min_samples_leaf': 9, 'min_samples_split': 15}\n",
            "0.763 (+/-0.084) for {'criterion': 'gini', 'max_depth': 8, 'min_samples_leaf': 9, 'min_samples_split': 20}\n",
            "0.753 (+/-0.076) for {'criterion': 'gini', 'max_depth': 8, 'min_samples_leaf': 11, 'min_samples_split': 5}\n",
            "0.751 (+/-0.079) for {'criterion': 'gini', 'max_depth': 8, 'min_samples_leaf': 11, 'min_samples_split': 10}\n",
            "0.752 (+/-0.079) for {'criterion': 'gini', 'max_depth': 8, 'min_samples_leaf': 11, 'min_samples_split': 15}\n",
            "0.752 (+/-0.079) for {'criterion': 'gini', 'max_depth': 8, 'min_samples_leaf': 11, 'min_samples_split': 20}\n",
            "0.918 (+/-0.035) for {'criterion': 'gini', 'max_depth': 10, 'min_samples_leaf': 3, 'min_samples_split': 5}\n",
            "0.892 (+/-0.045) for {'criterion': 'gini', 'max_depth': 10, 'min_samples_leaf': 3, 'min_samples_split': 10}\n",
            "0.849 (+/-0.048) for {'criterion': 'gini', 'max_depth': 10, 'min_samples_leaf': 3, 'min_samples_split': 15}\n",
            "0.820 (+/-0.069) for {'criterion': 'gini', 'max_depth': 10, 'min_samples_leaf': 3, 'min_samples_split': 20}\n",
            "0.863 (+/-0.042) for {'criterion': 'gini', 'max_depth': 10, 'min_samples_leaf': 5, 'min_samples_split': 5}\n",
            "0.864 (+/-0.040) for {'criterion': 'gini', 'max_depth': 10, 'min_samples_leaf': 5, 'min_samples_split': 10}\n",
            "0.822 (+/-0.059) for {'criterion': 'gini', 'max_depth': 10, 'min_samples_leaf': 5, 'min_samples_split': 15}\n",
            "0.791 (+/-0.075) for {'criterion': 'gini', 'max_depth': 10, 'min_samples_leaf': 5, 'min_samples_split': 20}\n",
            "0.813 (+/-0.054) for {'criterion': 'gini', 'max_depth': 10, 'min_samples_leaf': 7, 'min_samples_split': 5}\n",
            "0.814 (+/-0.053) for {'criterion': 'gini', 'max_depth': 10, 'min_samples_leaf': 7, 'min_samples_split': 10}\n",
            "0.805 (+/-0.062) for {'criterion': 'gini', 'max_depth': 10, 'min_samples_leaf': 7, 'min_samples_split': 15}\n",
            "0.781 (+/-0.091) for {'criterion': 'gini', 'max_depth': 10, 'min_samples_leaf': 7, 'min_samples_split': 20}\n",
            "0.777 (+/-0.062) for {'criterion': 'gini', 'max_depth': 10, 'min_samples_leaf': 9, 'min_samples_split': 5}\n",
            "0.778 (+/-0.062) for {'criterion': 'gini', 'max_depth': 10, 'min_samples_leaf': 9, 'min_samples_split': 10}\n",
            "0.777 (+/-0.062) for {'criterion': 'gini', 'max_depth': 10, 'min_samples_leaf': 9, 'min_samples_split': 15}\n",
            "0.767 (+/-0.084) for {'criterion': 'gini', 'max_depth': 10, 'min_samples_leaf': 9, 'min_samples_split': 20}\n",
            "0.752 (+/-0.079) for {'criterion': 'gini', 'max_depth': 10, 'min_samples_leaf': 11, 'min_samples_split': 5}\n",
            "0.754 (+/-0.076) for {'criterion': 'gini', 'max_depth': 10, 'min_samples_leaf': 11, 'min_samples_split': 10}\n",
            "0.752 (+/-0.078) for {'criterion': 'gini', 'max_depth': 10, 'min_samples_leaf': 11, 'min_samples_split': 15}\n",
            "0.753 (+/-0.076) for {'criterion': 'gini', 'max_depth': 10, 'min_samples_leaf': 11, 'min_samples_split': 20}\n",
            "0.703 (+/-0.126) for {'criterion': 'entropy', 'max_depth': 4, 'min_samples_leaf': 3, 'min_samples_split': 5}\n",
            "0.696 (+/-0.124) for {'criterion': 'entropy', 'max_depth': 4, 'min_samples_leaf': 3, 'min_samples_split': 10}\n",
            "0.678 (+/-0.126) for {'criterion': 'entropy', 'max_depth': 4, 'min_samples_leaf': 3, 'min_samples_split': 15}\n",
            "0.676 (+/-0.122) for {'criterion': 'entropy', 'max_depth': 4, 'min_samples_leaf': 3, 'min_samples_split': 20}\n",
            "0.682 (+/-0.142) for {'criterion': 'entropy', 'max_depth': 4, 'min_samples_leaf': 5, 'min_samples_split': 5}\n",
            "0.681 (+/-0.144) for {'criterion': 'entropy', 'max_depth': 4, 'min_samples_leaf': 5, 'min_samples_split': 10}\n",
            "0.668 (+/-0.144) for {'criterion': 'entropy', 'max_depth': 4, 'min_samples_leaf': 5, 'min_samples_split': 15}\n",
            "0.663 (+/-0.136) for {'criterion': 'entropy', 'max_depth': 4, 'min_samples_leaf': 5, 'min_samples_split': 20}\n",
            "0.663 (+/-0.123) for {'criterion': 'entropy', 'max_depth': 4, 'min_samples_leaf': 7, 'min_samples_split': 5}\n",
            "0.663 (+/-0.123) for {'criterion': 'entropy', 'max_depth': 4, 'min_samples_leaf': 7, 'min_samples_split': 10}\n",
            "0.659 (+/-0.137) for {'criterion': 'entropy', 'max_depth': 4, 'min_samples_leaf': 7, 'min_samples_split': 15}\n",
            "0.655 (+/-0.143) for {'criterion': 'entropy', 'max_depth': 4, 'min_samples_leaf': 7, 'min_samples_split': 20}\n",
            "0.675 (+/-0.148) for {'criterion': 'entropy', 'max_depth': 4, 'min_samples_leaf': 9, 'min_samples_split': 5}\n",
            "0.675 (+/-0.148) for {'criterion': 'entropy', 'max_depth': 4, 'min_samples_leaf': 9, 'min_samples_split': 10}\n",
            "0.675 (+/-0.148) for {'criterion': 'entropy', 'max_depth': 4, 'min_samples_leaf': 9, 'min_samples_split': 15}\n",
            "0.672 (+/-0.144) for {'criterion': 'entropy', 'max_depth': 4, 'min_samples_leaf': 9, 'min_samples_split': 20}\n",
            "0.682 (+/-0.122) for {'criterion': 'entropy', 'max_depth': 4, 'min_samples_leaf': 11, 'min_samples_split': 5}\n",
            "0.682 (+/-0.122) for {'criterion': 'entropy', 'max_depth': 4, 'min_samples_leaf': 11, 'min_samples_split': 10}\n",
            "0.682 (+/-0.122) for {'criterion': 'entropy', 'max_depth': 4, 'min_samples_leaf': 11, 'min_samples_split': 15}\n",
            "0.682 (+/-0.122) for {'criterion': 'entropy', 'max_depth': 4, 'min_samples_leaf': 11, 'min_samples_split': 20}\n",
            "0.803 (+/-0.118) for {'criterion': 'entropy', 'max_depth': 6, 'min_samples_leaf': 3, 'min_samples_split': 5}\n",
            "0.792 (+/-0.117) for {'criterion': 'entropy', 'max_depth': 6, 'min_samples_leaf': 3, 'min_samples_split': 10}\n",
            "0.769 (+/-0.117) for {'criterion': 'entropy', 'max_depth': 6, 'min_samples_leaf': 3, 'min_samples_split': 15}\n",
            "0.759 (+/-0.114) for {'criterion': 'entropy', 'max_depth': 6, 'min_samples_leaf': 3, 'min_samples_split': 20}\n",
            "0.786 (+/-0.114) for {'criterion': 'entropy', 'max_depth': 6, 'min_samples_leaf': 5, 'min_samples_split': 5}\n",
            "0.790 (+/-0.109) for {'criterion': 'entropy', 'max_depth': 6, 'min_samples_leaf': 5, 'min_samples_split': 10}\n",
            "0.759 (+/-0.118) for {'criterion': 'entropy', 'max_depth': 6, 'min_samples_leaf': 5, 'min_samples_split': 15}\n",
            "0.755 (+/-0.107) for {'criterion': 'entropy', 'max_depth': 6, 'min_samples_leaf': 5, 'min_samples_split': 20}\n",
            "0.777 (+/-0.105) for {'criterion': 'entropy', 'max_depth': 6, 'min_samples_leaf': 7, 'min_samples_split': 5}\n",
            "0.776 (+/-0.104) for {'criterion': 'entropy', 'max_depth': 6, 'min_samples_leaf': 7, 'min_samples_split': 10}\n",
            "0.773 (+/-0.101) for {'criterion': 'entropy', 'max_depth': 6, 'min_samples_leaf': 7, 'min_samples_split': 15}\n",
            "0.766 (+/-0.093) for {'criterion': 'entropy', 'max_depth': 6, 'min_samples_leaf': 7, 'min_samples_split': 20}\n",
            "0.775 (+/-0.078) for {'criterion': 'entropy', 'max_depth': 6, 'min_samples_leaf': 9, 'min_samples_split': 5}\n",
            "0.775 (+/-0.078) for {'criterion': 'entropy', 'max_depth': 6, 'min_samples_leaf': 9, 'min_samples_split': 10}\n",
            "0.774 (+/-0.076) for {'criterion': 'entropy', 'max_depth': 6, 'min_samples_leaf': 9, 'min_samples_split': 15}\n",
            "0.770 (+/-0.079) for {'criterion': 'entropy', 'max_depth': 6, 'min_samples_leaf': 9, 'min_samples_split': 20}\n",
            "0.754 (+/-0.082) for {'criterion': 'entropy', 'max_depth': 6, 'min_samples_leaf': 11, 'min_samples_split': 5}\n",
            "0.754 (+/-0.081) for {'criterion': 'entropy', 'max_depth': 6, 'min_samples_leaf': 11, 'min_samples_split': 10}\n",
            "0.754 (+/-0.081) for {'criterion': 'entropy', 'max_depth': 6, 'min_samples_leaf': 11, 'min_samples_split': 15}\n",
            "0.753 (+/-0.082) for {'criterion': 'entropy', 'max_depth': 6, 'min_samples_leaf': 11, 'min_samples_split': 20}\n",
            "0.866 (+/-0.133) for {'criterion': 'entropy', 'max_depth': 8, 'min_samples_leaf': 3, 'min_samples_split': 5}\n",
            "0.850 (+/-0.123) for {'criterion': 'entropy', 'max_depth': 8, 'min_samples_leaf': 3, 'min_samples_split': 10}\n",
            "0.815 (+/-0.113) for {'criterion': 'entropy', 'max_depth': 8, 'min_samples_leaf': 3, 'min_samples_split': 15}\n",
            "0.800 (+/-0.103) for {'criterion': 'entropy', 'max_depth': 8, 'min_samples_leaf': 3, 'min_samples_split': 20}\n",
            "0.847 (+/-0.092) for {'criterion': 'entropy', 'max_depth': 8, 'min_samples_leaf': 5, 'min_samples_split': 5}\n",
            "0.845 (+/-0.094) for {'criterion': 'entropy', 'max_depth': 8, 'min_samples_leaf': 5, 'min_samples_split': 10}\n",
            "0.817 (+/-0.089) for {'criterion': 'entropy', 'max_depth': 8, 'min_samples_leaf': 5, 'min_samples_split': 15}\n",
            "0.799 (+/-0.078) for {'criterion': 'entropy', 'max_depth': 8, 'min_samples_leaf': 5, 'min_samples_split': 20}\n",
            "0.822 (+/-0.071) for {'criterion': 'entropy', 'max_depth': 8, 'min_samples_leaf': 7, 'min_samples_split': 5}\n",
            "0.822 (+/-0.069) for {'criterion': 'entropy', 'max_depth': 8, 'min_samples_leaf': 7, 'min_samples_split': 10}\n",
            "0.816 (+/-0.067) for {'criterion': 'entropy', 'max_depth': 8, 'min_samples_leaf': 7, 'min_samples_split': 15}\n",
            "0.804 (+/-0.059) for {'criterion': 'entropy', 'max_depth': 8, 'min_samples_leaf': 7, 'min_samples_split': 20}\n",
            "0.804 (+/-0.067) for {'criterion': 'entropy', 'max_depth': 8, 'min_samples_leaf': 9, 'min_samples_split': 5}\n",
            "0.803 (+/-0.067) for {'criterion': 'entropy', 'max_depth': 8, 'min_samples_leaf': 9, 'min_samples_split': 10}\n",
            "0.802 (+/-0.067) for {'criterion': 'entropy', 'max_depth': 8, 'min_samples_leaf': 9, 'min_samples_split': 15}\n",
            "0.797 (+/-0.076) for {'criterion': 'entropy', 'max_depth': 8, 'min_samples_leaf': 9, 'min_samples_split': 20}\n",
            "0.778 (+/-0.085) for {'criterion': 'entropy', 'max_depth': 8, 'min_samples_leaf': 11, 'min_samples_split': 5}\n",
            "0.777 (+/-0.085) for {'criterion': 'entropy', 'max_depth': 8, 'min_samples_leaf': 11, 'min_samples_split': 10}\n",
            "0.778 (+/-0.085) for {'criterion': 'entropy', 'max_depth': 8, 'min_samples_leaf': 11, 'min_samples_split': 15}\n",
            "0.777 (+/-0.085) for {'criterion': 'entropy', 'max_depth': 8, 'min_samples_leaf': 11, 'min_samples_split': 20}\n",
            "0.911 (+/-0.105) for {'criterion': 'entropy', 'max_depth': 10, 'min_samples_leaf': 3, 'min_samples_split': 5}\n",
            "0.895 (+/-0.091) for {'criterion': 'entropy', 'max_depth': 10, 'min_samples_leaf': 3, 'min_samples_split': 10}\n",
            "0.853 (+/-0.075) for {'criterion': 'entropy', 'max_depth': 10, 'min_samples_leaf': 3, 'min_samples_split': 15}\n",
            "0.830 (+/-0.073) for {'criterion': 'entropy', 'max_depth': 10, 'min_samples_leaf': 3, 'min_samples_split': 20}\n",
            "0.879 (+/-0.062) for {'criterion': 'entropy', 'max_depth': 10, 'min_samples_leaf': 5, 'min_samples_split': 5}\n",
            "0.878 (+/-0.062) for {'criterion': 'entropy', 'max_depth': 10, 'min_samples_leaf': 5, 'min_samples_split': 10}\n",
            "0.846 (+/-0.062) for {'criterion': 'entropy', 'max_depth': 10, 'min_samples_leaf': 5, 'min_samples_split': 15}\n",
            "0.820 (+/-0.062) for {'criterion': 'entropy', 'max_depth': 10, 'min_samples_leaf': 5, 'min_samples_split': 20}\n",
            "0.842 (+/-0.047) for {'criterion': 'entropy', 'max_depth': 10, 'min_samples_leaf': 7, 'min_samples_split': 5}\n",
            "0.842 (+/-0.046) for {'criterion': 'entropy', 'max_depth': 10, 'min_samples_leaf': 7, 'min_samples_split': 10}\n",
            "0.837 (+/-0.046) for {'criterion': 'entropy', 'max_depth': 10, 'min_samples_leaf': 7, 'min_samples_split': 15}\n",
            "0.820 (+/-0.050) for {'criterion': 'entropy', 'max_depth': 10, 'min_samples_leaf': 7, 'min_samples_split': 20}\n",
            "0.810 (+/-0.055) for {'criterion': 'entropy', 'max_depth': 10, 'min_samples_leaf': 9, 'min_samples_split': 5}\n",
            "0.811 (+/-0.056) for {'criterion': 'entropy', 'max_depth': 10, 'min_samples_leaf': 9, 'min_samples_split': 10}\n",
            "0.809 (+/-0.055) for {'criterion': 'entropy', 'max_depth': 10, 'min_samples_leaf': 9, 'min_samples_split': 15}\n",
            "0.803 (+/-0.069) for {'criterion': 'entropy', 'max_depth': 10, 'min_samples_leaf': 9, 'min_samples_split': 20}\n",
            "0.782 (+/-0.085) for {'criterion': 'entropy', 'max_depth': 10, 'min_samples_leaf': 11, 'min_samples_split': 5}\n",
            "0.783 (+/-0.085) for {'criterion': 'entropy', 'max_depth': 10, 'min_samples_leaf': 11, 'min_samples_split': 10}\n",
            "0.782 (+/-0.084) for {'criterion': 'entropy', 'max_depth': 10, 'min_samples_leaf': 11, 'min_samples_split': 15}\n",
            "0.782 (+/-0.084) for {'criterion': 'entropy', 'max_depth': 10, 'min_samples_leaf': 11, 'min_samples_split': 20}\n",
            "____________________________________________ END GRID SEARCH ____________________________________________\n"
          ]
        }
      ]
    },
    {
      "cell_type": "code",
      "source": [
        "results"
      ],
      "metadata": {
        "colab": {
          "base_uri": "https://localhost:8080/"
        },
        "id": "3cMxKnwZW6GW",
        "outputId": "c29f3918-1e1a-4d67-e159-a5b1f2c7bbcc"
      },
      "execution_count": null,
      "outputs": [
        {
          "output_type": "execute_result",
          "data": {
            "text/plain": [
              "{'f1_macro': {'criterion': 'entropy',\n",
              "  'max_depth': 10,\n",
              "  'min_samples_leaf': 9,\n",
              "  'min_samples_split': 20}}"
            ]
          },
          "metadata": {},
          "execution_count": 195
        }
      ]
    },
    {
      "cell_type": "code",
      "source": [
        "clf = DecisionTreeClassifier(criterion='entropy', max_depth=10, min_samples_leaf=9, min_samples_split=20, random_state=42)\n",
        "clf.fit(X_train_sel, y_res)\n",
        "\n",
        "y_pred = clf.predict(X_test_sel)\n",
        "\n",
        "print('Accuracy %s' % accuracy_score(y_test, y_pred))\n",
        "print('F1-score %s' % f1_score(y_test, y_pred, average=None))\n",
        "print(classification_report(y_test, y_pred, digits=3))"
      ],
      "metadata": {
        "colab": {
          "base_uri": "https://localhost:8080/"
        },
        "id": "UhPgonrhJbjl",
        "outputId": "fff36fa0-6290-4bd9-8275-fc78553dc106"
      },
      "execution_count": 109,
      "outputs": [
        {
          "output_type": "stream",
          "name": "stdout",
          "text": [
            "Accuracy 0.9018181818181819\n",
            "F1-score [0.94837476 0.        ]\n",
            "              precision    recall  f1-score   support\n",
            "\n",
            "           0      0.958     0.939     0.948       528\n",
            "           1      0.000     0.000     0.000        22\n",
            "\n",
            "    accuracy                          0.902       550\n",
            "   macro avg      0.479     0.470     0.474       550\n",
            "weighted avg      0.919     0.902     0.910       550\n",
            "\n"
          ]
        }
      ]
    },
    {
      "cell_type": "code",
      "source": [
        "#riprovo con parametri decision tree\n",
        "sel = SelectFromModel(DecisionTreeClassifier(criterion='entropy', max_depth=10, min_samples_leaf=9, min_samples_split=20, random_state=42))\n",
        "X_train_sel = sel.fit_transform(X_res, y_res)\n",
        "X_test_sel = sel.transform(X_test)\n",
        "X_train_sel.shape"
      ],
      "metadata": {
        "colab": {
          "base_uri": "https://localhost:8080/"
        },
        "id": "x42f_zA1iI2m",
        "outputId": "50c03b07-277c-43c1-aa55-87d236662553"
      },
      "execution_count": 113,
      "outputs": [
        {
          "output_type": "execute_result",
          "data": {
            "text/plain": [
              "(311, 14)"
            ]
          },
          "metadata": {},
          "execution_count": 113
        }
      ]
    },
    {
      "cell_type": "code",
      "source": [
        "check_params = {'n_neighbors': [1, 5, 10, 15, 20], \"weights\":[\"distance\", \"uniform\"], 'metric' :['minkowski', 'manhattan', 'euclidean']}\n",
        "clf=KNeighborsClassifier()\n",
        "results = customGridSearch(X_train_sel, y_res, clf, check_params, \"f1_macro\")"
      ],
      "metadata": {
        "colab": {
          "base_uri": "https://localhost:8080/"
        },
        "id": "RxzB-fyuXhXL",
        "outputId": "bc43ad06-a7ff-4bcb-b2c1-957244b076dd"
      },
      "execution_count": null,
      "outputs": [
        {
          "output_type": "stream",
          "name": "stdout",
          "text": [
            "____________________________________________ START GRID SEARCH ____________________________________________\n",
            "------- Score = f1_macro------- \n",
            "\n",
            "> Fold = RepeatedStratifiedKFold(n_repeats=10, n_splits=5, random_state=None)\n",
            "\n",
            "> Best Parameter set: \n",
            "\n",
            "{'metric': 'manhattan', 'n_neighbors': 5, 'weights': 'distance'}\n",
            "\n",
            "> Grid scores:\n",
            "\n",
            "...........RESULTS FOR TRAINING.........\n",
            "........................................\n",
            "1.000 (+/-0.000) for {'metric': 'minkowski', 'n_neighbors': 1, 'weights': 'distance'}\n",
            "1.000 (+/-0.000) for {'metric': 'minkowski', 'n_neighbors': 1, 'weights': 'uniform'}\n",
            "1.000 (+/-0.000) for {'metric': 'minkowski', 'n_neighbors': 5, 'weights': 'distance'}\n",
            "0.539 (+/-0.050) for {'metric': 'minkowski', 'n_neighbors': 5, 'weights': 'uniform'}\n",
            "1.000 (+/-0.000) for {'metric': 'minkowski', 'n_neighbors': 10, 'weights': 'distance'}\n",
            "0.456 (+/-0.028) for {'metric': 'minkowski', 'n_neighbors': 10, 'weights': 'uniform'}\n",
            "1.000 (+/-0.000) for {'metric': 'minkowski', 'n_neighbors': 15, 'weights': 'distance'}\n",
            "0.443 (+/-0.005) for {'metric': 'minkowski', 'n_neighbors': 15, 'weights': 'uniform'}\n",
            "1.000 (+/-0.000) for {'metric': 'minkowski', 'n_neighbors': 20, 'weights': 'distance'}\n",
            "0.443 (+/-0.001) for {'metric': 'minkowski', 'n_neighbors': 20, 'weights': 'uniform'}\n",
            "1.000 (+/-0.000) for {'metric': 'manhattan', 'n_neighbors': 1, 'weights': 'distance'}\n",
            "1.000 (+/-0.000) for {'metric': 'manhattan', 'n_neighbors': 1, 'weights': 'uniform'}\n",
            "1.000 (+/-0.000) for {'metric': 'manhattan', 'n_neighbors': 5, 'weights': 'distance'}\n",
            "0.564 (+/-0.054) for {'metric': 'manhattan', 'n_neighbors': 5, 'weights': 'uniform'}\n",
            "1.000 (+/-0.000) for {'metric': 'manhattan', 'n_neighbors': 10, 'weights': 'distance'}\n",
            "0.452 (+/-0.029) for {'metric': 'manhattan', 'n_neighbors': 10, 'weights': 'uniform'}\n",
            "1.000 (+/-0.000) for {'metric': 'manhattan', 'n_neighbors': 15, 'weights': 'distance'}\n",
            "0.443 (+/-0.006) for {'metric': 'manhattan', 'n_neighbors': 15, 'weights': 'uniform'}\n",
            "1.000 (+/-0.000) for {'metric': 'manhattan', 'n_neighbors': 20, 'weights': 'distance'}\n",
            "0.443 (+/-0.001) for {'metric': 'manhattan', 'n_neighbors': 20, 'weights': 'uniform'}\n",
            "1.000 (+/-0.000) for {'metric': 'euclidean', 'n_neighbors': 1, 'weights': 'distance'}\n",
            "1.000 (+/-0.000) for {'metric': 'euclidean', 'n_neighbors': 1, 'weights': 'uniform'}\n",
            "1.000 (+/-0.000) for {'metric': 'euclidean', 'n_neighbors': 5, 'weights': 'distance'}\n",
            "0.539 (+/-0.050) for {'metric': 'euclidean', 'n_neighbors': 5, 'weights': 'uniform'}\n",
            "1.000 (+/-0.000) for {'metric': 'euclidean', 'n_neighbors': 10, 'weights': 'distance'}\n",
            "0.456 (+/-0.028) for {'metric': 'euclidean', 'n_neighbors': 10, 'weights': 'uniform'}\n",
            "1.000 (+/-0.000) for {'metric': 'euclidean', 'n_neighbors': 15, 'weights': 'distance'}\n",
            "0.443 (+/-0.005) for {'metric': 'euclidean', 'n_neighbors': 15, 'weights': 'uniform'}\n",
            "1.000 (+/-0.000) for {'metric': 'euclidean', 'n_neighbors': 20, 'weights': 'distance'}\n",
            "0.443 (+/-0.001) for {'metric': 'euclidean', 'n_neighbors': 20, 'weights': 'uniform'}\n",
            "____________________________________________ END GRID SEARCH ____________________________________________\n"
          ]
        }
      ]
    },
    {
      "cell_type": "code",
      "source": [
        "results"
      ],
      "metadata": {
        "colab": {
          "base_uri": "https://localhost:8080/"
        },
        "id": "XhgD5r4lYHqX",
        "outputId": "2bbb14a7-4dfc-4af1-91b9-eec7e1dfb373"
      },
      "execution_count": null,
      "outputs": [
        {
          "output_type": "execute_result",
          "data": {
            "text/plain": [
              "{'f1_macro': {'metric': 'manhattan', 'n_neighbors': 5, 'weights': 'distance'}}"
            ]
          },
          "metadata": {},
          "execution_count": 202
        }
      ]
    },
    {
      "cell_type": "code",
      "source": [
        "clf = KNeighborsClassifier(metric='manhattan',n_neighbors=5,weights='distance')\n",
        "clf.fit(X_train_sel, y_res)\n",
        "\n",
        "y_pred = clf.predict(X_test_sel)\n",
        "\n",
        "print('Accuracy %s' % accuracy_score(y_test, y_pred))\n",
        "print('F1-score %s' % f1_score(y_test, y_pred, average=None))\n",
        "print(classification_report(y_test, y_pred, digits=3))"
      ],
      "metadata": {
        "colab": {
          "base_uri": "https://localhost:8080/"
        },
        "id": "2pS1SGFzXMNA",
        "outputId": "7ed03e8f-e981-42c7-f1cb-add3df3a04ae"
      },
      "execution_count": 114,
      "outputs": [
        {
          "output_type": "stream",
          "name": "stdout",
          "text": [
            "Accuracy 0.9127272727272727\n",
            "F1-score [0.9541109  0.11111111]\n",
            "              precision    recall  f1-score   support\n",
            "\n",
            "           0      0.963     0.945     0.954       528\n",
            "           1      0.094     0.136     0.111        22\n",
            "\n",
            "    accuracy                          0.913       550\n",
            "   macro avg      0.529     0.541     0.533       550\n",
            "weighted avg      0.929     0.913     0.920       550\n",
            "\n"
          ]
        }
      ]
    },
    {
      "cell_type": "markdown",
      "source": [
        "Recursive Feature Elimination"
      ],
      "metadata": {
        "id": "ACKNJUrcKWek"
      }
    },
    {
      "cell_type": "code",
      "source": [
        "from sklearn.feature_selection import RFE"
      ],
      "metadata": {
        "id": "EwalPEmAKV5g"
      },
      "execution_count": 120,
      "outputs": []
    },
    {
      "cell_type": "code",
      "source": [
        "sel = RFE(DecisionTreeClassifier())\n",
        "X_train_sel = sel.fit_transform(X_res, y_res)\n",
        "X_test_sel = sel.transform(X_test)\n",
        "X_train_sel.shape"
      ],
      "metadata": {
        "colab": {
          "base_uri": "https://localhost:8080/"
        },
        "id": "lrNXlSdbKhl8",
        "outputId": "0b8e3fc6-1b4b-4eb6-d9c6-a72392a28243"
      },
      "execution_count": 121,
      "outputs": [
        {
          "output_type": "execute_result",
          "data": {
            "text/plain": [
              "(311, 98)"
            ]
          },
          "metadata": {},
          "execution_count": 121
        }
      ]
    },
    {
      "cell_type": "code",
      "source": [
        "check_params ={\"criterion\":[\"gini\", \"entropy\"],\n",
        "         \"max_depth\":[4, 6, 8, 10],\n",
        "         \"min_samples_split\": [5, 10, 15, 20],\n",
        "         \"min_samples_leaf\": [3, 5, 7, 9, 11]}\n",
        "dt=DecisionTreeClassifier()\n",
        "results = customGridSearch(X_train_sel, y_res, dt, check_params, \"f1_macro\")"
      ],
      "metadata": {
        "colab": {
          "base_uri": "https://localhost:8080/"
        },
        "id": "Ub4xIWeYXvsY",
        "outputId": "8b30cc6b-81c3-4ea4-8da2-6469f7284c42"
      },
      "execution_count": null,
      "outputs": [
        {
          "output_type": "stream",
          "name": "stdout",
          "text": [
            "____________________________________________ START GRID SEARCH ____________________________________________\n",
            "------- Score = f1_macro------- \n",
            "\n",
            "> Fold = RepeatedStratifiedKFold(n_repeats=10, n_splits=5, random_state=None)\n",
            "\n",
            "> Best Parameter set: \n",
            "\n",
            "{'criterion': 'entropy', 'max_depth': 6, 'min_samples_leaf': 11, 'min_samples_split': 5}\n",
            "\n",
            "> Grid scores:\n",
            "\n",
            "...........RESULTS FOR TRAINING.........\n",
            "........................................\n",
            "0.739 (+/-0.125) for {'criterion': 'gini', 'max_depth': 4, 'min_samples_leaf': 3, 'min_samples_split': 5}\n",
            "0.732 (+/-0.121) for {'criterion': 'gini', 'max_depth': 4, 'min_samples_leaf': 3, 'min_samples_split': 10}\n",
            "0.722 (+/-0.114) for {'criterion': 'gini', 'max_depth': 4, 'min_samples_leaf': 3, 'min_samples_split': 15}\n",
            "0.717 (+/-0.111) for {'criterion': 'gini', 'max_depth': 4, 'min_samples_leaf': 3, 'min_samples_split': 20}\n",
            "0.733 (+/-0.104) for {'criterion': 'gini', 'max_depth': 4, 'min_samples_leaf': 5, 'min_samples_split': 5}\n",
            "0.734 (+/-0.105) for {'criterion': 'gini', 'max_depth': 4, 'min_samples_leaf': 5, 'min_samples_split': 10}\n",
            "0.724 (+/-0.096) for {'criterion': 'gini', 'max_depth': 4, 'min_samples_leaf': 5, 'min_samples_split': 15}\n",
            "0.719 (+/-0.096) for {'criterion': 'gini', 'max_depth': 4, 'min_samples_leaf': 5, 'min_samples_split': 20}\n",
            "0.733 (+/-0.083) for {'criterion': 'gini', 'max_depth': 4, 'min_samples_leaf': 7, 'min_samples_split': 5}\n",
            "0.733 (+/-0.083) for {'criterion': 'gini', 'max_depth': 4, 'min_samples_leaf': 7, 'min_samples_split': 10}\n",
            "0.730 (+/-0.087) for {'criterion': 'gini', 'max_depth': 4, 'min_samples_leaf': 7, 'min_samples_split': 15}\n",
            "0.727 (+/-0.084) for {'criterion': 'gini', 'max_depth': 4, 'min_samples_leaf': 7, 'min_samples_split': 20}\n",
            "0.725 (+/-0.085) for {'criterion': 'gini', 'max_depth': 4, 'min_samples_leaf': 9, 'min_samples_split': 5}\n",
            "0.726 (+/-0.083) for {'criterion': 'gini', 'max_depth': 4, 'min_samples_leaf': 9, 'min_samples_split': 10}\n",
            "0.726 (+/-0.083) for {'criterion': 'gini', 'max_depth': 4, 'min_samples_leaf': 9, 'min_samples_split': 15}\n",
            "0.720 (+/-0.084) for {'criterion': 'gini', 'max_depth': 4, 'min_samples_leaf': 9, 'min_samples_split': 20}\n",
            "0.712 (+/-0.086) for {'criterion': 'gini', 'max_depth': 4, 'min_samples_leaf': 11, 'min_samples_split': 5}\n",
            "0.712 (+/-0.086) for {'criterion': 'gini', 'max_depth': 4, 'min_samples_leaf': 11, 'min_samples_split': 10}\n",
            "0.712 (+/-0.086) for {'criterion': 'gini', 'max_depth': 4, 'min_samples_leaf': 11, 'min_samples_split': 15}\n",
            "0.712 (+/-0.086) for {'criterion': 'gini', 'max_depth': 4, 'min_samples_leaf': 11, 'min_samples_split': 20}\n",
            "0.852 (+/-0.090) for {'criterion': 'gini', 'max_depth': 6, 'min_samples_leaf': 3, 'min_samples_split': 5}\n",
            "0.833 (+/-0.092) for {'criterion': 'gini', 'max_depth': 6, 'min_samples_leaf': 3, 'min_samples_split': 10}\n",
            "0.816 (+/-0.077) for {'criterion': 'gini', 'max_depth': 6, 'min_samples_leaf': 3, 'min_samples_split': 15}\n",
            "0.797 (+/-0.087) for {'criterion': 'gini', 'max_depth': 6, 'min_samples_leaf': 3, 'min_samples_split': 20}\n",
            "0.824 (+/-0.064) for {'criterion': 'gini', 'max_depth': 6, 'min_samples_leaf': 5, 'min_samples_split': 5}\n",
            "0.821 (+/-0.071) for {'criterion': 'gini', 'max_depth': 6, 'min_samples_leaf': 5, 'min_samples_split': 10}\n",
            "0.800 (+/-0.076) for {'criterion': 'gini', 'max_depth': 6, 'min_samples_leaf': 5, 'min_samples_split': 15}\n",
            "0.782 (+/-0.086) for {'criterion': 'gini', 'max_depth': 6, 'min_samples_leaf': 5, 'min_samples_split': 20}\n",
            "0.801 (+/-0.059) for {'criterion': 'gini', 'max_depth': 6, 'min_samples_leaf': 7, 'min_samples_split': 5}\n",
            "0.801 (+/-0.059) for {'criterion': 'gini', 'max_depth': 6, 'min_samples_leaf': 7, 'min_samples_split': 10}\n",
            "0.796 (+/-0.070) for {'criterion': 'gini', 'max_depth': 6, 'min_samples_leaf': 7, 'min_samples_split': 15}\n",
            "0.780 (+/-0.074) for {'criterion': 'gini', 'max_depth': 6, 'min_samples_leaf': 7, 'min_samples_split': 20}\n",
            "0.776 (+/-0.072) for {'criterion': 'gini', 'max_depth': 6, 'min_samples_leaf': 9, 'min_samples_split': 5}\n",
            "0.775 (+/-0.079) for {'criterion': 'gini', 'max_depth': 6, 'min_samples_leaf': 9, 'min_samples_split': 10}\n",
            "0.775 (+/-0.075) for {'criterion': 'gini', 'max_depth': 6, 'min_samples_leaf': 9, 'min_samples_split': 15}\n",
            "0.764 (+/-0.077) for {'criterion': 'gini', 'max_depth': 6, 'min_samples_leaf': 9, 'min_samples_split': 20}\n",
            "0.753 (+/-0.082) for {'criterion': 'gini', 'max_depth': 6, 'min_samples_leaf': 11, 'min_samples_split': 5}\n",
            "0.754 (+/-0.082) for {'criterion': 'gini', 'max_depth': 6, 'min_samples_leaf': 11, 'min_samples_split': 10}\n",
            "0.753 (+/-0.082) for {'criterion': 'gini', 'max_depth': 6, 'min_samples_leaf': 11, 'min_samples_split': 15}\n",
            "0.753 (+/-0.082) for {'criterion': 'gini', 'max_depth': 6, 'min_samples_leaf': 11, 'min_samples_split': 20}\n",
            "0.907 (+/-0.051) for {'criterion': 'gini', 'max_depth': 8, 'min_samples_leaf': 3, 'min_samples_split': 5}\n",
            "0.882 (+/-0.051) for {'criterion': 'gini', 'max_depth': 8, 'min_samples_leaf': 3, 'min_samples_split': 10}\n",
            "0.847 (+/-0.055) for {'criterion': 'gini', 'max_depth': 8, 'min_samples_leaf': 3, 'min_samples_split': 15}\n",
            "0.824 (+/-0.062) for {'criterion': 'gini', 'max_depth': 8, 'min_samples_leaf': 3, 'min_samples_split': 20}\n",
            "0.859 (+/-0.050) for {'criterion': 'gini', 'max_depth': 8, 'min_samples_leaf': 5, 'min_samples_split': 5}\n",
            "0.859 (+/-0.051) for {'criterion': 'gini', 'max_depth': 8, 'min_samples_leaf': 5, 'min_samples_split': 10}\n",
            "0.828 (+/-0.054) for {'criterion': 'gini', 'max_depth': 8, 'min_samples_leaf': 5, 'min_samples_split': 15}\n",
            "0.804 (+/-0.051) for {'criterion': 'gini', 'max_depth': 8, 'min_samples_leaf': 5, 'min_samples_split': 20}\n",
            "0.816 (+/-0.058) for {'criterion': 'gini', 'max_depth': 8, 'min_samples_leaf': 7, 'min_samples_split': 5}\n",
            "0.817 (+/-0.057) for {'criterion': 'gini', 'max_depth': 8, 'min_samples_leaf': 7, 'min_samples_split': 10}\n",
            "0.809 (+/-0.065) for {'criterion': 'gini', 'max_depth': 8, 'min_samples_leaf': 7, 'min_samples_split': 15}\n",
            "0.788 (+/-0.070) for {'criterion': 'gini', 'max_depth': 8, 'min_samples_leaf': 7, 'min_samples_split': 20}\n",
            "0.780 (+/-0.077) for {'criterion': 'gini', 'max_depth': 8, 'min_samples_leaf': 9, 'min_samples_split': 5}\n",
            "0.781 (+/-0.071) for {'criterion': 'gini', 'max_depth': 8, 'min_samples_leaf': 9, 'min_samples_split': 10}\n",
            "0.780 (+/-0.078) for {'criterion': 'gini', 'max_depth': 8, 'min_samples_leaf': 9, 'min_samples_split': 15}\n",
            "0.770 (+/-0.077) for {'criterion': 'gini', 'max_depth': 8, 'min_samples_leaf': 9, 'min_samples_split': 20}\n",
            "0.759 (+/-0.083) for {'criterion': 'gini', 'max_depth': 8, 'min_samples_leaf': 11, 'min_samples_split': 5}\n",
            "0.759 (+/-0.083) for {'criterion': 'gini', 'max_depth': 8, 'min_samples_leaf': 11, 'min_samples_split': 10}\n",
            "0.759 (+/-0.084) for {'criterion': 'gini', 'max_depth': 8, 'min_samples_leaf': 11, 'min_samples_split': 15}\n",
            "0.759 (+/-0.084) for {'criterion': 'gini', 'max_depth': 8, 'min_samples_leaf': 11, 'min_samples_split': 20}\n",
            "0.924 (+/-0.033) for {'criterion': 'gini', 'max_depth': 10, 'min_samples_leaf': 3, 'min_samples_split': 5}\n",
            "0.891 (+/-0.044) for {'criterion': 'gini', 'max_depth': 10, 'min_samples_leaf': 3, 'min_samples_split': 10}\n",
            "0.853 (+/-0.046) for {'criterion': 'gini', 'max_depth': 10, 'min_samples_leaf': 3, 'min_samples_split': 15}\n",
            "0.827 (+/-0.056) for {'criterion': 'gini', 'max_depth': 10, 'min_samples_leaf': 3, 'min_samples_split': 20}\n",
            "0.867 (+/-0.043) for {'criterion': 'gini', 'max_depth': 10, 'min_samples_leaf': 5, 'min_samples_split': 5}\n",
            "0.867 (+/-0.041) for {'criterion': 'gini', 'max_depth': 10, 'min_samples_leaf': 5, 'min_samples_split': 10}\n",
            "0.831 (+/-0.053) for {'criterion': 'gini', 'max_depth': 10, 'min_samples_leaf': 5, 'min_samples_split': 15}\n",
            "0.806 (+/-0.054) for {'criterion': 'gini', 'max_depth': 10, 'min_samples_leaf': 5, 'min_samples_split': 20}\n",
            "0.816 (+/-0.060) for {'criterion': 'gini', 'max_depth': 10, 'min_samples_leaf': 7, 'min_samples_split': 5}\n",
            "0.818 (+/-0.059) for {'criterion': 'gini', 'max_depth': 10, 'min_samples_leaf': 7, 'min_samples_split': 10}\n",
            "0.808 (+/-0.065) for {'criterion': 'gini', 'max_depth': 10, 'min_samples_leaf': 7, 'min_samples_split': 15}\n",
            "0.789 (+/-0.070) for {'criterion': 'gini', 'max_depth': 10, 'min_samples_leaf': 7, 'min_samples_split': 20}\n",
            "0.781 (+/-0.074) for {'criterion': 'gini', 'max_depth': 10, 'min_samples_leaf': 9, 'min_samples_split': 5}\n",
            "0.781 (+/-0.075) for {'criterion': 'gini', 'max_depth': 10, 'min_samples_leaf': 9, 'min_samples_split': 10}\n",
            "0.782 (+/-0.071) for {'criterion': 'gini', 'max_depth': 10, 'min_samples_leaf': 9, 'min_samples_split': 15}\n",
            "0.769 (+/-0.075) for {'criterion': 'gini', 'max_depth': 10, 'min_samples_leaf': 9, 'min_samples_split': 20}\n",
            "0.760 (+/-0.082) for {'criterion': 'gini', 'max_depth': 10, 'min_samples_leaf': 11, 'min_samples_split': 5}\n",
            "0.760 (+/-0.082) for {'criterion': 'gini', 'max_depth': 10, 'min_samples_leaf': 11, 'min_samples_split': 10}\n",
            "0.760 (+/-0.082) for {'criterion': 'gini', 'max_depth': 10, 'min_samples_leaf': 11, 'min_samples_split': 15}\n",
            "0.760 (+/-0.082) for {'criterion': 'gini', 'max_depth': 10, 'min_samples_leaf': 11, 'min_samples_split': 20}\n",
            "0.679 (+/-0.174) for {'criterion': 'entropy', 'max_depth': 4, 'min_samples_leaf': 3, 'min_samples_split': 5}\n",
            "0.674 (+/-0.163) for {'criterion': 'entropy', 'max_depth': 4, 'min_samples_leaf': 3, 'min_samples_split': 10}\n",
            "0.666 (+/-0.152) for {'criterion': 'entropy', 'max_depth': 4, 'min_samples_leaf': 3, 'min_samples_split': 15}\n",
            "0.657 (+/-0.151) for {'criterion': 'entropy', 'max_depth': 4, 'min_samples_leaf': 3, 'min_samples_split': 20}\n",
            "0.664 (+/-0.170) for {'criterion': 'entropy', 'max_depth': 4, 'min_samples_leaf': 5, 'min_samples_split': 5}\n",
            "0.658 (+/-0.176) for {'criterion': 'entropy', 'max_depth': 4, 'min_samples_leaf': 5, 'min_samples_split': 10}\n",
            "0.653 (+/-0.163) for {'criterion': 'entropy', 'max_depth': 4, 'min_samples_leaf': 5, 'min_samples_split': 15}\n",
            "0.643 (+/-0.166) for {'criterion': 'entropy', 'max_depth': 4, 'min_samples_leaf': 5, 'min_samples_split': 20}\n",
            "0.655 (+/-0.172) for {'criterion': 'entropy', 'max_depth': 4, 'min_samples_leaf': 7, 'min_samples_split': 5}\n",
            "0.654 (+/-0.172) for {'criterion': 'entropy', 'max_depth': 4, 'min_samples_leaf': 7, 'min_samples_split': 10}\n",
            "0.658 (+/-0.169) for {'criterion': 'entropy', 'max_depth': 4, 'min_samples_leaf': 7, 'min_samples_split': 15}\n",
            "0.649 (+/-0.174) for {'criterion': 'entropy', 'max_depth': 4, 'min_samples_leaf': 7, 'min_samples_split': 20}\n",
            "0.653 (+/-0.185) for {'criterion': 'entropy', 'max_depth': 4, 'min_samples_leaf': 9, 'min_samples_split': 5}\n",
            "0.649 (+/-0.183) for {'criterion': 'entropy', 'max_depth': 4, 'min_samples_leaf': 9, 'min_samples_split': 10}\n",
            "0.649 (+/-0.183) for {'criterion': 'entropy', 'max_depth': 4, 'min_samples_leaf': 9, 'min_samples_split': 15}\n",
            "0.647 (+/-0.190) for {'criterion': 'entropy', 'max_depth': 4, 'min_samples_leaf': 9, 'min_samples_split': 20}\n",
            "0.663 (+/-0.165) for {'criterion': 'entropy', 'max_depth': 4, 'min_samples_leaf': 11, 'min_samples_split': 5}\n",
            "0.665 (+/-0.164) for {'criterion': 'entropy', 'max_depth': 4, 'min_samples_leaf': 11, 'min_samples_split': 10}\n",
            "0.662 (+/-0.163) for {'criterion': 'entropy', 'max_depth': 4, 'min_samples_leaf': 11, 'min_samples_split': 15}\n",
            "0.662 (+/-0.163) for {'criterion': 'entropy', 'max_depth': 4, 'min_samples_leaf': 11, 'min_samples_split': 20}\n",
            "0.796 (+/-0.165) for {'criterion': 'entropy', 'max_depth': 6, 'min_samples_leaf': 3, 'min_samples_split': 5}\n",
            "0.783 (+/-0.159) for {'criterion': 'entropy', 'max_depth': 6, 'min_samples_leaf': 3, 'min_samples_split': 10}\n",
            "0.764 (+/-0.153) for {'criterion': 'entropy', 'max_depth': 6, 'min_samples_leaf': 3, 'min_samples_split': 15}\n",
            "0.753 (+/-0.138) for {'criterion': 'entropy', 'max_depth': 6, 'min_samples_leaf': 3, 'min_samples_split': 20}\n",
            "0.775 (+/-0.158) for {'criterion': 'entropy', 'max_depth': 6, 'min_samples_leaf': 5, 'min_samples_split': 5}\n",
            "0.774 (+/-0.161) for {'criterion': 'entropy', 'max_depth': 6, 'min_samples_leaf': 5, 'min_samples_split': 10}\n",
            "0.757 (+/-0.152) for {'criterion': 'entropy', 'max_depth': 6, 'min_samples_leaf': 5, 'min_samples_split': 15}\n",
            "0.739 (+/-0.147) for {'criterion': 'entropy', 'max_depth': 6, 'min_samples_leaf': 5, 'min_samples_split': 20}\n",
            "0.773 (+/-0.136) for {'criterion': 'entropy', 'max_depth': 6, 'min_samples_leaf': 7, 'min_samples_split': 5}\n",
            "0.772 (+/-0.135) for {'criterion': 'entropy', 'max_depth': 6, 'min_samples_leaf': 7, 'min_samples_split': 10}\n",
            "0.767 (+/-0.134) for {'criterion': 'entropy', 'max_depth': 6, 'min_samples_leaf': 7, 'min_samples_split': 15}\n",
            "0.758 (+/-0.134) for {'criterion': 'entropy', 'max_depth': 6, 'min_samples_leaf': 7, 'min_samples_split': 20}\n",
            "0.768 (+/-0.120) for {'criterion': 'entropy', 'max_depth': 6, 'min_samples_leaf': 9, 'min_samples_split': 5}\n",
            "0.768 (+/-0.123) for {'criterion': 'entropy', 'max_depth': 6, 'min_samples_leaf': 9, 'min_samples_split': 10}\n",
            "0.764 (+/-0.124) for {'criterion': 'entropy', 'max_depth': 6, 'min_samples_leaf': 9, 'min_samples_split': 15}\n",
            "0.763 (+/-0.122) for {'criterion': 'entropy', 'max_depth': 6, 'min_samples_leaf': 9, 'min_samples_split': 20}\n",
            "0.760 (+/-0.109) for {'criterion': 'entropy', 'max_depth': 6, 'min_samples_leaf': 11, 'min_samples_split': 5}\n",
            "0.762 (+/-0.109) for {'criterion': 'entropy', 'max_depth': 6, 'min_samples_leaf': 11, 'min_samples_split': 10}\n",
            "0.763 (+/-0.110) for {'criterion': 'entropy', 'max_depth': 6, 'min_samples_leaf': 11, 'min_samples_split': 15}\n",
            "0.761 (+/-0.110) for {'criterion': 'entropy', 'max_depth': 6, 'min_samples_leaf': 11, 'min_samples_split': 20}\n",
            "0.878 (+/-0.121) for {'criterion': 'entropy', 'max_depth': 8, 'min_samples_leaf': 3, 'min_samples_split': 5}\n",
            "0.864 (+/-0.105) for {'criterion': 'entropy', 'max_depth': 8, 'min_samples_leaf': 3, 'min_samples_split': 10}\n",
            "0.845 (+/-0.101) for {'criterion': 'entropy', 'max_depth': 8, 'min_samples_leaf': 3, 'min_samples_split': 15}\n",
            "0.826 (+/-0.100) for {'criterion': 'entropy', 'max_depth': 8, 'min_samples_leaf': 3, 'min_samples_split': 20}\n",
            "0.851 (+/-0.117) for {'criterion': 'entropy', 'max_depth': 8, 'min_samples_leaf': 5, 'min_samples_split': 5}\n",
            "0.851 (+/-0.112) for {'criterion': 'entropy', 'max_depth': 8, 'min_samples_leaf': 5, 'min_samples_split': 10}\n",
            "0.831 (+/-0.114) for {'criterion': 'entropy', 'max_depth': 8, 'min_samples_leaf': 5, 'min_samples_split': 15}\n",
            "0.815 (+/-0.095) for {'criterion': 'entropy', 'max_depth': 8, 'min_samples_leaf': 5, 'min_samples_split': 20}\n",
            "0.833 (+/-0.090) for {'criterion': 'entropy', 'max_depth': 8, 'min_samples_leaf': 7, 'min_samples_split': 5}\n",
            "0.832 (+/-0.095) for {'criterion': 'entropy', 'max_depth': 8, 'min_samples_leaf': 7, 'min_samples_split': 10}\n",
            "0.832 (+/-0.098) for {'criterion': 'entropy', 'max_depth': 8, 'min_samples_leaf': 7, 'min_samples_split': 15}\n",
            "0.815 (+/-0.077) for {'criterion': 'entropy', 'max_depth': 8, 'min_samples_leaf': 7, 'min_samples_split': 20}\n",
            "0.813 (+/-0.065) for {'criterion': 'entropy', 'max_depth': 8, 'min_samples_leaf': 9, 'min_samples_split': 5}\n",
            "0.815 (+/-0.068) for {'criterion': 'entropy', 'max_depth': 8, 'min_samples_leaf': 9, 'min_samples_split': 10}\n",
            "0.813 (+/-0.066) for {'criterion': 'entropy', 'max_depth': 8, 'min_samples_leaf': 9, 'min_samples_split': 15}\n",
            "0.807 (+/-0.063) for {'criterion': 'entropy', 'max_depth': 8, 'min_samples_leaf': 9, 'min_samples_split': 20}\n",
            "0.794 (+/-0.057) for {'criterion': 'entropy', 'max_depth': 8, 'min_samples_leaf': 11, 'min_samples_split': 5}\n",
            "0.793 (+/-0.060) for {'criterion': 'entropy', 'max_depth': 8, 'min_samples_leaf': 11, 'min_samples_split': 10}\n",
            "0.793 (+/-0.061) for {'criterion': 'entropy', 'max_depth': 8, 'min_samples_leaf': 11, 'min_samples_split': 15}\n",
            "0.790 (+/-0.067) for {'criterion': 'entropy', 'max_depth': 8, 'min_samples_leaf': 11, 'min_samples_split': 20}\n",
            "0.928 (+/-0.079) for {'criterion': 'entropy', 'max_depth': 10, 'min_samples_leaf': 3, 'min_samples_split': 5}\n",
            "0.909 (+/-0.068) for {'criterion': 'entropy', 'max_depth': 10, 'min_samples_leaf': 3, 'min_samples_split': 10}\n",
            "0.881 (+/-0.064) for {'criterion': 'entropy', 'max_depth': 10, 'min_samples_leaf': 3, 'min_samples_split': 15}\n",
            "0.857 (+/-0.066) for {'criterion': 'entropy', 'max_depth': 10, 'min_samples_leaf': 3, 'min_samples_split': 20}\n",
            "0.893 (+/-0.075) for {'criterion': 'entropy', 'max_depth': 10, 'min_samples_leaf': 5, 'min_samples_split': 5}\n",
            "0.894 (+/-0.072) for {'criterion': 'entropy', 'max_depth': 10, 'min_samples_leaf': 5, 'min_samples_split': 10}\n",
            "0.866 (+/-0.078) for {'criterion': 'entropy', 'max_depth': 10, 'min_samples_leaf': 5, 'min_samples_split': 15}\n",
            "0.844 (+/-0.064) for {'criterion': 'entropy', 'max_depth': 10, 'min_samples_leaf': 5, 'min_samples_split': 20}\n",
            "0.861 (+/-0.057) for {'criterion': 'entropy', 'max_depth': 10, 'min_samples_leaf': 7, 'min_samples_split': 5}\n",
            "0.861 (+/-0.057) for {'criterion': 'entropy', 'max_depth': 10, 'min_samples_leaf': 7, 'min_samples_split': 10}\n",
            "0.858 (+/-0.056) for {'criterion': 'entropy', 'max_depth': 10, 'min_samples_leaf': 7, 'min_samples_split': 15}\n",
            "0.839 (+/-0.051) for {'criterion': 'entropy', 'max_depth': 10, 'min_samples_leaf': 7, 'min_samples_split': 20}\n",
            "0.832 (+/-0.053) for {'criterion': 'entropy', 'max_depth': 10, 'min_samples_leaf': 9, 'min_samples_split': 5}\n",
            "0.833 (+/-0.056) for {'criterion': 'entropy', 'max_depth': 10, 'min_samples_leaf': 9, 'min_samples_split': 10}\n",
            "0.832 (+/-0.055) for {'criterion': 'entropy', 'max_depth': 10, 'min_samples_leaf': 9, 'min_samples_split': 15}\n",
            "0.825 (+/-0.057) for {'criterion': 'entropy', 'max_depth': 10, 'min_samples_leaf': 9, 'min_samples_split': 20}\n",
            "0.797 (+/-0.061) for {'criterion': 'entropy', 'max_depth': 10, 'min_samples_leaf': 11, 'min_samples_split': 5}\n",
            "0.795 (+/-0.053) for {'criterion': 'entropy', 'max_depth': 10, 'min_samples_leaf': 11, 'min_samples_split': 10}\n",
            "0.796 (+/-0.055) for {'criterion': 'entropy', 'max_depth': 10, 'min_samples_leaf': 11, 'min_samples_split': 15}\n",
            "0.797 (+/-0.060) for {'criterion': 'entropy', 'max_depth': 10, 'min_samples_leaf': 11, 'min_samples_split': 20}\n",
            "____________________________________________ END GRID SEARCH ____________________________________________\n"
          ]
        }
      ]
    },
    {
      "cell_type": "code",
      "source": [
        "results"
      ],
      "metadata": {
        "colab": {
          "base_uri": "https://localhost:8080/"
        },
        "id": "D2aup_vAY3Jb",
        "outputId": "62c2fb85-c9ae-4964-ad20-dd21c5b2501b"
      },
      "execution_count": null,
      "outputs": [
        {
          "output_type": "execute_result",
          "data": {
            "text/plain": [
              "{'f1_macro': {'criterion': 'entropy',\n",
              "  'max_depth': 6,\n",
              "  'min_samples_leaf': 11,\n",
              "  'min_samples_split': 5}}"
            ]
          },
          "metadata": {},
          "execution_count": 207
        }
      ]
    },
    {
      "cell_type": "code",
      "source": [
        "clf = DecisionTreeClassifier(criterion='entropy',max_depth=6,min_samples_leaf=11,min_samples_split=5, random_state=42)\n",
        "clf.fit(X_train_sel, y_res)\n",
        "\n",
        "y_pred = clf.predict(X_test_sel)\n",
        "\n",
        "print('Accuracy %s' % accuracy_score(y_test, y_pred))\n",
        "print('F1-score %s' % f1_score(y_test, y_pred, average=None))\n",
        "print(classification_report(y_test, y_pred, digits=3))"
      ],
      "metadata": {
        "colab": {
          "base_uri": "https://localhost:8080/"
        },
        "id": "bMAHhoBlLGeX",
        "outputId": "c675ed80-2166-4ce8-8669-f618ff841c08"
      },
      "execution_count": 122,
      "outputs": [
        {
          "output_type": "stream",
          "name": "stdout",
          "text": [
            "Accuracy 0.7727272727272727\n",
            "F1-score [0.8701973  0.08759124]\n",
            "              precision    recall  f1-score   support\n",
            "\n",
            "           0      0.963     0.794     0.870       528\n",
            "           1      0.052     0.273     0.088        22\n",
            "\n",
            "    accuracy                          0.773       550\n",
            "   macro avg      0.508     0.533     0.479       550\n",
            "weighted avg      0.927     0.773     0.839       550\n",
            "\n"
          ]
        }
      ]
    },
    {
      "cell_type": "code",
      "source": [
        "\"\"\"from yellowbrick.model_selection import RFECV\n",
        "\n",
        "# Instantiate RFECV visualizer with a linear SVM classifier\n",
        "visualizer = RFECV(DecisionTreeClassifier(min_samples_leaf=3, random_state=42))\n",
        "\n",
        "visualizer.fit(X_res, y_res) # Fit the data to the visualizer\n",
        "visualizer.show()           # Finalize and render the figure\"\"\"\n",
        "\n",
        "#Questa figura mostra una curva RFECV ideale, la curva passa a un'accuratezza eccellente quando viene catturata la caratteristica informativa, \n",
        "#quindi diminuisce gradualmente in accuratezza man mano che le caratteristiche non informative vengono aggiunte al modello"
      ],
      "metadata": {
        "colab": {
          "base_uri": "https://localhost:8080/",
          "height": 70
        },
        "id": "Pmvzec8VLSfc",
        "outputId": "c61f7009-25ec-4dd9-a13e-4231b89b0bef"
      },
      "execution_count": null,
      "outputs": [
        {
          "output_type": "execute_result",
          "data": {
            "text/plain": [
              "'from yellowbrick.model_selection import RFECV\\n\\n# Instantiate RFECV visualizer with a linear SVM classifier\\nvisualizer = RFECV(DecisionTreeClassifier(min_samples_leaf=3, random_state=42))\\n\\nvisualizer.fit(X_res, y_res) # Fit the data to the visualizer\\nvisualizer.show()           # Finalize and render the figure'"
            ],
            "application/vnd.google.colaboratory.intrinsic+json": {
              "type": "string"
            }
          },
          "metadata": {},
          "execution_count": 215
        }
      ]
    },
    {
      "cell_type": "markdown",
      "source": [
        "PCA"
      ],
      "metadata": {
        "id": "cx6b9hHnYSOU"
      }
    },
    {
      "cell_type": "code",
      "source": [
        "from sklearn.decomposition import PCA"
      ],
      "metadata": {
        "id": "Q7Z2ioynVDzz"
      },
      "execution_count": 123,
      "outputs": []
    },
    {
      "cell_type": "code",
      "source": [
        "pca = PCA()\n",
        "pca.fit(X_res)\n",
        "X_train_pca = pca.transform(X_res)"
      ],
      "metadata": {
        "id": "TrdSDQhgYWeO"
      },
      "execution_count": 124,
      "outputs": []
    },
    {
      "cell_type": "code",
      "source": [
        "import matplotlib.pyplot as plt\n",
        "import numpy as np\n",
        "\n",
        "PC_values = np.arange(pca.n_components_) + 1\n",
        "plt.plot(PC_values, pca.explained_variance_ratio_, 'o-', linewidth=2, color='blue')\n",
        "plt.title('Scree Plot')\n",
        "plt.xlabel('Principal Component')\n",
        "plt.ylabel('Variance Explained')\n",
        "plt.figure(figsize=(5,4))\n",
        "plt.show()"
      ],
      "metadata": {
        "colab": {
          "base_uri": "https://localhost:8080/",
          "height": 393
        },
        "id": "zz_hQozFYvjx",
        "outputId": "d06024e2-7f6f-41d3-f2b3-436380784467"
      },
      "execution_count": 125,
      "outputs": [
        {
          "output_type": "display_data",
          "data": {
            "text/plain": [
              "<Figure size 576x396 with 1 Axes>"
            ],
            "image/png": "[encoded data removed]"
          },
          "metadata": {}
        },
        {
          "output_type": "display_data",
          "data": {
            "text/plain": [
              "<Figure size 360x288 with 0 Axes>"
            ]
          },
          "metadata": {}
        }
      ]
    },
    {
      "cell_type": "code",
      "source": [
        "print( \"Proporzione della varianza spiegata: \" , pca.explained_variance_ratio_)  \n",
        "    \n",
        "out_sum  =  np.cumsum(pca.explained_variance_ratio_)  \n",
        "print( \"Spiegazione della varianza cumulativa prop.: \" , out_sum )"
      ],
      "metadata": {
        "colab": {
          "base_uri": "https://localhost:8080/"
        },
        "id": "jYmYEd9RaZpJ",
        "outputId": "5008b078-fb7c-45cc-ffa8-a4233262244b"
      },
      "execution_count": 126,
      "outputs": [
        {
          "output_type": "stream",
          "name": "stdout",
          "text": [
            "Proporzione della varianza spiegata:  [1.68831226e-01 1.41375872e-01 8.31063520e-02 5.63114431e-02\n",
            " 3.83284283e-02 3.40063612e-02 2.55317069e-02 2.51417785e-02\n",
            " 2.21979650e-02 2.16231477e-02 1.79247135e-02 1.70639749e-02\n",
            " 1.63811141e-02 1.56007272e-02 1.43132278e-02 1.38898423e-02\n",
            " 1.32687460e-02 1.23848929e-02 1.16357621e-02 1.11712141e-02\n",
            " 1.02853129e-02 9.10816692e-03 8.80286863e-03 8.07315291e-03\n",
            " 7.85157816e-03 7.54788310e-03 7.20766104e-03 6.80193217e-03\n",
            " 6.46959229e-03 6.33400730e-03 6.07394058e-03 5.83381739e-03\n",
            " 5.48863406e-03 5.41930662e-03 5.06610816e-03 4.99667156e-03\n",
            " 4.76987454e-03 4.62098475e-03 4.30800757e-03 4.21772876e-03\n",
            " 3.98966489e-03 3.85536366e-03 3.70107031e-03 3.59407355e-03\n",
            " 3.51317743e-03 3.30939539e-03 3.14818195e-03 2.98445017e-03\n",
            " 2.93100631e-03 2.79731572e-03 2.74084235e-03 2.69055511e-03\n",
            " 2.57091408e-03 2.48306477e-03 2.43703196e-03 2.27880851e-03\n",
            " 2.22602466e-03 2.20656787e-03 2.07044749e-03 2.01592361e-03\n",
            " 1.95713282e-03 1.87283331e-03 1.83092303e-03 1.82550350e-03\n",
            " 1.76423236e-03 1.69305069e-03 1.61153502e-03 1.58283090e-03\n",
            " 1.50173962e-03 1.42606566e-03 1.38484016e-03 1.32326375e-03\n",
            " 1.27113280e-03 1.24515383e-03 1.13454875e-03 1.13116815e-03\n",
            " 1.10823524e-03 1.02463228e-03 9.77571126e-04 9.41960394e-04\n",
            " 9.07269423e-04 8.99745458e-04 8.75133422e-04 8.61749640e-04\n",
            " 8.35601454e-04 8.08514182e-04 7.81117958e-04 7.23105504e-04\n",
            " 7.16233201e-04 6.84753573e-04 6.50691076e-04 6.33329983e-04\n",
            " 6.12585854e-04 6.01486260e-04 5.94874891e-04 5.48704766e-04\n",
            " 5.33885994e-04 5.14345030e-04 5.04384747e-04 4.82365774e-04\n",
            " 4.60563850e-04 4.40486383e-04 4.18619736e-04 4.07022855e-04\n",
            " 3.89517132e-04 3.67997061e-04 3.66239540e-04 3.44092443e-04\n",
            " 3.29514826e-04 3.22499289e-04 3.02908534e-04 2.85041878e-04\n",
            " 2.79943961e-04 2.69562139e-04 2.62477796e-04 2.61451667e-04\n",
            " 2.51631674e-04 2.41071940e-04 2.24832006e-04 2.23013822e-04\n",
            " 2.14683195e-04 2.04039427e-04 1.98882236e-04 1.92507377e-04\n",
            " 1.85911476e-04 1.69650406e-04 1.64124755e-04 1.58315260e-04\n",
            " 1.52244531e-04 1.43872402e-04 1.36643558e-04 1.27926827e-04\n",
            " 1.23379868e-04 1.19956724e-04 1.18151035e-04 1.11676386e-04\n",
            " 1.09046132e-04 1.02866105e-04 9.38128203e-05 9.13702418e-05\n",
            " 8.39580113e-05 8.30507398e-05 7.18034280e-05 7.11104176e-05\n",
            " 6.84097679e-05 6.63492446e-05 6.32879467e-05 6.30103188e-05\n",
            " 5.57790639e-05 5.15456070e-05 5.10756258e-05 4.83388470e-05\n",
            " 4.66374517e-05 4.58131261e-05 4.00853027e-05 3.89035164e-05\n",
            " 3.69547222e-05 3.26518571e-05 3.17499769e-05 3.08270692e-05\n",
            " 2.70058578e-05 2.46232522e-05 2.37710544e-05 2.28628925e-05\n",
            " 1.93411594e-05 1.82304116e-05 1.71355960e-05 1.44787570e-05\n",
            " 1.33480766e-05 1.22956153e-05 1.13129549e-05 8.65269911e-06\n",
            " 8.28888882e-06 6.71719079e-06 6.58007726e-06 4.46129506e-06\n",
            " 4.11990950e-06 3.81151703e-06 3.08609548e-06 2.70676970e-06\n",
            " 2.40017491e-06 2.01555168e-06 1.82224895e-06 1.39011998e-06\n",
            " 9.20121316e-07 8.35100073e-07 5.67977723e-07 3.52711095e-07\n",
            " 1.31804563e-07 6.44074019e-09 1.46953482e-11 4.06737604e-12\n",
            " 3.62100612e-12 2.10196070e-12 1.72009843e-33 1.06011964e-33\n",
            " 1.06011964e-33]\n",
            "Spiegazione della varianza cumulativa prop.:  [0.16883123 0.3102071  0.39331345 0.44962489 0.48795332 0.52195968\n",
            " 0.54749139 0.57263317 0.59483113 0.61645428 0.63437899 0.65144297\n",
            " 0.66782408 0.68342481 0.69773804 0.71162788 0.72489663 0.73728152\n",
            " 0.74891728 0.7600885  0.77037381 0.77948198 0.78828484 0.796358\n",
            " 0.80420958 0.81175746 0.81896512 0.82576705 0.83223664 0.83857065\n",
            " 0.84464459 0.85047841 0.85596704 0.86138635 0.86645246 0.87144913\n",
            " 0.876219   0.88083999 0.885148   0.88936572 0.89335539 0.89721075\n",
            " 0.90091182 0.9045059  0.90801907 0.91132847 0.91447665 0.9174611\n",
            " 0.92039211 0.92318942 0.92593027 0.92862082 0.93119174 0.9336748\n",
            " 0.93611183 0.93839064 0.94061667 0.94282323 0.94489368 0.9469096\n",
            " 0.94886674 0.95073957 0.95257049 0.954396   0.95616023 0.95785328\n",
            " 0.95946482 0.96104765 0.96254939 0.96397545 0.96536029 0.96668356\n",
            " 0.96795469 0.96919984 0.97033439 0.97146556 0.97257379 0.97359843\n",
            " 0.974576   0.97551796 0.97642523 0.97732497 0.97820011 0.97906186\n",
            " 0.97989746 0.98070597 0.98148709 0.9822102  0.98292643 0.98361118\n",
            " 0.98426187 0.9848952  0.98550779 0.98610928 0.98670415 0.98725285\n",
            " 0.98778674 0.98830109 0.98880547 0.98928784 0.9897484  0.99018889\n",
            " 0.99060751 0.99101453 0.99140405 0.99177204 0.99213828 0.99248238\n",
            " 0.99281189 0.99313439 0.9934373  0.99372234 0.99400228 0.99427185\n",
            " 0.99453432 0.99479578 0.99504741 0.99528848 0.99551331 0.99573632\n",
            " 0.99595101 0.99615505 0.99635393 0.99654644 0.99673235 0.996902\n",
            " 0.99706612 0.99722444 0.99737668 0.99752056 0.9976572  0.99778513\n",
            " 0.99790851 0.99802846 0.99814661 0.99825829 0.99836734 0.9984702\n",
            " 0.99856402 0.99865539 0.99873934 0.99882239 0.9988942  0.99896531\n",
            " 0.99903372 0.99910007 0.99916336 0.99922637 0.99928214 0.99933369\n",
            " 0.99938477 0.9994331  0.99947974 0.99952556 0.99956564 0.99960454\n",
            " 0.9996415  0.99967415 0.9997059  0.99973673 0.99976373 0.99978836\n",
            " 0.99981213 0.99983499 0.99985433 0.99987256 0.9998897  0.99990418\n",
            " 0.99991752 0.99992982 0.99994113 0.99994979 0.99995807 0.99996479\n",
            " 0.99997137 0.99997583 0.99997995 0.99998376 0.99998685 0.99998956\n",
            " 0.99999196 0.99999397 0.9999958  0.99999719 0.99999811 0.99999894\n",
            " 0.99999951 0.99999986 0.99999999 1.         1.         1.\n",
            " 1.         1.         1.         1.         1.        ]\n"
          ]
        }
      ]
    },
    {
      "cell_type": "code",
      "source": [
        "print(pca.explained_variance_) "
      ],
      "metadata": {
        "colab": {
          "base_uri": "https://localhost:8080/"
        },
        "id": "xvBdkB1ekZik",
        "outputId": "815682c0-460e-4c5c-b6ac-4934b697ea20"
      },
      "execution_count": 127,
      "outputs": [
        {
          "output_type": "stream",
          "name": "stdout",
          "text": [
            "[3.61239683e+01 3.02494841e+01 1.77818481e+01 1.20486762e+01\n",
            " 8.20094101e+00 7.27617006e+00 5.46289089e+00 5.37945988e+00\n",
            " 4.74958693e+00 4.62659616e+00 3.83526079e+00 3.65109288e+00\n",
            " 3.50498458e+00 3.33800913e+00 3.06252936e+00 2.97193969e+00\n",
            " 2.83904685e+00 2.64993325e+00 2.48964550e+00 2.39024849e+00\n",
            " 2.20069668e+00 1.94882866e+00 1.88350552e+00 1.72737192e+00\n",
            " 1.67996269e+00 1.61498258e+00 1.54218698e+00 1.45537521e+00\n",
            " 1.38426612e+00 1.35525568e+00 1.29961051e+00 1.24823256e+00\n",
            " 1.17437542e+00 1.15954178e+00 1.08396968e+00 1.06911268e+00\n",
            " 1.02058606e+00 9.88728865e-01 9.21762712e-01 9.02446209e-01\n",
            " 8.53648529e-01 8.24912770e-01 7.91899399e-01 7.69005839e-01\n",
            " 7.51696903e-01 7.08094685e-01 6.73600658e-01 6.38567791e-01\n",
            " 6.27132677e-01 5.98527573e-01 5.86444252e-01 5.75684543e-01\n",
            " 5.50085554e-01 5.31288878e-01 5.21439470e-01 4.87585195e-01\n",
            " 4.76291299e-01 4.72128229e-01 4.43003235e-01 4.31337036e-01\n",
            " 4.18757865e-01 4.00720724e-01 3.91753392e-01 3.90593802e-01\n",
            " 3.77483924e-01 3.62253539e-01 3.44812043e-01 3.38670366e-01\n",
            " 3.21319672e-01 3.05128096e-01 2.96307284e-01 2.83132089e-01\n",
            " 2.71977891e-01 2.66419303e-01 2.42753689e-01 2.42030360e-01\n",
            " 2.37123521e-01 2.19235415e-01 2.09165977e-01 2.01546527e-01\n",
            " 1.94123875e-01 1.92514010e-01 1.87247896e-01 1.84384236e-01\n",
            " 1.78789440e-01 1.72993713e-01 1.67131881e-01 1.54719248e-01\n",
            " 1.53248816e-01 1.46513278e-01 1.39225097e-01 1.35510431e-01\n",
            " 1.31071914e-01 1.28696990e-01 1.27282388e-01 1.17403599e-01\n",
            " 1.14232901e-01 1.10051819e-01 1.07920667e-01 1.03209378e-01\n",
            " 9.85445304e-02 9.42486557e-02 8.95699593e-02 8.70886331e-02\n",
            " 8.33430215e-02 7.87384802e-02 7.83624322e-02 7.36237292e-02\n",
            " 7.05046300e-02 6.90035508e-02 6.48118154e-02 6.09889768e-02\n",
            " 5.98982014e-02 5.76768551e-02 5.61610538e-02 5.59414982e-02\n",
            " 5.38403637e-02 5.15809505e-02 4.81061735e-02 4.77171457e-02\n",
            " 4.59346835e-02 4.36572900e-02 4.25538317e-02 4.11898352e-02\n",
            " 3.97785435e-02 3.62992441e-02 3.51169484e-02 3.38739198e-02\n",
            " 3.25749965e-02 3.07836541e-02 2.92369348e-02 2.73718597e-02\n",
            " 2.63989697e-02 2.56665370e-02 2.52801827e-02 2.38948347e-02\n",
            " 2.33320524e-02 2.20097430e-02 2.00726573e-02 1.95500311e-02\n",
            " 1.79640734e-02 1.77699491e-02 1.53634183e-02 1.52151384e-02\n",
            " 1.46372939e-02 1.41964141e-02 1.35414036e-02 1.34820010e-02\n",
            " 1.19347657e-02 1.10289543e-02 1.09283947e-02 1.03428200e-02\n",
            " 9.97878095e-03 9.80240416e-03 8.57685058e-03 8.32398972e-03\n",
            " 7.90701604e-03 6.98635363e-03 6.79338287e-03 6.59591293e-03\n",
            " 5.77830757e-03 5.26851342e-03 5.08617294e-03 4.89185811e-03\n",
            " 4.13833060e-03 3.90066947e-03 3.66641729e-03 3.09794681e-03\n",
            " 2.85602082e-03 2.63083096e-03 2.42057606e-03 1.85137451e-03\n",
            " 1.77353185e-03 1.43724353e-03 1.40790603e-03 9.54560864e-04\n",
            " 8.81516312e-04 8.15531128e-04 6.60316328e-04 5.79153899e-04\n",
            " 5.13553352e-04 4.31257454e-04 3.89897442e-04 2.97436980e-04\n",
            " 1.96873730e-04 1.78682162e-04 1.21527337e-04 7.54678188e-05\n",
            " 2.82015594e-05 1.37809278e-06 3.14428974e-09 8.70275993e-10\n",
            " 7.74768467e-10 4.49745958e-10 3.68040809e-31 2.26828467e-31\n",
            " 2.26828467e-31]\n"
          ]
        }
      ]
    },
    {
      "cell_type": "code",
      "source": [
        "pca = PCA(n_components = 37)\n",
        "pca.fit(X_res)\n",
        "X_train_pca = pca.transform(X_res)"
      ],
      "metadata": {
        "id": "siwTkxqcY2Jt"
      },
      "execution_count": 173,
      "outputs": []
    },
    {
      "cell_type": "code",
      "source": [
        "X_train_pca.shape"
      ],
      "metadata": {
        "colab": {
          "base_uri": "https://localhost:8080/"
        },
        "id": "RdY9i6GOYbVM",
        "outputId": "b31fdf9c-de0d-4d2a-c559-cc74d6e05a0a"
      },
      "execution_count": 174,
      "outputs": [
        {
          "output_type": "execute_result",
          "data": {
            "text/plain": [
              "(311, 37)"
            ]
          },
          "metadata": {},
          "execution_count": 174
        }
      ]
    },
    {
      "cell_type": "code",
      "source": [
        "# Visualization\n",
        "import plotly.express as px # for data visualization\n",
        "# Create a scatter plot\n",
        "fig = px.scatter(None, x=X_train_pca[:,0], y=X_train_pca[:,1], opacity=1, color=y_res)\n",
        "\n",
        "# Change chart background color\n",
        "fig.update_layout(dict(plot_bgcolor = 'white'))\n",
        "\n",
        "# Update axes lines\n",
        "fig.update_xaxes(showgrid=True, gridwidth=1, gridcolor='lightgrey', \n",
        "                 zeroline=True, zerolinewidth=1, zerolinecolor='lightgrey', \n",
        "                 showline=True, linewidth=1, linecolor='black')\n",
        "\n",
        "fig.update_yaxes(showgrid=True, gridwidth=1, gridcolor='lightgrey', \n",
        "                 zeroline=True, zerolinewidth=1, zerolinecolor='lightgrey', \n",
        "                 showline=True, linewidth=1, linecolor='black')\n",
        "\n",
        "# Set figure title\n",
        "fig.update_layout(title_text=\"PCA Transformation\")\n",
        "\n",
        "# Update marker size\n",
        "fig.update_traces(marker=dict(size=5,\n",
        "                             line=dict(color='black', width=0.2)))\n",
        "\n",
        "fig.show()"
      ],
      "metadata": {
        "colab": {
          "base_uri": "https://localhost:8080/",
          "height": 542
        },
        "id": "tp4v-Fvjq9v-",
        "outputId": "c0c02b27-0612-471c-801c-940380d7b33c"
      },
      "execution_count": 175,
      "outputs": [
        {
          "output_type": "display_data",
          "data": {
            "text/html": [
              "<html>\n",
              "<head><meta charset=\"utf-8\" /></head>\n",
              "<body>\n",
              "    <div>            <script src=\"https://cdnjs.cloudflare.com/ajax/libs/mathjax/2.7.5/MathJax.js?config=TeX-AMS-MML_SVG\"></script><script type=\"text/javascript\">if (window.MathJax) {MathJax.Hub.Config({SVG: {font: \"STIX-Web\"}});}</script>                <script type=\"text/javascript\">window.PlotlyConfig = {MathJaxConfig: 'local'};</script>\n",
              "        <script src=\"https://cdn.plot.ly/plotly-2.8.3.min.js\"></script>                <div id=\"718b86bc-0f6a-41ed-85d1-8d7c71835674\" class=\"plotly-graph-div\" style=\"height:525px; width:100%;\"></div>            <script type=\"text/javascript\">                                    window.PLOTLYENV=window.PLOTLYENV || {};                                    if (document.getElementById(\"718b86bc-0f6a-41ed-85d1-8d7c71835674\")) {                    Plotly.newPlot(                        \"718b86bc-0f6a-41ed-85d1-8d7c71835674\",                        [{\"hovertemplate\":\"x=%{x}<br>y=%{y}<br>color=%{marker.color}<extra></extra>\",\"legendgroup\":\"\",\"marker\":{\"color\":[0,0,0,0,0,0,0,0,0,0,0,0,0,0,0,0,0,0,0,0,0,0,0,0,0,0,0,0,0,0,0,0,0,0,0,0,0,0,0,0,0,0,0,0,0,0,0,0,0,0,0,0,0,0,0,0,0,0,0,0,0,0,0,0,0,0,0,0,0,0,0,0,0,0,0,0,0,0,0,0,0,0,0,0,0,0,0,0,0,0,0,0,0,0,0,0,0,0,0,0,0,0,0,0,0,0,0,0,0,0,0,0,0,0,0,0,0,0,0,0,0,0,0,0,0,0,0,0,0,0,0,0,0,0,0,0,0,0,0,0,0,0,0,0,0,0,0,0,0,0,0,0,0,0,0,0,0,0,0,0,0,0,0,0,0,0,0,0,0,0,0,0,0,0,0,0,0,0,0,0,0,0,0,0,0,0,0,0,0,0,0,0,0,0,0,0,0,0,0,0,0,0,0,0,0,0,0,0,0,0,0,0,0,0,0,0,0,0,0,0,0,0,0,0,0,0,0,0,0,0,0,0,0,0,0,0,0,0,0,0,0,0,0,0,0,0,0,1,1,1,1,1,1,1,1,1,1,1,1,1,1,1,1,1,1,1,1,1,1,1,1,1,1,1,1,1,1,1,1,1,1,1,1,1,1,1,1,1,1,1,1,1,1,1,1,1,1,1,1,1,1,1,1,1,1,1,1,1,1,1,1],\"coloraxis\":\"coloraxis\",\"opacity\":1,\"symbol\":\"circle\",\"line\":{\"color\":\"black\",\"width\":0.2},\"size\":5},\"mode\":\"markers\",\"name\":\"\",\"orientation\":\"v\",\"showlegend\":false,\"x\":[-8.146943199756652,12.922081529157406,-5.05531944175251,-6.891420677726004,0.5385569871248279,-0.5808470901513745,-2.6380706903596205,19.28052096946899,3.6844318861326335,6.3410329913583166,1.1439924657896092,2.4766784623666487,-0.7505143231469046,-7.12792171283281,0.4827134934092375,-0.8251996559216926,-6.862942742866057,4.70632248293489,8.41512799122023,-9.019684370747807,22.27811914264251,2.5299711105716556,-0.5528834276388155,-3.0303229140163634,-2.7778000931442954,3.2342929921865746,2.938938754231753,2.27247262886102,10.489223975990608,-6.229566255075268,-8.36680815882488,-4.352851688059905,3.7716720438487235,-1.6483121607932676,-9.888728373004366,2.6182646544983554,-3.542203438022985,-7.109070978763761,3.4266913688187217,13.729454538604168,-4.779516277896711,0.4244341005618883,15.469529340392791,-2.3577190661205893,1.3227633431631123,0.3498212593185219,3.2610610918905634,-5.741205940255115,-4.885842230733246,-1.143969105076722,-8.904267362687092,-5.685787970652535,-4.926155365950017,4.915992472136123,3.867200096672421,-6.235974571033152,-2.9107214724278943,-4.549627114806675,-0.6373296146197165,-5.543891601817038,11.571902688684352,-1.81971203722579,-0.030253696776685976,4.559616790194455,5.479334625617756,-4.578210156253022,-4.376722672642232,-11.636650026367171,4.208166662494047,12.014454050158767,-4.762359811008527,7.843684803672135,-5.590786593760948,6.443799436982618,7.786560022615686,-5.092493725537495,-5.12819645762154,1.7371606773011454,0.8747023006296775,-5.282575703311399,-6.6798979245229235,3.3145487807987744,-4.901316145399636,-6.700880621270273,-1.8575972454393739,-0.194836089165782,6.149981144877793,-5.991137317027062,-2.4322326284559326,0.7638624129053244,-6.400474681488128,-0.6713132069718298,2.35229538146915,-5.259892665785121,-2.319648354907912,2.3039107746324716,9.577326318920463,-4.630606753402854,0.5086027881576429,7.462708324962706,1.7487612264406767,-1.0855211235608264,-1.3444148472836692,-0.6141665315904254,-10.976080141817356,5.788837746092099,9.753492303323226,-3.2422259646249674,0.7036101005642849,0.42685542837505114,0.25294949729587085,0.10403159211104956,1.8785877471460628,-5.870268262880286,10.805816826996622,-0.42294490546274816,-5.739495630800639,-7.244678225859534,-4.604220606421483,1.1373816924250222,4.278845381580461,5.726756716310759,-6.800442816694986,-5.181852966460026,4.312512398716141,5.521336047658991,-6.893195626914117,-1.6485382955034995,-6.007201858089362,0.7014554676094705,10.495700249428689,14.922464763769344,2.2434095150925963,6.241885629599224,13.062059342186773,-5.453292772732507,10.925230288082947,-7.447356639801287,-8.323147200482467,1.4628132568624577,-6.561675765956313,5.15097616411544,-4.488533881214127,5.785917795231171,0.48906049318269545,1.4373798008751895,7.157864558907989,6.3238963341499295,-8.977353925108808,-5.791309649039352,-1.9119416160655336,2.5215505494103447,-5.184405007257462,-5.405200935197926,-1.7422735027144487,5.707397751244849,-4.944565428737683,4.805840480931616,2.894192865516307,-0.686884110504563,0.3458764428940675,-8.029731872474699,-0.40786061194361495,6.418172852593573,-1.9120409593350567,-1.3383827541299342,4.145824555466812,1.8457196270062612,5.93751163635269,0.251925471921155,-10.39229774378624,-7.74495043713034,2.811621323232917,7.441160789247476,6.432859710429513,7.4606057161280495,4.422038480735811,13.265636710603196,4.305947728731395,-3.0222041575690133,-8.891595774667119,1.234368438632111,-4.087030113765685,9.395535927642163,7.891657214559218,5.614777908976284,2.273820734941929,4.1921521192130475,0.8526819648405161,-5.92965192891792,-9.102813555877123,2.8970529533221137,-10.65338601345762,6.2832840923079285,-5.018592574528658,7.0089295480398555,-5.0893730336097285,4.525281642670487,-3.151136410973639,1.5330346594012827,-2.2436373748274034,-4.072002468275702,0.7961897113910813,2.1369536072288566,-0.8962778964470471,7.604880121998467,-1.8381315339575244,-0.7874712318897132,10.629550122722396,2.6344105234543163,-6.928494959355211,-1.769783979938403,-5.085065782591213,0.5350932353835174,-8.831327545726174,-9.956538782252924,-2.658462407593494,-1.191885530191249,6.671351124720844,11.3469204338264,5.557630979917773,-7.864668871290245,8.372852276896598,-6.037470303245888,3.358262597071064,-7.055522841388077,-2.619588606143959,7.0978998840943595,-4.8676935541113355,-3.2633672138775367,-5.358012107729735,1.3958892738239956,1.870232680074829,-0.8547512961019913,-3.433238117097482,-11.055922524258392,-4.892624327091875,-5.429656913982527,-7.75881055779686,-5.250701498035096,0.28500890939737605,9.655749746211432,-10.823627909465582,-5.182529947742051,3.180499770065416,-10.036080689894602,1.0531117143793511,3.29390648829301,0.0633467780913061,9.24512760143271,-0.9022861085670972,-5.518098099629273,-7.397872737410654,7.948079125794903,0.3414548859940037,4.815685910287688,-1.0328343135570395,3.6040648221382585,-1.6867897481041105,2.1399946725113494,-4.41572101699607,-0.6350622664899457,-4.121365602173987,-7.066219918164681,-2.2520367700177317,-6.881535165294435,4.157501876250905,-5.70126154029926,-5.123664830302831,-3.4721124191756516,-3.577991243482672,-1.699546082802922,-1.355607699527478,4.426699126665789,4.1755746810242735,-7.139972129681017,5.581259432887375,6.29132885146099,-5.224452704412133,4.258324651553696,13.19349965910394,6.629749918187871,-1.4558337468783504,4.5182538733243485,-1.468534350892742,-0.6015231071992441,-5.1829850459476425,-0.8571846110893059,-1.622567912865013,2.9389082630376655,3.89649400004924,-4.931533852217073,0.8820023094739518,-2.4502953705307937,7.2829874865247755,-7.059054088940495,2.8148954964431145,0.6704161652547125,4.254008421413888,0.5334017185550126,1.0856546143434191,2.180325921737411,19.72179877934204,-9.62551106111716,-5.648520253092285,-9.943827368337988,-4.0140130402585115,5.933585119686904,-3.5340831436238083,5.863569636396514,-1.2800215161246438],\"xaxis\":\"x\",\"y\":[-1.140675239311671,2.1987672682083907,11.860556292476197,-1.0697083880730873,4.711478927451892,11.846330113327102,6.875813967251655,-2.5946713647790287,9.356679488495395,0.9056296388004802,5.271564779990069,-4.850367796938108,3.597437833308507,-1.7931834229842356,-6.317980343705381,5.168890833110433,6.638407271745947,5.786527436666891,4.006495210622051,3.7637138264299814,-0.7941456432009854,1.8024697319921932,-6.411208221160072,8.451093957523225,5.957923323731521,3.8967741247656567,5.286003018424762,3.331884661029139,1.3296448164949133,-4.245097249368939,2.9556996945809426,0.3997963715966452,-6.000605932672864,3.3404319350291822,-5.499858120370426,-8.036552269935294,-3.3791778014467733,-2.621704240345558,-1.6006336560242804,-10.252372334783185,-4.920919786354761,-3.575570366860946,-0.4410803575225723,-0.19705518737122854,-2.451616722433205,-5.720819033985618,-0.4072680907657677,9.096485281885315,-7.7020192164344055,7.5979091850652605,-3.6736182910407114,-1.1381366932493897,-6.071117941563671,3.235521079625666,4.595334720226101,-1.6947068879849676,7.777763891587893,-2.406358334834832,2.370664376304571,-6.6726288155458295,-1.442077313033406,-0.5122570143950071,-6.012784724596416,5.992351248449546,9.408655985331118,5.021291925542664,8.764895814268359,-3.8971759448393013,-1.995327311672812,0.6663123996840666,-2.8068378204855433,-1.2960537072381881,-4.953380670187304,-7.0241285705011665,1.010157993325775,2.4908846459919354,11.324329993956386,0.10775245142680603,1.6299975106434936,-8.180569534209177,8.123761495493127,1.2126817688049722,-7.0017903038373035,2.1040632760533446,4.713674724807854,-6.027059447798204,-0.16858452559157736,-4.799328095758037,11.132303697484513,-4.2947757954167685,0.2285688772680198,3.806842752162656,11.440781892102592,10.458534759710917,9.036346604633023,2.0073031230004466,-4.728834406845936,5.683864076254004,-4.303089869849408,6.574322518032046,2.6254436366868874,-2.4421609916112086,-4.98141260194386,13.729172628869337,-5.529944496974657,-9.993768279881639,-9.387482045676032,-5.6956913806621765,11.63237543160585,-0.19051986809133606,-5.285512043733616,11.337464974228824,-5.101391167040071,6.422291319809823,0.2493124497393424,-5.594026472254029,-2.5784415130422635,7.1288327262348545,-5.6796357395585915,-5.466790326663576,9.57965328842943,6.516360647672441,2.9492998367201118,9.658129420309535,9.864170447404337,3.0522334577523034,0.6093400819900165,-7.284256380077045,3.015703425763524,2.4971871883208085,-2.9596458431807267,3.4747460588786026,3.0639795638177105,0.2733334913119633,-6.059752700399906,-6.882427435830229,4.386357162707297,-0.33340259249989285,1.0964892954847494,-0.886631881473095,11.02418921288023,-2.0877788868743985,10.789208224469732,-0.7872332521661374,-3.999579291062977,-7.102582660675979,-6.573454319573497,-8.917233526413527,-2.415092176067486,4.855626014569829,-3.8473426395513974,-0.40342963985753205,-3.4458597980188745,4.6293887348616956,3.7964550348752395,-9.666792828940583,-3.538574615440011,-9.379901615771507,0.2543746392133542,-1.9386058709611664,0.3475929913426695,2.491269796678968,-4.125079882270395,-2.4741244373844156,-6.65956787831961,-1.5164375852612788,-1.401652120899616,-7.072420509676103,-1.2560202156945437,2.420128223909443,-3.3842435099642363,-2.8690002793102107,8.500869980007407,2.206621698895072,6.489979258950993,3.9413606496776934,-1.5209072110412594,-5.358953565083607,0.48960632218754013,-5.25199302670132,-1.5523610194393969,-8.906144764121827,-3.1937232664471833,5.136615540110685,-3.4279914087412093,-1.4581971986412399,5.126674695365892,1.7569435899156234,-5.720936592072696,-6.93780206161921,-1.7945494054000504,0.8188981760133811,-5.1746807825786085,-4.011722365939323,1.5202021424041914,-10.451228054842957,8.916768875391702,2.502140471631124,-7.428368656195449,-0.039342335776949566,3.1689659869718816,-5.061600619522123,0.5676791162389937,0.38388797480470327,-5.789625533493271,-2.1274760682396985,-7.529135718122383,-4.974609238309083,3.8180991346320545,2.8451227332828535,-3.3494974073635713,2.8408239982824792,-1.596988952189988,-5.263232808373443,-7.572245955000514,-3.3061413272087607,7.637986706035529,-7.710699717485092,4.21929958767968,-2.889551169905361,4.3437023592989545,-3.1763269885442784,-1.9605999798877907,10.30585692419528,0.6573567654211413,-2.5280773212065255,-1.6228658598603258,-2.7555413366070787,10.739881923614034,-2.785634699786171,-3.681138405458455,0.6811453209553764,6.841622315392893,-3.582207568725445,-7.56233149455303,-3.161336680643748,1.941772665604722,-2.075627161130544,-3.263724161223139,2.853165532624467,7.614161349399046,1.929280351812424,-3.0849329036221387,4.109918536944662,1.2351608319297245,-5.179815433137064,7.176557990597279,8.9218141549069,-7.29347406131127,1.689920838588072,4.198540517497558,-8.53629290248398,-0.9705150331130589,-5.679048993337652,-5.644667361245848,5.002168109264528,-1.801507012619764,10.175035316666301,-4.834437366001416,7.236539707126271,11.241277306141544,-6.45686573990731,-0.786733518773765,-5.480902244946297,12.318280917997214,2.175693881700284,-9.433117133731505,-2.8733050341970823,0.14886133169185348,3.0400474592808013,-3.9992291221648477,-3.7274277848145267,2.445638197349885,4.9267689873807825,1.1282048505633357,0.6662536374599503,6.008123210767597,-4.88104566124407,-2.780715531499903,3.355887593655842,-9.064272286399415,-7.860975195040622,2.3872889197409175,3.8856846818417003,8.927697649591336,12.805564850662897,6.689037462666516,-0.34404671998057434,-7.3494642558892105,1.570572707673662,-0.58566148029163,-5.668264194783684,-6.5818437879975615,-5.5608233014726185,-2.003206491063827,-2.5558937108194715,1.7055765913894334,-2.373641251900871,-7.52946858277377,10.778474714385577,-7.298001537801093,0.4900265776736306,3.050839413548672,-4.034394119135702,2.0583184488578823,-4.486197340806674,1.6816856141446295,2.1878083892080915,-4.796177183457088,1.8662458002518183,-8.794193071359317],\"yaxis\":\"y\",\"type\":\"scatter\"}],                        {\"template\":{\"data\":{\"bar\":[{\"error_x\":{\"color\":\"#2a3f5f\"},\"error_y\":{\"color\":\"#2a3f5f\"},\"marker\":{\"line\":{\"color\":\"#E5ECF6\",\"width\":0.5},\"pattern\":{\"fillmode\":\"overlay\",\"size\":10,\"solidity\":0.2}},\"type\":\"bar\"}],\"barpolar\":[{\"marker\":{\"line\":{\"color\":\"#E5ECF6\",\"width\":0.5},\"pattern\":{\"fillmode\":\"overlay\",\"size\":10,\"solidity\":0.2}},\"type\":\"barpolar\"}],\"carpet\":[{\"aaxis\":{\"endlinecolor\":\"#2a3f5f\",\"gridcolor\":\"white\",\"linecolor\":\"white\",\"minorgridcolor\":\"white\",\"startlinecolor\":\"#2a3f5f\"},\"baxis\":{\"endlinecolor\":\"#2a3f5f\",\"gridcolor\":\"white\",\"linecolor\":\"white\",\"minorgridcolor\":\"white\",\"startlinecolor\":\"#2a3f5f\"},\"type\":\"carpet\"}],\"choropleth\":[{\"colorbar\":{\"outlinewidth\":0,\"ticks\":\"\"},\"type\":\"choropleth\"}],\"contour\":[{\"colorbar\":{\"outlinewidth\":0,\"ticks\":\"\"},\"colorscale\":[[0.0,\"#0d0887\"],[0.1111111111111111,\"#46039f\"],[0.2222222222222222,\"#7201a8\"],[0.3333333333333333,\"#9c179e\"],[0.4444444444444444,\"#bd3786\"],[0.5555555555555556,\"#d8576b\"],[0.6666666666666666,\"#ed7953\"],[0.7777777777777778,\"#fb9f3a\"],[0.8888888888888888,\"#fdca26\"],[1.0,\"#f0f921\"]],\"type\":\"contour\"}],\"contourcarpet\":[{\"colorbar\":{\"outlinewidth\":0,\"ticks\":\"\"},\"type\":\"contourcarpet\"}],\"heatmap\":[{\"colorbar\":{\"outlinewidth\":0,\"ticks\":\"\"},\"colorscale\":[[0.0,\"#0d0887\"],[0.1111111111111111,\"#46039f\"],[0.2222222222222222,\"#7201a8\"],[0.3333333333333333,\"#9c179e\"],[0.4444444444444444,\"#bd3786\"],[0.5555555555555556,\"#d8576b\"],[0.6666666666666666,\"#ed7953\"],[0.7777777777777778,\"#fb9f3a\"],[0.8888888888888888,\"#fdca26\"],[1.0,\"#f0f921\"]],\"type\":\"heatmap\"}],\"heatmapgl\":[{\"colorbar\":{\"outlinewidth\":0,\"ticks\":\"\"},\"colorscale\":[[0.0,\"#0d0887\"],[0.1111111111111111,\"#46039f\"],[0.2222222222222222,\"#7201a8\"],[0.3333333333333333,\"#9c179e\"],[0.4444444444444444,\"#bd3786\"],[0.5555555555555556,\"#d8576b\"],[0.6666666666666666,\"#ed7953\"],[0.7777777777777778,\"#fb9f3a\"],[0.8888888888888888,\"#fdca26\"],[1.0,\"#f0f921\"]],\"type\":\"heatmapgl\"}],\"histogram\":[{\"marker\":{\"pattern\":{\"fillmode\":\"overlay\",\"size\":10,\"solidity\":0.2}},\"type\":\"histogram\"}],\"histogram2d\":[{\"colorbar\":{\"outlinewidth\":0,\"ticks\":\"\"},\"colorscale\":[[0.0,\"#0d0887\"],[0.1111111111111111,\"#46039f\"],[0.2222222222222222,\"#7201a8\"],[0.3333333333333333,\"#9c179e\"],[0.4444444444444444,\"#bd3786\"],[0.5555555555555556,\"#d8576b\"],[0.6666666666666666,\"#ed7953\"],[0.7777777777777778,\"#fb9f3a\"],[0.8888888888888888,\"#fdca26\"],[1.0,\"#f0f921\"]],\"type\":\"histogram2d\"}],\"histogram2dcontour\":[{\"colorbar\":{\"outlinewidth\":0,\"ticks\":\"\"},\"colorscale\":[[0.0,\"#0d0887\"],[0.1111111111111111,\"#46039f\"],[0.2222222222222222,\"#7201a8\"],[0.3333333333333333,\"#9c179e\"],[0.4444444444444444,\"#bd3786\"],[0.5555555555555556,\"#d8576b\"],[0.6666666666666666,\"#ed7953\"],[0.7777777777777778,\"#fb9f3a\"],[0.8888888888888888,\"#fdca26\"],[1.0,\"#f0f921\"]],\"type\":\"histogram2dcontour\"}],\"mesh3d\":[{\"colorbar\":{\"outlinewidth\":0,\"ticks\":\"\"},\"type\":\"mesh3d\"}],\"parcoords\":[{\"line\":{\"colorbar\":{\"outlinewidth\":0,\"ticks\":\"\"}},\"type\":\"parcoords\"}],\"pie\":[{\"automargin\":true,\"type\":\"pie\"}],\"scatter\":[{\"marker\":{\"colorbar\":{\"outlinewidth\":0,\"ticks\":\"\"}},\"type\":\"scatter\"}],\"scatter3d\":[{\"line\":{\"colorbar\":{\"outlinewidth\":0,\"ticks\":\"\"}},\"marker\":{\"colorbar\":{\"outlinewidth\":0,\"ticks\":\"\"}},\"type\":\"scatter3d\"}],\"scattercarpet\":[{\"marker\":{\"colorbar\":{\"outlinewidth\":0,\"ticks\":\"\"}},\"type\":\"scattercarpet\"}],\"scattergeo\":[{\"marker\":{\"colorbar\":{\"outlinewidth\":0,\"ticks\":\"\"}},\"type\":\"scattergeo\"}],\"scattergl\":[{\"marker\":{\"colorbar\":{\"outlinewidth\":0,\"ticks\":\"\"}},\"type\":\"scattergl\"}],\"scattermapbox\":[{\"marker\":{\"colorbar\":{\"outlinewidth\":0,\"ticks\":\"\"}},\"type\":\"scattermapbox\"}],\"scatterpolar\":[{\"marker\":{\"colorbar\":{\"outlinewidth\":0,\"ticks\":\"\"}},\"type\":\"scatterpolar\"}],\"scatterpolargl\":[{\"marker\":{\"colorbar\":{\"outlinewidth\":0,\"ticks\":\"\"}},\"type\":\"scatterpolargl\"}],\"scatterternary\":[{\"marker\":{\"colorbar\":{\"outlinewidth\":0,\"ticks\":\"\"}},\"type\":\"scatterternary\"}],\"surface\":[{\"colorbar\":{\"outlinewidth\":0,\"ticks\":\"\"},\"colorscale\":[[0.0,\"#0d0887\"],[0.1111111111111111,\"#46039f\"],[0.2222222222222222,\"#7201a8\"],[0.3333333333333333,\"#9c179e\"],[0.4444444444444444,\"#bd3786\"],[0.5555555555555556,\"#d8576b\"],[0.6666666666666666,\"#ed7953\"],[0.7777777777777778,\"#fb9f3a\"],[0.8888888888888888,\"#fdca26\"],[1.0,\"#f0f921\"]],\"type\":\"surface\"}],\"table\":[{\"cells\":{\"fill\":{\"color\":\"#EBF0F8\"},\"line\":{\"color\":\"white\"}},\"header\":{\"fill\":{\"color\":\"#C8D4E3\"},\"line\":{\"color\":\"white\"}},\"type\":\"table\"}]},\"layout\":{\"annotationdefaults\":{\"arrowcolor\":\"#2a3f5f\",\"arrowhead\":0,\"arrowwidth\":1},\"autotypenumbers\":\"strict\",\"coloraxis\":{\"colorbar\":{\"outlinewidth\":0,\"ticks\":\"\"}},\"colorscale\":{\"diverging\":[[0,\"#8e0152\"],[0.1,\"#c51b7d\"],[0.2,\"#de77ae\"],[0.3,\"#f1b6da\"],[0.4,\"#fde0ef\"],[0.5,\"#f7f7f7\"],[0.6,\"#e6f5d0\"],[0.7,\"#b8e186\"],[0.8,\"#7fbc41\"],[0.9,\"#4d9221\"],[1,\"#276419\"]],\"sequential\":[[0.0,\"#0d0887\"],[0.1111111111111111,\"#46039f\"],[0.2222222222222222,\"#7201a8\"],[0.3333333333333333,\"#9c179e\"],[0.4444444444444444,\"#bd3786\"],[0.5555555555555556,\"#d8576b\"],[0.6666666666666666,\"#ed7953\"],[0.7777777777777778,\"#fb9f3a\"],[0.8888888888888888,\"#fdca26\"],[1.0,\"#f0f921\"]],\"sequentialminus\":[[0.0,\"#0d0887\"],[0.1111111111111111,\"#46039f\"],[0.2222222222222222,\"#7201a8\"],[0.3333333333333333,\"#9c179e\"],[0.4444444444444444,\"#bd3786\"],[0.5555555555555556,\"#d8576b\"],[0.6666666666666666,\"#ed7953\"],[0.7777777777777778,\"#fb9f3a\"],[0.8888888888888888,\"#fdca26\"],[1.0,\"#f0f921\"]]},\"colorway\":[\"#636efa\",\"#EF553B\",\"#00cc96\",\"#ab63fa\",\"#FFA15A\",\"#19d3f3\",\"#FF6692\",\"#B6E880\",\"#FF97FF\",\"#FECB52\"],\"font\":{\"color\":\"#2a3f5f\"},\"geo\":{\"bgcolor\":\"white\",\"lakecolor\":\"white\",\"landcolor\":\"#E5ECF6\",\"showlakes\":true,\"showland\":true,\"subunitcolor\":\"white\"},\"hoverlabel\":{\"align\":\"left\"},\"hovermode\":\"closest\",\"mapbox\":{\"style\":\"light\"},\"paper_bgcolor\":\"white\",\"plot_bgcolor\":\"#E5ECF6\",\"polar\":{\"angularaxis\":{\"gridcolor\":\"white\",\"linecolor\":\"white\",\"ticks\":\"\"},\"bgcolor\":\"#E5ECF6\",\"radialaxis\":{\"gridcolor\":\"white\",\"linecolor\":\"white\",\"ticks\":\"\"}},\"scene\":{\"xaxis\":{\"backgroundcolor\":\"#E5ECF6\",\"gridcolor\":\"white\",\"gridwidth\":2,\"linecolor\":\"white\",\"showbackground\":true,\"ticks\":\"\",\"zerolinecolor\":\"white\"},\"yaxis\":{\"backgroundcolor\":\"#E5ECF6\",\"gridcolor\":\"white\",\"gridwidth\":2,\"linecolor\":\"white\",\"showbackground\":true,\"ticks\":\"\",\"zerolinecolor\":\"white\"},\"zaxis\":{\"backgroundcolor\":\"#E5ECF6\",\"gridcolor\":\"white\",\"gridwidth\":2,\"linecolor\":\"white\",\"showbackground\":true,\"ticks\":\"\",\"zerolinecolor\":\"white\"}},\"shapedefaults\":{\"line\":{\"color\":\"#2a3f5f\"}},\"ternary\":{\"aaxis\":{\"gridcolor\":\"white\",\"linecolor\":\"white\",\"ticks\":\"\"},\"baxis\":{\"gridcolor\":\"white\",\"linecolor\":\"white\",\"ticks\":\"\"},\"bgcolor\":\"#E5ECF6\",\"caxis\":{\"gridcolor\":\"white\",\"linecolor\":\"white\",\"ticks\":\"\"}},\"title\":{\"x\":0.05},\"xaxis\":{\"automargin\":true,\"gridcolor\":\"white\",\"linecolor\":\"white\",\"ticks\":\"\",\"title\":{\"standoff\":15},\"zerolinecolor\":\"white\",\"zerolinewidth\":2},\"yaxis\":{\"automargin\":true,\"gridcolor\":\"white\",\"linecolor\":\"white\",\"ticks\":\"\",\"title\":{\"standoff\":15},\"zerolinecolor\":\"white\",\"zerolinewidth\":2}}},\"xaxis\":{\"anchor\":\"y\",\"domain\":[0.0,1.0],\"title\":{\"text\":\"x\"},\"showgrid\":true,\"gridwidth\":1,\"gridcolor\":\"lightgrey\",\"zeroline\":true,\"zerolinewidth\":1,\"zerolinecolor\":\"lightgrey\",\"showline\":true,\"linewidth\":1,\"linecolor\":\"black\"},\"yaxis\":{\"anchor\":\"x\",\"domain\":[0.0,1.0],\"title\":{\"text\":\"y\"},\"showgrid\":true,\"gridwidth\":1,\"gridcolor\":\"lightgrey\",\"zeroline\":true,\"zerolinewidth\":1,\"zerolinecolor\":\"lightgrey\",\"showline\":true,\"linewidth\":1,\"linecolor\":\"black\"},\"coloraxis\":{\"colorbar\":{\"title\":{\"text\":\"color\"}},\"colorscale\":[[0.0,\"#0d0887\"],[0.1111111111111111,\"#46039f\"],[0.2222222222222222,\"#7201a8\"],[0.3333333333333333,\"#9c179e\"],[0.4444444444444444,\"#bd3786\"],[0.5555555555555556,\"#d8576b\"],[0.6666666666666666,\"#ed7953\"],[0.7777777777777778,\"#fb9f3a\"],[0.8888888888888888,\"#fdca26\"],[1.0,\"#f0f921\"]]},\"legend\":{\"tracegroupgap\":0},\"margin\":{\"t\":60},\"plot_bgcolor\":\"white\",\"title\":{\"text\":\"PCA Transformation\"}},                        {\"responsive\": true}                    ).then(function(){\n",
              "                            \n",
              "var gd = document.getElementById('718b86bc-0f6a-41ed-85d1-8d7c71835674');\n",
              "var x = new MutationObserver(function (mutations, observer) {{\n",
              "        var display = window.getComputedStyle(gd).display;\n",
              "        if (!display || display === 'none') {{\n",
              "            console.log([gd, 'removed!']);\n",
              "            Plotly.purge(gd);\n",
              "            observer.disconnect();\n",
              "        }}\n",
              "}});\n",
              "\n",
              "// Listen for the removal of the full notebook cells\n",
              "var notebookContainer = gd.closest('#notebook-container');\n",
              "if (notebookContainer) {{\n",
              "    x.observe(notebookContainer, {childList: true});\n",
              "}}\n",
              "\n",
              "// Listen for the clearing of the current output cell\n",
              "var outputEl = gd.closest('.output');\n",
              "if (outputEl) {{\n",
              "    x.observe(outputEl, {childList: true});\n",
              "}}\n",
              "\n",
              "                        })                };                            </script>        </div>\n",
              "</body>\n",
              "</html>"
            ]
          },
          "metadata": {}
        }
      ]
    },
    {
      "cell_type": "code",
      "source": [
        "plt.scatter(X_train_pca[:, 0], X_train_pca[:, 1], c=y_res, \n",
        "            cmap=plt.cm.prism, edgecolor='k', alpha=0.7)\n",
        "plt.show()"
      ],
      "metadata": {
        "colab": {
          "base_uri": "https://localhost:8080/",
          "height": 347
        },
        "id": "RDpKyVFZlHWA",
        "outputId": "3b1fff9d-191e-4f5f-97ff-0ccac3a640d5"
      },
      "execution_count": 136,
      "outputs": [
        {
          "output_type": "display_data",
          "data": {
            "text/plain": [
              "<Figure size 576x396 with 1 Axes>"
            ],
            "image/png": "[encoded data removed]"
          },
          "metadata": {}
        }
      ]
    },
    {
      "cell_type": "code",
      "source": [
        "X_test_pca = pca.transform(X_test)"
      ],
      "metadata": {
        "id": "Tt5M70zuaKjY"
      },
      "execution_count": 137,
      "outputs": []
    },
    {
      "cell_type": "code",
      "source": [
        "check_params ={\"criterion\":[\"gini\", \"entropy\"],\n",
        "         \"max_depth\":[4, 6, 8, 10],\n",
        "         \"min_samples_split\": [5, 10, 15, 20],\n",
        "         \"min_samples_leaf\": [3, 5, 7, 9, 11]}\n",
        "dt=DecisionTreeClassifier()\n",
        "results = customGridSearch(X_train_pca, y_res, dt, check_params, \"f1_macro\")"
      ],
      "metadata": {
        "colab": {
          "base_uri": "https://localhost:8080/"
        },
        "id": "bMPPm6BwaND1",
        "outputId": "b6eb6809-e48a-416b-d947-f08912a2d73b"
      },
      "execution_count": null,
      "outputs": [
        {
          "output_type": "stream",
          "name": "stdout",
          "text": [
            "____________________________________________ START GRID SEARCH ____________________________________________\n",
            "------- Score = f1_macro------- \n",
            "\n",
            "> Fold = RepeatedStratifiedKFold(n_repeats=10, n_splits=5, random_state=None)\n",
            "\n",
            "> Best Parameter set: \n",
            "\n",
            "{'criterion': 'entropy', 'max_depth': 10, 'min_samples_leaf': 11, 'min_samples_split': 15}\n",
            "\n",
            "> Grid scores:\n",
            "\n",
            "...........RESULTS FOR TRAINING.........\n",
            "........................................\n",
            "0.737 (+/-0.108) for {'criterion': 'gini', 'max_depth': 4, 'min_samples_leaf': 3, 'min_samples_split': 5}\n",
            "0.732 (+/-0.118) for {'criterion': 'gini', 'max_depth': 4, 'min_samples_leaf': 3, 'min_samples_split': 10}\n",
            "0.716 (+/-0.110) for {'criterion': 'gini', 'max_depth': 4, 'min_samples_leaf': 3, 'min_samples_split': 15}\n",
            "0.706 (+/-0.097) for {'criterion': 'gini', 'max_depth': 4, 'min_samples_leaf': 3, 'min_samples_split': 20}\n",
            "0.720 (+/-0.113) for {'criterion': 'gini', 'max_depth': 4, 'min_samples_leaf': 5, 'min_samples_split': 5}\n",
            "0.719 (+/-0.115) for {'criterion': 'gini', 'max_depth': 4, 'min_samples_leaf': 5, 'min_samples_split': 10}\n",
            "0.707 (+/-0.107) for {'criterion': 'gini', 'max_depth': 4, 'min_samples_leaf': 5, 'min_samples_split': 15}\n",
            "0.693 (+/-0.097) for {'criterion': 'gini', 'max_depth': 4, 'min_samples_leaf': 5, 'min_samples_split': 20}\n",
            "0.702 (+/-0.113) for {'criterion': 'gini', 'max_depth': 4, 'min_samples_leaf': 7, 'min_samples_split': 5}\n",
            "0.702 (+/-0.114) for {'criterion': 'gini', 'max_depth': 4, 'min_samples_leaf': 7, 'min_samples_split': 10}\n",
            "0.704 (+/-0.110) for {'criterion': 'gini', 'max_depth': 4, 'min_samples_leaf': 7, 'min_samples_split': 15}\n",
            "0.687 (+/-0.103) for {'criterion': 'gini', 'max_depth': 4, 'min_samples_leaf': 7, 'min_samples_split': 20}\n",
            "0.680 (+/-0.098) for {'criterion': 'gini', 'max_depth': 4, 'min_samples_leaf': 9, 'min_samples_split': 5}\n",
            "0.681 (+/-0.096) for {'criterion': 'gini', 'max_depth': 4, 'min_samples_leaf': 9, 'min_samples_split': 10}\n",
            "0.681 (+/-0.101) for {'criterion': 'gini', 'max_depth': 4, 'min_samples_leaf': 9, 'min_samples_split': 15}\n",
            "0.682 (+/-0.089) for {'criterion': 'gini', 'max_depth': 4, 'min_samples_leaf': 9, 'min_samples_split': 20}\n",
            "0.678 (+/-0.087) for {'criterion': 'gini', 'max_depth': 4, 'min_samples_leaf': 11, 'min_samples_split': 5}\n",
            "0.677 (+/-0.089) for {'criterion': 'gini', 'max_depth': 4, 'min_samples_leaf': 11, 'min_samples_split': 10}\n",
            "0.677 (+/-0.089) for {'criterion': 'gini', 'max_depth': 4, 'min_samples_leaf': 11, 'min_samples_split': 15}\n",
            "0.677 (+/-0.089) for {'criterion': 'gini', 'max_depth': 4, 'min_samples_leaf': 11, 'min_samples_split': 20}\n",
            "0.860 (+/-0.087) for {'criterion': 'gini', 'max_depth': 6, 'min_samples_leaf': 3, 'min_samples_split': 5}\n",
            "0.830 (+/-0.099) for {'criterion': 'gini', 'max_depth': 6, 'min_samples_leaf': 3, 'min_samples_split': 10}\n",
            "0.799 (+/-0.091) for {'criterion': 'gini', 'max_depth': 6, 'min_samples_leaf': 3, 'min_samples_split': 15}\n",
            "0.773 (+/-0.087) for {'criterion': 'gini', 'max_depth': 6, 'min_samples_leaf': 3, 'min_samples_split': 20}\n",
            "0.817 (+/-0.079) for {'criterion': 'gini', 'max_depth': 6, 'min_samples_leaf': 5, 'min_samples_split': 5}\n",
            "0.817 (+/-0.078) for {'criterion': 'gini', 'max_depth': 6, 'min_samples_leaf': 5, 'min_samples_split': 10}\n",
            "0.791 (+/-0.069) for {'criterion': 'gini', 'max_depth': 6, 'min_samples_leaf': 5, 'min_samples_split': 15}\n",
            "0.760 (+/-0.082) for {'criterion': 'gini', 'max_depth': 6, 'min_samples_leaf': 5, 'min_samples_split': 20}\n",
            "0.783 (+/-0.068) for {'criterion': 'gini', 'max_depth': 6, 'min_samples_leaf': 7, 'min_samples_split': 5}\n",
            "0.783 (+/-0.070) for {'criterion': 'gini', 'max_depth': 6, 'min_samples_leaf': 7, 'min_samples_split': 10}\n",
            "0.783 (+/-0.064) for {'criterion': 'gini', 'max_depth': 6, 'min_samples_leaf': 7, 'min_samples_split': 15}\n",
            "0.753 (+/-0.076) for {'criterion': 'gini', 'max_depth': 6, 'min_samples_leaf': 7, 'min_samples_split': 20}\n",
            "0.756 (+/-0.075) for {'criterion': 'gini', 'max_depth': 6, 'min_samples_leaf': 9, 'min_samples_split': 5}\n",
            "0.755 (+/-0.074) for {'criterion': 'gini', 'max_depth': 6, 'min_samples_leaf': 9, 'min_samples_split': 10}\n",
            "0.756 (+/-0.074) for {'criterion': 'gini', 'max_depth': 6, 'min_samples_leaf': 9, 'min_samples_split': 15}\n",
            "0.745 (+/-0.077) for {'criterion': 'gini', 'max_depth': 6, 'min_samples_leaf': 9, 'min_samples_split': 20}\n",
            "0.727 (+/-0.074) for {'criterion': 'gini', 'max_depth': 6, 'min_samples_leaf': 11, 'min_samples_split': 5}\n",
            "0.728 (+/-0.076) for {'criterion': 'gini', 'max_depth': 6, 'min_samples_leaf': 11, 'min_samples_split': 10}\n",
            "0.728 (+/-0.076) for {'criterion': 'gini', 'max_depth': 6, 'min_samples_leaf': 11, 'min_samples_split': 15}\n",
            "0.727 (+/-0.075) for {'criterion': 'gini', 'max_depth': 6, 'min_samples_leaf': 11, 'min_samples_split': 20}\n",
            "0.908 (+/-0.046) for {'criterion': 'gini', 'max_depth': 8, 'min_samples_leaf': 3, 'min_samples_split': 5}\n",
            "0.871 (+/-0.053) for {'criterion': 'gini', 'max_depth': 8, 'min_samples_leaf': 3, 'min_samples_split': 10}\n",
            "0.830 (+/-0.059) for {'criterion': 'gini', 'max_depth': 8, 'min_samples_leaf': 3, 'min_samples_split': 15}\n",
            "0.797 (+/-0.068) for {'criterion': 'gini', 'max_depth': 8, 'min_samples_leaf': 3, 'min_samples_split': 20}\n",
            "0.848 (+/-0.052) for {'criterion': 'gini', 'max_depth': 8, 'min_samples_leaf': 5, 'min_samples_split': 5}\n",
            "0.849 (+/-0.054) for {'criterion': 'gini', 'max_depth': 8, 'min_samples_leaf': 5, 'min_samples_split': 10}\n",
            "0.810 (+/-0.056) for {'criterion': 'gini', 'max_depth': 8, 'min_samples_leaf': 5, 'min_samples_split': 15}\n",
            "0.775 (+/-0.081) for {'criterion': 'gini', 'max_depth': 8, 'min_samples_leaf': 5, 'min_samples_split': 20}\n",
            "0.803 (+/-0.057) for {'criterion': 'gini', 'max_depth': 8, 'min_samples_leaf': 7, 'min_samples_split': 5}\n",
            "0.804 (+/-0.056) for {'criterion': 'gini', 'max_depth': 8, 'min_samples_leaf': 7, 'min_samples_split': 10}\n",
            "0.802 (+/-0.058) for {'criterion': 'gini', 'max_depth': 8, 'min_samples_leaf': 7, 'min_samples_split': 15}\n",
            "0.765 (+/-0.080) for {'criterion': 'gini', 'max_depth': 8, 'min_samples_leaf': 7, 'min_samples_split': 20}\n",
            "0.769 (+/-0.076) for {'criterion': 'gini', 'max_depth': 8, 'min_samples_leaf': 9, 'min_samples_split': 5}\n",
            "0.766 (+/-0.078) for {'criterion': 'gini', 'max_depth': 8, 'min_samples_leaf': 9, 'min_samples_split': 10}\n",
            "0.767 (+/-0.076) for {'criterion': 'gini', 'max_depth': 8, 'min_samples_leaf': 9, 'min_samples_split': 15}\n",
            "0.754 (+/-0.082) for {'criterion': 'gini', 'max_depth': 8, 'min_samples_leaf': 9, 'min_samples_split': 20}\n",
            "0.736 (+/-0.075) for {'criterion': 'gini', 'max_depth': 8, 'min_samples_leaf': 11, 'min_samples_split': 5}\n",
            "0.738 (+/-0.073) for {'criterion': 'gini', 'max_depth': 8, 'min_samples_leaf': 11, 'min_samples_split': 10}\n",
            "0.739 (+/-0.075) for {'criterion': 'gini', 'max_depth': 8, 'min_samples_leaf': 11, 'min_samples_split': 15}\n",
            "0.736 (+/-0.075) for {'criterion': 'gini', 'max_depth': 8, 'min_samples_leaf': 11, 'min_samples_split': 20}\n",
            "0.921 (+/-0.031) for {'criterion': 'gini', 'max_depth': 10, 'min_samples_leaf': 3, 'min_samples_split': 5}\n",
            "0.882 (+/-0.044) for {'criterion': 'gini', 'max_depth': 10, 'min_samples_leaf': 3, 'min_samples_split': 10}\n",
            "0.834 (+/-0.061) for {'criterion': 'gini', 'max_depth': 10, 'min_samples_leaf': 3, 'min_samples_split': 15}\n",
            "0.798 (+/-0.076) for {'criterion': 'gini', 'max_depth': 10, 'min_samples_leaf': 3, 'min_samples_split': 20}\n",
            "0.856 (+/-0.047) for {'criterion': 'gini', 'max_depth': 10, 'min_samples_leaf': 5, 'min_samples_split': 5}\n",
            "0.855 (+/-0.047) for {'criterion': 'gini', 'max_depth': 10, 'min_samples_leaf': 5, 'min_samples_split': 10}\n",
            "0.814 (+/-0.058) for {'criterion': 'gini', 'max_depth': 10, 'min_samples_leaf': 5, 'min_samples_split': 15}\n",
            "0.777 (+/-0.083) for {'criterion': 'gini', 'max_depth': 10, 'min_samples_leaf': 5, 'min_samples_split': 20}\n",
            "0.807 (+/-0.057) for {'criterion': 'gini', 'max_depth': 10, 'min_samples_leaf': 7, 'min_samples_split': 5}\n",
            "0.807 (+/-0.057) for {'criterion': 'gini', 'max_depth': 10, 'min_samples_leaf': 7, 'min_samples_split': 10}\n",
            "0.802 (+/-0.059) for {'criterion': 'gini', 'max_depth': 10, 'min_samples_leaf': 7, 'min_samples_split': 15}\n",
            "0.767 (+/-0.084) for {'criterion': 'gini', 'max_depth': 10, 'min_samples_leaf': 7, 'min_samples_split': 20}\n",
            "0.768 (+/-0.077) for {'criterion': 'gini', 'max_depth': 10, 'min_samples_leaf': 9, 'min_samples_split': 5}\n",
            "0.766 (+/-0.078) for {'criterion': 'gini', 'max_depth': 10, 'min_samples_leaf': 9, 'min_samples_split': 10}\n",
            "0.768 (+/-0.076) for {'criterion': 'gini', 'max_depth': 10, 'min_samples_leaf': 9, 'min_samples_split': 15}\n",
            "0.755 (+/-0.081) for {'criterion': 'gini', 'max_depth': 10, 'min_samples_leaf': 9, 'min_samples_split': 20}\n",
            "0.737 (+/-0.073) for {'criterion': 'gini', 'max_depth': 10, 'min_samples_leaf': 11, 'min_samples_split': 5}\n",
            "0.736 (+/-0.073) for {'criterion': 'gini', 'max_depth': 10, 'min_samples_leaf': 11, 'min_samples_split': 10}\n",
            "0.737 (+/-0.074) for {'criterion': 'gini', 'max_depth': 10, 'min_samples_leaf': 11, 'min_samples_split': 15}\n",
            "0.737 (+/-0.073) for {'criterion': 'gini', 'max_depth': 10, 'min_samples_leaf': 11, 'min_samples_split': 20}\n",
            "0.665 (+/-0.149) for {'criterion': 'entropy', 'max_depth': 4, 'min_samples_leaf': 3, 'min_samples_split': 5}\n",
            "0.662 (+/-0.150) for {'criterion': 'entropy', 'max_depth': 4, 'min_samples_leaf': 3, 'min_samples_split': 10}\n",
            "0.657 (+/-0.149) for {'criterion': 'entropy', 'max_depth': 4, 'min_samples_leaf': 3, 'min_samples_split': 15}\n",
            "0.650 (+/-0.147) for {'criterion': 'entropy', 'max_depth': 4, 'min_samples_leaf': 3, 'min_samples_split': 20}\n",
            "0.645 (+/-0.163) for {'criterion': 'entropy', 'max_depth': 4, 'min_samples_leaf': 5, 'min_samples_split': 5}\n",
            "0.644 (+/-0.164) for {'criterion': 'entropy', 'max_depth': 4, 'min_samples_leaf': 5, 'min_samples_split': 10}\n",
            "0.638 (+/-0.161) for {'criterion': 'entropy', 'max_depth': 4, 'min_samples_leaf': 5, 'min_samples_split': 15}\n",
            "0.635 (+/-0.163) for {'criterion': 'entropy', 'max_depth': 4, 'min_samples_leaf': 5, 'min_samples_split': 20}\n",
            "0.636 (+/-0.162) for {'criterion': 'entropy', 'max_depth': 4, 'min_samples_leaf': 7, 'min_samples_split': 5}\n",
            "0.636 (+/-0.163) for {'criterion': 'entropy', 'max_depth': 4, 'min_samples_leaf': 7, 'min_samples_split': 10}\n",
            "0.636 (+/-0.162) for {'criterion': 'entropy', 'max_depth': 4, 'min_samples_leaf': 7, 'min_samples_split': 15}\n",
            "0.633 (+/-0.165) for {'criterion': 'entropy', 'max_depth': 4, 'min_samples_leaf': 7, 'min_samples_split': 20}\n",
            "0.626 (+/-0.192) for {'criterion': 'entropy', 'max_depth': 4, 'min_samples_leaf': 9, 'min_samples_split': 5}\n",
            "0.626 (+/-0.192) for {'criterion': 'entropy', 'max_depth': 4, 'min_samples_leaf': 9, 'min_samples_split': 10}\n",
            "0.626 (+/-0.192) for {'criterion': 'entropy', 'max_depth': 4, 'min_samples_leaf': 9, 'min_samples_split': 15}\n",
            "0.624 (+/-0.189) for {'criterion': 'entropy', 'max_depth': 4, 'min_samples_leaf': 9, 'min_samples_split': 20}\n",
            "0.619 (+/-0.182) for {'criterion': 'entropy', 'max_depth': 4, 'min_samples_leaf': 11, 'min_samples_split': 5}\n",
            "0.619 (+/-0.182) for {'criterion': 'entropy', 'max_depth': 4, 'min_samples_leaf': 11, 'min_samples_split': 10}\n",
            "0.619 (+/-0.182) for {'criterion': 'entropy', 'max_depth': 4, 'min_samples_leaf': 11, 'min_samples_split': 15}\n",
            "0.619 (+/-0.182) for {'criterion': 'entropy', 'max_depth': 4, 'min_samples_leaf': 11, 'min_samples_split': 20}\n",
            "0.803 (+/-0.149) for {'criterion': 'entropy', 'max_depth': 6, 'min_samples_leaf': 3, 'min_samples_split': 5}\n",
            "0.784 (+/-0.136) for {'criterion': 'entropy', 'max_depth': 6, 'min_samples_leaf': 3, 'min_samples_split': 10}\n",
            "0.769 (+/-0.133) for {'criterion': 'entropy', 'max_depth': 6, 'min_samples_leaf': 3, 'min_samples_split': 15}\n",
            "0.757 (+/-0.118) for {'criterion': 'entropy', 'max_depth': 6, 'min_samples_leaf': 3, 'min_samples_split': 20}\n",
            "0.774 (+/-0.139) for {'criterion': 'entropy', 'max_depth': 6, 'min_samples_leaf': 5, 'min_samples_split': 5}\n",
            "0.773 (+/-0.146) for {'criterion': 'entropy', 'max_depth': 6, 'min_samples_leaf': 5, 'min_samples_split': 10}\n",
            "0.753 (+/-0.140) for {'criterion': 'entropy', 'max_depth': 6, 'min_samples_leaf': 5, 'min_samples_split': 15}\n",
            "0.737 (+/-0.127) for {'criterion': 'entropy', 'max_depth': 6, 'min_samples_leaf': 5, 'min_samples_split': 20}\n",
            "0.752 (+/-0.147) for {'criterion': 'entropy', 'max_depth': 6, 'min_samples_leaf': 7, 'min_samples_split': 5}\n",
            "0.754 (+/-0.136) for {'criterion': 'entropy', 'max_depth': 6, 'min_samples_leaf': 7, 'min_samples_split': 10}\n",
            "0.751 (+/-0.136) for {'criterion': 'entropy', 'max_depth': 6, 'min_samples_leaf': 7, 'min_samples_split': 15}\n",
            "0.735 (+/-0.123) for {'criterion': 'entropy', 'max_depth': 6, 'min_samples_leaf': 7, 'min_samples_split': 20}\n",
            "0.740 (+/-0.123) for {'criterion': 'entropy', 'max_depth': 6, 'min_samples_leaf': 9, 'min_samples_split': 5}\n",
            "0.740 (+/-0.122) for {'criterion': 'entropy', 'max_depth': 6, 'min_samples_leaf': 9, 'min_samples_split': 10}\n",
            "0.739 (+/-0.124) for {'criterion': 'entropy', 'max_depth': 6, 'min_samples_leaf': 9, 'min_samples_split': 15}\n",
            "0.733 (+/-0.118) for {'criterion': 'entropy', 'max_depth': 6, 'min_samples_leaf': 9, 'min_samples_split': 20}\n",
            "0.723 (+/-0.114) for {'criterion': 'entropy', 'max_depth': 6, 'min_samples_leaf': 11, 'min_samples_split': 5}\n",
            "0.723 (+/-0.114) for {'criterion': 'entropy', 'max_depth': 6, 'min_samples_leaf': 11, 'min_samples_split': 10}\n",
            "0.722 (+/-0.115) for {'criterion': 'entropy', 'max_depth': 6, 'min_samples_leaf': 11, 'min_samples_split': 15}\n",
            "0.723 (+/-0.114) for {'criterion': 'entropy', 'max_depth': 6, 'min_samples_leaf': 11, 'min_samples_split': 20}\n",
            "0.890 (+/-0.112) for {'criterion': 'entropy', 'max_depth': 8, 'min_samples_leaf': 3, 'min_samples_split': 5}\n",
            "0.864 (+/-0.100) for {'criterion': 'entropy', 'max_depth': 8, 'min_samples_leaf': 3, 'min_samples_split': 10}\n",
            "0.835 (+/-0.088) for {'criterion': 'entropy', 'max_depth': 8, 'min_samples_leaf': 3, 'min_samples_split': 15}\n",
            "0.812 (+/-0.080) for {'criterion': 'entropy', 'max_depth': 8, 'min_samples_leaf': 3, 'min_samples_split': 20}\n",
            "0.849 (+/-0.091) for {'criterion': 'entropy', 'max_depth': 8, 'min_samples_leaf': 5, 'min_samples_split': 5}\n",
            "0.848 (+/-0.096) for {'criterion': 'entropy', 'max_depth': 8, 'min_samples_leaf': 5, 'min_samples_split': 10}\n",
            "0.821 (+/-0.095) for {'criterion': 'entropy', 'max_depth': 8, 'min_samples_leaf': 5, 'min_samples_split': 15}\n",
            "0.795 (+/-0.093) for {'criterion': 'entropy', 'max_depth': 8, 'min_samples_leaf': 5, 'min_samples_split': 20}\n",
            "0.817 (+/-0.081) for {'criterion': 'entropy', 'max_depth': 8, 'min_samples_leaf': 7, 'min_samples_split': 5}\n",
            "0.817 (+/-0.081) for {'criterion': 'entropy', 'max_depth': 8, 'min_samples_leaf': 7, 'min_samples_split': 10}\n",
            "0.813 (+/-0.075) for {'criterion': 'entropy', 'max_depth': 8, 'min_samples_leaf': 7, 'min_samples_split': 15}\n",
            "0.788 (+/-0.076) for {'criterion': 'entropy', 'max_depth': 8, 'min_samples_leaf': 7, 'min_samples_split': 20}\n",
            "0.791 (+/-0.076) for {'criterion': 'entropy', 'max_depth': 8, 'min_samples_leaf': 9, 'min_samples_split': 5}\n",
            "0.791 (+/-0.076) for {'criterion': 'entropy', 'max_depth': 8, 'min_samples_leaf': 9, 'min_samples_split': 10}\n",
            "0.792 (+/-0.076) for {'criterion': 'entropy', 'max_depth': 8, 'min_samples_leaf': 9, 'min_samples_split': 15}\n",
            "0.782 (+/-0.072) for {'criterion': 'entropy', 'max_depth': 8, 'min_samples_leaf': 9, 'min_samples_split': 20}\n",
            "0.765 (+/-0.075) for {'criterion': 'entropy', 'max_depth': 8, 'min_samples_leaf': 11, 'min_samples_split': 5}\n",
            "0.766 (+/-0.073) for {'criterion': 'entropy', 'max_depth': 8, 'min_samples_leaf': 11, 'min_samples_split': 10}\n",
            "0.766 (+/-0.075) for {'criterion': 'entropy', 'max_depth': 8, 'min_samples_leaf': 11, 'min_samples_split': 15}\n",
            "0.762 (+/-0.078) for {'criterion': 'entropy', 'max_depth': 8, 'min_samples_leaf': 11, 'min_samples_split': 20}\n",
            "0.928 (+/-0.063) for {'criterion': 'entropy', 'max_depth': 10, 'min_samples_leaf': 3, 'min_samples_split': 5}\n",
            "0.894 (+/-0.059) for {'criterion': 'entropy', 'max_depth': 10, 'min_samples_leaf': 3, 'min_samples_split': 10}\n",
            "0.860 (+/-0.047) for {'criterion': 'entropy', 'max_depth': 10, 'min_samples_leaf': 3, 'min_samples_split': 15}\n",
            "0.837 (+/-0.056) for {'criterion': 'entropy', 'max_depth': 10, 'min_samples_leaf': 3, 'min_samples_split': 20}\n",
            "0.880 (+/-0.045) for {'criterion': 'entropy', 'max_depth': 10, 'min_samples_leaf': 5, 'min_samples_split': 5}\n",
            "0.880 (+/-0.044) for {'criterion': 'entropy', 'max_depth': 10, 'min_samples_leaf': 5, 'min_samples_split': 10}\n",
            "0.846 (+/-0.050) for {'criterion': 'entropy', 'max_depth': 10, 'min_samples_leaf': 5, 'min_samples_split': 15}\n",
            "0.813 (+/-0.068) for {'criterion': 'entropy', 'max_depth': 10, 'min_samples_leaf': 5, 'min_samples_split': 20}\n",
            "0.841 (+/-0.041) for {'criterion': 'entropy', 'max_depth': 10, 'min_samples_leaf': 7, 'min_samples_split': 5}\n",
            "0.841 (+/-0.044) for {'criterion': 'entropy', 'max_depth': 10, 'min_samples_leaf': 7, 'min_samples_split': 10}\n",
            "0.834 (+/-0.044) for {'criterion': 'entropy', 'max_depth': 10, 'min_samples_leaf': 7, 'min_samples_split': 15}\n",
            "0.808 (+/-0.065) for {'criterion': 'entropy', 'max_depth': 10, 'min_samples_leaf': 7, 'min_samples_split': 20}\n",
            "0.808 (+/-0.062) for {'criterion': 'entropy', 'max_depth': 10, 'min_samples_leaf': 9, 'min_samples_split': 5}\n",
            "0.810 (+/-0.065) for {'criterion': 'entropy', 'max_depth': 10, 'min_samples_leaf': 9, 'min_samples_split': 10}\n",
            "0.808 (+/-0.062) for {'criterion': 'entropy', 'max_depth': 10, 'min_samples_leaf': 9, 'min_samples_split': 15}\n",
            "0.795 (+/-0.069) for {'criterion': 'entropy', 'max_depth': 10, 'min_samples_leaf': 9, 'min_samples_split': 20}\n",
            "0.772 (+/-0.076) for {'criterion': 'entropy', 'max_depth': 10, 'min_samples_leaf': 11, 'min_samples_split': 5}\n",
            "0.771 (+/-0.076) for {'criterion': 'entropy', 'max_depth': 10, 'min_samples_leaf': 11, 'min_samples_split': 10}\n",
            "0.771 (+/-0.076) for {'criterion': 'entropy', 'max_depth': 10, 'min_samples_leaf': 11, 'min_samples_split': 15}\n",
            "0.771 (+/-0.076) for {'criterion': 'entropy', 'max_depth': 10, 'min_samples_leaf': 11, 'min_samples_split': 20}\n",
            "____________________________________________ END GRID SEARCH ____________________________________________\n"
          ]
        }
      ]
    },
    {
      "cell_type": "code",
      "source": [
        "results"
      ],
      "metadata": {
        "colab": {
          "base_uri": "https://localhost:8080/"
        },
        "id": "TRgFFp8sapHB",
        "outputId": "c0a5da1a-1f8d-4a66-ffe5-04a96c77c30c"
      },
      "execution_count": null,
      "outputs": [
        {
          "output_type": "execute_result",
          "data": {
            "text/plain": [
              "{'f1_macro': {'criterion': 'entropy',\n",
              "  'max_depth': 10,\n",
              "  'min_samples_leaf': 11,\n",
              "  'min_samples_split': 15}}"
            ]
          },
          "metadata": {},
          "execution_count": 228
        }
      ]
    },
    {
      "cell_type": "code",
      "source": [
        "clf = DecisionTreeClassifier(criterion='entropy', max_depth=10, min_samples_leaf=11, min_samples_split=15, random_state=42)\n",
        "clf.fit(X_train_pca, y_res)\n",
        "\n",
        "y_pred = clf.predict(X_test_pca)\n",
        "\n",
        "print('Accuracy %s' % accuracy_score(y_test, y_pred))\n",
        "print('F1-score %s' % f1_score(y_test, y_pred, average=None))\n",
        "print(classification_report(y_test, y_pred))"
      ],
      "metadata": {
        "colab": {
          "base_uri": "https://localhost:8080/"
        },
        "id": "piuLZnMklO7k",
        "outputId": "2b1a0986-caf0-43c0-fe9c-9adb0a63732b"
      },
      "execution_count": 138,
      "outputs": [
        {
          "output_type": "stream",
          "name": "stdout",
          "text": [
            "Accuracy 0.8527272727272728\n",
            "F1-score [0.92003949 0.06896552]\n",
            "              precision    recall  f1-score   support\n",
            "\n",
            "           0       0.96      0.88      0.92       528\n",
            "           1       0.05      0.14      0.07        22\n",
            "\n",
            "    accuracy                           0.85       550\n",
            "   macro avg       0.50      0.51      0.49       550\n",
            "weighted avg       0.92      0.85      0.89       550\n",
            "\n"
          ]
        }
      ]
    },
    {
      "cell_type": "code",
      "source": [
        "plt.plot(PCA(n_components=37).fit(X_res).explained_variance_ratio_, lw=3, color='r', ms=2)\n",
        "plt.title(\"PCA\")\n",
        "plt.ylabel(\"Fraction of Variance\")\n",
        "plt.show()"
      ],
      "metadata": {
        "colab": {
          "base_uri": "https://localhost:8080/",
          "height": 362
        },
        "id": "LvcBLpr9lXnI",
        "outputId": "27b5a7ac-b1a3-4db8-ceb8-b35d0a8c7f44"
      },
      "execution_count": 139,
      "outputs": [
        {
          "output_type": "display_data",
          "data": {
            "text/plain": [
              "<Figure size 576x396 with 1 Axes>"
            ],
            "image/png": "[encoded data removed]"
          },
          "metadata": {}
        }
      ]
    },
    {
      "cell_type": "markdown",
      "source": [
        "RANDOM SUBSPACE PROJECTION"
      ],
      "metadata": {
        "id": "ffNHZhynlm8u"
      }
    },
    {
      "cell_type": "code",
      "source": [
        "from sklearn import random_projection"
      ],
      "metadata": {
        "id": "jzjsXucWltUV"
      },
      "execution_count": 140,
      "outputs": []
    },
    {
      "cell_type": "code",
      "source": [
        "rsp = random_projection.GaussianRandomProjection(n_components='auto', eps=0.9, random_state=42)\n",
        "X_train_rsp = rsp.fit_transform(X_res)\n",
        "X_train_rsp.shape"
      ],
      "metadata": {
        "colab": {
          "base_uri": "https://localhost:8080/"
        },
        "id": "bYH5ZS8Jlwfv",
        "outputId": "b21b40c4-11a4-42bb-f55f-e867bc73fbda"
      },
      "execution_count": 170,
      "outputs": [
        {
          "output_type": "execute_result",
          "data": {
            "text/plain": [
              "(311, 141)"
            ]
          },
          "metadata": {},
          "execution_count": 170
        }
      ]
    },
    {
      "cell_type": "code",
      "source": [
        "# Visualization\n",
        "import plotly.express as px # for data visualization\n",
        "# Create a scatter plot\n",
        "fig = px.scatter(None, x=X_train_rsp[:,0], y=X_train_rsp[:,1], opacity=1, color=y_res)\n",
        "\n",
        "# Change chart background color\n",
        "fig.update_layout(dict(plot_bgcolor = 'white'))\n",
        "\n",
        "# Update axes lines\n",
        "fig.update_xaxes(showgrid=True, gridwidth=1, gridcolor='lightgrey', \n",
        "                 zeroline=True, zerolinewidth=1, zerolinecolor='lightgrey', \n",
        "                 showline=True, linewidth=1, linecolor='black')\n",
        "\n",
        "fig.update_yaxes(showgrid=True, gridwidth=1, gridcolor='lightgrey', \n",
        "                 zeroline=True, zerolinewidth=1, zerolinecolor='lightgrey', \n",
        "                 showline=True, linewidth=1, linecolor='black')\n",
        "\n",
        "# Set figure title\n",
        "fig.update_layout(title_text=\"GRP Transformation\")\n",
        "\n",
        "# Update marker size\n",
        "fig.update_traces(marker=dict(size=5,\n",
        "                             line=dict(color='black', width=0.2)))\n",
        "\n",
        "fig.show()"
      ],
      "metadata": {
        "colab": {
          "base_uri": "https://localhost:8080/",
          "height": 542
        },
        "id": "7PsK1aFvqhiQ",
        "outputId": "dad51ff5-5f89-4b65-9c19-6b287769ddd4"
      },
      "execution_count": 172,
      "outputs": [
        {
          "output_type": "display_data",
          "data": {
            "text/html": [
              "<html>\n",
              "<head><meta charset=\"utf-8\" /></head>\n",
              "<body>\n",
              "    <div>            <script src=\"https://cdnjs.cloudflare.com/ajax/libs/mathjax/2.7.5/MathJax.js?config=TeX-AMS-MML_SVG\"></script><script type=\"text/javascript\">if (window.MathJax) {MathJax.Hub.Config({SVG: {font: \"STIX-Web\"}});}</script>                <script type=\"text/javascript\">window.PlotlyConfig = {MathJaxConfig: 'local'};</script>\n",
              "        <script src=\"https://cdn.plot.ly/plotly-2.8.3.min.js\"></script>                <div id=\"4181be3e-cfec-4ba3-8f0d-5a3e3c0fab30\" class=\"plotly-graph-div\" style=\"height:525px; width:100%;\"></div>            <script type=\"text/javascript\">                                    window.PLOTLYENV=window.PLOTLYENV || {};                                    if (document.getElementById(\"4181be3e-cfec-4ba3-8f0d-5a3e3c0fab30\")) {                    Plotly.newPlot(                        \"4181be3e-cfec-4ba3-8f0d-5a3e3c0fab30\",                        [{\"hovertemplate\":\"x=%{x}<br>y=%{y}<br>color=%{marker.color}<extra></extra>\",\"legendgroup\":\"\",\"marker\":{\"color\":[0,0,0,0,0,0,0,0,0,0,0,0,0,0,0,0,0,0,0,0,0,0,0,0,0,0,0,0,0,0,0,0,0,0,0,0,0,0,0,0,0,0,0,0,0,0,0,0,0,0,0,0,0,0,0,0,0,0,0,0,0,0,0,0,0,0,0,0,0,0,0,0,0,0,0,0,0,0,0,0,0,0,0,0,0,0,0,0,0,0,0,0,0,0,0,0,0,0,0,0,0,0,0,0,0,0,0,0,0,0,0,0,0,0,0,0,0,0,0,0,0,0,0,0,0,0,0,0,0,0,0,0,0,0,0,0,0,0,0,0,0,0,0,0,0,0,0,0,0,0,0,0,0,0,0,0,0,0,0,0,0,0,0,0,0,0,0,0,0,0,0,0,0,0,0,0,0,0,0,0,0,0,0,0,0,0,0,0,0,0,0,0,0,0,0,0,0,0,0,0,0,0,0,0,0,0,0,0,0,0,0,0,0,0,0,0,0,0,0,0,0,0,0,0,0,0,0,0,0,0,0,0,0,0,0,0,0,0,0,0,0,0,0,0,0,0,0,1,1,1,1,1,1,1,1,1,1,1,1,1,1,1,1,1,1,1,1,1,1,1,1,1,1,1,1,1,1,1,1,1,1,1,1,1,1,1,1,1,1,1,1,1,1,1,1,1,1,1,1,1,1,1,1,1,1,1,1,1,1,1,1],\"coloraxis\":\"coloraxis\",\"opacity\":1,\"symbol\":\"circle\",\"line\":{\"color\":\"black\",\"width\":0.2},\"size\":5},\"mode\":\"markers\",\"name\":\"\",\"orientation\":\"v\",\"showlegend\":false,\"x\":[-0.853933508015287,1.8805556706876827,0.27526096319892607,-0.9659866231113283,-0.19247566421597273,-0.36169321884969635,0.43086293435428136,2.784353344528376,1.2775380775961043,0.4082370361250352,1.6245614376359383,-1.0417175436258992,0.6821921254375938,-0.7438936077770614,-0.6439739857152962,-0.14690137052945315,0.4739476402903763,2.246180433901604,2.076155854611714,-0.44848242440387776,-3.413827403244356,1.4785052579316038,-0.5421644600849451,0.07159982700861858,-0.050040527833367446,1.4427666796579464,2.319925885016264,2.4896537741071674,1.8864837538860943,0.058034319608560016,-0.3455895825817608,0.08019373247921842,0.029002656619629242,0.33216290888651007,-2.7658818060358263,-1.5250474821495608,-0.4712929203711466,-1.8637495364193457,-1.410322150335572,-0.011760560891816773,-1.3956281492797284,0.940637488071925,-1.9961477204785623,-0.9082870728395639,0.483858117735504,0.046717564956919984,1.5141676860665338,0.2969383858926042,-1.7514036189692275,1.2093583615661203,-1.3158592990642877,-1.479962236025717,-0.8110526216453672,1.507984262429784,1.4806595743370043,-1.3587635161859528,0.4244830882364484,-1.2086813949930046,0.9878883554177836,-0.8716894843538807,1.1425152300637784,-0.5484548409479468,-0.1593509738717855,-2.477076721468903,1.2218994904148905,0.10576486943889672,0.7622612220995469,-3.7145259820727294,0.7719024311963255,-0.6210136392590845,-0.7756550024249212,-2.127153768835264,-1.2359416694519658,-0.2427680670416747,0.371101819685733,0.15997961167194374,0.23794051157132226,0.07421486950447406,0.05394918873073697,-1.8698899282091155,0.6790765377755427,-1.550518673561889,-0.5995534434955501,-0.5154318320341936,0.9298050407153665,-0.08646818033430925,-0.517414520138478,-1.8001578786859747,0.45490898948840724,-0.049873689112001296,0.0873245337640647,0.7270951831738577,1.4347376692403118,0.8179127200255122,0.6151338602589814,1.147805131955779,-1.9934474113554934,0.7364978146435422,-0.802032459784517,-0.8273965799962286,-1.3993248659271065,-0.30586831854060104,-0.5372602023158571,0.378514816218727,-1.7267967308667582,-0.3124977374353106,1.588484767975726,-0.6645195858069439,-0.7876954923177579,-0.1576484687400796,-0.45685909135824804,0.29837449412214795,-0.08391826180682503,0.07318916369068931,0.3324355382456907,0.31250312683518844,-0.7062007915347671,0.1862120375853717,-2.3539524366203026,-2.0181917153778555,0.5203494737838522,1.4907793431564422,0.6944677981873922,0.42221870904877357,-1.2457928111713583,0.3011815358911888,-0.5610578336589342,-0.35569044432044206,-0.1468904167572022,0.1869217152860547,1.1574014473101204,-0.6343749353430537,-1.8561517580391411,-0.09991954604378506,0.11267383841387128,-1.4939634042242995,0.7532766916736076,-3.5992200838776194,-1.2336478275059501,-2.0452736260456548,1.2137532198711933,-1.3524435632559795,0.3291851792802659,0.1639668865003411,1.3138017696449222,-0.149212258464082,-0.11185230445636131,0.45519554500030973,-1.0589342432184905,-0.27329690647549826,-1.069788658784847,0.12402864446959218,-1.459923764681718,-0.2404900853317088,-0.13985911332603046,-0.9753719553844427,-0.6391689198489992,0.07380322942263967,-0.46039028183594827,-1.4034828103652808,0.7814713455463154,-0.3674154801736457,-0.17510162514101252,-0.9331405680749899,-1.3835731401052016,-0.6390614537704113,-0.8473720072395071,1.1993145804369936,0.9558959014662572,0.8870658793187111,-0.7013198700536603,-1.442060759519218,0.9847283772267248,0.6745236372536735,2.720823876490695,0.010659025590422493,0.7231443073828902,-1.2187488983122976,0.20639301082007913,0.06045193349419443,-0.7929112454294921,-2.7789639523639122,-0.6065178525416176,0.24696756727120017,-1.068690153645462,-0.08628019240028692,-0.7824470652352623,0.5537175210280789,0.3470403370179541,-1.5776476387144303,-0.9366938005876065,1.0893475886711166,-1.6032128999081163,-1.5180101449655443,-1.0333504740202666,-2.765166075773391,-1.7382824880896937,0.8909390343761038,-1.0671680851589747,-0.18530591651344708,-0.42588099176470545,-0.7897968617401445,1.1623744006433308,0.7980119309587547,-0.7729071830798498,-1.1012910383359653,-1.8434970178547783,-0.8979943266824559,-2.811454800967729,0.29577480030662856,-1.6597333858775922,0.5572982469886385,-1.1125561313085077,0.6329720887988316,-1.929514469491765,-0.7928172247498647,-1.9376717597672275,-0.5064318408105808,0.6360780511144398,-2.1323300563140704,1.514868439006651,-0.6201540034562419,2.14539621696557,1.2375874936097768,0.8832911278696057,-0.0062042067105395025,-0.16874376771191715,-0.306242740144035,0.50212635949715,-0.5186357194904271,1.132704347535396,-0.5817881301250047,0.6632835374995938,-0.0665702896106532,-1.151874587014415,-1.6559683656586162,-0.23400051161609403,-1.195594845858801,-1.4183729924522956,-0.24900226458874358,1.9461517227915452,1.8354153077469624,-2.2469782386419492,-0.4159700008238792,1.301540787622235,-1.5800605595560187,-0.3588595433597213,0.22066821415394955,-0.463691614722,0.8550734927896535,1.8226194566109302,-2.4116761869842165,-1.931956993506441,-0.9953727743213765,0.032411008591391996,2.011504674293939,-0.051465229291674124,0.6634748710249981,0.939995594133102,1.729099314020565,0.38484385124147935,0.1621194928920281,-2.9782532443458125,-1.61112743763516,-0.02594275724599468,-1.3630079906882007,0.8265767094880574,-1.6948124602307075,-1.5712782281849695,-0.1865356234705791,-0.350385246260028,-0.29505332789741945,-1.4125768848421625,1.0768467849747405,1.1246414506610984,-0.6568549990826719,1.3367229877486273,0.6883634938172712,-1.589819132828651,1.5520117497878558,0.3507285904689765,-0.7215785506906957,1.0363813386415615,2.372520713009616,0.3144957712977203,-0.8367198044331208,0.7428073664980128,-0.37300884848681604,0.1441232433017947,1.5817097980040076,1.3179655275663098,-0.7689089971323477,-0.4734917205545713,-1.4536899433077413,-1.098048255467027,-0.40593386229663114,0.23192177006618878,0.07412051495818753,-0.9653498965082191,1.9148175645239698,-0.24930856734179616,0.708459015415003,-5.334003717559275,-1.6057137982356104,-0.07695675944742326,-4.687082616840506,0.0812246065091048,-0.03783675452966032,-0.4898295125236012,0.953479633067064,-0.2929274893633449],\"xaxis\":\"x\",\"y\":[-0.6561650406187977,2.117518569797283,-3.2203498744252763,-0.8646309846633761,0.8756943883908055,-1.535425176755077,-1.0241386517384987,3.2533813095892485,-1.1480632470660643,0.3053842263533471,0.5160785109100727,0.8532325891860946,0.6196661703124359,-0.6913202310012379,-0.18742728412228798,1.0851471561664099,-1.5745136057521063,0.4394249336037253,1.4917087882796087,-2.742912249843208,2.004387847202143,1.405755897421722,0.053649716279697585,-1.221225877522968,1.6012274442007242,0.6837041764648121,0.2504321794395058,1.0719033627489758,1.4600779252037008,-1.818426205818808,-1.7910421305843915,0.0674342214999153,0.30334881167165106,0.16326900188739782,0.010704694207471329,-0.3569471501223974,-0.7232065820361796,0.3852402981107722,-0.22837769145535183,0.7523913213990372,6.090722024123375e-06,0.38044633609999057,1.5949761167950824,0.29787535308252344,0.3037770116682292,0.516711052819481,1.6696406141990168,0.6408533532087312,-1.551857035721586,-0.14662933486027177,-1.1576113450558527,-0.1412819185525271,-0.744071111237282,0.4271370464297293,0.5850876940362605,-0.3789930579346657,-0.7826846245315237,0.7489202926793144,-0.5646266710605516,-0.9601639967280782,1.4255741779527014,-0.31877326443468007,-0.3314128174514401,-1.189766114345193,0.41487281217380706,0.11864942605789554,-0.33937732425216915,-1.3132220069554887,1.2785857106958103,1.6136438397793151,0.6108627976235124,0.0604643640772224,-1.2834356951667123,0.6458502638315985,0.9609913666089507,-0.14870593381544944,-2.3416377238162114,-0.0699239723392976,-0.38860621190558153,-1.6768378338405014,0.015999641942411557,0.13442370714299948,0.05152971060213778,0.7691525495936606,0.5705309578545774,0.34433851171410473,0.35826653188587004,0.3046320078010596,0.5410201721052196,0.18577596249360803,0.19439231597564965,-0.1236155992737122,0.014473012060556642,-0.9933579063134129,1.0612968678063766,0.9506693422099013,1.5492829505786532,-0.546731805205213,1.191680474724678,-0.0793657839391685,1.0613036320678835,-0.31015821580758696,0.7580301577407446,-0.3598093219215549,0.7993711114183238,0.38426445922406577,0.4744575274873,-0.18889601197526854,-0.05869433082149249,-0.6671734819593553,0.18975744640847,-0.3032297277148481,1.0463681476842879,-2.208335303906366,1.5073759328060259,0.24340963452591247,-0.8516837056711449,0.04474707053765014,0.4881458796786372,-0.9180613794979183,0.018099100676912887,-0.9659230523750882,-1.1437856645933693,-0.5535041398756103,0.47928599086647733,0.648960123020032,0.1933243596081256,0.6900840131047986,0.6881090623795623,0.3367243674148217,-0.04063524944335095,-0.7937959566871619,-0.019109190152220228,0.6670056123542856,1.1001850553393442,-1.1446161612775165,2.120330188702775,-2.2164203482792626,0.016819980121093,0.30649974665359564,-1.7660041441467196,1.4842878042922039,1.4674364712573202,0.7785353898034812,0.08695243269748537,0.06468483146661834,1.19760919127193,0.1396151225476736,-0.1245756022206836,-0.8222134687245871,-0.15225522321013826,1.1832885403254187,0.05156240583130907,1.3636177995982948,-0.7938795438343547,0.9927675640597358,0.05061566456499562,-0.7012575130183234,0.9641741648009367,-0.07246775488005432,0.4569137058535216,0.01946809400483688,0.28888774283148255,1.4470809942317249,-0.567691681167347,-0.08384356343053485,1.9269299721606519,1.2329080926556035,0.2945648603367724,-0.25672050215787706,-0.7449571267248034,-1.4210412761582087,0.16656624690944058,0.9352833227588369,1.1647693184463055,0.11157311511085695,1.2748563101680086,-0.256075956821156,0.10820353692112536,-0.0198306808593032,-0.39464902466774443,-1.6359962736107876,-1.2124081652822638,1.8465277025506661,-0.5884069570593167,2.507889982224751,-1.6019388979979072,0.8050264875709425,0.09345120057886178,-0.03541715660853736,-0.15966282650479244,0.4702977340197328,-2.494922996593063,0.36417414412091004,0.9229779789296456,3.0537333672546345,2.2180751074523393,0.8852079569083944,-0.09622293724795687,0.15451484113692712,0.6501944113928275,-0.6223442516345374,-0.05463441037178768,0.23440899622688566,-0.9070306547278549,-0.3383500873385543,-0.6015980434000809,0.5275909576139303,0.7299216970979747,0.05938841028976417,-0.6195890104905211,1.4056469790163404,0.46300664142527687,0.49877265710715374,-0.6715580709159962,-1.1423348281387389,-0.3023596453142764,-0.19375809912352454,1.384402747279916,1.6261031510712805,-0.229517981469026,-0.05915412437635849,-0.7163711460087396,-1.826884673652797,1.1946281769439009,-0.4320061018259957,-1.1349464029948697,0.603502734461386,-1.0472836553320093,-0.6859421185655021,-1.3841965002629315,0.30484507624013596,0.8627762846878747,0.3335381042787154,0.697161593099179,-1.5223710068371599,0.23950029962366254,0.2853742724030051,-0.6291863731726316,0.8314695543553311,-0.5298353696416823,1.3293085881734994,-1.6842081640037494,0.5093472541141634,0.8198415892627876,-0.37769300007986245,-0.24663486546434923,-1.4382450751972542,-0.0822254057850833,0.8004546060587551,0.6986959056964464,-0.5536519735454831,0.5225653559795242,0.8552904303225597,1.0479664121140448,0.5052555711724649,0.06737397524290258,-0.4643329288720235,0.07536298324514451,0.2143451496500366,-0.4193014865048259,0.798976722015428,-1.430299081118764,-0.47970906400358515,0.6062097878736376,0.9471347514228444,0.8516371614318045,-0.05670198518584779,0.6491346500377009,-0.5740057874190957,-0.7326937615254266,-0.3238758289202877,-1.0030215955429256,1.3151211071427307,0.7695030881384384,-1.5084643678193121,0.9300923606134028,0.49908933266384586,-0.05570033521173216,1.5108830761742869,1.6694868186608134,2.1097454844531236,-0.034235956302651374,-0.00392895784362867,0.2422908277743526,2.2107646435769905,-1.4739203630776616,-0.40063510664544366,-0.47021206795657916,0.5062521669339353,0.6663879442411134,-0.23478072267231356,0.010652128849778718,-0.4970709050485303,1.3938054174574328,-0.7893542115888829,-0.14600883314264343,0.5633031328078986,0.03397734515468646,1.717926846668145,0.8891982111337248,0.9991960737559797,2.7167232718860834,-1.2634304970752932,-0.4670834217301841,-2.0538586481839607,0.7776657204524159,0.4330835955293147,-0.4744129567216815,0.21354731213183598,0.38655600441294213],\"yaxis\":\"y\",\"type\":\"scatter\"}],                        {\"template\":{\"data\":{\"bar\":[{\"error_x\":{\"color\":\"#2a3f5f\"},\"error_y\":{\"color\":\"#2a3f5f\"},\"marker\":{\"line\":{\"color\":\"#E5ECF6\",\"width\":0.5},\"pattern\":{\"fillmode\":\"overlay\",\"size\":10,\"solidity\":0.2}},\"type\":\"bar\"}],\"barpolar\":[{\"marker\":{\"line\":{\"color\":\"#E5ECF6\",\"width\":0.5},\"pattern\":{\"fillmode\":\"overlay\",\"size\":10,\"solidity\":0.2}},\"type\":\"barpolar\"}],\"carpet\":[{\"aaxis\":{\"endlinecolor\":\"#2a3f5f\",\"gridcolor\":\"white\",\"linecolor\":\"white\",\"minorgridcolor\":\"white\",\"startlinecolor\":\"#2a3f5f\"},\"baxis\":{\"endlinecolor\":\"#2a3f5f\",\"gridcolor\":\"white\",\"linecolor\":\"white\",\"minorgridcolor\":\"white\",\"startlinecolor\":\"#2a3f5f\"},\"type\":\"carpet\"}],\"choropleth\":[{\"colorbar\":{\"outlinewidth\":0,\"ticks\":\"\"},\"type\":\"choropleth\"}],\"contour\":[{\"colorbar\":{\"outlinewidth\":0,\"ticks\":\"\"},\"colorscale\":[[0.0,\"#0d0887\"],[0.1111111111111111,\"#46039f\"],[0.2222222222222222,\"#7201a8\"],[0.3333333333333333,\"#9c179e\"],[0.4444444444444444,\"#bd3786\"],[0.5555555555555556,\"#d8576b\"],[0.6666666666666666,\"#ed7953\"],[0.7777777777777778,\"#fb9f3a\"],[0.8888888888888888,\"#fdca26\"],[1.0,\"#f0f921\"]],\"type\":\"contour\"}],\"contourcarpet\":[{\"colorbar\":{\"outlinewidth\":0,\"ticks\":\"\"},\"type\":\"contourcarpet\"}],\"heatmap\":[{\"colorbar\":{\"outlinewidth\":0,\"ticks\":\"\"},\"colorscale\":[[0.0,\"#0d0887\"],[0.1111111111111111,\"#46039f\"],[0.2222222222222222,\"#7201a8\"],[0.3333333333333333,\"#9c179e\"],[0.4444444444444444,\"#bd3786\"],[0.5555555555555556,\"#d8576b\"],[0.6666666666666666,\"#ed7953\"],[0.7777777777777778,\"#fb9f3a\"],[0.8888888888888888,\"#fdca26\"],[1.0,\"#f0f921\"]],\"type\":\"heatmap\"}],\"heatmapgl\":[{\"colorbar\":{\"outlinewidth\":0,\"ticks\":\"\"},\"colorscale\":[[0.0,\"#0d0887\"],[0.1111111111111111,\"#46039f\"],[0.2222222222222222,\"#7201a8\"],[0.3333333333333333,\"#9c179e\"],[0.4444444444444444,\"#bd3786\"],[0.5555555555555556,\"#d8576b\"],[0.6666666666666666,\"#ed7953\"],[0.7777777777777778,\"#fb9f3a\"],[0.8888888888888888,\"#fdca26\"],[1.0,\"#f0f921\"]],\"type\":\"heatmapgl\"}],\"histogram\":[{\"marker\":{\"pattern\":{\"fillmode\":\"overlay\",\"size\":10,\"solidity\":0.2}},\"type\":\"histogram\"}],\"histogram2d\":[{\"colorbar\":{\"outlinewidth\":0,\"ticks\":\"\"},\"colorscale\":[[0.0,\"#0d0887\"],[0.1111111111111111,\"#46039f\"],[0.2222222222222222,\"#7201a8\"],[0.3333333333333333,\"#9c179e\"],[0.4444444444444444,\"#bd3786\"],[0.5555555555555556,\"#d8576b\"],[0.6666666666666666,\"#ed7953\"],[0.7777777777777778,\"#fb9f3a\"],[0.8888888888888888,\"#fdca26\"],[1.0,\"#f0f921\"]],\"type\":\"histogram2d\"}],\"histogram2dcontour\":[{\"colorbar\":{\"outlinewidth\":0,\"ticks\":\"\"},\"colorscale\":[[0.0,\"#0d0887\"],[0.1111111111111111,\"#46039f\"],[0.2222222222222222,\"#7201a8\"],[0.3333333333333333,\"#9c179e\"],[0.4444444444444444,\"#bd3786\"],[0.5555555555555556,\"#d8576b\"],[0.6666666666666666,\"#ed7953\"],[0.7777777777777778,\"#fb9f3a\"],[0.8888888888888888,\"#fdca26\"],[1.0,\"#f0f921\"]],\"type\":\"histogram2dcontour\"}],\"mesh3d\":[{\"colorbar\":{\"outlinewidth\":0,\"ticks\":\"\"},\"type\":\"mesh3d\"}],\"parcoords\":[{\"line\":{\"colorbar\":{\"outlinewidth\":0,\"ticks\":\"\"}},\"type\":\"parcoords\"}],\"pie\":[{\"automargin\":true,\"type\":\"pie\"}],\"scatter\":[{\"marker\":{\"colorbar\":{\"outlinewidth\":0,\"ticks\":\"\"}},\"type\":\"scatter\"}],\"scatter3d\":[{\"line\":{\"colorbar\":{\"outlinewidth\":0,\"ticks\":\"\"}},\"marker\":{\"colorbar\":{\"outlinewidth\":0,\"ticks\":\"\"}},\"type\":\"scatter3d\"}],\"scattercarpet\":[{\"marker\":{\"colorbar\":{\"outlinewidth\":0,\"ticks\":\"\"}},\"type\":\"scattercarpet\"}],\"scattergeo\":[{\"marker\":{\"colorbar\":{\"outlinewidth\":0,\"ticks\":\"\"}},\"type\":\"scattergeo\"}],\"scattergl\":[{\"marker\":{\"colorbar\":{\"outlinewidth\":0,\"ticks\":\"\"}},\"type\":\"scattergl\"}],\"scattermapbox\":[{\"marker\":{\"colorbar\":{\"outlinewidth\":0,\"ticks\":\"\"}},\"type\":\"scattermapbox\"}],\"scatterpolar\":[{\"marker\":{\"colorbar\":{\"outlinewidth\":0,\"ticks\":\"\"}},\"type\":\"scatterpolar\"}],\"scatterpolargl\":[{\"marker\":{\"colorbar\":{\"outlinewidth\":0,\"ticks\":\"\"}},\"type\":\"scatterpolargl\"}],\"scatterternary\":[{\"marker\":{\"colorbar\":{\"outlinewidth\":0,\"ticks\":\"\"}},\"type\":\"scatterternary\"}],\"surface\":[{\"colorbar\":{\"outlinewidth\":0,\"ticks\":\"\"},\"colorscale\":[[0.0,\"#0d0887\"],[0.1111111111111111,\"#46039f\"],[0.2222222222222222,\"#7201a8\"],[0.3333333333333333,\"#9c179e\"],[0.4444444444444444,\"#bd3786\"],[0.5555555555555556,\"#d8576b\"],[0.6666666666666666,\"#ed7953\"],[0.7777777777777778,\"#fb9f3a\"],[0.8888888888888888,\"#fdca26\"],[1.0,\"#f0f921\"]],\"type\":\"surface\"}],\"table\":[{\"cells\":{\"fill\":{\"color\":\"#EBF0F8\"},\"line\":{\"color\":\"white\"}},\"header\":{\"fill\":{\"color\":\"#C8D4E3\"},\"line\":{\"color\":\"white\"}},\"type\":\"table\"}]},\"layout\":{\"annotationdefaults\":{\"arrowcolor\":\"#2a3f5f\",\"arrowhead\":0,\"arrowwidth\":1},\"autotypenumbers\":\"strict\",\"coloraxis\":{\"colorbar\":{\"outlinewidth\":0,\"ticks\":\"\"}},\"colorscale\":{\"diverging\":[[0,\"#8e0152\"],[0.1,\"#c51b7d\"],[0.2,\"#de77ae\"],[0.3,\"#f1b6da\"],[0.4,\"#fde0ef\"],[0.5,\"#f7f7f7\"],[0.6,\"#e6f5d0\"],[0.7,\"#b8e186\"],[0.8,\"#7fbc41\"],[0.9,\"#4d9221\"],[1,\"#276419\"]],\"sequential\":[[0.0,\"#0d0887\"],[0.1111111111111111,\"#46039f\"],[0.2222222222222222,\"#7201a8\"],[0.3333333333333333,\"#9c179e\"],[0.4444444444444444,\"#bd3786\"],[0.5555555555555556,\"#d8576b\"],[0.6666666666666666,\"#ed7953\"],[0.7777777777777778,\"#fb9f3a\"],[0.8888888888888888,\"#fdca26\"],[1.0,\"#f0f921\"]],\"sequentialminus\":[[0.0,\"#0d0887\"],[0.1111111111111111,\"#46039f\"],[0.2222222222222222,\"#7201a8\"],[0.3333333333333333,\"#9c179e\"],[0.4444444444444444,\"#bd3786\"],[0.5555555555555556,\"#d8576b\"],[0.6666666666666666,\"#ed7953\"],[0.7777777777777778,\"#fb9f3a\"],[0.8888888888888888,\"#fdca26\"],[1.0,\"#f0f921\"]]},\"colorway\":[\"#636efa\",\"#EF553B\",\"#00cc96\",\"#ab63fa\",\"#FFA15A\",\"#19d3f3\",\"#FF6692\",\"#B6E880\",\"#FF97FF\",\"#FECB52\"],\"font\":{\"color\":\"#2a3f5f\"},\"geo\":{\"bgcolor\":\"white\",\"lakecolor\":\"white\",\"landcolor\":\"#E5ECF6\",\"showlakes\":true,\"showland\":true,\"subunitcolor\":\"white\"},\"hoverlabel\":{\"align\":\"left\"},\"hovermode\":\"closest\",\"mapbox\":{\"style\":\"light\"},\"paper_bgcolor\":\"white\",\"plot_bgcolor\":\"#E5ECF6\",\"polar\":{\"angularaxis\":{\"gridcolor\":\"white\",\"linecolor\":\"white\",\"ticks\":\"\"},\"bgcolor\":\"#E5ECF6\",\"radialaxis\":{\"gridcolor\":\"white\",\"linecolor\":\"white\",\"ticks\":\"\"}},\"scene\":{\"xaxis\":{\"backgroundcolor\":\"#E5ECF6\",\"gridcolor\":\"white\",\"gridwidth\":2,\"linecolor\":\"white\",\"showbackground\":true,\"ticks\":\"\",\"zerolinecolor\":\"white\"},\"yaxis\":{\"backgroundcolor\":\"#E5ECF6\",\"gridcolor\":\"white\",\"gridwidth\":2,\"linecolor\":\"white\",\"showbackground\":true,\"ticks\":\"\",\"zerolinecolor\":\"white\"},\"zaxis\":{\"backgroundcolor\":\"#E5ECF6\",\"gridcolor\":\"white\",\"gridwidth\":2,\"linecolor\":\"white\",\"showbackground\":true,\"ticks\":\"\",\"zerolinecolor\":\"white\"}},\"shapedefaults\":{\"line\":{\"color\":\"#2a3f5f\"}},\"ternary\":{\"aaxis\":{\"gridcolor\":\"white\",\"linecolor\":\"white\",\"ticks\":\"\"},\"baxis\":{\"gridcolor\":\"white\",\"linecolor\":\"white\",\"ticks\":\"\"},\"bgcolor\":\"#E5ECF6\",\"caxis\":{\"gridcolor\":\"white\",\"linecolor\":\"white\",\"ticks\":\"\"}},\"title\":{\"x\":0.05},\"xaxis\":{\"automargin\":true,\"gridcolor\":\"white\",\"linecolor\":\"white\",\"ticks\":\"\",\"title\":{\"standoff\":15},\"zerolinecolor\":\"white\",\"zerolinewidth\":2},\"yaxis\":{\"automargin\":true,\"gridcolor\":\"white\",\"linecolor\":\"white\",\"ticks\":\"\",\"title\":{\"standoff\":15},\"zerolinecolor\":\"white\",\"zerolinewidth\":2}}},\"xaxis\":{\"anchor\":\"y\",\"domain\":[0.0,1.0],\"title\":{\"text\":\"x\"},\"showgrid\":true,\"gridwidth\":1,\"gridcolor\":\"lightgrey\",\"zeroline\":true,\"zerolinewidth\":1,\"zerolinecolor\":\"lightgrey\",\"showline\":true,\"linewidth\":1,\"linecolor\":\"black\"},\"yaxis\":{\"anchor\":\"x\",\"domain\":[0.0,1.0],\"title\":{\"text\":\"y\"},\"showgrid\":true,\"gridwidth\":1,\"gridcolor\":\"lightgrey\",\"zeroline\":true,\"zerolinewidth\":1,\"zerolinecolor\":\"lightgrey\",\"showline\":true,\"linewidth\":1,\"linecolor\":\"black\"},\"coloraxis\":{\"colorbar\":{\"title\":{\"text\":\"color\"}},\"colorscale\":[[0.0,\"#0d0887\"],[0.1111111111111111,\"#46039f\"],[0.2222222222222222,\"#7201a8\"],[0.3333333333333333,\"#9c179e\"],[0.4444444444444444,\"#bd3786\"],[0.5555555555555556,\"#d8576b\"],[0.6666666666666666,\"#ed7953\"],[0.7777777777777778,\"#fb9f3a\"],[0.8888888888888888,\"#fdca26\"],[1.0,\"#f0f921\"]]},\"legend\":{\"tracegroupgap\":0},\"margin\":{\"t\":60},\"plot_bgcolor\":\"white\",\"title\":{\"text\":\"GRP Transformation\"}},                        {\"responsive\": true}                    ).then(function(){\n",
              "                            \n",
              "var gd = document.getElementById('4181be3e-cfec-4ba3-8f0d-5a3e3c0fab30');\n",
              "var x = new MutationObserver(function (mutations, observer) {{\n",
              "        var display = window.getComputedStyle(gd).display;\n",
              "        if (!display || display === 'none') {{\n",
              "            console.log([gd, 'removed!']);\n",
              "            Plotly.purge(gd);\n",
              "            observer.disconnect();\n",
              "        }}\n",
              "}});\n",
              "\n",
              "// Listen for the removal of the full notebook cells\n",
              "var notebookContainer = gd.closest('#notebook-container');\n",
              "if (notebookContainer) {{\n",
              "    x.observe(notebookContainer, {childList: true});\n",
              "}}\n",
              "\n",
              "// Listen for the clearing of the current output cell\n",
              "var outputEl = gd.closest('.output');\n",
              "if (outputEl) {{\n",
              "    x.observe(outputEl, {childList: true});\n",
              "}}\n",
              "\n",
              "                        })                };                            </script>        </div>\n",
              "</body>\n",
              "</html>"
            ]
          },
          "metadata": {}
        }
      ]
    },
    {
      "cell_type": "code",
      "source": [
        "plt.scatter(X_train_rsp[:, 0], X_train_rsp[:, 1], c=y_res, cmap=plt.cm.prism, edgecolor='k', alpha=0.7)\n",
        "plt.show()"
      ],
      "metadata": {
        "colab": {
          "base_uri": "https://localhost:8080/",
          "height": 347
        },
        "id": "7XGFzGkEl48w",
        "outputId": "219be0c8-e44e-4878-c1d4-30ccd553b211"
      },
      "execution_count": 159,
      "outputs": [
        {
          "output_type": "display_data",
          "data": {
            "text/plain": [
              "<Figure size 576x396 with 1 Axes>"
            ],
            "image/png": "[encoded data removed]"
          },
          "metadata": {}
        }
      ]
    },
    {
      "cell_type": "code",
      "source": [
        "check_params ={\"criterion\":[\"gini\", \"entropy\"],\n",
        "         \"max_depth\":[4, 6, 8, 10],\n",
        "         \"min_samples_split\": [5, 10, 15, 20],\n",
        "         \"min_samples_leaf\": [3, 5, 7, 9, 11]}\n",
        "dt=DecisionTreeClassifier()\n",
        "results = customGridSearch(X_train_rsp, y_res, dt, check_params, \"f1_macro\")"
      ],
      "metadata": {
        "colab": {
          "base_uri": "https://localhost:8080/"
        },
        "id": "-U3PZcGUbkrn",
        "outputId": "165a6f56-007d-48ba-8ed0-d8f4573c4fdf"
      },
      "execution_count": 160,
      "outputs": [
        {
          "output_type": "stream",
          "name": "stdout",
          "text": [
            "____________________________________________ START GRID SEARCH ____________________________________________\n",
            "------- Score = f1_macro------- \n",
            "\n",
            "> Fold = RepeatedStratifiedKFold(n_repeats=10, n_splits=5, random_state=None)\n",
            "\n",
            "> Best Parameter set: \n",
            "\n",
            "{'criterion': 'entropy', 'max_depth': 10, 'min_samples_leaf': 3, 'min_samples_split': 5}\n",
            "\n",
            "> Grid scores:\n",
            "\n",
            "...........RESULTS FOR TRAINING.........\n",
            "........................................\n",
            "0.799 (+/-0.099) for {'criterion': 'gini', 'max_depth': 4, 'min_samples_leaf': 3, 'min_samples_split': 5}\n",
            "0.793 (+/-0.099) for {'criterion': 'gini', 'max_depth': 4, 'min_samples_leaf': 3, 'min_samples_split': 10}\n",
            "0.788 (+/-0.096) for {'criterion': 'gini', 'max_depth': 4, 'min_samples_leaf': 3, 'min_samples_split': 15}\n",
            "0.774 (+/-0.097) for {'criterion': 'gini', 'max_depth': 4, 'min_samples_leaf': 3, 'min_samples_split': 20}\n",
            "0.792 (+/-0.082) for {'criterion': 'gini', 'max_depth': 4, 'min_samples_leaf': 5, 'min_samples_split': 5}\n",
            "0.791 (+/-0.083) for {'criterion': 'gini', 'max_depth': 4, 'min_samples_leaf': 5, 'min_samples_split': 10}\n",
            "0.785 (+/-0.085) for {'criterion': 'gini', 'max_depth': 4, 'min_samples_leaf': 5, 'min_samples_split': 15}\n",
            "0.774 (+/-0.085) for {'criterion': 'gini', 'max_depth': 4, 'min_samples_leaf': 5, 'min_samples_split': 20}\n",
            "0.777 (+/-0.081) for {'criterion': 'gini', 'max_depth': 4, 'min_samples_leaf': 7, 'min_samples_split': 5}\n",
            "0.778 (+/-0.081) for {'criterion': 'gini', 'max_depth': 4, 'min_samples_leaf': 7, 'min_samples_split': 10}\n",
            "0.778 (+/-0.080) for {'criterion': 'gini', 'max_depth': 4, 'min_samples_leaf': 7, 'min_samples_split': 15}\n",
            "0.766 (+/-0.082) for {'criterion': 'gini', 'max_depth': 4, 'min_samples_leaf': 7, 'min_samples_split': 20}\n",
            "0.767 (+/-0.071) for {'criterion': 'gini', 'max_depth': 4, 'min_samples_leaf': 9, 'min_samples_split': 5}\n",
            "0.769 (+/-0.071) for {'criterion': 'gini', 'max_depth': 4, 'min_samples_leaf': 9, 'min_samples_split': 10}\n",
            "0.767 (+/-0.071) for {'criterion': 'gini', 'max_depth': 4, 'min_samples_leaf': 9, 'min_samples_split': 15}\n",
            "0.764 (+/-0.068) for {'criterion': 'gini', 'max_depth': 4, 'min_samples_leaf': 9, 'min_samples_split': 20}\n",
            "0.750 (+/-0.077) for {'criterion': 'gini', 'max_depth': 4, 'min_samples_leaf': 11, 'min_samples_split': 5}\n",
            "0.752 (+/-0.076) for {'criterion': 'gini', 'max_depth': 4, 'min_samples_leaf': 11, 'min_samples_split': 10}\n",
            "0.750 (+/-0.078) for {'criterion': 'gini', 'max_depth': 4, 'min_samples_leaf': 11, 'min_samples_split': 15}\n",
            "0.751 (+/-0.077) for {'criterion': 'gini', 'max_depth': 4, 'min_samples_leaf': 11, 'min_samples_split': 20}\n",
            "0.896 (+/-0.073) for {'criterion': 'gini', 'max_depth': 6, 'min_samples_leaf': 3, 'min_samples_split': 5}\n",
            "0.875 (+/-0.063) for {'criterion': 'gini', 'max_depth': 6, 'min_samples_leaf': 3, 'min_samples_split': 10}\n",
            "0.856 (+/-0.058) for {'criterion': 'gini', 'max_depth': 6, 'min_samples_leaf': 3, 'min_samples_split': 15}\n",
            "0.830 (+/-0.071) for {'criterion': 'gini', 'max_depth': 6, 'min_samples_leaf': 3, 'min_samples_split': 20}\n",
            "0.859 (+/-0.066) for {'criterion': 'gini', 'max_depth': 6, 'min_samples_leaf': 5, 'min_samples_split': 5}\n",
            "0.859 (+/-0.066) for {'criterion': 'gini', 'max_depth': 6, 'min_samples_leaf': 5, 'min_samples_split': 10}\n",
            "0.835 (+/-0.062) for {'criterion': 'gini', 'max_depth': 6, 'min_samples_leaf': 5, 'min_samples_split': 15}\n",
            "0.810 (+/-0.067) for {'criterion': 'gini', 'max_depth': 6, 'min_samples_leaf': 5, 'min_samples_split': 20}\n",
            "0.829 (+/-0.056) for {'criterion': 'gini', 'max_depth': 6, 'min_samples_leaf': 7, 'min_samples_split': 5}\n",
            "0.830 (+/-0.058) for {'criterion': 'gini', 'max_depth': 6, 'min_samples_leaf': 7, 'min_samples_split': 10}\n",
            "0.826 (+/-0.057) for {'criterion': 'gini', 'max_depth': 6, 'min_samples_leaf': 7, 'min_samples_split': 15}\n",
            "0.799 (+/-0.069) for {'criterion': 'gini', 'max_depth': 6, 'min_samples_leaf': 7, 'min_samples_split': 20}\n",
            "0.801 (+/-0.048) for {'criterion': 'gini', 'max_depth': 6, 'min_samples_leaf': 9, 'min_samples_split': 5}\n",
            "0.800 (+/-0.047) for {'criterion': 'gini', 'max_depth': 6, 'min_samples_leaf': 9, 'min_samples_split': 10}\n",
            "0.800 (+/-0.049) for {'criterion': 'gini', 'max_depth': 6, 'min_samples_leaf': 9, 'min_samples_split': 15}\n",
            "0.790 (+/-0.052) for {'criterion': 'gini', 'max_depth': 6, 'min_samples_leaf': 9, 'min_samples_split': 20}\n",
            "0.766 (+/-0.073) for {'criterion': 'gini', 'max_depth': 6, 'min_samples_leaf': 11, 'min_samples_split': 5}\n",
            "0.766 (+/-0.072) for {'criterion': 'gini', 'max_depth': 6, 'min_samples_leaf': 11, 'min_samples_split': 10}\n",
            "0.767 (+/-0.070) for {'criterion': 'gini', 'max_depth': 6, 'min_samples_leaf': 11, 'min_samples_split': 15}\n",
            "0.764 (+/-0.071) for {'criterion': 'gini', 'max_depth': 6, 'min_samples_leaf': 11, 'min_samples_split': 20}\n",
            "0.923 (+/-0.044) for {'criterion': 'gini', 'max_depth': 8, 'min_samples_leaf': 3, 'min_samples_split': 5}\n",
            "0.895 (+/-0.041) for {'criterion': 'gini', 'max_depth': 8, 'min_samples_leaf': 3, 'min_samples_split': 10}\n",
            "0.868 (+/-0.043) for {'criterion': 'gini', 'max_depth': 8, 'min_samples_leaf': 3, 'min_samples_split': 15}\n",
            "0.837 (+/-0.062) for {'criterion': 'gini', 'max_depth': 8, 'min_samples_leaf': 3, 'min_samples_split': 20}\n",
            "0.871 (+/-0.051) for {'criterion': 'gini', 'max_depth': 8, 'min_samples_leaf': 5, 'min_samples_split': 5}\n",
            "0.872 (+/-0.051) for {'criterion': 'gini', 'max_depth': 8, 'min_samples_leaf': 5, 'min_samples_split': 10}\n",
            "0.842 (+/-0.052) for {'criterion': 'gini', 'max_depth': 8, 'min_samples_leaf': 5, 'min_samples_split': 15}\n",
            "0.813 (+/-0.062) for {'criterion': 'gini', 'max_depth': 8, 'min_samples_leaf': 5, 'min_samples_split': 20}\n",
            "0.835 (+/-0.046) for {'criterion': 'gini', 'max_depth': 8, 'min_samples_leaf': 7, 'min_samples_split': 5}\n",
            "0.835 (+/-0.046) for {'criterion': 'gini', 'max_depth': 8, 'min_samples_leaf': 7, 'min_samples_split': 10}\n",
            "0.833 (+/-0.044) for {'criterion': 'gini', 'max_depth': 8, 'min_samples_leaf': 7, 'min_samples_split': 15}\n",
            "0.804 (+/-0.059) for {'criterion': 'gini', 'max_depth': 8, 'min_samples_leaf': 7, 'min_samples_split': 20}\n",
            "0.801 (+/-0.049) for {'criterion': 'gini', 'max_depth': 8, 'min_samples_leaf': 9, 'min_samples_split': 5}\n",
            "0.801 (+/-0.048) for {'criterion': 'gini', 'max_depth': 8, 'min_samples_leaf': 9, 'min_samples_split': 10}\n",
            "0.802 (+/-0.047) for {'criterion': 'gini', 'max_depth': 8, 'min_samples_leaf': 9, 'min_samples_split': 15}\n",
            "0.791 (+/-0.056) for {'criterion': 'gini', 'max_depth': 8, 'min_samples_leaf': 9, 'min_samples_split': 20}\n",
            "0.767 (+/-0.069) for {'criterion': 'gini', 'max_depth': 8, 'min_samples_leaf': 11, 'min_samples_split': 5}\n",
            "0.767 (+/-0.069) for {'criterion': 'gini', 'max_depth': 8, 'min_samples_leaf': 11, 'min_samples_split': 10}\n",
            "0.766 (+/-0.072) for {'criterion': 'gini', 'max_depth': 8, 'min_samples_leaf': 11, 'min_samples_split': 15}\n",
            "0.766 (+/-0.070) for {'criterion': 'gini', 'max_depth': 8, 'min_samples_leaf': 11, 'min_samples_split': 20}\n",
            "0.930 (+/-0.026) for {'criterion': 'gini', 'max_depth': 10, 'min_samples_leaf': 3, 'min_samples_split': 5}\n",
            "0.900 (+/-0.034) for {'criterion': 'gini', 'max_depth': 10, 'min_samples_leaf': 3, 'min_samples_split': 10}\n",
            "0.873 (+/-0.038) for {'criterion': 'gini', 'max_depth': 10, 'min_samples_leaf': 3, 'min_samples_split': 15}\n",
            "0.839 (+/-0.062) for {'criterion': 'gini', 'max_depth': 10, 'min_samples_leaf': 3, 'min_samples_split': 20}\n",
            "0.871 (+/-0.045) for {'criterion': 'gini', 'max_depth': 10, 'min_samples_leaf': 5, 'min_samples_split': 5}\n",
            "0.872 (+/-0.044) for {'criterion': 'gini', 'max_depth': 10, 'min_samples_leaf': 5, 'min_samples_split': 10}\n",
            "0.845 (+/-0.049) for {'criterion': 'gini', 'max_depth': 10, 'min_samples_leaf': 5, 'min_samples_split': 15}\n",
            "0.815 (+/-0.053) for {'criterion': 'gini', 'max_depth': 10, 'min_samples_leaf': 5, 'min_samples_split': 20}\n",
            "0.837 (+/-0.044) for {'criterion': 'gini', 'max_depth': 10, 'min_samples_leaf': 7, 'min_samples_split': 5}\n",
            "0.837 (+/-0.046) for {'criterion': 'gini', 'max_depth': 10, 'min_samples_leaf': 7, 'min_samples_split': 10}\n",
            "0.833 (+/-0.040) for {'criterion': 'gini', 'max_depth': 10, 'min_samples_leaf': 7, 'min_samples_split': 15}\n",
            "0.806 (+/-0.061) for {'criterion': 'gini', 'max_depth': 10, 'min_samples_leaf': 7, 'min_samples_split': 20}\n",
            "0.801 (+/-0.048) for {'criterion': 'gini', 'max_depth': 10, 'min_samples_leaf': 9, 'min_samples_split': 5}\n",
            "0.800 (+/-0.049) for {'criterion': 'gini', 'max_depth': 10, 'min_samples_leaf': 9, 'min_samples_split': 10}\n",
            "0.800 (+/-0.050) for {'criterion': 'gini', 'max_depth': 10, 'min_samples_leaf': 9, 'min_samples_split': 15}\n",
            "0.790 (+/-0.057) for {'criterion': 'gini', 'max_depth': 10, 'min_samples_leaf': 9, 'min_samples_split': 20}\n",
            "0.766 (+/-0.072) for {'criterion': 'gini', 'max_depth': 10, 'min_samples_leaf': 11, 'min_samples_split': 5}\n",
            "0.767 (+/-0.072) for {'criterion': 'gini', 'max_depth': 10, 'min_samples_leaf': 11, 'min_samples_split': 10}\n",
            "0.766 (+/-0.068) for {'criterion': 'gini', 'max_depth': 10, 'min_samples_leaf': 11, 'min_samples_split': 15}\n",
            "0.766 (+/-0.070) for {'criterion': 'gini', 'max_depth': 10, 'min_samples_leaf': 11, 'min_samples_split': 20}\n",
            "0.672 (+/-0.176) for {'criterion': 'entropy', 'max_depth': 4, 'min_samples_leaf': 3, 'min_samples_split': 5}\n",
            "0.672 (+/-0.174) for {'criterion': 'entropy', 'max_depth': 4, 'min_samples_leaf': 3, 'min_samples_split': 10}\n",
            "0.670 (+/-0.165) for {'criterion': 'entropy', 'max_depth': 4, 'min_samples_leaf': 3, 'min_samples_split': 15}\n",
            "0.659 (+/-0.181) for {'criterion': 'entropy', 'max_depth': 4, 'min_samples_leaf': 3, 'min_samples_split': 20}\n",
            "0.671 (+/-0.172) for {'criterion': 'entropy', 'max_depth': 4, 'min_samples_leaf': 5, 'min_samples_split': 5}\n",
            "0.671 (+/-0.172) for {'criterion': 'entropy', 'max_depth': 4, 'min_samples_leaf': 5, 'min_samples_split': 10}\n",
            "0.664 (+/-0.182) for {'criterion': 'entropy', 'max_depth': 4, 'min_samples_leaf': 5, 'min_samples_split': 15}\n",
            "0.666 (+/-0.168) for {'criterion': 'entropy', 'max_depth': 4, 'min_samples_leaf': 5, 'min_samples_split': 20}\n",
            "0.674 (+/-0.170) for {'criterion': 'entropy', 'max_depth': 4, 'min_samples_leaf': 7, 'min_samples_split': 5}\n",
            "0.674 (+/-0.169) for {'criterion': 'entropy', 'max_depth': 4, 'min_samples_leaf': 7, 'min_samples_split': 10}\n",
            "0.670 (+/-0.180) for {'criterion': 'entropy', 'max_depth': 4, 'min_samples_leaf': 7, 'min_samples_split': 15}\n",
            "0.668 (+/-0.171) for {'criterion': 'entropy', 'max_depth': 4, 'min_samples_leaf': 7, 'min_samples_split': 20}\n",
            "0.664 (+/-0.163) for {'criterion': 'entropy', 'max_depth': 4, 'min_samples_leaf': 9, 'min_samples_split': 5}\n",
            "0.659 (+/-0.175) for {'criterion': 'entropy', 'max_depth': 4, 'min_samples_leaf': 9, 'min_samples_split': 10}\n",
            "0.664 (+/-0.165) for {'criterion': 'entropy', 'max_depth': 4, 'min_samples_leaf': 9, 'min_samples_split': 15}\n",
            "0.666 (+/-0.159) for {'criterion': 'entropy', 'max_depth': 4, 'min_samples_leaf': 9, 'min_samples_split': 20}\n",
            "0.666 (+/-0.155) for {'criterion': 'entropy', 'max_depth': 4, 'min_samples_leaf': 11, 'min_samples_split': 5}\n",
            "0.664 (+/-0.155) for {'criterion': 'entropy', 'max_depth': 4, 'min_samples_leaf': 11, 'min_samples_split': 10}\n",
            "0.671 (+/-0.141) for {'criterion': 'entropy', 'max_depth': 4, 'min_samples_leaf': 11, 'min_samples_split': 15}\n",
            "0.670 (+/-0.139) for {'criterion': 'entropy', 'max_depth': 4, 'min_samples_leaf': 11, 'min_samples_split': 20}\n",
            "0.814 (+/-0.152) for {'criterion': 'entropy', 'max_depth': 6, 'min_samples_leaf': 3, 'min_samples_split': 5}\n",
            "0.805 (+/-0.161) for {'criterion': 'entropy', 'max_depth': 6, 'min_samples_leaf': 3, 'min_samples_split': 10}\n",
            "0.799 (+/-0.137) for {'criterion': 'entropy', 'max_depth': 6, 'min_samples_leaf': 3, 'min_samples_split': 15}\n",
            "0.782 (+/-0.133) for {'criterion': 'entropy', 'max_depth': 6, 'min_samples_leaf': 3, 'min_samples_split': 20}\n",
            "0.791 (+/-0.174) for {'criterion': 'entropy', 'max_depth': 6, 'min_samples_leaf': 5, 'min_samples_split': 5}\n",
            "0.797 (+/-0.167) for {'criterion': 'entropy', 'max_depth': 6, 'min_samples_leaf': 5, 'min_samples_split': 10}\n",
            "0.789 (+/-0.149) for {'criterion': 'entropy', 'max_depth': 6, 'min_samples_leaf': 5, 'min_samples_split': 15}\n",
            "0.769 (+/-0.149) for {'criterion': 'entropy', 'max_depth': 6, 'min_samples_leaf': 5, 'min_samples_split': 20}\n",
            "0.792 (+/-0.120) for {'criterion': 'entropy', 'max_depth': 6, 'min_samples_leaf': 7, 'min_samples_split': 5}\n",
            "0.789 (+/-0.120) for {'criterion': 'entropy', 'max_depth': 6, 'min_samples_leaf': 7, 'min_samples_split': 10}\n",
            "0.788 (+/-0.119) for {'criterion': 'entropy', 'max_depth': 6, 'min_samples_leaf': 7, 'min_samples_split': 15}\n",
            "0.778 (+/-0.107) for {'criterion': 'entropy', 'max_depth': 6, 'min_samples_leaf': 7, 'min_samples_split': 20}\n",
            "0.781 (+/-0.105) for {'criterion': 'entropy', 'max_depth': 6, 'min_samples_leaf': 9, 'min_samples_split': 5}\n",
            "0.782 (+/-0.101) for {'criterion': 'entropy', 'max_depth': 6, 'min_samples_leaf': 9, 'min_samples_split': 10}\n",
            "0.779 (+/-0.110) for {'criterion': 'entropy', 'max_depth': 6, 'min_samples_leaf': 9, 'min_samples_split': 15}\n",
            "0.777 (+/-0.098) for {'criterion': 'entropy', 'max_depth': 6, 'min_samples_leaf': 9, 'min_samples_split': 20}\n",
            "0.770 (+/-0.094) for {'criterion': 'entropy', 'max_depth': 6, 'min_samples_leaf': 11, 'min_samples_split': 5}\n",
            "0.769 (+/-0.086) for {'criterion': 'entropy', 'max_depth': 6, 'min_samples_leaf': 11, 'min_samples_split': 10}\n",
            "0.767 (+/-0.097) for {'criterion': 'entropy', 'max_depth': 6, 'min_samples_leaf': 11, 'min_samples_split': 15}\n",
            "0.770 (+/-0.093) for {'criterion': 'entropy', 'max_depth': 6, 'min_samples_leaf': 11, 'min_samples_split': 20}\n",
            "0.889 (+/-0.137) for {'criterion': 'entropy', 'max_depth': 8, 'min_samples_leaf': 3, 'min_samples_split': 5}\n",
            "0.878 (+/-0.129) for {'criterion': 'entropy', 'max_depth': 8, 'min_samples_leaf': 3, 'min_samples_split': 10}\n",
            "0.857 (+/-0.111) for {'criterion': 'entropy', 'max_depth': 8, 'min_samples_leaf': 3, 'min_samples_split': 15}\n",
            "0.832 (+/-0.107) for {'criterion': 'entropy', 'max_depth': 8, 'min_samples_leaf': 3, 'min_samples_split': 20}\n",
            "0.876 (+/-0.110) for {'criterion': 'entropy', 'max_depth': 8, 'min_samples_leaf': 5, 'min_samples_split': 5}\n",
            "0.872 (+/-0.119) for {'criterion': 'entropy', 'max_depth': 8, 'min_samples_leaf': 5, 'min_samples_split': 10}\n",
            "0.852 (+/-0.105) for {'criterion': 'entropy', 'max_depth': 8, 'min_samples_leaf': 5, 'min_samples_split': 15}\n",
            "0.828 (+/-0.085) for {'criterion': 'entropy', 'max_depth': 8, 'min_samples_leaf': 5, 'min_samples_split': 20}\n",
            "0.853 (+/-0.091) for {'criterion': 'entropy', 'max_depth': 8, 'min_samples_leaf': 7, 'min_samples_split': 5}\n",
            "0.853 (+/-0.091) for {'criterion': 'entropy', 'max_depth': 8, 'min_samples_leaf': 7, 'min_samples_split': 10}\n",
            "0.850 (+/-0.089) for {'criterion': 'entropy', 'max_depth': 8, 'min_samples_leaf': 7, 'min_samples_split': 15}\n",
            "0.824 (+/-0.074) for {'criterion': 'entropy', 'max_depth': 8, 'min_samples_leaf': 7, 'min_samples_split': 20}\n",
            "0.827 (+/-0.069) for {'criterion': 'entropy', 'max_depth': 8, 'min_samples_leaf': 9, 'min_samples_split': 5}\n",
            "0.826 (+/-0.071) for {'criterion': 'entropy', 'max_depth': 8, 'min_samples_leaf': 9, 'min_samples_split': 10}\n",
            "0.828 (+/-0.065) for {'criterion': 'entropy', 'max_depth': 8, 'min_samples_leaf': 9, 'min_samples_split': 15}\n",
            "0.821 (+/-0.059) for {'criterion': 'entropy', 'max_depth': 8, 'min_samples_leaf': 9, 'min_samples_split': 20}\n",
            "0.806 (+/-0.071) for {'criterion': 'entropy', 'max_depth': 8, 'min_samples_leaf': 11, 'min_samples_split': 5}\n",
            "0.804 (+/-0.070) for {'criterion': 'entropy', 'max_depth': 8, 'min_samples_leaf': 11, 'min_samples_split': 10}\n",
            "0.805 (+/-0.072) for {'criterion': 'entropy', 'max_depth': 8, 'min_samples_leaf': 11, 'min_samples_split': 15}\n",
            "0.805 (+/-0.071) for {'criterion': 'entropy', 'max_depth': 8, 'min_samples_leaf': 11, 'min_samples_split': 20}\n",
            "0.941 (+/-0.064) for {'criterion': 'entropy', 'max_depth': 10, 'min_samples_leaf': 3, 'min_samples_split': 5}\n",
            "0.925 (+/-0.061) for {'criterion': 'entropy', 'max_depth': 10, 'min_samples_leaf': 3, 'min_samples_split': 10}\n",
            "0.898 (+/-0.056) for {'criterion': 'entropy', 'max_depth': 10, 'min_samples_leaf': 3, 'min_samples_split': 15}\n",
            "0.867 (+/-0.053) for {'criterion': 'entropy', 'max_depth': 10, 'min_samples_leaf': 3, 'min_samples_split': 20}\n",
            "0.910 (+/-0.057) for {'criterion': 'entropy', 'max_depth': 10, 'min_samples_leaf': 5, 'min_samples_split': 5}\n",
            "0.911 (+/-0.055) for {'criterion': 'entropy', 'max_depth': 10, 'min_samples_leaf': 5, 'min_samples_split': 10}\n",
            "0.885 (+/-0.052) for {'criterion': 'entropy', 'max_depth': 10, 'min_samples_leaf': 5, 'min_samples_split': 15}\n",
            "0.857 (+/-0.049) for {'criterion': 'entropy', 'max_depth': 10, 'min_samples_leaf': 5, 'min_samples_split': 20}\n",
            "0.880 (+/-0.040) for {'criterion': 'entropy', 'max_depth': 10, 'min_samples_leaf': 7, 'min_samples_split': 5}\n",
            "0.878 (+/-0.042) for {'criterion': 'entropy', 'max_depth': 10, 'min_samples_leaf': 7, 'min_samples_split': 10}\n",
            "0.874 (+/-0.045) for {'criterion': 'entropy', 'max_depth': 10, 'min_samples_leaf': 7, 'min_samples_split': 15}\n",
            "0.841 (+/-0.051) for {'criterion': 'entropy', 'max_depth': 10, 'min_samples_leaf': 7, 'min_samples_split': 20}\n",
            "0.840 (+/-0.053) for {'criterion': 'entropy', 'max_depth': 10, 'min_samples_leaf': 9, 'min_samples_split': 5}\n",
            "0.840 (+/-0.050) for {'criterion': 'entropy', 'max_depth': 10, 'min_samples_leaf': 9, 'min_samples_split': 10}\n",
            "0.840 (+/-0.053) for {'criterion': 'entropy', 'max_depth': 10, 'min_samples_leaf': 9, 'min_samples_split': 15}\n",
            "0.833 (+/-0.045) for {'criterion': 'entropy', 'max_depth': 10, 'min_samples_leaf': 9, 'min_samples_split': 20}\n",
            "0.814 (+/-0.069) for {'criterion': 'entropy', 'max_depth': 10, 'min_samples_leaf': 11, 'min_samples_split': 5}\n",
            "0.814 (+/-0.070) for {'criterion': 'entropy', 'max_depth': 10, 'min_samples_leaf': 11, 'min_samples_split': 10}\n",
            "0.815 (+/-0.068) for {'criterion': 'entropy', 'max_depth': 10, 'min_samples_leaf': 11, 'min_samples_split': 15}\n",
            "0.814 (+/-0.068) for {'criterion': 'entropy', 'max_depth': 10, 'min_samples_leaf': 11, 'min_samples_split': 20}\n",
            "____________________________________________ END GRID SEARCH ____________________________________________\n"
          ]
        }
      ]
    },
    {
      "cell_type": "code",
      "source": [
        "results"
      ],
      "metadata": {
        "colab": {
          "base_uri": "https://localhost:8080/"
        },
        "id": "rHYOBrn-cG_a",
        "outputId": "e3fedd3c-c810-4a9e-91de-1bf3d31250de"
      },
      "execution_count": 161,
      "outputs": [
        {
          "output_type": "execute_result",
          "data": {
            "text/plain": [
              "{'f1_macro': {'criterion': 'entropy',\n",
              "  'max_depth': 10,\n",
              "  'min_samples_leaf': 3,\n",
              "  'min_samples_split': 5}}"
            ]
          },
          "metadata": {},
          "execution_count": 161
        }
      ]
    },
    {
      "cell_type": "code",
      "source": [
        "X_test_rsp = rsp.transform(X_test)\n",
        "\n",
        "clf = DecisionTreeClassifier(criterion='entropy', max_depth=10, min_samples_leaf=3, min_samples_split=5, random_state=42)\n",
        "clf.fit(X_train_rsp, y_res)\n",
        "\n",
        "y_pred = clf.predict(X_test_rsp)\n",
        "\n",
        "print('Accuracy %s' % accuracy_score(y_test, y_pred))\n",
        "print('F1-score %s' % f1_score(y_test, y_pred, average=None))\n",
        "print(classification_report(y_test, y_pred))"
      ],
      "metadata": {
        "colab": {
          "base_uri": "https://localhost:8080/"
        },
        "id": "OfoZFfeZl-aw",
        "outputId": "65f41e61-a490-41f7-cad7-c89898a82d85"
      },
      "execution_count": 162,
      "outputs": [
        {
          "output_type": "stream",
          "name": "stdout",
          "text": [
            "Accuracy 0.7581818181818182\n",
            "F1-score [0.86131387 0.05673759]\n",
            "              precision    recall  f1-score   support\n",
            "\n",
            "           0       0.96      0.78      0.86       528\n",
            "           1       0.03      0.18      0.06        22\n",
            "\n",
            "    accuracy                           0.76       550\n",
            "   macro avg       0.50      0.48      0.46       550\n",
            "weighted avg       0.92      0.76      0.83       550\n",
            "\n"
          ]
        }
      ]
    },
    {
      "cell_type": "markdown",
      "source": [
        "Queste ultime 3 tecniche vengono usate solo per la visualizzazione dei dati all'interno del train set.. quindi il decision tree con questi metodi è inutile perchè viene fatto sempre sul train, poichè queste tecniche non consento la predict sul test :)"
      ],
      "metadata": {
        "id": "ohKrOjwez0Wy"
      }
    },
    {
      "cell_type": "markdown",
      "source": [
        "MULTI DIMENSIONAL SCALING\n"
      ],
      "metadata": {
        "id": "t0e_mnJwmFqe"
      }
    },
    {
      "cell_type": "code",
      "source": [
        "from sklearn.manifold import MDS"
      ],
      "metadata": {
        "id": "4PPXwZ3QmIZJ"
      },
      "execution_count": 163,
      "outputs": []
    },
    {
      "cell_type": "code",
      "source": [
        "mds = MDS(n_components=2) #2 è il numero di default\n",
        "X_train_mds = mds.fit_transform(X_res)\n",
        "X_train_mds.shape"
      ],
      "metadata": {
        "colab": {
          "base_uri": "https://localhost:8080/"
        },
        "id": "S1ydmHRxmNwo",
        "outputId": "921b946f-6255-4a7b-f112-b8b2583705fb"
      },
      "execution_count": 178,
      "outputs": [
        {
          "output_type": "stream",
          "name": "stderr",
          "text": [
            "/usr/local/lib/python3.9/dist-packages/sklearn/manifold/_mds.py:299: FutureWarning:\n",
            "\n",
            "The default value of `normalized_stress` will change to `'auto'` in version 1.4. To suppress this warning, manually set the value of `normalized_stress`.\n",
            "\n"
          ]
        },
        {
          "output_type": "execute_result",
          "data": {
            "text/plain": [
              "(311, 2)"
            ]
          },
          "metadata": {},
          "execution_count": 178
        }
      ]
    },
    {
      "cell_type": "code",
      "source": [
        "# Visualization\n",
        "import plotly.express as px # for data visualization\n",
        "# Create a scatter plot\n",
        "fig = px.scatter(None, x=X_train_mds[:,0], y=X_train_mds[:,1], opacity=1, color=y_res)\n",
        "\n",
        "# Change chart background color\n",
        "fig.update_layout(dict(plot_bgcolor = 'white'))\n",
        "\n",
        "# Update axes lines\n",
        "fig.update_xaxes(showgrid=True, gridwidth=1, gridcolor='lightgrey', \n",
        "                 zeroline=True, zerolinewidth=1, zerolinecolor='lightgrey', \n",
        "                 showline=True, linewidth=1, linecolor='black')\n",
        "\n",
        "fig.update_yaxes(showgrid=True, gridwidth=1, gridcolor='lightgrey', \n",
        "                 zeroline=True, zerolinewidth=1, zerolinecolor='lightgrey', \n",
        "                 showline=True, linewidth=1, linecolor='black')\n",
        "\n",
        "# Set figure title\n",
        "fig.update_layout(title_text=\"MDS Transformation\")\n",
        "\n",
        "# Update marker size\n",
        "fig.update_traces(marker=dict(size=5,\n",
        "                             line=dict(color='black', width=0.2)))\n",
        "\n",
        "fig.show()"
      ],
      "metadata": {
        "colab": {
          "base_uri": "https://localhost:8080/",
          "height": 542
        },
        "id": "QNYyqyyfpw3A",
        "outputId": "c7322c7c-b85a-4bd6-c72c-bff85f28b70f"
      },
      "execution_count": 179,
      "outputs": [
        {
          "output_type": "display_data",
          "data": {
            "text/html": [
              "<html>\n",
              "<head><meta charset=\"utf-8\" /></head>\n",
              "<body>\n",
              "    <div>            <script src=\"https://cdnjs.cloudflare.com/ajax/libs/mathjax/2.7.5/MathJax.js?config=TeX-AMS-MML_SVG\"></script><script type=\"text/javascript\">if (window.MathJax) {MathJax.Hub.Config({SVG: {font: \"STIX-Web\"}});}</script>                <script type=\"text/javascript\">window.PlotlyConfig = {MathJaxConfig: 'local'};</script>\n",
              "        <script src=\"https://cdn.plot.ly/plotly-2.8.3.min.js\"></script>                <div id=\"5e8fc7b7-5bea-4b56-bd29-4afad0c3b3ee\" class=\"plotly-graph-div\" style=\"height:525px; width:100%;\"></div>            <script type=\"text/javascript\">                                    window.PLOTLYENV=window.PLOTLYENV || {};                                    if (document.getElementById(\"5e8fc7b7-5bea-4b56-bd29-4afad0c3b3ee\")) {                    Plotly.newPlot(                        \"5e8fc7b7-5bea-4b56-bd29-4afad0c3b3ee\",                        [{\"hovertemplate\":\"x=%{x}<br>y=%{y}<br>color=%{marker.color}<extra></extra>\",\"legendgroup\":\"\",\"marker\":{\"color\":[0,0,0,0,0,0,0,0,0,0,0,0,0,0,0,0,0,0,0,0,0,0,0,0,0,0,0,0,0,0,0,0,0,0,0,0,0,0,0,0,0,0,0,0,0,0,0,0,0,0,0,0,0,0,0,0,0,0,0,0,0,0,0,0,0,0,0,0,0,0,0,0,0,0,0,0,0,0,0,0,0,0,0,0,0,0,0,0,0,0,0,0,0,0,0,0,0,0,0,0,0,0,0,0,0,0,0,0,0,0,0,0,0,0,0,0,0,0,0,0,0,0,0,0,0,0,0,0,0,0,0,0,0,0,0,0,0,0,0,0,0,0,0,0,0,0,0,0,0,0,0,0,0,0,0,0,0,0,0,0,0,0,0,0,0,0,0,0,0,0,0,0,0,0,0,0,0,0,0,0,0,0,0,0,0,0,0,0,0,0,0,0,0,0,0,0,0,0,0,0,0,0,0,0,0,0,0,0,0,0,0,0,0,0,0,0,0,0,0,0,0,0,0,0,0,0,0,0,0,0,0,0,0,0,0,0,0,0,0,0,0,0,0,0,0,0,0,1,1,1,1,1,1,1,1,1,1,1,1,1,1,1,1,1,1,1,1,1,1,1,1,1,1,1,1,1,1,1,1,1,1,1,1,1,1,1,1,1,1,1,1,1,1,1,1,1,1,1,1,1,1,1,1,1,1,1,1,1,1,1,1],\"coloraxis\":\"coloraxis\",\"opacity\":1,\"symbol\":\"circle\",\"line\":{\"color\":\"black\",\"width\":0.2},\"size\":5},\"mode\":\"markers\",\"name\":\"\",\"orientation\":\"v\",\"showlegend\":false,\"x\":[12.310326534679763,-18.026100023496333,-1.8549374350446715,13.083094353831052,-4.543921380944939,-8.378280558719903,-2.299319451821158,-23.714486861845305,-14.353046894129813,-7.825680722468362,-6.749796656928266,-0.2558961295709573,-1.7741054926225213,11.163647014871295,3.5399341223256386,-2.0920691688527455,4.8549623576068965,-13.244163259810827,-14.127203011487108,12.568729328975977,-36.12041394791306,-9.609958171418883,4.358895252390772,-1.909446472723732,0.18546175681903973,-5.278813413116876,-6.583076560892786,-5.715638526095031,-20.10876099352299,16.890158025316985,9.180456386207146,4.927056871765262,-0.09054104720507844,0.13879441148378124,15.554363959674012,2.7267135053561,4.728617816260807,13.93934720315938,-4.850358882630304,-2.709162075438256,9.6530921147403,0.4161061830670669,-20.409012121307327,4.004224908211802,-1.5250594430089734,2.548144496539009,-10.914785733058757,1.5072092916594952,14.062570919725024,-4.5175080539961545,13.281853925499993,6.917487808797473,10.44160021683202,-8.716770468469383,-7.965129115874284,8.054542626779352,-0.9810230361518886,13.29206071673522,-6.747881776937047,11.89517655987388,-14.895186729739642,9.764565925444439,4.497771042882195,-20.76848261940988,-16.95199252074565,2.16779548143152,-0.15407699566915917,21.321862781400842,-4.1978681186270945,-14.713102109304364,5.8512931199768525,-15.567730183671957,13.34265228137819,0.8258003571756517,-9.04186221723425,2.993647695845212,-1.0821659234151386,-2.5125102240013426,-2.3773893450899726,14.973372584683862,7.2697211497011,-8.589318248321073,8.903354107469072,7.4620449921132455,-0.9549289352477986,2.930478105884031,-10.064307666064687,13.179746916265735,-3.575364833957704,1.322509876034858,5.97313757750476,-3.3373017828483365,-9.831202742248887,-0.04447049918791267,-2.9230531611680433,-4.841212476801289,-8.531646568227028,3.8904562292736857,2.3211875077036304,-25.395662410827995,-9.28626967272766,1.0185650703011582,4.931597446792418,-7.781662629933354,21.349891039987817,5.563761297469777,-1.283153265979417,8.062419557278863,-7.897595438631065,-1.1925616465199187,2.516501464066976,-6.269549230006448,0.5262568693344989,3.2723486127273342,-12.021393129764473,4.446755824389304,7.320144661684499,6.3293609571443845,15.00452369964068,9.411172159038243,-14.06805759923669,-11.064107101355475,5.9181733381909885,0.8496780683888733,-18.4011579141361,-7.395451526455062,6.55885804293461,5.884477889642439,5.360473696346333,-10.553764595670918,-14.135006971583733,-27.85466441738351,-11.660791267864427,-12.5654739118535,-8.803351376135083,12.888376100509438,-27.64622182659505,31.67008831548427,9.435698977583028,-3.1522298738427335,0.9249340521130471,-4.830977332918928,-5.007517997274968,-7.180456118057234,0.47630856212162276,3.0985383692946744,-1.6146951221890646,1.2040516470885083,11.602462296115704,2.472807590250422,3.9390438655201483,-2.736963179887184,8.278686104061611,3.5485043526832327,-0.9204114773362305,3.974114112750443,7.576021011195476,4.149442800756961,-5.382728725073041,7.6517492569232015,-0.8874316352213972,7.616265806202616,6.348170337946862,-7.800294304631542,8.356918563823559,3.055908864662671,-4.377969840104659,8.755078305762826,-8.583815325843265,-1.8892589335971122,13.853824339573437,12.008303397424541,-9.509188422160456,-13.24185814166404,-12.33265201236987,-20.44875311626848,-3.546827928144496,-12.09698453716615,-6.031171550083112,5.509262913185778,9.715435348246778,14.812276688710433,9.735283182780728,-17.080503463503305,-6.214982332331726,-7.1759775974918085,-12.19526796704079,-6.96800848391304,6.747937612363068,12.730795409346522,10.200398137933382,-3.4763371114184034,17.040995806572905,-4.098892475842151,4.823181827250769,5.593312890481748,2.3134963265187465,-6.185440259005211,10.1305900713669,-3.432634662894015,0.8529686231410031,7.994701720696071,-1.6303898981516967,-2.0866312616948397,5.778302305119368,-9.823821647510577,7.418038434496751,3.488480313336486,-19.47214953653833,-12.193018660609129,19.602718664804442,4.923088457756974,6.573352348274005,1.513347947743042,14.949786285355867,15.533789099351276,-3.81643390463871,8.947523122950964,-9.926391791264107,-13.239399851922135,-9.628350610814039,10.6564145323496,-12.651371773255272,2.3089644679278205,-3.985098090440291,9.318692350954114,4.637091322203018,-5.910154065514049,-0.7242689441300312,5.741895603344904,11.294871252797437,-3.587263376839493,-8.40109385120938,2.655965866101225,10.638654069174029,16.3878952604742,3.569422005533066,8.279132402397586,11.529896749210867,5.083858073584176,-7.121172419153136,-14.470565698859941,15.450152268794511,3.534615008783717,-5.595562518219264,16.840024117477494,-12.398224277091996,-12.398744917043981,6.0771195538775435,-14.406666045276728,-2.172892499417981,12.946479105492038,11.489117050180813,-4.409693078756133,2.4732563264312115,-9.848034955260054,1.129583151690878,-12.47207053858429,4.173708942466229,-8.264598230770789,-1.712288603306313,5.285465522508346,26.299023853167718,10.234013061710899,-4.481633039515113,7.480306767070556,3.5716998526423978,11.481926155975046,7.671687341338413,0.9676736833694984,5.1824259893526445,7.282589204942853,-2.9175446250240498,-8.68792096084534,-5.438773757920194,9.958045153311875,-17.51702877808284,-2.6743887658309777,11.464780509849156,-6.467221555309428,-3.976036388213858,0.12057002621284664,-1.0526649383921856,-8.672869749203814,-4.023119969167315,-7.116680383352075,1.8460153984422707,0.5974054073915182,7.431868831702518,-6.126788244027113,-7.154042873992135,11.617408525349518,2.52636685572354,6.373822753812695,-6.91527010899785,8.542889496147522,-13.123838692964656,-0.4544426023369733,5.8695779575324725,-7.6687227827561175,3.8338513001293104,-2.6666405080728244,-34.18686765473983,13.384343164303713,4.858927855861266,32.59582350515254,2.8230721944789434,-8.88301111366958,9.850983757775374,-10.030039239253023,10.480824155512511],\"xaxis\":\"x\",\"y\":[8.477249307354807,-5.880632699832129,21.995948045433742,8.253390721137238,7.475980343433675,17.81082029186549,11.083031960918838,-26.62717911318326,10.674251664820954,-3.443491135770547,6.247872294148107,-8.365883939929992,4.0680978407605775,5.555697582850796,-6.984559027801513,9.259627073136842,13.769792012465341,3.397969895044435,-0.7912797717613781,16.692090473607426,-11.91269112920241,0.3417480914223092,-6.434523995118252,11.782036243787262,10.000100055904616,2.2896535376727183,4.257610456356502,3.615860514664377,-4.670236334088841,-4.959440773073652,12.966710915137057,4.801304228179045,-10.42209810498574,4.827751280771696,1.0857467327710755,-11.229187364637482,-1.3454516682915485,3.7367944354428606,-7.418763376975228,-27.047449357782252,-1.0408550432619124,-6.070716010384019,-12.263399287697183,4.040519119489343,-7.013379521519447,-8.242938891382396,-4.310918337571756,15.267848489029175,-7.498569924444432,10.356353413112162,2.182444107369275,3.7618257697469475,-3.2805779696292956,0.5653034072606056,3.4230277288972824,3.766237756055088,11.784914793538922,0.6916896837580889,7.62327127728404,-4.124319873808315,-9.619286897217783,-6.127261384458451,-8.298602373914765,12.14857909122539,9.413767235974433,9.550095929780559,12.280475912770102,7.631605166804068,-5.748393411354651,-7.68706041487232,0.830016006430574,-14.427153181874857,-1.8338722268945071,-19.15858110724546,-3.8282927585224633,6.257296270947251,16.65885496443002,-3.00022348135582,1.704711014773765,-6.671854793474281,21.858861283753544,-5.649607174798042,-3.290129021472629,8.44347719970614,5.38501453484928,-7.004263072440183,-8.354629472865248,-0.6006551800025572,14.341383152399304,-9.03239214601361,5.1945455916100185,5.0763475837124785,11.732712847628287,15.182976387424883,12.358393038737146,1.4157247204679928,-17.515438735610942,14.75851271375977,-3.5649279282006705,9.47202141092395,5.11437838461602,-4.496647077417089,-4.544302862978439,16.160860212252633,2.7085018197587507,-19.767351244277794,-19.159595239866558,-2.9229934691911863,12.788488450180813,-1.8812493996198396,-6.216515503273578,12.224223524970656,-8.311224858028394,13.598497286145673,-7.103699243360214,-7.105445801104271,1.7824559189836129,14.08807644635243,-9.266611486876814,-13.91224619858914,8.991843251496475,3.7310292567867926,9.929786434081695,16.54976125605777,14.992182264310149,-0.3660083133495831,5.828067894325007,-6.521829414984047,8.653549483131227,13.440065570771829,-12.235695157091689,-0.8035624732975705,5.6905064671166965,-10.766294351777518,-20.75647676240513,-4.151795717611818,-2.659289609635986,-4.373034017249592,8.811392721879061,-7.226292780678777,18.39572251653448,-11.633432077700505,30.32981913647549,-7.071058940140194,-7.439512760367629,-9.827384104742565,-14.412547877775367,-16.20860097814287,5.23029482124573,9.2093486686371,-1.367206055996508,-2.4793363858069446,0.9765060767246403,9.238568728654682,6.298266127890408,-18.333634375201978,0.46130134768421693,-16.432675509371645,-5.610563478281801,-9.932352867381898,0.800149881982102,9.551584586262491,-11.186780810771799,-17.75949515580523,-7.951904448686906,0.88171859164205,-9.180066889637034,-15.284941531794058,-8.423963664549497,2.591371621819574,5.526766547376911,4.193157343932028,8.298795275263318,-2.5660367352685314,2.8836842154183024,2.711975545633547,-4.526319198745901,-25.357111875554907,-3.259428774202078,-2.5848019115697816,5.275616742144366,-22.127366926178933,-3.004584837922802,0.8003925672746905,-18.180642191768886,-12.01682153656672,7.49582571681274,-1.7271873329999567,-12.793675089512153,-3.1566965244715006,5.826918264115091,-0.5720286300565822,3.5351789896639505,-12.940313473625345,6.35692256360771,-25.29597402661494,23.53080143993583,-0.28482765547576977,-7.1077095197976465,0.12452126837949182,4.644919418072183,-1.8064589797889836,0.8328293675522631,-0.4165026695538525,-4.909404424292346,-13.076144364197411,-6.243527234035717,-4.959733133477566,-3.36901859112837,2.1812603213914277,-4.336239696860628,14.827314538852898,2.8364363611825567,-6.77043948559388,-1.9550167286810436,4.662462462490789,13.468796404965685,-8.131058380562358,-0.1191242850633281,-17.998719587418446,1.4320961789747506,2.8082154949335334,-14.367669414698605,17.656851990996344,-1.1701676582955063,3.583186246490045,1.4167667595954836,-11.144694630276616,14.620455083549059,-1.1036729166634742,-1.7055043200619597,-2.4156016655405805,9.590863976197374,-2.1325586409397466,-6.0619275099471635,6.547302898115185,6.27813526594021,2.8293181557735148,2.616200529682059,9.239028867170198,10.945125041299688,-4.855121497270093,6.4489292950821575,8.72344033673741,-0.6454901262627316,1.7640500698632322,13.219795284751564,10.263927271344318,-7.879723530718562,-3.998302599719228,5.053685771187691,-5.692456733572865,8.916166425578082,-14.789493952201093,-5.615059414345678,2.69045089415831,-2.247167695814448,9.38535287948005,-3.704490741817383,6.544228268593754,14.819622766543853,-8.055336115610576,21.108967383333262,-0.1548095784897071,16.072268041502557,9.769260144532463,-14.440939444870708,3.1758462762720567,7.079195805587324,8.412429672288829,-0.8544587278497919,-5.245782368312966,9.705304143186508,2.873526764339959,-1.6907240671501627,10.773734887866595,5.15130729577519,-12.614463825734891,1.7170727620464394,1.4785488975706256,-22.967037987443238,-17.1266800235636,4.450344344814942,1.9029201488477,11.45706716221946,17.111569564317175,12.325619500907509,-0.18995505235855517,-8.19887299466401,0.5760706235991829,-5.308439659246552,-4.6662566055578925,-8.870372714720439,-3.362848648308458,-9.611180865387619,3.20219458874223,-1.0220567339914028,-4.255039118136226,-16.93713303588374,14.30721770369456,-9.52525563141266,-0.30201757531229273,-15.10429820417808,2.7845329103895238,7.1679555739880305,-2.9678948511339476,4.601298742509065,-1.7138241049507958,-5.07298453762049,-2.624874787518209,-11.40594597786184],\"yaxis\":\"y\",\"type\":\"scatter\"}],                        {\"template\":{\"data\":{\"bar\":[{\"error_x\":{\"color\":\"#2a3f5f\"},\"error_y\":{\"color\":\"#2a3f5f\"},\"marker\":{\"line\":{\"color\":\"#E5ECF6\",\"width\":0.5},\"pattern\":{\"fillmode\":\"overlay\",\"size\":10,\"solidity\":0.2}},\"type\":\"bar\"}],\"barpolar\":[{\"marker\":{\"line\":{\"color\":\"#E5ECF6\",\"width\":0.5},\"pattern\":{\"fillmode\":\"overlay\",\"size\":10,\"solidity\":0.2}},\"type\":\"barpolar\"}],\"carpet\":[{\"aaxis\":{\"endlinecolor\":\"#2a3f5f\",\"gridcolor\":\"white\",\"linecolor\":\"white\",\"minorgridcolor\":\"white\",\"startlinecolor\":\"#2a3f5f\"},\"baxis\":{\"endlinecolor\":\"#2a3f5f\",\"gridcolor\":\"white\",\"linecolor\":\"white\",\"minorgridcolor\":\"white\",\"startlinecolor\":\"#2a3f5f\"},\"type\":\"carpet\"}],\"choropleth\":[{\"colorbar\":{\"outlinewidth\":0,\"ticks\":\"\"},\"type\":\"choropleth\"}],\"contour\":[{\"colorbar\":{\"outlinewidth\":0,\"ticks\":\"\"},\"colorscale\":[[0.0,\"#0d0887\"],[0.1111111111111111,\"#46039f\"],[0.2222222222222222,\"#7201a8\"],[0.3333333333333333,\"#9c179e\"],[0.4444444444444444,\"#bd3786\"],[0.5555555555555556,\"#d8576b\"],[0.6666666666666666,\"#ed7953\"],[0.7777777777777778,\"#fb9f3a\"],[0.8888888888888888,\"#fdca26\"],[1.0,\"#f0f921\"]],\"type\":\"contour\"}],\"contourcarpet\":[{\"colorbar\":{\"outlinewidth\":0,\"ticks\":\"\"},\"type\":\"contourcarpet\"}],\"heatmap\":[{\"colorbar\":{\"outlinewidth\":0,\"ticks\":\"\"},\"colorscale\":[[0.0,\"#0d0887\"],[0.1111111111111111,\"#46039f\"],[0.2222222222222222,\"#7201a8\"],[0.3333333333333333,\"#9c179e\"],[0.4444444444444444,\"#bd3786\"],[0.5555555555555556,\"#d8576b\"],[0.6666666666666666,\"#ed7953\"],[0.7777777777777778,\"#fb9f3a\"],[0.8888888888888888,\"#fdca26\"],[1.0,\"#f0f921\"]],\"type\":\"heatmap\"}],\"heatmapgl\":[{\"colorbar\":{\"outlinewidth\":0,\"ticks\":\"\"},\"colorscale\":[[0.0,\"#0d0887\"],[0.1111111111111111,\"#46039f\"],[0.2222222222222222,\"#7201a8\"],[0.3333333333333333,\"#9c179e\"],[0.4444444444444444,\"#bd3786\"],[0.5555555555555556,\"#d8576b\"],[0.6666666666666666,\"#ed7953\"],[0.7777777777777778,\"#fb9f3a\"],[0.8888888888888888,\"#fdca26\"],[1.0,\"#f0f921\"]],\"type\":\"heatmapgl\"}],\"histogram\":[{\"marker\":{\"pattern\":{\"fillmode\":\"overlay\",\"size\":10,\"solidity\":0.2}},\"type\":\"histogram\"}],\"histogram2d\":[{\"colorbar\":{\"outlinewidth\":0,\"ticks\":\"\"},\"colorscale\":[[0.0,\"#0d0887\"],[0.1111111111111111,\"#46039f\"],[0.2222222222222222,\"#7201a8\"],[0.3333333333333333,\"#9c179e\"],[0.4444444444444444,\"#bd3786\"],[0.5555555555555556,\"#d8576b\"],[0.6666666666666666,\"#ed7953\"],[0.7777777777777778,\"#fb9f3a\"],[0.8888888888888888,\"#fdca26\"],[1.0,\"#f0f921\"]],\"type\":\"histogram2d\"}],\"histogram2dcontour\":[{\"colorbar\":{\"outlinewidth\":0,\"ticks\":\"\"},\"colorscale\":[[0.0,\"#0d0887\"],[0.1111111111111111,\"#46039f\"],[0.2222222222222222,\"#7201a8\"],[0.3333333333333333,\"#9c179e\"],[0.4444444444444444,\"#bd3786\"],[0.5555555555555556,\"#d8576b\"],[0.6666666666666666,\"#ed7953\"],[0.7777777777777778,\"#fb9f3a\"],[0.8888888888888888,\"#fdca26\"],[1.0,\"#f0f921\"]],\"type\":\"histogram2dcontour\"}],\"mesh3d\":[{\"colorbar\":{\"outlinewidth\":0,\"ticks\":\"\"},\"type\":\"mesh3d\"}],\"parcoords\":[{\"line\":{\"colorbar\":{\"outlinewidth\":0,\"ticks\":\"\"}},\"type\":\"parcoords\"}],\"pie\":[{\"automargin\":true,\"type\":\"pie\"}],\"scatter\":[{\"marker\":{\"colorbar\":{\"outlinewidth\":0,\"ticks\":\"\"}},\"type\":\"scatter\"}],\"scatter3d\":[{\"line\":{\"colorbar\":{\"outlinewidth\":0,\"ticks\":\"\"}},\"marker\":{\"colorbar\":{\"outlinewidth\":0,\"ticks\":\"\"}},\"type\":\"scatter3d\"}],\"scattercarpet\":[{\"marker\":{\"colorbar\":{\"outlinewidth\":0,\"ticks\":\"\"}},\"type\":\"scattercarpet\"}],\"scattergeo\":[{\"marker\":{\"colorbar\":{\"outlinewidth\":0,\"ticks\":\"\"}},\"type\":\"scattergeo\"}],\"scattergl\":[{\"marker\":{\"colorbar\":{\"outlinewidth\":0,\"ticks\":\"\"}},\"type\":\"scattergl\"}],\"scattermapbox\":[{\"marker\":{\"colorbar\":{\"outlinewidth\":0,\"ticks\":\"\"}},\"type\":\"scattermapbox\"}],\"scatterpolar\":[{\"marker\":{\"colorbar\":{\"outlinewidth\":0,\"ticks\":\"\"}},\"type\":\"scatterpolar\"}],\"scatterpolargl\":[{\"marker\":{\"colorbar\":{\"outlinewidth\":0,\"ticks\":\"\"}},\"type\":\"scatterpolargl\"}],\"scatterternary\":[{\"marker\":{\"colorbar\":{\"outlinewidth\":0,\"ticks\":\"\"}},\"type\":\"scatterternary\"}],\"surface\":[{\"colorbar\":{\"outlinewidth\":0,\"ticks\":\"\"},\"colorscale\":[[0.0,\"#0d0887\"],[0.1111111111111111,\"#46039f\"],[0.2222222222222222,\"#7201a8\"],[0.3333333333333333,\"#9c179e\"],[0.4444444444444444,\"#bd3786\"],[0.5555555555555556,\"#d8576b\"],[0.6666666666666666,\"#ed7953\"],[0.7777777777777778,\"#fb9f3a\"],[0.8888888888888888,\"#fdca26\"],[1.0,\"#f0f921\"]],\"type\":\"surface\"}],\"table\":[{\"cells\":{\"fill\":{\"color\":\"#EBF0F8\"},\"line\":{\"color\":\"white\"}},\"header\":{\"fill\":{\"color\":\"#C8D4E3\"},\"line\":{\"color\":\"white\"}},\"type\":\"table\"}]},\"layout\":{\"annotationdefaults\":{\"arrowcolor\":\"#2a3f5f\",\"arrowhead\":0,\"arrowwidth\":1},\"autotypenumbers\":\"strict\",\"coloraxis\":{\"colorbar\":{\"outlinewidth\":0,\"ticks\":\"\"}},\"colorscale\":{\"diverging\":[[0,\"#8e0152\"],[0.1,\"#c51b7d\"],[0.2,\"#de77ae\"],[0.3,\"#f1b6da\"],[0.4,\"#fde0ef\"],[0.5,\"#f7f7f7\"],[0.6,\"#e6f5d0\"],[0.7,\"#b8e186\"],[0.8,\"#7fbc41\"],[0.9,\"#4d9221\"],[1,\"#276419\"]],\"sequential\":[[0.0,\"#0d0887\"],[0.1111111111111111,\"#46039f\"],[0.2222222222222222,\"#7201a8\"],[0.3333333333333333,\"#9c179e\"],[0.4444444444444444,\"#bd3786\"],[0.5555555555555556,\"#d8576b\"],[0.6666666666666666,\"#ed7953\"],[0.7777777777777778,\"#fb9f3a\"],[0.8888888888888888,\"#fdca26\"],[1.0,\"#f0f921\"]],\"sequentialminus\":[[0.0,\"#0d0887\"],[0.1111111111111111,\"#46039f\"],[0.2222222222222222,\"#7201a8\"],[0.3333333333333333,\"#9c179e\"],[0.4444444444444444,\"#bd3786\"],[0.5555555555555556,\"#d8576b\"],[0.6666666666666666,\"#ed7953\"],[0.7777777777777778,\"#fb9f3a\"],[0.8888888888888888,\"#fdca26\"],[1.0,\"#f0f921\"]]},\"colorway\":[\"#636efa\",\"#EF553B\",\"#00cc96\",\"#ab63fa\",\"#FFA15A\",\"#19d3f3\",\"#FF6692\",\"#B6E880\",\"#FF97FF\",\"#FECB52\"],\"font\":{\"color\":\"#2a3f5f\"},\"geo\":{\"bgcolor\":\"white\",\"lakecolor\":\"white\",\"landcolor\":\"#E5ECF6\",\"showlakes\":true,\"showland\":true,\"subunitcolor\":\"white\"},\"hoverlabel\":{\"align\":\"left\"},\"hovermode\":\"closest\",\"mapbox\":{\"style\":\"light\"},\"paper_bgcolor\":\"white\",\"plot_bgcolor\":\"#E5ECF6\",\"polar\":{\"angularaxis\":{\"gridcolor\":\"white\",\"linecolor\":\"white\",\"ticks\":\"\"},\"bgcolor\":\"#E5ECF6\",\"radialaxis\":{\"gridcolor\":\"white\",\"linecolor\":\"white\",\"ticks\":\"\"}},\"scene\":{\"xaxis\":{\"backgroundcolor\":\"#E5ECF6\",\"gridcolor\":\"white\",\"gridwidth\":2,\"linecolor\":\"white\",\"showbackground\":true,\"ticks\":\"\",\"zerolinecolor\":\"white\"},\"yaxis\":{\"backgroundcolor\":\"#E5ECF6\",\"gridcolor\":\"white\",\"gridwidth\":2,\"linecolor\":\"white\",\"showbackground\":true,\"ticks\":\"\",\"zerolinecolor\":\"white\"},\"zaxis\":{\"backgroundcolor\":\"#E5ECF6\",\"gridcolor\":\"white\",\"gridwidth\":2,\"linecolor\":\"white\",\"showbackground\":true,\"ticks\":\"\",\"zerolinecolor\":\"white\"}},\"shapedefaults\":{\"line\":{\"color\":\"#2a3f5f\"}},\"ternary\":{\"aaxis\":{\"gridcolor\":\"white\",\"linecolor\":\"white\",\"ticks\":\"\"},\"baxis\":{\"gridcolor\":\"white\",\"linecolor\":\"white\",\"ticks\":\"\"},\"bgcolor\":\"#E5ECF6\",\"caxis\":{\"gridcolor\":\"white\",\"linecolor\":\"white\",\"ticks\":\"\"}},\"title\":{\"x\":0.05},\"xaxis\":{\"automargin\":true,\"gridcolor\":\"white\",\"linecolor\":\"white\",\"ticks\":\"\",\"title\":{\"standoff\":15},\"zerolinecolor\":\"white\",\"zerolinewidth\":2},\"yaxis\":{\"automargin\":true,\"gridcolor\":\"white\",\"linecolor\":\"white\",\"ticks\":\"\",\"title\":{\"standoff\":15},\"zerolinecolor\":\"white\",\"zerolinewidth\":2}}},\"xaxis\":{\"anchor\":\"y\",\"domain\":[0.0,1.0],\"title\":{\"text\":\"x\"},\"showgrid\":true,\"gridwidth\":1,\"gridcolor\":\"lightgrey\",\"zeroline\":true,\"zerolinewidth\":1,\"zerolinecolor\":\"lightgrey\",\"showline\":true,\"linewidth\":1,\"linecolor\":\"black\"},\"yaxis\":{\"anchor\":\"x\",\"domain\":[0.0,1.0],\"title\":{\"text\":\"y\"},\"showgrid\":true,\"gridwidth\":1,\"gridcolor\":\"lightgrey\",\"zeroline\":true,\"zerolinewidth\":1,\"zerolinecolor\":\"lightgrey\",\"showline\":true,\"linewidth\":1,\"linecolor\":\"black\"},\"coloraxis\":{\"colorbar\":{\"title\":{\"text\":\"color\"}},\"colorscale\":[[0.0,\"#0d0887\"],[0.1111111111111111,\"#46039f\"],[0.2222222222222222,\"#7201a8\"],[0.3333333333333333,\"#9c179e\"],[0.4444444444444444,\"#bd3786\"],[0.5555555555555556,\"#d8576b\"],[0.6666666666666666,\"#ed7953\"],[0.7777777777777778,\"#fb9f3a\"],[0.8888888888888888,\"#fdca26\"],[1.0,\"#f0f921\"]]},\"legend\":{\"tracegroupgap\":0},\"margin\":{\"t\":60},\"plot_bgcolor\":\"white\",\"title\":{\"text\":\"MDS Transformation\"}},                        {\"responsive\": true}                    ).then(function(){\n",
              "                            \n",
              "var gd = document.getElementById('5e8fc7b7-5bea-4b56-bd29-4afad0c3b3ee');\n",
              "var x = new MutationObserver(function (mutations, observer) {{\n",
              "        var display = window.getComputedStyle(gd).display;\n",
              "        if (!display || display === 'none') {{\n",
              "            console.log([gd, 'removed!']);\n",
              "            Plotly.purge(gd);\n",
              "            observer.disconnect();\n",
              "        }}\n",
              "}});\n",
              "\n",
              "// Listen for the removal of the full notebook cells\n",
              "var notebookContainer = gd.closest('#notebook-container');\n",
              "if (notebookContainer) {{\n",
              "    x.observe(notebookContainer, {childList: true});\n",
              "}}\n",
              "\n",
              "// Listen for the clearing of the current output cell\n",
              "var outputEl = gd.closest('.output');\n",
              "if (outputEl) {{\n",
              "    x.observe(outputEl, {childList: true});\n",
              "}}\n",
              "\n",
              "                        })                };                            </script>        </div>\n",
              "</body>\n",
              "</html>"
            ]
          },
          "metadata": {}
        }
      ]
    },
    {
      "cell_type": "code",
      "source": [
        "plt.scatter(X_train_mds[:, 0], X_train_mds[:, 1], c=y_res, cmap=plt.cm.prism, edgecolor='k', alpha=0.7)\n",
        "plt.show()"
      ],
      "metadata": {
        "colab": {
          "base_uri": "https://localhost:8080/",
          "height": 347
        },
        "id": "rmpH5Q1GmUSg",
        "outputId": "72f8c5a7-1a16-433a-e4d6-2072d6286aeb"
      },
      "execution_count": 180,
      "outputs": [
        {
          "output_type": "display_data",
          "data": {
            "text/plain": [
              "<Figure size 576x396 with 1 Axes>"
            ],
            "image/png": "[encoded data removed]"
          },
          "metadata": {}
        }
      ]
    },
    {
      "cell_type": "code",
      "source": [
        "check_params ={\"criterion\":[\"gini\", \"entropy\"],\n",
        "         \"max_depth\":[4, 6, 8, 10],\n",
        "         \"min_samples_split\": [5, 10, 15, 20],\n",
        "         \"min_samples_leaf\": [3, 5, 7, 9, 11]}\n",
        "dt=DecisionTreeClassifier()\n",
        "results = customGridSearch(X_train_mds, y_res, dt, check_params, \"f1_macro\")"
      ],
      "metadata": {
        "colab": {
          "base_uri": "https://localhost:8080/"
        },
        "id": "7kUSY_zFc6cE",
        "outputId": "fc74a487-0eb6-461b-d6e9-5a298b1a63c1"
      },
      "execution_count": null,
      "outputs": [
        {
          "output_type": "stream",
          "name": "stdout",
          "text": [
            "____________________________________________ START GRID SEARCH ____________________________________________\n",
            "------- Score = f1_macro------- \n",
            "\n",
            "> Fold = RepeatedStratifiedKFold(n_repeats=10, n_splits=5, random_state=None)\n",
            "\n",
            "> Best Parameter set: \n",
            "\n",
            "{'criterion': 'gini', 'max_depth': 10, 'min_samples_leaf': 3, 'min_samples_split': 10}\n",
            "\n",
            "> Grid scores:\n",
            "\n",
            "...........RESULTS FOR TRAINING.........\n",
            "........................................\n",
            "0.518 (+/-0.067) for {'criterion': 'gini', 'max_depth': 4, 'min_samples_leaf': 3, 'min_samples_split': 5}\n",
            "0.518 (+/-0.064) for {'criterion': 'gini', 'max_depth': 4, 'min_samples_leaf': 3, 'min_samples_split': 10}\n",
            "0.514 (+/-0.061) for {'criterion': 'gini', 'max_depth': 4, 'min_samples_leaf': 3, 'min_samples_split': 15}\n",
            "0.507 (+/-0.063) for {'criterion': 'gini', 'max_depth': 4, 'min_samples_leaf': 3, 'min_samples_split': 20}\n",
            "0.517 (+/-0.100) for {'criterion': 'gini', 'max_depth': 4, 'min_samples_leaf': 5, 'min_samples_split': 5}\n",
            "0.517 (+/-0.100) for {'criterion': 'gini', 'max_depth': 4, 'min_samples_leaf': 5, 'min_samples_split': 10}\n",
            "0.507 (+/-0.097) for {'criterion': 'gini', 'max_depth': 4, 'min_samples_leaf': 5, 'min_samples_split': 15}\n",
            "0.497 (+/-0.104) for {'criterion': 'gini', 'max_depth': 4, 'min_samples_leaf': 5, 'min_samples_split': 20}\n",
            "0.506 (+/-0.106) for {'criterion': 'gini', 'max_depth': 4, 'min_samples_leaf': 7, 'min_samples_split': 5}\n",
            "0.506 (+/-0.106) for {'criterion': 'gini', 'max_depth': 4, 'min_samples_leaf': 7, 'min_samples_split': 10}\n",
            "0.503 (+/-0.104) for {'criterion': 'gini', 'max_depth': 4, 'min_samples_leaf': 7, 'min_samples_split': 15}\n",
            "0.493 (+/-0.109) for {'criterion': 'gini', 'max_depth': 4, 'min_samples_leaf': 7, 'min_samples_split': 20}\n",
            "0.482 (+/-0.110) for {'criterion': 'gini', 'max_depth': 4, 'min_samples_leaf': 9, 'min_samples_split': 5}\n",
            "0.482 (+/-0.110) for {'criterion': 'gini', 'max_depth': 4, 'min_samples_leaf': 9, 'min_samples_split': 10}\n",
            "0.482 (+/-0.110) for {'criterion': 'gini', 'max_depth': 4, 'min_samples_leaf': 9, 'min_samples_split': 15}\n",
            "0.479 (+/-0.109) for {'criterion': 'gini', 'max_depth': 4, 'min_samples_leaf': 9, 'min_samples_split': 20}\n",
            "0.470 (+/-0.097) for {'criterion': 'gini', 'max_depth': 4, 'min_samples_leaf': 11, 'min_samples_split': 5}\n",
            "0.470 (+/-0.097) for {'criterion': 'gini', 'max_depth': 4, 'min_samples_leaf': 11, 'min_samples_split': 10}\n",
            "0.470 (+/-0.097) for {'criterion': 'gini', 'max_depth': 4, 'min_samples_leaf': 11, 'min_samples_split': 15}\n",
            "0.470 (+/-0.097) for {'criterion': 'gini', 'max_depth': 4, 'min_samples_leaf': 11, 'min_samples_split': 20}\n",
            "0.581 (+/-0.093) for {'criterion': 'gini', 'max_depth': 6, 'min_samples_leaf': 3, 'min_samples_split': 5}\n",
            "0.573 (+/-0.091) for {'criterion': 'gini', 'max_depth': 6, 'min_samples_leaf': 3, 'min_samples_split': 10}\n",
            "0.556 (+/-0.091) for {'criterion': 'gini', 'max_depth': 6, 'min_samples_leaf': 3, 'min_samples_split': 15}\n",
            "0.540 (+/-0.085) for {'criterion': 'gini', 'max_depth': 6, 'min_samples_leaf': 3, 'min_samples_split': 20}\n",
            "0.586 (+/-0.112) for {'criterion': 'gini', 'max_depth': 6, 'min_samples_leaf': 5, 'min_samples_split': 5}\n",
            "0.588 (+/-0.110) for {'criterion': 'gini', 'max_depth': 6, 'min_samples_leaf': 5, 'min_samples_split': 10}\n",
            "0.566 (+/-0.116) for {'criterion': 'gini', 'max_depth': 6, 'min_samples_leaf': 5, 'min_samples_split': 15}\n",
            "0.550 (+/-0.120) for {'criterion': 'gini', 'max_depth': 6, 'min_samples_leaf': 5, 'min_samples_split': 20}\n",
            "0.555 (+/-0.115) for {'criterion': 'gini', 'max_depth': 6, 'min_samples_leaf': 7, 'min_samples_split': 5}\n",
            "0.553 (+/-0.116) for {'criterion': 'gini', 'max_depth': 6, 'min_samples_leaf': 7, 'min_samples_split': 10}\n",
            "0.549 (+/-0.120) for {'criterion': 'gini', 'max_depth': 6, 'min_samples_leaf': 7, 'min_samples_split': 15}\n",
            "0.530 (+/-0.132) for {'criterion': 'gini', 'max_depth': 6, 'min_samples_leaf': 7, 'min_samples_split': 20}\n",
            "0.514 (+/-0.133) for {'criterion': 'gini', 'max_depth': 6, 'min_samples_leaf': 9, 'min_samples_split': 5}\n",
            "0.514 (+/-0.133) for {'criterion': 'gini', 'max_depth': 6, 'min_samples_leaf': 9, 'min_samples_split': 10}\n",
            "0.514 (+/-0.133) for {'criterion': 'gini', 'max_depth': 6, 'min_samples_leaf': 9, 'min_samples_split': 15}\n",
            "0.507 (+/-0.130) for {'criterion': 'gini', 'max_depth': 6, 'min_samples_leaf': 9, 'min_samples_split': 20}\n",
            "0.488 (+/-0.118) for {'criterion': 'gini', 'max_depth': 6, 'min_samples_leaf': 11, 'min_samples_split': 5}\n",
            "0.488 (+/-0.118) for {'criterion': 'gini', 'max_depth': 6, 'min_samples_leaf': 11, 'min_samples_split': 10}\n",
            "0.488 (+/-0.118) for {'criterion': 'gini', 'max_depth': 6, 'min_samples_leaf': 11, 'min_samples_split': 15}\n",
            "0.488 (+/-0.118) for {'criterion': 'gini', 'max_depth': 6, 'min_samples_leaf': 11, 'min_samples_split': 20}\n",
            "0.643 (+/-0.100) for {'criterion': 'gini', 'max_depth': 8, 'min_samples_leaf': 3, 'min_samples_split': 5}\n",
            "0.630 (+/-0.085) for {'criterion': 'gini', 'max_depth': 8, 'min_samples_leaf': 3, 'min_samples_split': 10}\n",
            "0.605 (+/-0.093) for {'criterion': 'gini', 'max_depth': 8, 'min_samples_leaf': 3, 'min_samples_split': 15}\n",
            "0.583 (+/-0.103) for {'criterion': 'gini', 'max_depth': 8, 'min_samples_leaf': 3, 'min_samples_split': 20}\n",
            "0.641 (+/-0.087) for {'criterion': 'gini', 'max_depth': 8, 'min_samples_leaf': 5, 'min_samples_split': 5}\n",
            "0.642 (+/-0.086) for {'criterion': 'gini', 'max_depth': 8, 'min_samples_leaf': 5, 'min_samples_split': 10}\n",
            "0.612 (+/-0.090) for {'criterion': 'gini', 'max_depth': 8, 'min_samples_leaf': 5, 'min_samples_split': 15}\n",
            "0.584 (+/-0.114) for {'criterion': 'gini', 'max_depth': 8, 'min_samples_leaf': 5, 'min_samples_split': 20}\n",
            "0.597 (+/-0.104) for {'criterion': 'gini', 'max_depth': 8, 'min_samples_leaf': 7, 'min_samples_split': 5}\n",
            "0.596 (+/-0.105) for {'criterion': 'gini', 'max_depth': 8, 'min_samples_leaf': 7, 'min_samples_split': 10}\n",
            "0.589 (+/-0.114) for {'criterion': 'gini', 'max_depth': 8, 'min_samples_leaf': 7, 'min_samples_split': 15}\n",
            "0.560 (+/-0.130) for {'criterion': 'gini', 'max_depth': 8, 'min_samples_leaf': 7, 'min_samples_split': 20}\n",
            "0.543 (+/-0.135) for {'criterion': 'gini', 'max_depth': 8, 'min_samples_leaf': 9, 'min_samples_split': 5}\n",
            "0.543 (+/-0.135) for {'criterion': 'gini', 'max_depth': 8, 'min_samples_leaf': 9, 'min_samples_split': 10}\n",
            "0.543 (+/-0.135) for {'criterion': 'gini', 'max_depth': 8, 'min_samples_leaf': 9, 'min_samples_split': 15}\n",
            "0.529 (+/-0.142) for {'criterion': 'gini', 'max_depth': 8, 'min_samples_leaf': 9, 'min_samples_split': 20}\n",
            "0.498 (+/-0.124) for {'criterion': 'gini', 'max_depth': 8, 'min_samples_leaf': 11, 'min_samples_split': 5}\n",
            "0.498 (+/-0.124) for {'criterion': 'gini', 'max_depth': 8, 'min_samples_leaf': 11, 'min_samples_split': 10}\n",
            "0.498 (+/-0.124) for {'criterion': 'gini', 'max_depth': 8, 'min_samples_leaf': 11, 'min_samples_split': 15}\n",
            "0.498 (+/-0.124) for {'criterion': 'gini', 'max_depth': 8, 'min_samples_leaf': 11, 'min_samples_split': 20}\n",
            "0.695 (+/-0.102) for {'criterion': 'gini', 'max_depth': 10, 'min_samples_leaf': 3, 'min_samples_split': 5}\n",
            "0.671 (+/-0.094) for {'criterion': 'gini', 'max_depth': 10, 'min_samples_leaf': 3, 'min_samples_split': 10}\n",
            "0.645 (+/-0.098) for {'criterion': 'gini', 'max_depth': 10, 'min_samples_leaf': 3, 'min_samples_split': 15}\n",
            "0.618 (+/-0.104) for {'criterion': 'gini', 'max_depth': 10, 'min_samples_leaf': 3, 'min_samples_split': 20}\n",
            "0.679 (+/-0.073) for {'criterion': 'gini', 'max_depth': 10, 'min_samples_leaf': 5, 'min_samples_split': 5}\n",
            "0.678 (+/-0.077) for {'criterion': 'gini', 'max_depth': 10, 'min_samples_leaf': 5, 'min_samples_split': 10}\n",
            "0.647 (+/-0.111) for {'criterion': 'gini', 'max_depth': 10, 'min_samples_leaf': 5, 'min_samples_split': 15}\n",
            "0.610 (+/-0.127) for {'criterion': 'gini', 'max_depth': 10, 'min_samples_leaf': 5, 'min_samples_split': 20}\n",
            "0.615 (+/-0.116) for {'criterion': 'gini', 'max_depth': 10, 'min_samples_leaf': 7, 'min_samples_split': 5}\n",
            "0.614 (+/-0.118) for {'criterion': 'gini', 'max_depth': 10, 'min_samples_leaf': 7, 'min_samples_split': 10}\n",
            "0.606 (+/-0.125) for {'criterion': 'gini', 'max_depth': 10, 'min_samples_leaf': 7, 'min_samples_split': 15}\n",
            "0.576 (+/-0.137) for {'criterion': 'gini', 'max_depth': 10, 'min_samples_leaf': 7, 'min_samples_split': 20}\n",
            "0.552 (+/-0.138) for {'criterion': 'gini', 'max_depth': 10, 'min_samples_leaf': 9, 'min_samples_split': 5}\n",
            "0.551 (+/-0.142) for {'criterion': 'gini', 'max_depth': 10, 'min_samples_leaf': 9, 'min_samples_split': 10}\n",
            "0.550 (+/-0.142) for {'criterion': 'gini', 'max_depth': 10, 'min_samples_leaf': 9, 'min_samples_split': 15}\n",
            "0.540 (+/-0.145) for {'criterion': 'gini', 'max_depth': 10, 'min_samples_leaf': 9, 'min_samples_split': 20}\n",
            "0.503 (+/-0.126) for {'criterion': 'gini', 'max_depth': 10, 'min_samples_leaf': 11, 'min_samples_split': 5}\n",
            "0.503 (+/-0.126) for {'criterion': 'gini', 'max_depth': 10, 'min_samples_leaf': 11, 'min_samples_split': 10}\n",
            "0.503 (+/-0.126) for {'criterion': 'gini', 'max_depth': 10, 'min_samples_leaf': 11, 'min_samples_split': 15}\n",
            "0.503 (+/-0.126) for {'criterion': 'gini', 'max_depth': 10, 'min_samples_leaf': 11, 'min_samples_split': 20}\n",
            "0.503 (+/-0.069) for {'criterion': 'entropy', 'max_depth': 4, 'min_samples_leaf': 3, 'min_samples_split': 5}\n",
            "0.501 (+/-0.069) for {'criterion': 'entropy', 'max_depth': 4, 'min_samples_leaf': 3, 'min_samples_split': 10}\n",
            "0.501 (+/-0.074) for {'criterion': 'entropy', 'max_depth': 4, 'min_samples_leaf': 3, 'min_samples_split': 15}\n",
            "0.497 (+/-0.072) for {'criterion': 'entropy', 'max_depth': 4, 'min_samples_leaf': 3, 'min_samples_split': 20}\n",
            "0.500 (+/-0.082) for {'criterion': 'entropy', 'max_depth': 4, 'min_samples_leaf': 5, 'min_samples_split': 5}\n",
            "0.500 (+/-0.082) for {'criterion': 'entropy', 'max_depth': 4, 'min_samples_leaf': 5, 'min_samples_split': 10}\n",
            "0.494 (+/-0.091) for {'criterion': 'entropy', 'max_depth': 4, 'min_samples_leaf': 5, 'min_samples_split': 15}\n",
            "0.489 (+/-0.092) for {'criterion': 'entropy', 'max_depth': 4, 'min_samples_leaf': 5, 'min_samples_split': 20}\n",
            "0.493 (+/-0.093) for {'criterion': 'entropy', 'max_depth': 4, 'min_samples_leaf': 7, 'min_samples_split': 5}\n",
            "0.493 (+/-0.093) for {'criterion': 'entropy', 'max_depth': 4, 'min_samples_leaf': 7, 'min_samples_split': 10}\n",
            "0.491 (+/-0.094) for {'criterion': 'entropy', 'max_depth': 4, 'min_samples_leaf': 7, 'min_samples_split': 15}\n",
            "0.486 (+/-0.094) for {'criterion': 'entropy', 'max_depth': 4, 'min_samples_leaf': 7, 'min_samples_split': 20}\n",
            "0.473 (+/-0.095) for {'criterion': 'entropy', 'max_depth': 4, 'min_samples_leaf': 9, 'min_samples_split': 5}\n",
            "0.473 (+/-0.095) for {'criterion': 'entropy', 'max_depth': 4, 'min_samples_leaf': 9, 'min_samples_split': 10}\n",
            "0.473 (+/-0.095) for {'criterion': 'entropy', 'max_depth': 4, 'min_samples_leaf': 9, 'min_samples_split': 15}\n",
            "0.472 (+/-0.094) for {'criterion': 'entropy', 'max_depth': 4, 'min_samples_leaf': 9, 'min_samples_split': 20}\n",
            "0.470 (+/-0.099) for {'criterion': 'entropy', 'max_depth': 4, 'min_samples_leaf': 11, 'min_samples_split': 5}\n",
            "0.470 (+/-0.099) for {'criterion': 'entropy', 'max_depth': 4, 'min_samples_leaf': 11, 'min_samples_split': 10}\n",
            "0.470 (+/-0.099) for {'criterion': 'entropy', 'max_depth': 4, 'min_samples_leaf': 11, 'min_samples_split': 15}\n",
            "0.470 (+/-0.099) for {'criterion': 'entropy', 'max_depth': 4, 'min_samples_leaf': 11, 'min_samples_split': 20}\n",
            "0.552 (+/-0.095) for {'criterion': 'entropy', 'max_depth': 6, 'min_samples_leaf': 3, 'min_samples_split': 5}\n",
            "0.547 (+/-0.091) for {'criterion': 'entropy', 'max_depth': 6, 'min_samples_leaf': 3, 'min_samples_split': 10}\n",
            "0.539 (+/-0.087) for {'criterion': 'entropy', 'max_depth': 6, 'min_samples_leaf': 3, 'min_samples_split': 15}\n",
            "0.533 (+/-0.086) for {'criterion': 'entropy', 'max_depth': 6, 'min_samples_leaf': 3, 'min_samples_split': 20}\n",
            "0.553 (+/-0.110) for {'criterion': 'entropy', 'max_depth': 6, 'min_samples_leaf': 5, 'min_samples_split': 5}\n",
            "0.553 (+/-0.110) for {'criterion': 'entropy', 'max_depth': 6, 'min_samples_leaf': 5, 'min_samples_split': 10}\n",
            "0.539 (+/-0.107) for {'criterion': 'entropy', 'max_depth': 6, 'min_samples_leaf': 5, 'min_samples_split': 15}\n",
            "0.525 (+/-0.122) for {'criterion': 'entropy', 'max_depth': 6, 'min_samples_leaf': 5, 'min_samples_split': 20}\n",
            "0.538 (+/-0.119) for {'criterion': 'entropy', 'max_depth': 6, 'min_samples_leaf': 7, 'min_samples_split': 5}\n",
            "0.538 (+/-0.118) for {'criterion': 'entropy', 'max_depth': 6, 'min_samples_leaf': 7, 'min_samples_split': 10}\n",
            "0.535 (+/-0.119) for {'criterion': 'entropy', 'max_depth': 6, 'min_samples_leaf': 7, 'min_samples_split': 15}\n",
            "0.527 (+/-0.129) for {'criterion': 'entropy', 'max_depth': 6, 'min_samples_leaf': 7, 'min_samples_split': 20}\n",
            "0.519 (+/-0.133) for {'criterion': 'entropy', 'max_depth': 6, 'min_samples_leaf': 9, 'min_samples_split': 5}\n",
            "0.519 (+/-0.133) for {'criterion': 'entropy', 'max_depth': 6, 'min_samples_leaf': 9, 'min_samples_split': 10}\n",
            "0.519 (+/-0.133) for {'criterion': 'entropy', 'max_depth': 6, 'min_samples_leaf': 9, 'min_samples_split': 15}\n",
            "0.515 (+/-0.131) for {'criterion': 'entropy', 'max_depth': 6, 'min_samples_leaf': 9, 'min_samples_split': 20}\n",
            "0.481 (+/-0.113) for {'criterion': 'entropy', 'max_depth': 6, 'min_samples_leaf': 11, 'min_samples_split': 5}\n",
            "0.481 (+/-0.113) for {'criterion': 'entropy', 'max_depth': 6, 'min_samples_leaf': 11, 'min_samples_split': 10}\n",
            "0.481 (+/-0.113) for {'criterion': 'entropy', 'max_depth': 6, 'min_samples_leaf': 11, 'min_samples_split': 15}\n",
            "0.481 (+/-0.113) for {'criterion': 'entropy', 'max_depth': 6, 'min_samples_leaf': 11, 'min_samples_split': 20}\n",
            "0.610 (+/-0.105) for {'criterion': 'entropy', 'max_depth': 8, 'min_samples_leaf': 3, 'min_samples_split': 5}\n",
            "0.602 (+/-0.102) for {'criterion': 'entropy', 'max_depth': 8, 'min_samples_leaf': 3, 'min_samples_split': 10}\n",
            "0.586 (+/-0.103) for {'criterion': 'entropy', 'max_depth': 8, 'min_samples_leaf': 3, 'min_samples_split': 15}\n",
            "0.568 (+/-0.103) for {'criterion': 'entropy', 'max_depth': 8, 'min_samples_leaf': 3, 'min_samples_split': 20}\n",
            "0.610 (+/-0.106) for {'criterion': 'entropy', 'max_depth': 8, 'min_samples_leaf': 5, 'min_samples_split': 5}\n",
            "0.611 (+/-0.103) for {'criterion': 'entropy', 'max_depth': 8, 'min_samples_leaf': 5, 'min_samples_split': 10}\n",
            "0.584 (+/-0.113) for {'criterion': 'entropy', 'max_depth': 8, 'min_samples_leaf': 5, 'min_samples_split': 15}\n",
            "0.557 (+/-0.130) for {'criterion': 'entropy', 'max_depth': 8, 'min_samples_leaf': 5, 'min_samples_split': 20}\n",
            "0.585 (+/-0.117) for {'criterion': 'entropy', 'max_depth': 8, 'min_samples_leaf': 7, 'min_samples_split': 5}\n",
            "0.584 (+/-0.119) for {'criterion': 'entropy', 'max_depth': 8, 'min_samples_leaf': 7, 'min_samples_split': 10}\n",
            "0.579 (+/-0.115) for {'criterion': 'entropy', 'max_depth': 8, 'min_samples_leaf': 7, 'min_samples_split': 15}\n",
            "0.553 (+/-0.126) for {'criterion': 'entropy', 'max_depth': 8, 'min_samples_leaf': 7, 'min_samples_split': 20}\n",
            "0.546 (+/-0.140) for {'criterion': 'entropy', 'max_depth': 8, 'min_samples_leaf': 9, 'min_samples_split': 5}\n",
            "0.546 (+/-0.140) for {'criterion': 'entropy', 'max_depth': 8, 'min_samples_leaf': 9, 'min_samples_split': 10}\n",
            "0.545 (+/-0.139) for {'criterion': 'entropy', 'max_depth': 8, 'min_samples_leaf': 9, 'min_samples_split': 15}\n",
            "0.535 (+/-0.139) for {'criterion': 'entropy', 'max_depth': 8, 'min_samples_leaf': 9, 'min_samples_split': 20}\n",
            "0.497 (+/-0.125) for {'criterion': 'entropy', 'max_depth': 8, 'min_samples_leaf': 11, 'min_samples_split': 5}\n",
            "0.497 (+/-0.125) for {'criterion': 'entropy', 'max_depth': 8, 'min_samples_leaf': 11, 'min_samples_split': 10}\n",
            "0.497 (+/-0.125) for {'criterion': 'entropy', 'max_depth': 8, 'min_samples_leaf': 11, 'min_samples_split': 15}\n",
            "0.497 (+/-0.125) for {'criterion': 'entropy', 'max_depth': 8, 'min_samples_leaf': 11, 'min_samples_split': 20}\n",
            "0.662 (+/-0.101) for {'criterion': 'entropy', 'max_depth': 10, 'min_samples_leaf': 3, 'min_samples_split': 5}\n",
            "0.648 (+/-0.105) for {'criterion': 'entropy', 'max_depth': 10, 'min_samples_leaf': 3, 'min_samples_split': 10}\n",
            "0.623 (+/-0.117) for {'criterion': 'entropy', 'max_depth': 10, 'min_samples_leaf': 3, 'min_samples_split': 15}\n",
            "0.599 (+/-0.126) for {'criterion': 'entropy', 'max_depth': 10, 'min_samples_leaf': 3, 'min_samples_split': 20}\n",
            "0.649 (+/-0.102) for {'criterion': 'entropy', 'max_depth': 10, 'min_samples_leaf': 5, 'min_samples_split': 5}\n",
            "0.648 (+/-0.104) for {'criterion': 'entropy', 'max_depth': 10, 'min_samples_leaf': 5, 'min_samples_split': 10}\n",
            "0.615 (+/-0.133) for {'criterion': 'entropy', 'max_depth': 10, 'min_samples_leaf': 5, 'min_samples_split': 15}\n",
            "0.584 (+/-0.150) for {'criterion': 'entropy', 'max_depth': 10, 'min_samples_leaf': 5, 'min_samples_split': 20}\n",
            "0.616 (+/-0.112) for {'criterion': 'entropy', 'max_depth': 10, 'min_samples_leaf': 7, 'min_samples_split': 5}\n",
            "0.616 (+/-0.112) for {'criterion': 'entropy', 'max_depth': 10, 'min_samples_leaf': 7, 'min_samples_split': 10}\n",
            "0.606 (+/-0.111) for {'criterion': 'entropy', 'max_depth': 10, 'min_samples_leaf': 7, 'min_samples_split': 15}\n",
            "0.572 (+/-0.132) for {'criterion': 'entropy', 'max_depth': 10, 'min_samples_leaf': 7, 'min_samples_split': 20}\n",
            "0.555 (+/-0.143) for {'criterion': 'entropy', 'max_depth': 10, 'min_samples_leaf': 9, 'min_samples_split': 5}\n",
            "0.554 (+/-0.142) for {'criterion': 'entropy', 'max_depth': 10, 'min_samples_leaf': 9, 'min_samples_split': 10}\n",
            "0.554 (+/-0.142) for {'criterion': 'entropy', 'max_depth': 10, 'min_samples_leaf': 9, 'min_samples_split': 15}\n",
            "0.545 (+/-0.140) for {'criterion': 'entropy', 'max_depth': 10, 'min_samples_leaf': 9, 'min_samples_split': 20}\n",
            "0.502 (+/-0.125) for {'criterion': 'entropy', 'max_depth': 10, 'min_samples_leaf': 11, 'min_samples_split': 5}\n",
            "0.502 (+/-0.125) for {'criterion': 'entropy', 'max_depth': 10, 'min_samples_leaf': 11, 'min_samples_split': 10}\n",
            "0.502 (+/-0.125) for {'criterion': 'entropy', 'max_depth': 10, 'min_samples_leaf': 11, 'min_samples_split': 15}\n",
            "0.502 (+/-0.125) for {'criterion': 'entropy', 'max_depth': 10, 'min_samples_leaf': 11, 'min_samples_split': 20}\n",
            "____________________________________________ END GRID SEARCH ____________________________________________\n"
          ]
        }
      ]
    },
    {
      "cell_type": "code",
      "source": [
        "results"
      ],
      "metadata": {
        "colab": {
          "base_uri": "https://localhost:8080/"
        },
        "id": "7COL6KbGd0ci",
        "outputId": "3324ee07-7417-46e9-f1c5-8f9a431c9615"
      },
      "execution_count": null,
      "outputs": [
        {
          "output_type": "execute_result",
          "data": {
            "text/plain": [
              "{'f1_macro': {'criterion': 'gini',\n",
              "  'max_depth': 10,\n",
              "  'min_samples_leaf': 3,\n",
              "  'min_samples_split': 10}}"
            ]
          },
          "metadata": {},
          "execution_count": 243
        }
      ]
    },
    {
      "cell_type": "code",
      "source": [
        "clf = DecisionTreeClassifier(criterion='gini',max_depth=10,min_samples_leaf=3,min_samples_split=10, random_state=42)\n",
        "clf.fit(X_train_mds, y_res)\n",
        "\n",
        "y_pred = clf.predict(X_train_mds)\n",
        "\n",
        "print('Accuracy %s' % accuracy_score(y_res, y_pred))\n",
        "print('F1-score %s' % f1_score(y_res, y_pred, average=None))\n",
        "print(classification_report(y_res, y_pred))"
      ],
      "metadata": {
        "colab": {
          "base_uri": "https://localhost:8080/"
        },
        "id": "oBW4LoYOmeiB",
        "outputId": "66b422b0-be6a-4d87-a8c2-0ea7097e1944"
      },
      "execution_count": 181,
      "outputs": [
        {
          "output_type": "stream",
          "name": "stdout",
          "text": [
            "Accuracy 0.8231511254019293\n",
            "F1-score [0.89681051 0.38202247]\n",
            "              precision    recall  f1-score   support\n",
            "\n",
            "           0       0.84      0.97      0.90       247\n",
            "           1       0.68      0.27      0.38        64\n",
            "\n",
            "    accuracy                           0.82       311\n",
            "   macro avg       0.76      0.62      0.64       311\n",
            "weighted avg       0.80      0.82      0.79       311\n",
            "\n"
          ]
        }
      ]
    },
    {
      "cell_type": "markdown",
      "source": [
        "IsoMap"
      ],
      "metadata": {
        "id": "pyzlimuymw6w"
      }
    },
    {
      "cell_type": "code",
      "source": [
        "from sklearn.manifold import Isomap"
      ],
      "metadata": {
        "id": "g6hRpVB-myNf"
      },
      "execution_count": 182,
      "outputs": []
    },
    {
      "cell_type": "code",
      "source": [
        "iso = Isomap(n_components=2) #2 è il default\n",
        "X_train_iso = iso.fit_transform(X_res)\n",
        "X_train_iso.shape"
      ],
      "metadata": {
        "colab": {
          "base_uri": "https://localhost:8080/"
        },
        "id": "ys02K3f0mzWc",
        "outputId": "6c1dd741-eb9f-44b7-9520-0c3f60973871"
      },
      "execution_count": 183,
      "outputs": [
        {
          "output_type": "execute_result",
          "data": {
            "text/plain": [
              "(311, 2)"
            ]
          },
          "metadata": {},
          "execution_count": 183
        }
      ]
    },
    {
      "cell_type": "code",
      "source": [
        "plt.scatter(X_train_iso[:, 0], X_train_iso[:, 1], c=y_res, cmap=plt.cm.prism, edgecolor='k', alpha=0.7)\n",
        "plt.show()"
      ],
      "metadata": {
        "colab": {
          "base_uri": "https://localhost:8080/",
          "height": 347
        },
        "id": "t5WSyR85m5t-",
        "outputId": "3feb74f5-cb0e-4196-d5e9-16de776b9bc1"
      },
      "execution_count": 184,
      "outputs": [
        {
          "output_type": "display_data",
          "data": {
            "text/plain": [
              "<Figure size 576x396 with 1 Axes>"
            ],
            "image/png": "[encoded data removed]"
          },
          "metadata": {}
        }
      ]
    },
    {
      "cell_type": "code",
      "source": [
        "check_params ={\"criterion\":[\"gini\", \"entropy\"],\n",
        "         \"max_depth\":[4, 6, 8, 10],\n",
        "         \"min_samples_split\": [5, 10, 15, 20],\n",
        "         \"min_samples_leaf\": [3, 5, 7, 9, 11]}\n",
        "dt=DecisionTreeClassifier()\n",
        "results = customGridSearch(X_train_iso, y_res, dt, check_params, \"f1_macro\")"
      ],
      "metadata": {
        "colab": {
          "base_uri": "https://localhost:8080/"
        },
        "id": "iHLq5mYGc8Da",
        "outputId": "55641585-5c73-48a4-b7c0-abe6ba6d83c8"
      },
      "execution_count": null,
      "outputs": [
        {
          "output_type": "stream",
          "name": "stdout",
          "text": [
            "____________________________________________ START GRID SEARCH ____________________________________________\n",
            "------- Score = f1_macro------- \n",
            "\n",
            "> Fold = RepeatedStratifiedKFold(n_repeats=10, n_splits=5, random_state=None)\n",
            "\n",
            "> Best Parameter set: \n",
            "\n",
            "{'criterion': 'entropy', 'max_depth': 10, 'min_samples_leaf': 3, 'min_samples_split': 5}\n",
            "\n",
            "> Grid scores:\n",
            "\n",
            "...........RESULTS FOR TRAINING.........\n",
            "........................................\n",
            "0.572 (+/-0.088) for {'criterion': 'gini', 'max_depth': 4, 'min_samples_leaf': 3, 'min_samples_split': 5}\n",
            "0.571 (+/-0.092) for {'criterion': 'gini', 'max_depth': 4, 'min_samples_leaf': 3, 'min_samples_split': 10}\n",
            "0.561 (+/-0.099) for {'criterion': 'gini', 'max_depth': 4, 'min_samples_leaf': 3, 'min_samples_split': 15}\n",
            "0.551 (+/-0.106) for {'criterion': 'gini', 'max_depth': 4, 'min_samples_leaf': 3, 'min_samples_split': 20}\n",
            "0.566 (+/-0.093) for {'criterion': 'gini', 'max_depth': 4, 'min_samples_leaf': 5, 'min_samples_split': 5}\n",
            "0.567 (+/-0.093) for {'criterion': 'gini', 'max_depth': 4, 'min_samples_leaf': 5, 'min_samples_split': 10}\n",
            "0.563 (+/-0.095) for {'criterion': 'gini', 'max_depth': 4, 'min_samples_leaf': 5, 'min_samples_split': 15}\n",
            "0.556 (+/-0.107) for {'criterion': 'gini', 'max_depth': 4, 'min_samples_leaf': 5, 'min_samples_split': 20}\n",
            "0.549 (+/-0.107) for {'criterion': 'gini', 'max_depth': 4, 'min_samples_leaf': 7, 'min_samples_split': 5}\n",
            "0.549 (+/-0.107) for {'criterion': 'gini', 'max_depth': 4, 'min_samples_leaf': 7, 'min_samples_split': 10}\n",
            "0.551 (+/-0.107) for {'criterion': 'gini', 'max_depth': 4, 'min_samples_leaf': 7, 'min_samples_split': 15}\n",
            "0.544 (+/-0.109) for {'criterion': 'gini', 'max_depth': 4, 'min_samples_leaf': 7, 'min_samples_split': 20}\n",
            "0.530 (+/-0.110) for {'criterion': 'gini', 'max_depth': 4, 'min_samples_leaf': 9, 'min_samples_split': 5}\n",
            "0.530 (+/-0.110) for {'criterion': 'gini', 'max_depth': 4, 'min_samples_leaf': 9, 'min_samples_split': 10}\n",
            "0.530 (+/-0.110) for {'criterion': 'gini', 'max_depth': 4, 'min_samples_leaf': 9, 'min_samples_split': 15}\n",
            "0.529 (+/-0.113) for {'criterion': 'gini', 'max_depth': 4, 'min_samples_leaf': 9, 'min_samples_split': 20}\n",
            "0.505 (+/-0.125) for {'criterion': 'gini', 'max_depth': 4, 'min_samples_leaf': 11, 'min_samples_split': 5}\n",
            "0.505 (+/-0.125) for {'criterion': 'gini', 'max_depth': 4, 'min_samples_leaf': 11, 'min_samples_split': 10}\n",
            "0.505 (+/-0.125) for {'criterion': 'gini', 'max_depth': 4, 'min_samples_leaf': 11, 'min_samples_split': 15}\n",
            "0.505 (+/-0.125) for {'criterion': 'gini', 'max_depth': 4, 'min_samples_leaf': 11, 'min_samples_split': 20}\n",
            "0.663 (+/-0.106) for {'criterion': 'gini', 'max_depth': 6, 'min_samples_leaf': 3, 'min_samples_split': 5}\n",
            "0.652 (+/-0.106) for {'criterion': 'gini', 'max_depth': 6, 'min_samples_leaf': 3, 'min_samples_split': 10}\n",
            "0.623 (+/-0.104) for {'criterion': 'gini', 'max_depth': 6, 'min_samples_leaf': 3, 'min_samples_split': 15}\n",
            "0.604 (+/-0.116) for {'criterion': 'gini', 'max_depth': 6, 'min_samples_leaf': 3, 'min_samples_split': 20}\n",
            "0.641 (+/-0.087) for {'criterion': 'gini', 'max_depth': 6, 'min_samples_leaf': 5, 'min_samples_split': 5}\n",
            "0.642 (+/-0.089) for {'criterion': 'gini', 'max_depth': 6, 'min_samples_leaf': 5, 'min_samples_split': 10}\n",
            "0.623 (+/-0.096) for {'criterion': 'gini', 'max_depth': 6, 'min_samples_leaf': 5, 'min_samples_split': 15}\n",
            "0.597 (+/-0.114) for {'criterion': 'gini', 'max_depth': 6, 'min_samples_leaf': 5, 'min_samples_split': 20}\n",
            "0.611 (+/-0.095) for {'criterion': 'gini', 'max_depth': 6, 'min_samples_leaf': 7, 'min_samples_split': 5}\n",
            "0.611 (+/-0.094) for {'criterion': 'gini', 'max_depth': 6, 'min_samples_leaf': 7, 'min_samples_split': 10}\n",
            "0.606 (+/-0.098) for {'criterion': 'gini', 'max_depth': 6, 'min_samples_leaf': 7, 'min_samples_split': 15}\n",
            "0.581 (+/-0.110) for {'criterion': 'gini', 'max_depth': 6, 'min_samples_leaf': 7, 'min_samples_split': 20}\n",
            "0.563 (+/-0.116) for {'criterion': 'gini', 'max_depth': 6, 'min_samples_leaf': 9, 'min_samples_split': 5}\n",
            "0.562 (+/-0.114) for {'criterion': 'gini', 'max_depth': 6, 'min_samples_leaf': 9, 'min_samples_split': 10}\n",
            "0.563 (+/-0.116) for {'criterion': 'gini', 'max_depth': 6, 'min_samples_leaf': 9, 'min_samples_split': 15}\n",
            "0.560 (+/-0.118) for {'criterion': 'gini', 'max_depth': 6, 'min_samples_leaf': 9, 'min_samples_split': 20}\n",
            "0.534 (+/-0.146) for {'criterion': 'gini', 'max_depth': 6, 'min_samples_leaf': 11, 'min_samples_split': 5}\n",
            "0.534 (+/-0.146) for {'criterion': 'gini', 'max_depth': 6, 'min_samples_leaf': 11, 'min_samples_split': 10}\n",
            "0.534 (+/-0.146) for {'criterion': 'gini', 'max_depth': 6, 'min_samples_leaf': 11, 'min_samples_split': 15}\n",
            "0.534 (+/-0.146) for {'criterion': 'gini', 'max_depth': 6, 'min_samples_leaf': 11, 'min_samples_split': 20}\n",
            "0.722 (+/-0.108) for {'criterion': 'gini', 'max_depth': 8, 'min_samples_leaf': 3, 'min_samples_split': 5}\n",
            "0.704 (+/-0.102) for {'criterion': 'gini', 'max_depth': 8, 'min_samples_leaf': 3, 'min_samples_split': 10}\n",
            "0.660 (+/-0.100) for {'criterion': 'gini', 'max_depth': 8, 'min_samples_leaf': 3, 'min_samples_split': 15}\n",
            "0.639 (+/-0.111) for {'criterion': 'gini', 'max_depth': 8, 'min_samples_leaf': 3, 'min_samples_split': 20}\n",
            "0.687 (+/-0.080) for {'criterion': 'gini', 'max_depth': 8, 'min_samples_leaf': 5, 'min_samples_split': 5}\n",
            "0.687 (+/-0.081) for {'criterion': 'gini', 'max_depth': 8, 'min_samples_leaf': 5, 'min_samples_split': 10}\n",
            "0.658 (+/-0.082) for {'criterion': 'gini', 'max_depth': 8, 'min_samples_leaf': 5, 'min_samples_split': 15}\n",
            "0.628 (+/-0.112) for {'criterion': 'gini', 'max_depth': 8, 'min_samples_leaf': 5, 'min_samples_split': 20}\n",
            "0.638 (+/-0.081) for {'criterion': 'gini', 'max_depth': 8, 'min_samples_leaf': 7, 'min_samples_split': 5}\n",
            "0.638 (+/-0.081) for {'criterion': 'gini', 'max_depth': 8, 'min_samples_leaf': 7, 'min_samples_split': 10}\n",
            "0.637 (+/-0.079) for {'criterion': 'gini', 'max_depth': 8, 'min_samples_leaf': 7, 'min_samples_split': 15}\n",
            "0.608 (+/-0.096) for {'criterion': 'gini', 'max_depth': 8, 'min_samples_leaf': 7, 'min_samples_split': 20}\n",
            "0.583 (+/-0.101) for {'criterion': 'gini', 'max_depth': 8, 'min_samples_leaf': 9, 'min_samples_split': 5}\n",
            "0.584 (+/-0.103) for {'criterion': 'gini', 'max_depth': 8, 'min_samples_leaf': 9, 'min_samples_split': 10}\n",
            "0.583 (+/-0.101) for {'criterion': 'gini', 'max_depth': 8, 'min_samples_leaf': 9, 'min_samples_split': 15}\n",
            "0.577 (+/-0.109) for {'criterion': 'gini', 'max_depth': 8, 'min_samples_leaf': 9, 'min_samples_split': 20}\n",
            "0.543 (+/-0.142) for {'criterion': 'gini', 'max_depth': 8, 'min_samples_leaf': 11, 'min_samples_split': 5}\n",
            "0.543 (+/-0.142) for {'criterion': 'gini', 'max_depth': 8, 'min_samples_leaf': 11, 'min_samples_split': 10}\n",
            "0.543 (+/-0.142) for {'criterion': 'gini', 'max_depth': 8, 'min_samples_leaf': 11, 'min_samples_split': 15}\n",
            "0.543 (+/-0.142) for {'criterion': 'gini', 'max_depth': 8, 'min_samples_leaf': 11, 'min_samples_split': 20}\n",
            "0.764 (+/-0.082) for {'criterion': 'gini', 'max_depth': 10, 'min_samples_leaf': 3, 'min_samples_split': 5}\n",
            "0.736 (+/-0.076) for {'criterion': 'gini', 'max_depth': 10, 'min_samples_leaf': 3, 'min_samples_split': 10}\n",
            "0.689 (+/-0.088) for {'criterion': 'gini', 'max_depth': 10, 'min_samples_leaf': 3, 'min_samples_split': 15}\n",
            "0.664 (+/-0.102) for {'criterion': 'gini', 'max_depth': 10, 'min_samples_leaf': 3, 'min_samples_split': 20}\n",
            "0.706 (+/-0.073) for {'criterion': 'gini', 'max_depth': 10, 'min_samples_leaf': 5, 'min_samples_split': 5}\n",
            "0.704 (+/-0.071) for {'criterion': 'gini', 'max_depth': 10, 'min_samples_leaf': 5, 'min_samples_split': 10}\n",
            "0.672 (+/-0.083) for {'criterion': 'gini', 'max_depth': 10, 'min_samples_leaf': 5, 'min_samples_split': 15}\n",
            "0.640 (+/-0.104) for {'criterion': 'gini', 'max_depth': 10, 'min_samples_leaf': 5, 'min_samples_split': 20}\n",
            "0.648 (+/-0.081) for {'criterion': 'gini', 'max_depth': 10, 'min_samples_leaf': 7, 'min_samples_split': 5}\n",
            "0.648 (+/-0.081) for {'criterion': 'gini', 'max_depth': 10, 'min_samples_leaf': 7, 'min_samples_split': 10}\n",
            "0.643 (+/-0.081) for {'criterion': 'gini', 'max_depth': 10, 'min_samples_leaf': 7, 'min_samples_split': 15}\n",
            "0.614 (+/-0.097) for {'criterion': 'gini', 'max_depth': 10, 'min_samples_leaf': 7, 'min_samples_split': 20}\n",
            "0.586 (+/-0.105) for {'criterion': 'gini', 'max_depth': 10, 'min_samples_leaf': 9, 'min_samples_split': 5}\n",
            "0.585 (+/-0.104) for {'criterion': 'gini', 'max_depth': 10, 'min_samples_leaf': 9, 'min_samples_split': 10}\n",
            "0.586 (+/-0.105) for {'criterion': 'gini', 'max_depth': 10, 'min_samples_leaf': 9, 'min_samples_split': 15}\n",
            "0.580 (+/-0.114) for {'criterion': 'gini', 'max_depth': 10, 'min_samples_leaf': 9, 'min_samples_split': 20}\n",
            "0.545 (+/-0.143) for {'criterion': 'gini', 'max_depth': 10, 'min_samples_leaf': 11, 'min_samples_split': 5}\n",
            "0.545 (+/-0.143) for {'criterion': 'gini', 'max_depth': 10, 'min_samples_leaf': 11, 'min_samples_split': 10}\n",
            "0.545 (+/-0.143) for {'criterion': 'gini', 'max_depth': 10, 'min_samples_leaf': 11, 'min_samples_split': 15}\n",
            "0.545 (+/-0.143) for {'criterion': 'gini', 'max_depth': 10, 'min_samples_leaf': 11, 'min_samples_split': 20}\n",
            "0.538 (+/-0.098) for {'criterion': 'entropy', 'max_depth': 4, 'min_samples_leaf': 3, 'min_samples_split': 5}\n",
            "0.537 (+/-0.100) for {'criterion': 'entropy', 'max_depth': 4, 'min_samples_leaf': 3, 'min_samples_split': 10}\n",
            "0.530 (+/-0.098) for {'criterion': 'entropy', 'max_depth': 4, 'min_samples_leaf': 3, 'min_samples_split': 15}\n",
            "0.530 (+/-0.097) for {'criterion': 'entropy', 'max_depth': 4, 'min_samples_leaf': 3, 'min_samples_split': 20}\n",
            "0.536 (+/-0.088) for {'criterion': 'entropy', 'max_depth': 4, 'min_samples_leaf': 5, 'min_samples_split': 5}\n",
            "0.536 (+/-0.088) for {'criterion': 'entropy', 'max_depth': 4, 'min_samples_leaf': 5, 'min_samples_split': 10}\n",
            "0.535 (+/-0.092) for {'criterion': 'entropy', 'max_depth': 4, 'min_samples_leaf': 5, 'min_samples_split': 15}\n",
            "0.531 (+/-0.092) for {'criterion': 'entropy', 'max_depth': 4, 'min_samples_leaf': 5, 'min_samples_split': 20}\n",
            "0.524 (+/-0.100) for {'criterion': 'entropy', 'max_depth': 4, 'min_samples_leaf': 7, 'min_samples_split': 5}\n",
            "0.524 (+/-0.100) for {'criterion': 'entropy', 'max_depth': 4, 'min_samples_leaf': 7, 'min_samples_split': 10}\n",
            "0.524 (+/-0.103) for {'criterion': 'entropy', 'max_depth': 4, 'min_samples_leaf': 7, 'min_samples_split': 15}\n",
            "0.519 (+/-0.103) for {'criterion': 'entropy', 'max_depth': 4, 'min_samples_leaf': 7, 'min_samples_split': 20}\n",
            "0.524 (+/-0.104) for {'criterion': 'entropy', 'max_depth': 4, 'min_samples_leaf': 9, 'min_samples_split': 5}\n",
            "0.524 (+/-0.104) for {'criterion': 'entropy', 'max_depth': 4, 'min_samples_leaf': 9, 'min_samples_split': 10}\n",
            "0.524 (+/-0.104) for {'criterion': 'entropy', 'max_depth': 4, 'min_samples_leaf': 9, 'min_samples_split': 15}\n",
            "0.522 (+/-0.107) for {'criterion': 'entropy', 'max_depth': 4, 'min_samples_leaf': 9, 'min_samples_split': 20}\n",
            "0.507 (+/-0.119) for {'criterion': 'entropy', 'max_depth': 4, 'min_samples_leaf': 11, 'min_samples_split': 5}\n",
            "0.507 (+/-0.119) for {'criterion': 'entropy', 'max_depth': 4, 'min_samples_leaf': 11, 'min_samples_split': 10}\n",
            "0.507 (+/-0.119) for {'criterion': 'entropy', 'max_depth': 4, 'min_samples_leaf': 11, 'min_samples_split': 15}\n",
            "0.507 (+/-0.119) for {'criterion': 'entropy', 'max_depth': 4, 'min_samples_leaf': 11, 'min_samples_split': 20}\n",
            "0.633 (+/-0.108) for {'criterion': 'entropy', 'max_depth': 6, 'min_samples_leaf': 3, 'min_samples_split': 5}\n",
            "0.622 (+/-0.113) for {'criterion': 'entropy', 'max_depth': 6, 'min_samples_leaf': 3, 'min_samples_split': 10}\n",
            "0.594 (+/-0.111) for {'criterion': 'entropy', 'max_depth': 6, 'min_samples_leaf': 3, 'min_samples_split': 15}\n",
            "0.588 (+/-0.107) for {'criterion': 'entropy', 'max_depth': 6, 'min_samples_leaf': 3, 'min_samples_split': 20}\n",
            "0.612 (+/-0.091) for {'criterion': 'entropy', 'max_depth': 6, 'min_samples_leaf': 5, 'min_samples_split': 5}\n",
            "0.612 (+/-0.091) for {'criterion': 'entropy', 'max_depth': 6, 'min_samples_leaf': 5, 'min_samples_split': 10}\n",
            "0.597 (+/-0.093) for {'criterion': 'entropy', 'max_depth': 6, 'min_samples_leaf': 5, 'min_samples_split': 15}\n",
            "0.579 (+/-0.103) for {'criterion': 'entropy', 'max_depth': 6, 'min_samples_leaf': 5, 'min_samples_split': 20}\n",
            "0.593 (+/-0.095) for {'criterion': 'entropy', 'max_depth': 6, 'min_samples_leaf': 7, 'min_samples_split': 5}\n",
            "0.593 (+/-0.095) for {'criterion': 'entropy', 'max_depth': 6, 'min_samples_leaf': 7, 'min_samples_split': 10}\n",
            "0.589 (+/-0.098) for {'criterion': 'entropy', 'max_depth': 6, 'min_samples_leaf': 7, 'min_samples_split': 15}\n",
            "0.570 (+/-0.099) for {'criterion': 'entropy', 'max_depth': 6, 'min_samples_leaf': 7, 'min_samples_split': 20}\n",
            "0.567 (+/-0.106) for {'criterion': 'entropy', 'max_depth': 6, 'min_samples_leaf': 9, 'min_samples_split': 5}\n",
            "0.567 (+/-0.106) for {'criterion': 'entropy', 'max_depth': 6, 'min_samples_leaf': 9, 'min_samples_split': 10}\n",
            "0.568 (+/-0.108) for {'criterion': 'entropy', 'max_depth': 6, 'min_samples_leaf': 9, 'min_samples_split': 15}\n",
            "0.561 (+/-0.101) for {'criterion': 'entropy', 'max_depth': 6, 'min_samples_leaf': 9, 'min_samples_split': 20}\n",
            "0.533 (+/-0.127) for {'criterion': 'entropy', 'max_depth': 6, 'min_samples_leaf': 11, 'min_samples_split': 5}\n",
            "0.533 (+/-0.127) for {'criterion': 'entropy', 'max_depth': 6, 'min_samples_leaf': 11, 'min_samples_split': 10}\n",
            "0.531 (+/-0.130) for {'criterion': 'entropy', 'max_depth': 6, 'min_samples_leaf': 11, 'min_samples_split': 15}\n",
            "0.533 (+/-0.127) for {'criterion': 'entropy', 'max_depth': 6, 'min_samples_leaf': 11, 'min_samples_split': 20}\n",
            "0.698 (+/-0.106) for {'criterion': 'entropy', 'max_depth': 8, 'min_samples_leaf': 3, 'min_samples_split': 5}\n",
            "0.677 (+/-0.110) for {'criterion': 'entropy', 'max_depth': 8, 'min_samples_leaf': 3, 'min_samples_split': 10}\n",
            "0.645 (+/-0.108) for {'criterion': 'entropy', 'max_depth': 8, 'min_samples_leaf': 3, 'min_samples_split': 15}\n",
            "0.628 (+/-0.120) for {'criterion': 'entropy', 'max_depth': 8, 'min_samples_leaf': 3, 'min_samples_split': 20}\n",
            "0.658 (+/-0.093) for {'criterion': 'entropy', 'max_depth': 8, 'min_samples_leaf': 5, 'min_samples_split': 5}\n",
            "0.659 (+/-0.094) for {'criterion': 'entropy', 'max_depth': 8, 'min_samples_leaf': 5, 'min_samples_split': 10}\n",
            "0.635 (+/-0.095) for {'criterion': 'entropy', 'max_depth': 8, 'min_samples_leaf': 5, 'min_samples_split': 15}\n",
            "0.604 (+/-0.130) for {'criterion': 'entropy', 'max_depth': 8, 'min_samples_leaf': 5, 'min_samples_split': 20}\n",
            "0.635 (+/-0.075) for {'criterion': 'entropy', 'max_depth': 8, 'min_samples_leaf': 7, 'min_samples_split': 5}\n",
            "0.635 (+/-0.075) for {'criterion': 'entropy', 'max_depth': 8, 'min_samples_leaf': 7, 'min_samples_split': 10}\n",
            "0.630 (+/-0.076) for {'criterion': 'entropy', 'max_depth': 8, 'min_samples_leaf': 7, 'min_samples_split': 15}\n",
            "0.607 (+/-0.098) for {'criterion': 'entropy', 'max_depth': 8, 'min_samples_leaf': 7, 'min_samples_split': 20}\n",
            "0.585 (+/-0.098) for {'criterion': 'entropy', 'max_depth': 8, 'min_samples_leaf': 9, 'min_samples_split': 5}\n",
            "0.586 (+/-0.100) for {'criterion': 'entropy', 'max_depth': 8, 'min_samples_leaf': 9, 'min_samples_split': 10}\n",
            "0.585 (+/-0.098) for {'criterion': 'entropy', 'max_depth': 8, 'min_samples_leaf': 9, 'min_samples_split': 15}\n",
            "0.579 (+/-0.096) for {'criterion': 'entropy', 'max_depth': 8, 'min_samples_leaf': 9, 'min_samples_split': 20}\n",
            "0.540 (+/-0.125) for {'criterion': 'entropy', 'max_depth': 8, 'min_samples_leaf': 11, 'min_samples_split': 5}\n",
            "0.542 (+/-0.122) for {'criterion': 'entropy', 'max_depth': 8, 'min_samples_leaf': 11, 'min_samples_split': 10}\n",
            "0.542 (+/-0.122) for {'criterion': 'entropy', 'max_depth': 8, 'min_samples_leaf': 11, 'min_samples_split': 15}\n",
            "0.540 (+/-0.125) for {'criterion': 'entropy', 'max_depth': 8, 'min_samples_leaf': 11, 'min_samples_split': 20}\n",
            "0.744 (+/-0.105) for {'criterion': 'entropy', 'max_depth': 10, 'min_samples_leaf': 3, 'min_samples_split': 5}\n",
            "0.720 (+/-0.104) for {'criterion': 'entropy', 'max_depth': 10, 'min_samples_leaf': 3, 'min_samples_split': 10}\n",
            "0.682 (+/-0.093) for {'criterion': 'entropy', 'max_depth': 10, 'min_samples_leaf': 3, 'min_samples_split': 15}\n",
            "0.661 (+/-0.111) for {'criterion': 'entropy', 'max_depth': 10, 'min_samples_leaf': 3, 'min_samples_split': 20}\n",
            "0.693 (+/-0.078) for {'criterion': 'entropy', 'max_depth': 10, 'min_samples_leaf': 5, 'min_samples_split': 5}\n",
            "0.695 (+/-0.078) for {'criterion': 'entropy', 'max_depth': 10, 'min_samples_leaf': 5, 'min_samples_split': 10}\n",
            "0.662 (+/-0.080) for {'criterion': 'entropy', 'max_depth': 10, 'min_samples_leaf': 5, 'min_samples_split': 15}\n",
            "0.632 (+/-0.123) for {'criterion': 'entropy', 'max_depth': 10, 'min_samples_leaf': 5, 'min_samples_split': 20}\n",
            "0.648 (+/-0.066) for {'criterion': 'entropy', 'max_depth': 10, 'min_samples_leaf': 7, 'min_samples_split': 5}\n",
            "0.648 (+/-0.068) for {'criterion': 'entropy', 'max_depth': 10, 'min_samples_leaf': 7, 'min_samples_split': 10}\n",
            "0.644 (+/-0.065) for {'criterion': 'entropy', 'max_depth': 10, 'min_samples_leaf': 7, 'min_samples_split': 15}\n",
            "0.617 (+/-0.094) for {'criterion': 'entropy', 'max_depth': 10, 'min_samples_leaf': 7, 'min_samples_split': 20}\n",
            "0.590 (+/-0.105) for {'criterion': 'entropy', 'max_depth': 10, 'min_samples_leaf': 9, 'min_samples_split': 5}\n",
            "0.590 (+/-0.105) for {'criterion': 'entropy', 'max_depth': 10, 'min_samples_leaf': 9, 'min_samples_split': 10}\n",
            "0.590 (+/-0.105) for {'criterion': 'entropy', 'max_depth': 10, 'min_samples_leaf': 9, 'min_samples_split': 15}\n",
            "0.582 (+/-0.097) for {'criterion': 'entropy', 'max_depth': 10, 'min_samples_leaf': 9, 'min_samples_split': 20}\n",
            "0.543 (+/-0.124) for {'criterion': 'entropy', 'max_depth': 10, 'min_samples_leaf': 11, 'min_samples_split': 5}\n",
            "0.543 (+/-0.124) for {'criterion': 'entropy', 'max_depth': 10, 'min_samples_leaf': 11, 'min_samples_split': 10}\n",
            "0.543 (+/-0.124) for {'criterion': 'entropy', 'max_depth': 10, 'min_samples_leaf': 11, 'min_samples_split': 15}\n",
            "0.541 (+/-0.127) for {'criterion': 'entropy', 'max_depth': 10, 'min_samples_leaf': 11, 'min_samples_split': 20}\n",
            "____________________________________________ END GRID SEARCH ____________________________________________\n"
          ]
        }
      ]
    },
    {
      "cell_type": "code",
      "source": [
        "results"
      ],
      "metadata": {
        "colab": {
          "base_uri": "https://localhost:8080/"
        },
        "id": "oBjj8cOuetU6",
        "outputId": "35ce64eb-f839-4629-e160-b57103ed4711"
      },
      "execution_count": null,
      "outputs": [
        {
          "output_type": "execute_result",
          "data": {
            "text/plain": [
              "{'f1_macro': {'criterion': 'entropy',\n",
              "  'max_depth': 10,\n",
              "  'min_samples_leaf': 3,\n",
              "  'min_samples_split': 5}}"
            ]
          },
          "metadata": {},
          "execution_count": 250
        }
      ]
    },
    {
      "cell_type": "code",
      "source": [
        "clf = DecisionTreeClassifier(criterion='entropy', max_depth=10, min_samples_leaf=3, min_samples_split=5, random_state=42)\n",
        "clf.fit(X_train_iso, y_res)\n",
        "\n",
        "y_pred = clf.predict(X_train_iso)\n",
        "\n",
        "print('Accuracy %s' % accuracy_score(y_res, y_pred))\n",
        "print('F1-score %s' % f1_score(y_res, y_pred, average=None))\n",
        "print(classification_report(y_res, y_pred))"
      ],
      "metadata": {
        "colab": {
          "base_uri": "https://localhost:8080/"
        },
        "id": "8KSDox1zm96M",
        "outputId": "cd28b871-92a5-4ed7-b8f4-3b461e7b7cdc"
      },
      "execution_count": 185,
      "outputs": [
        {
          "output_type": "stream",
          "name": "stdout",
          "text": [
            "Accuracy 0.842443729903537\n",
            "F1-score [0.9059501  0.51485149]\n",
            "              precision    recall  f1-score   support\n",
            "\n",
            "           0       0.86      0.96      0.91       247\n",
            "           1       0.70      0.41      0.51        64\n",
            "\n",
            "    accuracy                           0.84       311\n",
            "   macro avg       0.78      0.68      0.71       311\n",
            "weighted avg       0.83      0.84      0.83       311\n",
            "\n"
          ]
        }
      ]
    },
    {
      "cell_type": "markdown",
      "source": [
        "t-SNE"
      ],
      "metadata": {
        "id": "9d8KY0snnIT6"
      }
    },
    {
      "cell_type": "code",
      "source": [
        "from sklearn.manifold import TSNE"
      ],
      "metadata": {
        "id": "zCO-sneBnGWg"
      },
      "execution_count": 186,
      "outputs": []
    },
    {
      "cell_type": "code",
      "source": [
        "tsne = TSNE(n_components=2) #2 è il default\n",
        "X_train_tsne = tsne.fit_transform(X_res)\n",
        "X_train_tsne.shape"
      ],
      "metadata": {
        "colab": {
          "base_uri": "https://localhost:8080/"
        },
        "id": "b15gXvR6nL8X",
        "outputId": "976ee965-291b-4384-fc5e-8a41b3994234"
      },
      "execution_count": 188,
      "outputs": [
        {
          "output_type": "execute_result",
          "data": {
            "text/plain": [
              "(311, 2)"
            ]
          },
          "metadata": {},
          "execution_count": 188
        }
      ]
    },
    {
      "cell_type": "code",
      "source": [
        "plt.scatter(X_train_tsne[:, 0], X_train_tsne[:, 1], c=y_res, cmap=plt.cm.prism, edgecolor='k', alpha=0.7)\n",
        "plt.show()"
      ],
      "metadata": {
        "colab": {
          "base_uri": "https://localhost:8080/",
          "height": 347
        },
        "id": "s-QyaCt4nWGh",
        "outputId": "f8eb4989-e6ad-4861-f6d6-a575259aa8ed"
      },
      "execution_count": 189,
      "outputs": [
        {
          "output_type": "display_data",
          "data": {
            "text/plain": [
              "<Figure size 576x396 with 1 Axes>"
            ],
            "image/png": "[encoded data removed]"
          },
          "metadata": {}
        }
      ]
    },
    {
      "cell_type": "code",
      "source": [
        "check_params ={\"criterion\":[\"gini\", \"entropy\"],\n",
        "         \"max_depth\":[4, 6, 8, 10],\n",
        "         \"min_samples_split\": [5, 10, 15, 20],\n",
        "         \"min_samples_leaf\": [3, 5, 7, 9, 11]}\n",
        "dt=DecisionTreeClassifier()\n",
        "results = customGridSearch(X_train_tsne, y_res, dt, check_params, \"f1_macro\")"
      ],
      "metadata": {
        "colab": {
          "base_uri": "https://localhost:8080/"
        },
        "id": "ivIzxo2pc9m_",
        "outputId": "f541fc32-f543-4292-80df-733d9b8c7386"
      },
      "execution_count": null,
      "outputs": [
        {
          "output_type": "stream",
          "name": "stdout",
          "text": [
            "____________________________________________ START GRID SEARCH ____________________________________________\n",
            "------- Score = f1_macro------- \n",
            "\n",
            "> Fold = RepeatedStratifiedKFold(n_repeats=10, n_splits=5, random_state=None)\n",
            "\n",
            "> Best Parameter set: \n",
            "\n",
            "{'criterion': 'entropy', 'max_depth': 10, 'min_samples_leaf': 3, 'min_samples_split': 5}\n",
            "\n",
            "> Grid scores:\n",
            "\n",
            "...........RESULTS FOR TRAINING.........\n",
            "........................................\n",
            "0.546 (+/-0.073) for {'criterion': 'gini', 'max_depth': 4, 'min_samples_leaf': 3, 'min_samples_split': 5}\n",
            "0.528 (+/-0.084) for {'criterion': 'gini', 'max_depth': 4, 'min_samples_leaf': 3, 'min_samples_split': 10}\n",
            "0.517 (+/-0.091) for {'criterion': 'gini', 'max_depth': 4, 'min_samples_leaf': 3, 'min_samples_split': 15}\n",
            "0.514 (+/-0.082) for {'criterion': 'gini', 'max_depth': 4, 'min_samples_leaf': 3, 'min_samples_split': 20}\n",
            "0.527 (+/-0.099) for {'criterion': 'gini', 'max_depth': 4, 'min_samples_leaf': 5, 'min_samples_split': 5}\n",
            "0.527 (+/-0.099) for {'criterion': 'gini', 'max_depth': 4, 'min_samples_leaf': 5, 'min_samples_split': 10}\n",
            "0.515 (+/-0.107) for {'criterion': 'gini', 'max_depth': 4, 'min_samples_leaf': 5, 'min_samples_split': 15}\n",
            "0.508 (+/-0.102) for {'criterion': 'gini', 'max_depth': 4, 'min_samples_leaf': 5, 'min_samples_split': 20}\n",
            "0.519 (+/-0.101) for {'criterion': 'gini', 'max_depth': 4, 'min_samples_leaf': 7, 'min_samples_split': 5}\n",
            "0.519 (+/-0.101) for {'criterion': 'gini', 'max_depth': 4, 'min_samples_leaf': 7, 'min_samples_split': 10}\n",
            "0.514 (+/-0.107) for {'criterion': 'gini', 'max_depth': 4, 'min_samples_leaf': 7, 'min_samples_split': 15}\n",
            "0.501 (+/-0.101) for {'criterion': 'gini', 'max_depth': 4, 'min_samples_leaf': 7, 'min_samples_split': 20}\n",
            "0.497 (+/-0.104) for {'criterion': 'gini', 'max_depth': 4, 'min_samples_leaf': 9, 'min_samples_split': 5}\n",
            "0.497 (+/-0.104) for {'criterion': 'gini', 'max_depth': 4, 'min_samples_leaf': 9, 'min_samples_split': 10}\n",
            "0.497 (+/-0.104) for {'criterion': 'gini', 'max_depth': 4, 'min_samples_leaf': 9, 'min_samples_split': 15}\n",
            "0.494 (+/-0.096) for {'criterion': 'gini', 'max_depth': 4, 'min_samples_leaf': 9, 'min_samples_split': 20}\n",
            "0.457 (+/-0.073) for {'criterion': 'gini', 'max_depth': 4, 'min_samples_leaf': 11, 'min_samples_split': 5}\n",
            "0.457 (+/-0.073) for {'criterion': 'gini', 'max_depth': 4, 'min_samples_leaf': 11, 'min_samples_split': 10}\n",
            "0.457 (+/-0.073) for {'criterion': 'gini', 'max_depth': 4, 'min_samples_leaf': 11, 'min_samples_split': 15}\n",
            "0.457 (+/-0.073) for {'criterion': 'gini', 'max_depth': 4, 'min_samples_leaf': 11, 'min_samples_split': 20}\n",
            "0.613 (+/-0.087) for {'criterion': 'gini', 'max_depth': 6, 'min_samples_leaf': 3, 'min_samples_split': 5}\n",
            "0.591 (+/-0.081) for {'criterion': 'gini', 'max_depth': 6, 'min_samples_leaf': 3, 'min_samples_split': 10}\n",
            "0.565 (+/-0.099) for {'criterion': 'gini', 'max_depth': 6, 'min_samples_leaf': 3, 'min_samples_split': 15}\n",
            "0.550 (+/-0.093) for {'criterion': 'gini', 'max_depth': 6, 'min_samples_leaf': 3, 'min_samples_split': 20}\n",
            "0.580 (+/-0.092) for {'criterion': 'gini', 'max_depth': 6, 'min_samples_leaf': 5, 'min_samples_split': 5}\n",
            "0.580 (+/-0.093) for {'criterion': 'gini', 'max_depth': 6, 'min_samples_leaf': 5, 'min_samples_split': 10}\n",
            "0.554 (+/-0.094) for {'criterion': 'gini', 'max_depth': 6, 'min_samples_leaf': 5, 'min_samples_split': 15}\n",
            "0.538 (+/-0.093) for {'criterion': 'gini', 'max_depth': 6, 'min_samples_leaf': 5, 'min_samples_split': 20}\n",
            "0.547 (+/-0.102) for {'criterion': 'gini', 'max_depth': 6, 'min_samples_leaf': 7, 'min_samples_split': 5}\n",
            "0.545 (+/-0.101) for {'criterion': 'gini', 'max_depth': 6, 'min_samples_leaf': 7, 'min_samples_split': 10}\n",
            "0.542 (+/-0.103) for {'criterion': 'gini', 'max_depth': 6, 'min_samples_leaf': 7, 'min_samples_split': 15}\n",
            "0.528 (+/-0.100) for {'criterion': 'gini', 'max_depth': 6, 'min_samples_leaf': 7, 'min_samples_split': 20}\n",
            "0.521 (+/-0.117) for {'criterion': 'gini', 'max_depth': 6, 'min_samples_leaf': 9, 'min_samples_split': 5}\n",
            "0.521 (+/-0.117) for {'criterion': 'gini', 'max_depth': 6, 'min_samples_leaf': 9, 'min_samples_split': 10}\n",
            "0.519 (+/-0.119) for {'criterion': 'gini', 'max_depth': 6, 'min_samples_leaf': 9, 'min_samples_split': 15}\n",
            "0.518 (+/-0.113) for {'criterion': 'gini', 'max_depth': 6, 'min_samples_leaf': 9, 'min_samples_split': 20}\n",
            "0.460 (+/-0.084) for {'criterion': 'gini', 'max_depth': 6, 'min_samples_leaf': 11, 'min_samples_split': 5}\n",
            "0.460 (+/-0.084) for {'criterion': 'gini', 'max_depth': 6, 'min_samples_leaf': 11, 'min_samples_split': 10}\n",
            "0.460 (+/-0.084) for {'criterion': 'gini', 'max_depth': 6, 'min_samples_leaf': 11, 'min_samples_split': 15}\n",
            "0.460 (+/-0.084) for {'criterion': 'gini', 'max_depth': 6, 'min_samples_leaf': 11, 'min_samples_split': 20}\n",
            "0.665 (+/-0.094) for {'criterion': 'gini', 'max_depth': 8, 'min_samples_leaf': 3, 'min_samples_split': 5}\n",
            "0.639 (+/-0.097) for {'criterion': 'gini', 'max_depth': 8, 'min_samples_leaf': 3, 'min_samples_split': 10}\n",
            "0.602 (+/-0.102) for {'criterion': 'gini', 'max_depth': 8, 'min_samples_leaf': 3, 'min_samples_split': 15}\n",
            "0.579 (+/-0.088) for {'criterion': 'gini', 'max_depth': 8, 'min_samples_leaf': 3, 'min_samples_split': 20}\n",
            "0.617 (+/-0.089) for {'criterion': 'gini', 'max_depth': 8, 'min_samples_leaf': 5, 'min_samples_split': 5}\n",
            "0.617 (+/-0.090) for {'criterion': 'gini', 'max_depth': 8, 'min_samples_leaf': 5, 'min_samples_split': 10}\n",
            "0.582 (+/-0.091) for {'criterion': 'gini', 'max_depth': 8, 'min_samples_leaf': 5, 'min_samples_split': 15}\n",
            "0.561 (+/-0.084) for {'criterion': 'gini', 'max_depth': 8, 'min_samples_leaf': 5, 'min_samples_split': 20}\n",
            "0.567 (+/-0.102) for {'criterion': 'gini', 'max_depth': 8, 'min_samples_leaf': 7, 'min_samples_split': 5}\n",
            "0.568 (+/-0.101) for {'criterion': 'gini', 'max_depth': 8, 'min_samples_leaf': 7, 'min_samples_split': 10}\n",
            "0.562 (+/-0.109) for {'criterion': 'gini', 'max_depth': 8, 'min_samples_leaf': 7, 'min_samples_split': 15}\n",
            "0.540 (+/-0.109) for {'criterion': 'gini', 'max_depth': 8, 'min_samples_leaf': 7, 'min_samples_split': 20}\n",
            "0.534 (+/-0.115) for {'criterion': 'gini', 'max_depth': 8, 'min_samples_leaf': 9, 'min_samples_split': 5}\n",
            "0.533 (+/-0.110) for {'criterion': 'gini', 'max_depth': 8, 'min_samples_leaf': 9, 'min_samples_split': 10}\n",
            "0.531 (+/-0.113) for {'criterion': 'gini', 'max_depth': 8, 'min_samples_leaf': 9, 'min_samples_split': 15}\n",
            "0.529 (+/-0.109) for {'criterion': 'gini', 'max_depth': 8, 'min_samples_leaf': 9, 'min_samples_split': 20}\n",
            "0.461 (+/-0.079) for {'criterion': 'gini', 'max_depth': 8, 'min_samples_leaf': 11, 'min_samples_split': 5}\n",
            "0.461 (+/-0.079) for {'criterion': 'gini', 'max_depth': 8, 'min_samples_leaf': 11, 'min_samples_split': 10}\n",
            "0.461 (+/-0.079) for {'criterion': 'gini', 'max_depth': 8, 'min_samples_leaf': 11, 'min_samples_split': 15}\n",
            "0.461 (+/-0.079) for {'criterion': 'gini', 'max_depth': 8, 'min_samples_leaf': 11, 'min_samples_split': 20}\n",
            "0.708 (+/-0.091) for {'criterion': 'gini', 'max_depth': 10, 'min_samples_leaf': 3, 'min_samples_split': 5}\n",
            "0.671 (+/-0.097) for {'criterion': 'gini', 'max_depth': 10, 'min_samples_leaf': 3, 'min_samples_split': 10}\n",
            "0.629 (+/-0.104) for {'criterion': 'gini', 'max_depth': 10, 'min_samples_leaf': 3, 'min_samples_split': 15}\n",
            "0.604 (+/-0.106) for {'criterion': 'gini', 'max_depth': 10, 'min_samples_leaf': 3, 'min_samples_split': 20}\n",
            "0.648 (+/-0.081) for {'criterion': 'gini', 'max_depth': 10, 'min_samples_leaf': 5, 'min_samples_split': 5}\n",
            "0.648 (+/-0.081) for {'criterion': 'gini', 'max_depth': 10, 'min_samples_leaf': 5, 'min_samples_split': 10}\n",
            "0.601 (+/-0.091) for {'criterion': 'gini', 'max_depth': 10, 'min_samples_leaf': 5, 'min_samples_split': 15}\n",
            "0.578 (+/-0.096) for {'criterion': 'gini', 'max_depth': 10, 'min_samples_leaf': 5, 'min_samples_split': 20}\n",
            "0.586 (+/-0.102) for {'criterion': 'gini', 'max_depth': 10, 'min_samples_leaf': 7, 'min_samples_split': 5}\n",
            "0.588 (+/-0.101) for {'criterion': 'gini', 'max_depth': 10, 'min_samples_leaf': 7, 'min_samples_split': 10}\n",
            "0.580 (+/-0.107) for {'criterion': 'gini', 'max_depth': 10, 'min_samples_leaf': 7, 'min_samples_split': 15}\n",
            "0.548 (+/-0.109) for {'criterion': 'gini', 'max_depth': 10, 'min_samples_leaf': 7, 'min_samples_split': 20}\n",
            "0.536 (+/-0.116) for {'criterion': 'gini', 'max_depth': 10, 'min_samples_leaf': 9, 'min_samples_split': 5}\n",
            "0.535 (+/-0.113) for {'criterion': 'gini', 'max_depth': 10, 'min_samples_leaf': 9, 'min_samples_split': 10}\n",
            "0.535 (+/-0.113) for {'criterion': 'gini', 'max_depth': 10, 'min_samples_leaf': 9, 'min_samples_split': 15}\n",
            "0.530 (+/-0.110) for {'criterion': 'gini', 'max_depth': 10, 'min_samples_leaf': 9, 'min_samples_split': 20}\n",
            "0.462 (+/-0.086) for {'criterion': 'gini', 'max_depth': 10, 'min_samples_leaf': 11, 'min_samples_split': 5}\n",
            "0.462 (+/-0.086) for {'criterion': 'gini', 'max_depth': 10, 'min_samples_leaf': 11, 'min_samples_split': 10}\n",
            "0.462 (+/-0.086) for {'criterion': 'gini', 'max_depth': 10, 'min_samples_leaf': 11, 'min_samples_split': 15}\n",
            "0.461 (+/-0.079) for {'criterion': 'gini', 'max_depth': 10, 'min_samples_leaf': 11, 'min_samples_split': 20}\n",
            "0.531 (+/-0.079) for {'criterion': 'entropy', 'max_depth': 4, 'min_samples_leaf': 3, 'min_samples_split': 5}\n",
            "0.519 (+/-0.078) for {'criterion': 'entropy', 'max_depth': 4, 'min_samples_leaf': 3, 'min_samples_split': 10}\n",
            "0.513 (+/-0.086) for {'criterion': 'entropy', 'max_depth': 4, 'min_samples_leaf': 3, 'min_samples_split': 15}\n",
            "0.515 (+/-0.094) for {'criterion': 'entropy', 'max_depth': 4, 'min_samples_leaf': 3, 'min_samples_split': 20}\n",
            "0.518 (+/-0.089) for {'criterion': 'entropy', 'max_depth': 4, 'min_samples_leaf': 5, 'min_samples_split': 5}\n",
            "0.518 (+/-0.089) for {'criterion': 'entropy', 'max_depth': 4, 'min_samples_leaf': 5, 'min_samples_split': 10}\n",
            "0.512 (+/-0.096) for {'criterion': 'entropy', 'max_depth': 4, 'min_samples_leaf': 5, 'min_samples_split': 15}\n",
            "0.510 (+/-0.099) for {'criterion': 'entropy', 'max_depth': 4, 'min_samples_leaf': 5, 'min_samples_split': 20}\n",
            "0.510 (+/-0.101) for {'criterion': 'entropy', 'max_depth': 4, 'min_samples_leaf': 7, 'min_samples_split': 5}\n",
            "0.510 (+/-0.101) for {'criterion': 'entropy', 'max_depth': 4, 'min_samples_leaf': 7, 'min_samples_split': 10}\n",
            "0.506 (+/-0.106) for {'criterion': 'entropy', 'max_depth': 4, 'min_samples_leaf': 7, 'min_samples_split': 15}\n",
            "0.494 (+/-0.107) for {'criterion': 'entropy', 'max_depth': 4, 'min_samples_leaf': 7, 'min_samples_split': 20}\n",
            "0.492 (+/-0.101) for {'criterion': 'entropy', 'max_depth': 4, 'min_samples_leaf': 9, 'min_samples_split': 5}\n",
            "0.492 (+/-0.101) for {'criterion': 'entropy', 'max_depth': 4, 'min_samples_leaf': 9, 'min_samples_split': 10}\n",
            "0.492 (+/-0.101) for {'criterion': 'entropy', 'max_depth': 4, 'min_samples_leaf': 9, 'min_samples_split': 15}\n",
            "0.492 (+/-0.101) for {'criterion': 'entropy', 'max_depth': 4, 'min_samples_leaf': 9, 'min_samples_split': 20}\n",
            "0.460 (+/-0.082) for {'criterion': 'entropy', 'max_depth': 4, 'min_samples_leaf': 11, 'min_samples_split': 5}\n",
            "0.460 (+/-0.082) for {'criterion': 'entropy', 'max_depth': 4, 'min_samples_leaf': 11, 'min_samples_split': 10}\n",
            "0.460 (+/-0.082) for {'criterion': 'entropy', 'max_depth': 4, 'min_samples_leaf': 11, 'min_samples_split': 15}\n",
            "0.460 (+/-0.082) for {'criterion': 'entropy', 'max_depth': 4, 'min_samples_leaf': 11, 'min_samples_split': 20}\n",
            "0.584 (+/-0.077) for {'criterion': 'entropy', 'max_depth': 6, 'min_samples_leaf': 3, 'min_samples_split': 5}\n",
            "0.569 (+/-0.086) for {'criterion': 'entropy', 'max_depth': 6, 'min_samples_leaf': 3, 'min_samples_split': 10}\n",
            "0.557 (+/-0.089) for {'criterion': 'entropy', 'max_depth': 6, 'min_samples_leaf': 3, 'min_samples_split': 15}\n",
            "0.550 (+/-0.086) for {'criterion': 'entropy', 'max_depth': 6, 'min_samples_leaf': 3, 'min_samples_split': 20}\n",
            "0.557 (+/-0.105) for {'criterion': 'entropy', 'max_depth': 6, 'min_samples_leaf': 5, 'min_samples_split': 5}\n",
            "0.557 (+/-0.105) for {'criterion': 'entropy', 'max_depth': 6, 'min_samples_leaf': 5, 'min_samples_split': 10}\n",
            "0.542 (+/-0.093) for {'criterion': 'entropy', 'max_depth': 6, 'min_samples_leaf': 5, 'min_samples_split': 15}\n",
            "0.538 (+/-0.090) for {'criterion': 'entropy', 'max_depth': 6, 'min_samples_leaf': 5, 'min_samples_split': 20}\n",
            "0.548 (+/-0.078) for {'criterion': 'entropy', 'max_depth': 6, 'min_samples_leaf': 7, 'min_samples_split': 5}\n",
            "0.546 (+/-0.083) for {'criterion': 'entropy', 'max_depth': 6, 'min_samples_leaf': 7, 'min_samples_split': 10}\n",
            "0.542 (+/-0.092) for {'criterion': 'entropy', 'max_depth': 6, 'min_samples_leaf': 7, 'min_samples_split': 15}\n",
            "0.522 (+/-0.099) for {'criterion': 'entropy', 'max_depth': 6, 'min_samples_leaf': 7, 'min_samples_split': 20}\n",
            "0.516 (+/-0.111) for {'criterion': 'entropy', 'max_depth': 6, 'min_samples_leaf': 9, 'min_samples_split': 5}\n",
            "0.516 (+/-0.111) for {'criterion': 'entropy', 'max_depth': 6, 'min_samples_leaf': 9, 'min_samples_split': 10}\n",
            "0.516 (+/-0.111) for {'criterion': 'entropy', 'max_depth': 6, 'min_samples_leaf': 9, 'min_samples_split': 15}\n",
            "0.512 (+/-0.109) for {'criterion': 'entropy', 'max_depth': 6, 'min_samples_leaf': 9, 'min_samples_split': 20}\n",
            "0.468 (+/-0.098) for {'criterion': 'entropy', 'max_depth': 6, 'min_samples_leaf': 11, 'min_samples_split': 5}\n",
            "0.468 (+/-0.098) for {'criterion': 'entropy', 'max_depth': 6, 'min_samples_leaf': 11, 'min_samples_split': 10}\n",
            "0.468 (+/-0.098) for {'criterion': 'entropy', 'max_depth': 6, 'min_samples_leaf': 11, 'min_samples_split': 15}\n",
            "0.466 (+/-0.091) for {'criterion': 'entropy', 'max_depth': 6, 'min_samples_leaf': 11, 'min_samples_split': 20}\n",
            "0.638 (+/-0.088) for {'criterion': 'entropy', 'max_depth': 8, 'min_samples_leaf': 3, 'min_samples_split': 5}\n",
            "0.618 (+/-0.089) for {'criterion': 'entropy', 'max_depth': 8, 'min_samples_leaf': 3, 'min_samples_split': 10}\n",
            "0.593 (+/-0.091) for {'criterion': 'entropy', 'max_depth': 8, 'min_samples_leaf': 3, 'min_samples_split': 15}\n",
            "0.579 (+/-0.090) for {'criterion': 'entropy', 'max_depth': 8, 'min_samples_leaf': 3, 'min_samples_split': 20}\n",
            "0.588 (+/-0.100) for {'criterion': 'entropy', 'max_depth': 8, 'min_samples_leaf': 5, 'min_samples_split': 5}\n",
            "0.590 (+/-0.098) for {'criterion': 'entropy', 'max_depth': 8, 'min_samples_leaf': 5, 'min_samples_split': 10}\n",
            "0.568 (+/-0.095) for {'criterion': 'entropy', 'max_depth': 8, 'min_samples_leaf': 5, 'min_samples_split': 15}\n",
            "0.558 (+/-0.096) for {'criterion': 'entropy', 'max_depth': 8, 'min_samples_leaf': 5, 'min_samples_split': 20}\n",
            "0.564 (+/-0.091) for {'criterion': 'entropy', 'max_depth': 8, 'min_samples_leaf': 7, 'min_samples_split': 5}\n",
            "0.564 (+/-0.091) for {'criterion': 'entropy', 'max_depth': 8, 'min_samples_leaf': 7, 'min_samples_split': 10}\n",
            "0.558 (+/-0.107) for {'criterion': 'entropy', 'max_depth': 8, 'min_samples_leaf': 7, 'min_samples_split': 15}\n",
            "0.536 (+/-0.115) for {'criterion': 'entropy', 'max_depth': 8, 'min_samples_leaf': 7, 'min_samples_split': 20}\n",
            "0.530 (+/-0.113) for {'criterion': 'entropy', 'max_depth': 8, 'min_samples_leaf': 9, 'min_samples_split': 5}\n",
            "0.530 (+/-0.113) for {'criterion': 'entropy', 'max_depth': 8, 'min_samples_leaf': 9, 'min_samples_split': 10}\n",
            "0.532 (+/-0.110) for {'criterion': 'entropy', 'max_depth': 8, 'min_samples_leaf': 9, 'min_samples_split': 15}\n",
            "0.524 (+/-0.108) for {'criterion': 'entropy', 'max_depth': 8, 'min_samples_leaf': 9, 'min_samples_split': 20}\n",
            "0.471 (+/-0.102) for {'criterion': 'entropy', 'max_depth': 8, 'min_samples_leaf': 11, 'min_samples_split': 5}\n",
            "0.473 (+/-0.107) for {'criterion': 'entropy', 'max_depth': 8, 'min_samples_leaf': 11, 'min_samples_split': 10}\n",
            "0.473 (+/-0.107) for {'criterion': 'entropy', 'max_depth': 8, 'min_samples_leaf': 11, 'min_samples_split': 15}\n",
            "0.471 (+/-0.102) for {'criterion': 'entropy', 'max_depth': 8, 'min_samples_leaf': 11, 'min_samples_split': 20}\n",
            "0.686 (+/-0.087) for {'criterion': 'entropy', 'max_depth': 10, 'min_samples_leaf': 3, 'min_samples_split': 5}\n",
            "0.658 (+/-0.091) for {'criterion': 'entropy', 'max_depth': 10, 'min_samples_leaf': 3, 'min_samples_split': 10}\n",
            "0.622 (+/-0.098) for {'criterion': 'entropy', 'max_depth': 10, 'min_samples_leaf': 3, 'min_samples_split': 15}\n",
            "0.603 (+/-0.099) for {'criterion': 'entropy', 'max_depth': 10, 'min_samples_leaf': 3, 'min_samples_split': 20}\n",
            "0.634 (+/-0.090) for {'criterion': 'entropy', 'max_depth': 10, 'min_samples_leaf': 5, 'min_samples_split': 5}\n",
            "0.636 (+/-0.090) for {'criterion': 'entropy', 'max_depth': 10, 'min_samples_leaf': 5, 'min_samples_split': 10}\n",
            "0.605 (+/-0.093) for {'criterion': 'entropy', 'max_depth': 10, 'min_samples_leaf': 5, 'min_samples_split': 15}\n",
            "0.586 (+/-0.101) for {'criterion': 'entropy', 'max_depth': 10, 'min_samples_leaf': 5, 'min_samples_split': 20}\n",
            "0.589 (+/-0.097) for {'criterion': 'entropy', 'max_depth': 10, 'min_samples_leaf': 7, 'min_samples_split': 5}\n",
            "0.588 (+/-0.095) for {'criterion': 'entropy', 'max_depth': 10, 'min_samples_leaf': 7, 'min_samples_split': 10}\n",
            "0.582 (+/-0.103) for {'criterion': 'entropy', 'max_depth': 10, 'min_samples_leaf': 7, 'min_samples_split': 15}\n",
            "0.551 (+/-0.116) for {'criterion': 'entropy', 'max_depth': 10, 'min_samples_leaf': 7, 'min_samples_split': 20}\n",
            "0.537 (+/-0.120) for {'criterion': 'entropy', 'max_depth': 10, 'min_samples_leaf': 9, 'min_samples_split': 5}\n",
            "0.537 (+/-0.120) for {'criterion': 'entropy', 'max_depth': 10, 'min_samples_leaf': 9, 'min_samples_split': 10}\n",
            "0.539 (+/-0.117) for {'criterion': 'entropy', 'max_depth': 10, 'min_samples_leaf': 9, 'min_samples_split': 15}\n",
            "0.532 (+/-0.117) for {'criterion': 'entropy', 'max_depth': 10, 'min_samples_leaf': 9, 'min_samples_split': 20}\n",
            "0.473 (+/-0.107) for {'criterion': 'entropy', 'max_depth': 10, 'min_samples_leaf': 11, 'min_samples_split': 5}\n",
            "0.471 (+/-0.102) for {'criterion': 'entropy', 'max_depth': 10, 'min_samples_leaf': 11, 'min_samples_split': 10}\n",
            "0.473 (+/-0.107) for {'criterion': 'entropy', 'max_depth': 10, 'min_samples_leaf': 11, 'min_samples_split': 15}\n",
            "0.471 (+/-0.102) for {'criterion': 'entropy', 'max_depth': 10, 'min_samples_leaf': 11, 'min_samples_split': 20}\n",
            "____________________________________________ END GRID SEARCH ____________________________________________\n"
          ]
        }
      ]
    },
    {
      "cell_type": "code",
      "source": [
        "results"
      ],
      "metadata": {
        "colab": {
          "base_uri": "https://localhost:8080/"
        },
        "id": "7Jem5WqnfcWT",
        "outputId": "40f5ad24-e1cd-4d0a-f799-cbcb6fb3cdf8"
      },
      "execution_count": null,
      "outputs": [
        {
          "output_type": "execute_result",
          "data": {
            "text/plain": [
              "{'f1_macro': {'criterion': 'entropy',\n",
              "  'max_depth': 10,\n",
              "  'min_samples_leaf': 3,\n",
              "  'min_samples_split': 5}}"
            ]
          },
          "metadata": {},
          "execution_count": 257
        }
      ]
    },
    {
      "cell_type": "code",
      "source": [
        "clf = DecisionTreeClassifier(criterion='entropy',max_depth=10,min_samples_leaf=3,min_samples_split=5, random_state=42)\n",
        "clf.fit(X_train_tsne, y_res)\n",
        "\n",
        "y_pred = clf.predict(X_train_tsne)\n",
        "\n",
        "print('Accuracy %s' % accuracy_score(y_res, y_pred))\n",
        "print('F1-score %s' % f1_score(y_res, y_pred, average=None))\n",
        "print(classification_report(y_res, y_pred))"
      ],
      "metadata": {
        "colab": {
          "base_uri": "https://localhost:8080/"
        },
        "id": "ZPouYNlbnc3D",
        "outputId": "88d4c4b4-8f0c-4360-fb12-1aefe329b8a6"
      },
      "execution_count": 190,
      "outputs": [
        {
          "output_type": "stream",
          "name": "stdout",
          "text": [
            "Accuracy 0.8327974276527331\n",
            "F1-score [0.90225564 0.42222222]\n",
            "              precision    recall  f1-score   support\n",
            "\n",
            "           0       0.84      0.97      0.90       247\n",
            "           1       0.73      0.30      0.42        64\n",
            "\n",
            "    accuracy                           0.83       311\n",
            "   macro avg       0.79      0.63      0.66       311\n",
            "weighted avg       0.82      0.83      0.80       311\n",
            "\n"
          ]
        }
      ]
    }
  ]
}