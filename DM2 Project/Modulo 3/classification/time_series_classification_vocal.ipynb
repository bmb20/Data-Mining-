{
  "cells": [
    {
      "cell_type": "code",
      "execution_count": null,
      "metadata": {
        "id": "52hcSMmpcP-m"
      },
      "outputs": [],
      "source": [
        "#!pip install tslearn\n",
        "#!pip install sktime\n",
        "import pandas as pd\n",
        "import numpy as np\n",
        "import pathlib\n",
        "from tqdm.notebook import tqdm\n",
        "import librosa\n",
        "import awkward as ak\n",
        "import matplotlib.pyplot as plt\n",
        "from IPython.display import Audio \n",
        "from scipy.signal import decimate\n",
        "import tslearn\n",
        "from sklearn.neighbors import KNeighborsClassifier\n",
        "from sklearn.tree import DecisionTreeClassifier"
      ]
    },
    {
      "cell_type": "code",
      "execution_count": null,
      "metadata": {
        "id": "BKm4bW1xcP-u"
      },
      "outputs": [],
      "source": [
        "from sktime.datatypes._panel._convert import from_2d_array_to_nested\n",
        "from sklearn.linear_model import RidgeClassifierCV\n",
        "from sktime.transformations.panel.rocket import Rocket"
      ]
    },
    {
      "cell_type": "code",
      "execution_count": null,
      "metadata": {
        "id": "WmppC-SfcP-w"
      },
      "outputs": [],
      "source": [
        "from tslearn.piecewise import PiecewiseAggregateApproximation\n",
        "from tslearn.piecewise import SymbolicAggregateApproximation\n",
        "from tslearn.piecewise import OneD_SymbolicAggregateApproximation"
      ]
    },
    {
      "cell_type": "code",
      "execution_count": null,
      "metadata": {
        "id": "Y3FH14BkcP-x"
      },
      "outputs": [],
      "source": [
        "from sktime.classification.distance_based import KNeighborsTimeSeriesClassifier"
      ]
    },
    {
      "cell_type": "code",
      "execution_count": null,
      "metadata": {
        "id": "UF55g6w-cP-z"
      },
      "outputs": [],
      "source": [
        "from sktime.transformations.panel.rocket import MiniRocket\n",
        "from sklearn.neighbors import KNeighborsClassifier"
      ]
    },
    {
      "cell_type": "code",
      "execution_count": null,
      "metadata": {
        "id": "N9-hruGgcP-0"
      },
      "outputs": [],
      "source": [
        "X_train= np.load(\"RavdessAudioOnlyNumpy__X_train_compresso.npy\")\n",
        "X_test = np.load(\"RavdessAudioOnlyNumpy__X_test_compresso.npy\")\n",
        "y_train= pd.read_csv(\"RavdessAudioOnlyNumpy__Y_train.csv\")\n",
        "y_test= pd.read_csv(\"RavdessAudioOnlyNumpy__Y_test.csv\")"
      ]
    },
    {
      "cell_type": "code",
      "execution_count": null,
      "metadata": {
        "id": "P7lSbIZdcP-1"
      },
      "outputs": [],
      "source": [
        "start_index = 5000\n",
        "end_index = 13000\n",
        "\n",
        "selected_intervals = []\n",
        "selected_intervals2 = []\n",
        "\n",
        "for i in range(len(X_train)):\n",
        "    selected_interval = X_train[i, start_index:end_index]\n",
        "    selected_intervals.append(selected_interval)\n",
        "\n",
        "selected_intervals = np.array(selected_intervals)\n",
        "\n",
        "for i in range(len(X_test)):\n",
        "    selected_interval2 = X_test[i, start_index:end_index]\n",
        "    selected_intervals2.append(selected_interval2)\n",
        "\n",
        "selected_intervals2 = np.array(selected_intervals2)\n"
      ]
    },
    {
      "cell_type": "code",
      "execution_count": null,
      "metadata": {
        "id": "EF2n5G49cP-3"
      },
      "outputs": [],
      "source": [
        "X_train= selected_intervals\n",
        "X_test= selected_intervals2\n"
      ]
    },
    {
      "cell_type": "code",
      "execution_count": null,
      "metadata": {
        "id": "cHSvKMQJcP-4",
        "outputId": "d103aa8f-2ed9-40ed-8a34-d1cf74db1b6a"
      },
      "outputs": [
        {
          "data": {
            "text/html": [
              "<div>\n",
              "<style scoped>\n",
              "    .dataframe tbody tr th:only-of-type {\n",
              "        vertical-align: middle;\n",
              "    }\n",
              "\n",
              "    .dataframe tbody tr th {\n",
              "        vertical-align: top;\n",
              "    }\n",
              "\n",
              "    .dataframe thead th {\n",
              "        text-align: right;\n",
              "    }\n",
              "</style>\n",
              "<table border=\"1\" class=\"dataframe\">\n",
              "  <thead>\n",
              "    <tr style=\"text-align: right;\">\n",
              "      <th></th>\n",
              "      <th>0</th>\n",
              "      <th>1</th>\n",
              "      <th>2</th>\n",
              "      <th>3</th>\n",
              "      <th>4</th>\n",
              "      <th>5</th>\n",
              "      <th>6</th>\n",
              "      <th>7</th>\n",
              "      <th>8</th>\n",
              "      <th>9</th>\n",
              "      <th>...</th>\n",
              "      <th>7990</th>\n",
              "      <th>7991</th>\n",
              "      <th>7992</th>\n",
              "      <th>7993</th>\n",
              "      <th>7994</th>\n",
              "      <th>7995</th>\n",
              "      <th>7996</th>\n",
              "      <th>7997</th>\n",
              "      <th>7998</th>\n",
              "      <th>7999</th>\n",
              "    </tr>\n",
              "  </thead>\n",
              "  <tbody>\n",
              "    <tr>\n",
              "      <th>0</th>\n",
              "      <td>-0.000727</td>\n",
              "      <td>-0.001224</td>\n",
              "      <td>-0.000516</td>\n",
              "      <td>-0.000247</td>\n",
              "      <td>-0.000266</td>\n",
              "      <td>0.000588</td>\n",
              "      <td>0.000586</td>\n",
              "      <td>0.000724</td>\n",
              "      <td>0.000455</td>\n",
              "      <td>-0.000280</td>\n",
              "      <td>...</td>\n",
              "      <td>-1.501294e-07</td>\n",
              "      <td>3.848056e-07</td>\n",
              "      <td>-8.576292e-07</td>\n",
              "      <td>2.576123e-06</td>\n",
              "      <td>4.146410e-06</td>\n",
              "      <td>1.704725e-06</td>\n",
              "      <td>1.522354e-06</td>\n",
              "      <td>-2.213949e-07</td>\n",
              "      <td>-2.149138e-07</td>\n",
              "      <td>4.073683e-07</td>\n",
              "    </tr>\n",
              "    <tr>\n",
              "      <th>1</th>\n",
              "      <td>-0.000151</td>\n",
              "      <td>0.000443</td>\n",
              "      <td>0.000210</td>\n",
              "      <td>0.000104</td>\n",
              "      <td>0.000262</td>\n",
              "      <td>0.000102</td>\n",
              "      <td>0.000111</td>\n",
              "      <td>0.000071</td>\n",
              "      <td>0.000095</td>\n",
              "      <td>-0.000441</td>\n",
              "      <td>...</td>\n",
              "      <td>6.114610e-07</td>\n",
              "      <td>-5.729102e-07</td>\n",
              "      <td>4.083426e-07</td>\n",
              "      <td>-2.169688e-07</td>\n",
              "      <td>-1.149381e-07</td>\n",
              "      <td>8.383792e-07</td>\n",
              "      <td>2.044585e-06</td>\n",
              "      <td>4.010505e-06</td>\n",
              "      <td>3.262636e-06</td>\n",
              "      <td>4.534304e-06</td>\n",
              "    </tr>\n",
              "    <tr>\n",
              "      <th>2</th>\n",
              "      <td>0.011377</td>\n",
              "      <td>-0.001530</td>\n",
              "      <td>-0.012300</td>\n",
              "      <td>-0.011570</td>\n",
              "      <td>-0.007049</td>\n",
              "      <td>-0.003028</td>\n",
              "      <td>0.005770</td>\n",
              "      <td>0.015158</td>\n",
              "      <td>0.014929</td>\n",
              "      <td>0.007082</td>\n",
              "      <td>...</td>\n",
              "      <td>-6.475309e-08</td>\n",
              "      <td>-3.188577e-08</td>\n",
              "      <td>2.730262e-07</td>\n",
              "      <td>-7.871773e-07</td>\n",
              "      <td>2.458877e-06</td>\n",
              "      <td>4.521754e-06</td>\n",
              "      <td>-3.569731e-07</td>\n",
              "      <td>-1.323814e-07</td>\n",
              "      <td>3.170110e-07</td>\n",
              "      <td>-3.597033e-07</td>\n",
              "    </tr>\n",
              "    <tr>\n",
              "      <th>3</th>\n",
              "      <td>-0.014168</td>\n",
              "      <td>-0.012894</td>\n",
              "      <td>-0.012016</td>\n",
              "      <td>-0.016529</td>\n",
              "      <td>-0.015138</td>\n",
              "      <td>-0.018723</td>\n",
              "      <td>-0.010828</td>\n",
              "      <td>0.020981</td>\n",
              "      <td>0.030735</td>\n",
              "      <td>0.021589</td>\n",
              "      <td>...</td>\n",
              "      <td>1.656011e-06</td>\n",
              "      <td>2.191267e-06</td>\n",
              "      <td>-5.865597e-07</td>\n",
              "      <td>3.311139e-07</td>\n",
              "      <td>-2.163488e-07</td>\n",
              "      <td>4.246055e-08</td>\n",
              "      <td>2.698913e-06</td>\n",
              "      <td>5.860775e-07</td>\n",
              "      <td>-3.875201e-07</td>\n",
              "      <td>2.845017e-07</td>\n",
              "    </tr>\n",
              "    <tr>\n",
              "      <th>4</th>\n",
              "      <td>0.000202</td>\n",
              "      <td>0.000141</td>\n",
              "      <td>0.000264</td>\n",
              "      <td>0.000312</td>\n",
              "      <td>0.000150</td>\n",
              "      <td>0.000147</td>\n",
              "      <td>0.000078</td>\n",
              "      <td>-0.000194</td>\n",
              "      <td>-0.000140</td>\n",
              "      <td>-0.000196</td>\n",
              "      <td>...</td>\n",
              "      <td>1.331239e-05</td>\n",
              "      <td>7.549568e-06</td>\n",
              "      <td>1.273935e-05</td>\n",
              "      <td>3.063054e-05</td>\n",
              "      <td>5.640156e-05</td>\n",
              "      <td>3.551033e-05</td>\n",
              "      <td>4.289532e-05</td>\n",
              "      <td>2.436593e-05</td>\n",
              "      <td>4.969778e-06</td>\n",
              "      <td>7.065312e-06</td>\n",
              "    </tr>\n",
              "    <tr>\n",
              "      <th>...</th>\n",
              "      <td>...</td>\n",
              "      <td>...</td>\n",
              "      <td>...</td>\n",
              "      <td>...</td>\n",
              "      <td>...</td>\n",
              "      <td>...</td>\n",
              "      <td>...</td>\n",
              "      <td>...</td>\n",
              "      <td>...</td>\n",
              "      <td>...</td>\n",
              "      <td>...</td>\n",
              "      <td>...</td>\n",
              "      <td>...</td>\n",
              "      <td>...</td>\n",
              "      <td>...</td>\n",
              "      <td>...</td>\n",
              "      <td>...</td>\n",
              "      <td>...</td>\n",
              "      <td>...</td>\n",
              "      <td>...</td>\n",
              "      <td>...</td>\n",
              "    </tr>\n",
              "    <tr>\n",
              "      <th>1823</th>\n",
              "      <td>0.001673</td>\n",
              "      <td>0.006995</td>\n",
              "      <td>0.010249</td>\n",
              "      <td>0.009424</td>\n",
              "      <td>0.005224</td>\n",
              "      <td>-0.001320</td>\n",
              "      <td>-0.008241</td>\n",
              "      <td>-0.013141</td>\n",
              "      <td>-0.016759</td>\n",
              "      <td>-0.019282</td>\n",
              "      <td>...</td>\n",
              "      <td>5.560251e-06</td>\n",
              "      <td>-4.921995e-06</td>\n",
              "      <td>-2.651938e-06</td>\n",
              "      <td>9.361264e-07</td>\n",
              "      <td>4.439445e-05</td>\n",
              "      <td>1.508485e-04</td>\n",
              "      <td>1.358054e-04</td>\n",
              "      <td>6.162319e-06</td>\n",
              "      <td>-4.587109e-06</td>\n",
              "      <td>1.979096e-05</td>\n",
              "    </tr>\n",
              "    <tr>\n",
              "      <th>1824</th>\n",
              "      <td>-0.000474</td>\n",
              "      <td>-0.000481</td>\n",
              "      <td>0.000488</td>\n",
              "      <td>-0.000343</td>\n",
              "      <td>0.000589</td>\n",
              "      <td>0.001037</td>\n",
              "      <td>-0.000297</td>\n",
              "      <td>-0.000204</td>\n",
              "      <td>-0.000865</td>\n",
              "      <td>0.000506</td>\n",
              "      <td>...</td>\n",
              "      <td>-6.600287e-05</td>\n",
              "      <td>-8.844929e-05</td>\n",
              "      <td>-7.245783e-05</td>\n",
              "      <td>-3.839581e-05</td>\n",
              "      <td>2.200165e-05</td>\n",
              "      <td>2.679141e-05</td>\n",
              "      <td>-6.610220e-06</td>\n",
              "      <td>1.970243e-05</td>\n",
              "      <td>1.942765e-05</td>\n",
              "      <td>-9.060464e-06</td>\n",
              "    </tr>\n",
              "    <tr>\n",
              "      <th>1825</th>\n",
              "      <td>-0.000325</td>\n",
              "      <td>-0.001292</td>\n",
              "      <td>-0.001443</td>\n",
              "      <td>-0.000582</td>\n",
              "      <td>0.000971</td>\n",
              "      <td>0.002096</td>\n",
              "      <td>0.002577</td>\n",
              "      <td>0.001754</td>\n",
              "      <td>0.000767</td>\n",
              "      <td>-0.001040</td>\n",
              "      <td>...</td>\n",
              "      <td>-1.283090e-05</td>\n",
              "      <td>8.898507e-05</td>\n",
              "      <td>8.593630e-05</td>\n",
              "      <td>-6.816033e-05</td>\n",
              "      <td>-1.270490e-04</td>\n",
              "      <td>-7.796579e-05</td>\n",
              "      <td>-1.088105e-04</td>\n",
              "      <td>9.271796e-06</td>\n",
              "      <td>1.603003e-04</td>\n",
              "      <td>6.733136e-05</td>\n",
              "    </tr>\n",
              "    <tr>\n",
              "      <th>1826</th>\n",
              "      <td>-0.001567</td>\n",
              "      <td>0.000761</td>\n",
              "      <td>0.002039</td>\n",
              "      <td>0.002607</td>\n",
              "      <td>0.003961</td>\n",
              "      <td>0.003121</td>\n",
              "      <td>0.003987</td>\n",
              "      <td>0.004859</td>\n",
              "      <td>0.004476</td>\n",
              "      <td>0.004503</td>\n",
              "      <td>...</td>\n",
              "      <td>-8.087113e-03</td>\n",
              "      <td>-1.662808e-02</td>\n",
              "      <td>-1.005950e-02</td>\n",
              "      <td>-1.496789e-02</td>\n",
              "      <td>-9.465175e-03</td>\n",
              "      <td>8.382098e-03</td>\n",
              "      <td>5.646563e-03</td>\n",
              "      <td>5.778350e-03</td>\n",
              "      <td>1.663872e-02</td>\n",
              "      <td>1.138968e-02</td>\n",
              "    </tr>\n",
              "    <tr>\n",
              "      <th>1827</th>\n",
              "      <td>-0.008943</td>\n",
              "      <td>0.004514</td>\n",
              "      <td>0.014130</td>\n",
              "      <td>0.013700</td>\n",
              "      <td>0.004553</td>\n",
              "      <td>0.013915</td>\n",
              "      <td>0.012341</td>\n",
              "      <td>0.005678</td>\n",
              "      <td>0.018932</td>\n",
              "      <td>0.018640</td>\n",
              "      <td>...</td>\n",
              "      <td>-5.772211e-05</td>\n",
              "      <td>-8.972753e-06</td>\n",
              "      <td>1.179042e-04</td>\n",
              "      <td>8.539328e-05</td>\n",
              "      <td>-2.033859e-05</td>\n",
              "      <td>8.871544e-06</td>\n",
              "      <td>-3.643546e-06</td>\n",
              "      <td>1.020013e-05</td>\n",
              "      <td>9.194422e-05</td>\n",
              "      <td>-8.409346e-05</td>\n",
              "    </tr>\n",
              "  </tbody>\n",
              "</table>\n",
              "<p>1828 rows × 8000 columns</p>\n",
              "</div>"
            ],
            "text/plain": [
              "          0         1         2         3         4         5         6     \\\n",
              "0    -0.000727 -0.001224 -0.000516 -0.000247 -0.000266  0.000588  0.000586   \n",
              "1    -0.000151  0.000443  0.000210  0.000104  0.000262  0.000102  0.000111   \n",
              "2     0.011377 -0.001530 -0.012300 -0.011570 -0.007049 -0.003028  0.005770   \n",
              "3    -0.014168 -0.012894 -0.012016 -0.016529 -0.015138 -0.018723 -0.010828   \n",
              "4     0.000202  0.000141  0.000264  0.000312  0.000150  0.000147  0.000078   \n",
              "...        ...       ...       ...       ...       ...       ...       ...   \n",
              "1823  0.001673  0.006995  0.010249  0.009424  0.005224 -0.001320 -0.008241   \n",
              "1824 -0.000474 -0.000481  0.000488 -0.000343  0.000589  0.001037 -0.000297   \n",
              "1825 -0.000325 -0.001292 -0.001443 -0.000582  0.000971  0.002096  0.002577   \n",
              "1826 -0.001567  0.000761  0.002039  0.002607  0.003961  0.003121  0.003987   \n",
              "1827 -0.008943  0.004514  0.014130  0.013700  0.004553  0.013915  0.012341   \n",
              "\n",
              "          7         8         9     ...          7990          7991  \\\n",
              "0     0.000724  0.000455 -0.000280  ... -1.501294e-07  3.848056e-07   \n",
              "1     0.000071  0.000095 -0.000441  ...  6.114610e-07 -5.729102e-07   \n",
              "2     0.015158  0.014929  0.007082  ... -6.475309e-08 -3.188577e-08   \n",
              "3     0.020981  0.030735  0.021589  ...  1.656011e-06  2.191267e-06   \n",
              "4    -0.000194 -0.000140 -0.000196  ...  1.331239e-05  7.549568e-06   \n",
              "...        ...       ...       ...  ...           ...           ...   \n",
              "1823 -0.013141 -0.016759 -0.019282  ...  5.560251e-06 -4.921995e-06   \n",
              "1824 -0.000204 -0.000865  0.000506  ... -6.600287e-05 -8.844929e-05   \n",
              "1825  0.001754  0.000767 -0.001040  ... -1.283090e-05  8.898507e-05   \n",
              "1826  0.004859  0.004476  0.004503  ... -8.087113e-03 -1.662808e-02   \n",
              "1827  0.005678  0.018932  0.018640  ... -5.772211e-05 -8.972753e-06   \n",
              "\n",
              "              7992          7993          7994          7995          7996  \\\n",
              "0    -8.576292e-07  2.576123e-06  4.146410e-06  1.704725e-06  1.522354e-06   \n",
              "1     4.083426e-07 -2.169688e-07 -1.149381e-07  8.383792e-07  2.044585e-06   \n",
              "2     2.730262e-07 -7.871773e-07  2.458877e-06  4.521754e-06 -3.569731e-07   \n",
              "3    -5.865597e-07  3.311139e-07 -2.163488e-07  4.246055e-08  2.698913e-06   \n",
              "4     1.273935e-05  3.063054e-05  5.640156e-05  3.551033e-05  4.289532e-05   \n",
              "...            ...           ...           ...           ...           ...   \n",
              "1823 -2.651938e-06  9.361264e-07  4.439445e-05  1.508485e-04  1.358054e-04   \n",
              "1824 -7.245783e-05 -3.839581e-05  2.200165e-05  2.679141e-05 -6.610220e-06   \n",
              "1825  8.593630e-05 -6.816033e-05 -1.270490e-04 -7.796579e-05 -1.088105e-04   \n",
              "1826 -1.005950e-02 -1.496789e-02 -9.465175e-03  8.382098e-03  5.646563e-03   \n",
              "1827  1.179042e-04  8.539328e-05 -2.033859e-05  8.871544e-06 -3.643546e-06   \n",
              "\n",
              "              7997          7998          7999  \n",
              "0    -2.213949e-07 -2.149138e-07  4.073683e-07  \n",
              "1     4.010505e-06  3.262636e-06  4.534304e-06  \n",
              "2    -1.323814e-07  3.170110e-07 -3.597033e-07  \n",
              "3     5.860775e-07 -3.875201e-07  2.845017e-07  \n",
              "4     2.436593e-05  4.969778e-06  7.065312e-06  \n",
              "...            ...           ...           ...  \n",
              "1823  6.162319e-06 -4.587109e-06  1.979096e-05  \n",
              "1824  1.970243e-05  1.942765e-05 -9.060464e-06  \n",
              "1825  9.271796e-06  1.603003e-04  6.733136e-05  \n",
              "1826  5.778350e-03  1.663872e-02  1.138968e-02  \n",
              "1827  1.020013e-05  9.194422e-05 -8.409346e-05  \n",
              "\n",
              "[1828 rows x 8000 columns]"
            ]
          },
          "execution_count": 9,
          "metadata": {},
          "output_type": "execute_result"
        }
      ],
      "source": [
        "pd.DataFrame(X_train)"
      ]
    },
    {
      "cell_type": "code",
      "execution_count": null,
      "metadata": {
        "id": "ICKdj7v1cP-7",
        "outputId": "1bed4263-8057-4438-8854-86c314dc9be1"
      },
      "outputs": [
        {
          "data": {
            "text/plain": [
              "1828"
            ]
          },
          "execution_count": 10,
          "metadata": {},
          "output_type": "execute_result"
        }
      ],
      "source": [
        "len(X_train)"
      ]
    },
    {
      "cell_type": "code",
      "execution_count": null,
      "metadata": {
        "id": "I8292zZfcP-8"
      },
      "outputs": [],
      "source": [
        "from tslearn.preprocessing import TimeSeriesScalerMinMax\n",
        "scaler = TimeSeriesScalerMinMax()\n",
        "X_train = scaler.fit_transform(X_train).reshape(X_train.shape[0], X_train.shape[1])\n",
        "X_test = scaler.fit_transform(X_test).reshape(X_test.shape[0], X_test.shape[1])"
      ]
    },
    {
      "cell_type": "code",
      "execution_count": null,
      "metadata": {
        "id": "s6PryNytcP-8",
        "outputId": "f518e284-524b-42bf-e87a-389b775f54fe"
      },
      "outputs": [
        {
          "data": {
            "text/plain": [
              "[<matplotlib.lines.Line2D at 0x1de523c5240>]"
            ]
          },
          "execution_count": 12,
          "metadata": {},
          "output_type": "execute_result"
        },
        {
          "data": {
            "image/png": "[encoded data removed]",
            "text/plain": [
              "<Figure size 640x480 with 1 Axes>"
            ]
          },
          "metadata": {},
          "output_type": "display_data"
        }
      ],
      "source": [
        "plt.plot(pd.DataFrame(X_train[5]))"
      ]
    },
    {
      "cell_type": "code",
      "execution_count": null,
      "metadata": {
        "id": "AJig2FxRcP-9"
      },
      "outputs": [],
      "source": [
        "X_train = pd.DataFrame(X_train)\n",
        "X_test = pd.DataFrame(X_test)"
      ]
    },
    {
      "cell_type": "code",
      "execution_count": null,
      "metadata": {
        "id": "wpn8RWY-cP-9"
      },
      "outputs": [],
      "source": [
        "X_train_nested = pd.DataFrame(from_2d_array_to_nested(X_train))\n",
        "X_test_nested = pd.DataFrame(from_2d_array_to_nested(X_test))"
      ]
    },
    {
      "cell_type": "code",
      "execution_count": null,
      "metadata": {
        "id": "kFaZUM54cP-9"
      },
      "outputs": [],
      "source": [
        "from sklearn.preprocessing import LabelEncoder\n",
        "encoder = LabelEncoder()\n",
        "\n",
        "y_train = encoder.fit_transform(y_train['vocal_channel'])\n",
        "y_test = encoder.transform(y_test['vocal_channel'])\n"
      ]
    },
    {
      "cell_type": "code",
      "execution_count": null,
      "metadata": {
        "id": "M3JMTwj6cP--",
        "outputId": "9b8db95e-99d8-4d2e-fd19-eba0eb8c1947"
      },
      "outputs": [
        {
          "data": {
            "text/plain": [
              "array([1, 1, 1, ..., 1, 1, 1])"
            ]
          },
          "execution_count": 16,
          "metadata": {},
          "output_type": "execute_result"
        }
      ],
      "source": [
        "y_train"
      ]
    },
    {
      "cell_type": "code",
      "execution_count": null,
      "metadata": {
        "id": "VUzBK6wIcP--",
        "outputId": "8471e0b0-ad2c-4a5a-e0f0-273082d17987"
      },
      "outputs": [
        {
          "name": "stdout",
          "output_type": "stream",
          "text": [
            "CPU times: total: 25min 28s\n",
            "Wall time: 25min 47s\n"
          ]
        },
        {
          "data": {
            "text/html": [
              "<style>#sk-container-id-1 {color: black;background-color: white;}#sk-container-id-1 pre{padding: 0;}#sk-container-id-1 div.sk-toggleable {background-color: white;}#sk-container-id-1 label.sk-toggleable__label {cursor: pointer;display: block;width: 100%;margin-bottom: 0;padding: 0.3em;box-sizing: border-box;text-align: center;}#sk-container-id-1 label.sk-toggleable__label-arrow:before {content: \"▸\";float: left;margin-right: 0.25em;color: #696969;}#sk-container-id-1 label.sk-toggleable__label-arrow:hover:before {color: black;}#sk-container-id-1 div.sk-estimator:hover label.sk-toggleable__label-arrow:before {color: black;}#sk-container-id-1 div.sk-toggleable__content {max-height: 0;max-width: 0;overflow: hidden;text-align: left;background-color: #f0f8ff;}#sk-container-id-1 div.sk-toggleable__content pre {margin: 0.2em;color: black;border-radius: 0.25em;background-color: #f0f8ff;}#sk-container-id-1 input.sk-toggleable__control:checked~div.sk-toggleable__content {max-height: 200px;max-width: 100%;overflow: auto;}#sk-container-id-1 input.sk-toggleable__control:checked~label.sk-toggleable__label-arrow:before {content: \"▾\";}#sk-container-id-1 div.sk-estimator input.sk-toggleable__control:checked~label.sk-toggleable__label {background-color: #d4ebff;}#sk-container-id-1 div.sk-label input.sk-toggleable__control:checked~label.sk-toggleable__label {background-color: #d4ebff;}#sk-container-id-1 input.sk-hidden--visually {border: 0;clip: rect(1px 1px 1px 1px);clip: rect(1px, 1px, 1px, 1px);height: 1px;margin: -1px;overflow: hidden;padding: 0;position: absolute;width: 1px;}#sk-container-id-1 div.sk-estimator {font-family: monospace;background-color: #f0f8ff;border: 1px dotted black;border-radius: 0.25em;box-sizing: border-box;margin-bottom: 0.5em;}#sk-container-id-1 div.sk-estimator:hover {background-color: #d4ebff;}#sk-container-id-1 div.sk-parallel-item::after {content: \"\";width: 100%;border-bottom: 1px solid gray;flex-grow: 1;}#sk-container-id-1 div.sk-label:hover label.sk-toggleable__label {background-color: #d4ebff;}#sk-container-id-1 div.sk-serial::before {content: \"\";position: absolute;border-left: 1px solid gray;box-sizing: border-box;top: 0;bottom: 0;left: 50%;z-index: 0;}#sk-container-id-1 div.sk-serial {display: flex;flex-direction: column;align-items: center;background-color: white;padding-right: 0.2em;padding-left: 0.2em;position: relative;}#sk-container-id-1 div.sk-item {position: relative;z-index: 1;}#sk-container-id-1 div.sk-parallel {display: flex;align-items: stretch;justify-content: center;background-color: white;position: relative;}#sk-container-id-1 div.sk-item::before, #sk-container-id-1 div.sk-parallel-item::before {content: \"\";position: absolute;border-left: 1px solid gray;box-sizing: border-box;top: 0;bottom: 0;left: 50%;z-index: -1;}#sk-container-id-1 div.sk-parallel-item {display: flex;flex-direction: column;z-index: 1;position: relative;background-color: white;}#sk-container-id-1 div.sk-parallel-item:first-child::after {align-self: flex-end;width: 50%;}#sk-container-id-1 div.sk-parallel-item:last-child::after {align-self: flex-start;width: 50%;}#sk-container-id-1 div.sk-parallel-item:only-child::after {width: 0;}#sk-container-id-1 div.sk-dashed-wrapped {border: 1px dashed gray;margin: 0 0.4em 0.5em 0.4em;box-sizing: border-box;padding-bottom: 0.4em;background-color: white;}#sk-container-id-1 div.sk-label label {font-family: monospace;font-weight: bold;display: inline-block;line-height: 1.2em;}#sk-container-id-1 div.sk-label-container {text-align: center;}#sk-container-id-1 div.sk-container {/* jupyter's `normalize.less` sets `[hidden] { display: none; }` but bootstrap.min.css set `[hidden] { display: none !important; }` so we also need the `!important` here to be able to override the default hidden behavior on the sphinx rendered scikit-learn.org. See: https://github.com/scikit-learn/scikit-learn/issues/21755 */display: inline-block !important;position: relative;}#sk-container-id-1 div.sk-text-repr-fallback {display: none;}</style><div id=\"sk-container-id-1\" class=\"sk-top-container\"><div class=\"sk-text-repr-fallback\"><pre>RidgeClassifierCV(alphas=array([1.00000000e-03, 4.64158883e-03, 2.15443469e-02, 1.00000000e-01,\n",
              "       4.64158883e-01, 2.15443469e+00, 1.00000000e+01, 4.64158883e+01,\n",
              "       2.15443469e+02, 1.00000000e+03]))</pre><b>In a Jupyter environment, please rerun this cell to show the HTML representation or trust the notebook. <br />On GitHub, the HTML representation is unable to render, please try loading this page with nbviewer.org.</b></div><div class=\"sk-container\" hidden><div class=\"sk-item\"><div class=\"sk-estimator sk-toggleable\"><input class=\"sk-toggleable__control sk-hidden--visually\" id=\"sk-estimator-id-1\" type=\"checkbox\" checked><label for=\"sk-estimator-id-1\" class=\"sk-toggleable__label sk-toggleable__label-arrow\">RidgeClassifierCV</label><div class=\"sk-toggleable__content\"><pre>RidgeClassifierCV(alphas=array([1.00000000e-03, 4.64158883e-03, 2.15443469e-02, 1.00000000e-01,\n",
              "       4.64158883e-01, 2.15443469e+00, 1.00000000e+01, 4.64158883e+01,\n",
              "       2.15443469e+02, 1.00000000e+03]))</pre></div></div></div></div></div>"
            ],
            "text/plain": [
              "RidgeClassifierCV(alphas=array([1.00000000e-03, 4.64158883e-03, 2.15443469e-02, 1.00000000e-01,\n",
              "       4.64158883e-01, 2.15443469e+00, 1.00000000e+01, 4.64158883e+01,\n",
              "       2.15443469e+02, 1.00000000e+03]))"
            ]
          },
          "execution_count": 17,
          "metadata": {},
          "output_type": "execute_result"
        }
      ],
      "source": [
        "%%time\n",
        "\n",
        "rocket = Rocket()\n",
        "rocket.fit(X_train_nested)\n",
        "X_train_transform = rocket.transform(X_train_nested)\n",
        "clf = RidgeClassifierCV(alphas=np.logspace(-3, 3, 10))\n",
        "clf.fit(X_train_transform, y_train)"
      ]
    },
    {
      "cell_type": "code",
      "execution_count": null,
      "metadata": {
        "id": "1sPNIjXUcP-_",
        "outputId": "8771145c-ebe4-4d1b-b2c1-4c343b80e03b"
      },
      "outputs": [
        {
          "name": "stdout",
          "output_type": "stream",
          "text": [
            "              precision    recall  f1-score   support\n",
            "\n",
            "           0       0.92      0.92      0.92       264\n",
            "           1       0.94      0.94      0.94       360\n",
            "\n",
            "    accuracy                           0.93       624\n",
            "   macro avg       0.93      0.93      0.93       624\n",
            "weighted avg       0.93      0.93      0.93       624\n",
            "\n"
          ]
        }
      ],
      "source": [
        "from sklearn.metrics import accuracy_score, f1_score, classification_report\n",
        "\n",
        "X_test_transform = rocket.transform(X_test_nested)\n",
        "y_pred = clf.predict(X_test_transform)\n",
        "print(classification_report(y_test, y_pred))"
      ]
    },
    {
      "cell_type": "code",
      "execution_count": null,
      "metadata": {
        "id": "Z2S2QrC6cP-_",
        "outputId": "2ac4f93e-7b59-4894-ef98-706f99851288"
      },
      "outputs": [
        {
          "name": "stdout",
          "output_type": "stream",
          "text": [
            "CPU times: total: 39.6 s\n",
            "Wall time: 35.7 s\n"
          ]
        },
        {
          "data": {
            "text/html": [
              "<style>#sk-container-id-2 {color: black;background-color: white;}#sk-container-id-2 pre{padding: 0;}#sk-container-id-2 div.sk-toggleable {background-color: white;}#sk-container-id-2 label.sk-toggleable__label {cursor: pointer;display: block;width: 100%;margin-bottom: 0;padding: 0.3em;box-sizing: border-box;text-align: center;}#sk-container-id-2 label.sk-toggleable__label-arrow:before {content: \"▸\";float: left;margin-right: 0.25em;color: #696969;}#sk-container-id-2 label.sk-toggleable__label-arrow:hover:before {color: black;}#sk-container-id-2 div.sk-estimator:hover label.sk-toggleable__label-arrow:before {color: black;}#sk-container-id-2 div.sk-toggleable__content {max-height: 0;max-width: 0;overflow: hidden;text-align: left;background-color: #f0f8ff;}#sk-container-id-2 div.sk-toggleable__content pre {margin: 0.2em;color: black;border-radius: 0.25em;background-color: #f0f8ff;}#sk-container-id-2 input.sk-toggleable__control:checked~div.sk-toggleable__content {max-height: 200px;max-width: 100%;overflow: auto;}#sk-container-id-2 input.sk-toggleable__control:checked~label.sk-toggleable__label-arrow:before {content: \"▾\";}#sk-container-id-2 div.sk-estimator input.sk-toggleable__control:checked~label.sk-toggleable__label {background-color: #d4ebff;}#sk-container-id-2 div.sk-label input.sk-toggleable__control:checked~label.sk-toggleable__label {background-color: #d4ebff;}#sk-container-id-2 input.sk-hidden--visually {border: 0;clip: rect(1px 1px 1px 1px);clip: rect(1px, 1px, 1px, 1px);height: 1px;margin: -1px;overflow: hidden;padding: 0;position: absolute;width: 1px;}#sk-container-id-2 div.sk-estimator {font-family: monospace;background-color: #f0f8ff;border: 1px dotted black;border-radius: 0.25em;box-sizing: border-box;margin-bottom: 0.5em;}#sk-container-id-2 div.sk-estimator:hover {background-color: #d4ebff;}#sk-container-id-2 div.sk-parallel-item::after {content: \"\";width: 100%;border-bottom: 1px solid gray;flex-grow: 1;}#sk-container-id-2 div.sk-label:hover label.sk-toggleable__label {background-color: #d4ebff;}#sk-container-id-2 div.sk-serial::before {content: \"\";position: absolute;border-left: 1px solid gray;box-sizing: border-box;top: 0;bottom: 0;left: 50%;z-index: 0;}#sk-container-id-2 div.sk-serial {display: flex;flex-direction: column;align-items: center;background-color: white;padding-right: 0.2em;padding-left: 0.2em;position: relative;}#sk-container-id-2 div.sk-item {position: relative;z-index: 1;}#sk-container-id-2 div.sk-parallel {display: flex;align-items: stretch;justify-content: center;background-color: white;position: relative;}#sk-container-id-2 div.sk-item::before, #sk-container-id-2 div.sk-parallel-item::before {content: \"\";position: absolute;border-left: 1px solid gray;box-sizing: border-box;top: 0;bottom: 0;left: 50%;z-index: -1;}#sk-container-id-2 div.sk-parallel-item {display: flex;flex-direction: column;z-index: 1;position: relative;background-color: white;}#sk-container-id-2 div.sk-parallel-item:first-child::after {align-self: flex-end;width: 50%;}#sk-container-id-2 div.sk-parallel-item:last-child::after {align-self: flex-start;width: 50%;}#sk-container-id-2 div.sk-parallel-item:only-child::after {width: 0;}#sk-container-id-2 div.sk-dashed-wrapped {border: 1px dashed gray;margin: 0 0.4em 0.5em 0.4em;box-sizing: border-box;padding-bottom: 0.4em;background-color: white;}#sk-container-id-2 div.sk-label label {font-family: monospace;font-weight: bold;display: inline-block;line-height: 1.2em;}#sk-container-id-2 div.sk-label-container {text-align: center;}#sk-container-id-2 div.sk-container {/* jupyter's `normalize.less` sets `[hidden] { display: none; }` but bootstrap.min.css set `[hidden] { display: none !important; }` so we also need the `!important` here to be able to override the default hidden behavior on the sphinx rendered scikit-learn.org. See: https://github.com/scikit-learn/scikit-learn/issues/21755 */display: inline-block !important;position: relative;}#sk-container-id-2 div.sk-text-repr-fallback {display: none;}</style><div id=\"sk-container-id-2\" class=\"sk-top-container\"><div class=\"sk-text-repr-fallback\"><pre>RidgeClassifierCV(alphas=array([1.00000000e-03, 4.64158883e-03, 2.15443469e-02, 1.00000000e-01,\n",
              "       4.64158883e-01, 2.15443469e+00, 1.00000000e+01, 4.64158883e+01,\n",
              "       2.15443469e+02, 1.00000000e+03]))</pre><b>In a Jupyter environment, please rerun this cell to show the HTML representation or trust the notebook. <br />On GitHub, the HTML representation is unable to render, please try loading this page with nbviewer.org.</b></div><div class=\"sk-container\" hidden><div class=\"sk-item\"><div class=\"sk-estimator sk-toggleable\"><input class=\"sk-toggleable__control sk-hidden--visually\" id=\"sk-estimator-id-2\" type=\"checkbox\" checked><label for=\"sk-estimator-id-2\" class=\"sk-toggleable__label sk-toggleable__label-arrow\">RidgeClassifierCV</label><div class=\"sk-toggleable__content\"><pre>RidgeClassifierCV(alphas=array([1.00000000e-03, 4.64158883e-03, 2.15443469e-02, 1.00000000e-01,\n",
              "       4.64158883e-01, 2.15443469e+00, 1.00000000e+01, 4.64158883e+01,\n",
              "       2.15443469e+02, 1.00000000e+03]))</pre></div></div></div></div></div>"
            ],
            "text/plain": [
              "RidgeClassifierCV(alphas=array([1.00000000e-03, 4.64158883e-03, 2.15443469e-02, 1.00000000e-01,\n",
              "       4.64158883e-01, 2.15443469e+00, 1.00000000e+01, 4.64158883e+01,\n",
              "       2.15443469e+02, 1.00000000e+03]))"
            ]
          },
          "execution_count": 19,
          "metadata": {},
          "output_type": "execute_result"
        }
      ],
      "source": [
        "%%time\n",
        "\n",
        "minirocket = MiniRocket()\n",
        "minirocket.fit(X_train_nested)\n",
        "X_train_transform_mini = minirocket.transform(X_train_nested)\n",
        "clf = RidgeClassifierCV(alphas=np.logspace(-3, 3, 10))\n",
        "clf.fit(X_train_transform_mini, y_train)"
      ]
    },
    {
      "cell_type": "code",
      "execution_count": null,
      "metadata": {
        "id": "-_0HCDLLcP_A",
        "outputId": "12d75356-d8a4-4965-ef92-e72ce89a1d65"
      },
      "outputs": [
        {
          "name": "stdout",
          "output_type": "stream",
          "text": [
            "              precision    recall  f1-score   support\n",
            "\n",
            "           0       0.98      0.98      0.98       264\n",
            "           1       0.99      0.98      0.99       360\n",
            "\n",
            "    accuracy                           0.98       624\n",
            "   macro avg       0.98      0.98      0.98       624\n",
            "weighted avg       0.98      0.98      0.98       624\n",
            "\n"
          ]
        }
      ],
      "source": [
        "X_test_transform_mini = minirocket.transform(X_test_nested)\n",
        "y_pred = clf.predict(X_test_transform_mini)\n",
        "print(classification_report(y_test, y_pred))"
      ]
    },
    {
      "cell_type": "code",
      "execution_count": null,
      "metadata": {
        "id": "SKhTXQG-cP_A",
        "outputId": "17f77d4f-c3a9-4045-b5c2-96ab3d1bd07d"
      },
      "outputs": [
        {
          "name": "stdout",
          "output_type": "stream",
          "text": [
            "              precision    recall  f1-score   support\n",
            "\n",
            "           0       1.00      0.01      0.02       264\n",
            "           1       0.58      1.00      0.73       360\n",
            "\n",
            "    accuracy                           0.58       624\n",
            "   macro avg       0.79      0.51      0.38       624\n",
            "weighted avg       0.76      0.58      0.43       624\n",
            "\n"
          ]
        }
      ],
      "source": [
        "from pyts.classification import KNeighborsClassifier\n",
        "from sklearn.metrics import classification_report\n",
        "\n",
        "clf = KNeighborsClassifier(metric='euclidean')\n",
        "clf.fit(X_train, y_train)\n",
        "y_pred = clf.predict(X_test)\n",
        "print(classification_report(y_test, y_pred))"
      ]
    }
  ],
  "metadata": {
    "kernelspec": {
      "display_name": "myenv",
      "language": "python",
      "name": "python3"
    },
    "language_info": {
      "codemirror_mode": {
        "name": "ipython",
        "version": 3
      },
      "file_extension": ".py",
      "mimetype": "text/x-python",
      "name": "python",
      "nbconvert_exporter": "python",
      "pygments_lexer": "ipython3",
      "version": "3.10.9"
    },
    "orig_nbformat": 4,
    "colab": {
      "provenance": []
    }
  },
  "nbformat": 4,
  "nbformat_minor": 0
}