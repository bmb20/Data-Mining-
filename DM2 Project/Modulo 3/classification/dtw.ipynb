{
  "cells": [
    {
      "cell_type": "code",
      "execution_count": null,
      "metadata": {
        "id": "wslanatLX5AA"
      },
      "outputs": [],
      "source": [
        "#!pip install tslearn\n",
        "#!pip install sktime\n",
        "import pandas as pd\n",
        "import numpy as np\n",
        "import pathlib\n",
        "from tqdm.notebook import tqdm\n",
        "import librosa\n",
        "import awkward as ak\n",
        "import matplotlib.pyplot as plt\n",
        "from IPython.display import Audio \n",
        "from scipy.signal import decimate\n",
        "import tslearn\n",
        "from sklearn.neighbors import KNeighborsClassifier\n",
        "from sklearn.tree import DecisionTreeClassifier\n",
        "from sktime.datatypes._panel._convert import from_2d_array_to_nested\n",
        "from sklearn.linear_model import RidgeClassifierCV\n",
        "from sktime.transformations.panel.rocket import Rocket\n",
        "from tslearn.piecewise import PiecewiseAggregateApproximation\n",
        "from tslearn.piecewise import SymbolicAggregateApproximation\n",
        "from tslearn.piecewise import OneD_SymbolicAggregateApproximation\n",
        "from sktime.classification.distance_based import KNeighborsTimeSeriesClassifier\n",
        "from sktime.transformations.panel.rocket import MiniRocket\n",
        "from pyts.classification import KNeighborsClassifier"
      ]
    },
    {
      "cell_type": "code",
      "execution_count": null,
      "metadata": {
        "id": "qQlrP3FfX5AS"
      },
      "outputs": [],
      "source": [
        "X_train= np.load(\"RavdessAudioOnlyNumpy__X_train.npy\")\n",
        "X_test = np.load(\"RavdessAudioOnlyNumpy__X_test.npy\")\n",
        "y_train= pd.read_csv(\"RavdessAudioOnlyNumpy__Y_train.csv\")\n",
        "y_test= pd.read_csv(\"RavdessAudioOnlyNumpy__Y_test.csv\")\n",
        "\n",
        "start_index = 45000\n",
        "end_index = 130000\n",
        "\n",
        "selected_intervals = []\n",
        "selected_intervals2 = []\n",
        "\n",
        "for i in range(len(X_train)):\n",
        "    selected_interval = X_train[i, start_index:end_index]\n",
        "    selected_intervals.append(selected_interval)\n",
        "\n",
        "selected_intervals = np.array(selected_intervals)\n",
        "\n",
        "for i in range(len(X_test)):\n",
        "    selected_interval2 = X_test[i, start_index:end_index]\n",
        "    selected_intervals2.append(selected_interval2)\n",
        "\n",
        "selected_intervals2 = np.array(selected_intervals2)\n",
        "\n",
        "X_train= selected_intervals\n",
        "X_test= selected_intervals2"
      ]
    },
    {
      "cell_type": "code",
      "execution_count": null,
      "metadata": {
        "id": "T264pJmTX5AV"
      },
      "outputs": [],
      "source": [
        "from tslearn.preprocessing import TimeSeriesScalerMinMax\n",
        "scaler = TimeSeriesScalerMinMax()\n",
        "X_train = scaler.fit_transform(X_train).reshape(X_train.shape[0], X_train.shape[1])\n",
        "X_test = scaler.fit_transform(X_test).reshape(X_test.shape[0], X_test.shape[1])"
      ]
    },
    {
      "cell_type": "code",
      "execution_count": null,
      "metadata": {
        "id": "LRdQrRmKX5AX",
        "outputId": "697f5c04-1fcf-43cc-de08-1301594d36c0"
      },
      "outputs": [
        {
          "name": "stderr",
          "output_type": "stream",
          "text": [
            "c:\\Users\\Alex\\anaconda3\\envs\\myenv\\lib\\site-packages\\tslearn\\utils\\utils.py:88: UserWarning: 2-Dimensional data passed. Assuming these are 1828 1-dimensional timeseries\n",
            "  warnings.warn('2-Dimensional data passed. Assuming these are '\n",
            "c:\\Users\\Alex\\anaconda3\\envs\\myenv\\lib\\site-packages\\tslearn\\utils\\utils.py:88: UserWarning: 2-Dimensional data passed. Assuming these are 624 1-dimensional timeseries\n",
            "  warnings.warn('2-Dimensional data passed. Assuming these are '\n"
          ]
        }
      ],
      "source": [
        "sax = SymbolicAggregateApproximation(n_segments=1000, alphabet_size_avg= 50)\n",
        "X_train_sax = np.squeeze(sax.fit_transform(X_train))\n",
        "X_test_sax = np.squeeze(sax.transform(X_test))"
      ]
    },
    {
      "cell_type": "code",
      "execution_count": null,
      "metadata": {
        "id": "wUNsxu8FX5Ab"
      },
      "outputs": [],
      "source": [
        "y_train = y_train['emotion']\n",
        "y_test = y_test['emotion']"
      ]
    },
    {
      "cell_type": "code",
      "execution_count": null,
      "metadata": {
        "id": "1wzSjpgdX5Ae",
        "outputId": "2b53714c-84dc-459c-bd4a-4c2756b4c26e"
      },
      "outputs": [
        {
          "name": "stdout",
          "output_type": "stream",
          "text": [
            "              precision    recall  f1-score   support\n",
            "\n",
            "       angry       0.23      0.38      0.29        96\n",
            "        calm       0.52      0.23      0.32        96\n",
            "     disgust       0.04      0.04      0.04        48\n",
            "     fearful       0.24      0.22      0.23        96\n",
            "       happy       0.22      0.29      0.25        96\n",
            "     neutral       0.20      0.17      0.18        48\n",
            "         sad       0.23      0.20      0.21        96\n",
            "   surprised       0.16      0.15      0.15        48\n",
            "\n",
            "    accuracy                           0.23       624\n",
            "   macro avg       0.23      0.21      0.21       624\n",
            "weighted avg       0.25      0.23      0.23       624\n",
            "\n"
          ]
        }
      ],
      "source": [
        "from pyts.classification import KNeighborsClassifier\n",
        "from sklearn.metrics import classification_report\n",
        "\n",
        "clf = KNeighborsClassifier(metric='dtw')\n",
        "clf.fit(X_train_sax, y_train)\n",
        "y_pred = clf.predict(X_test_sax)\n",
        "print(classification_report(y_test, y_pred))"
      ]
    },
    {
      "cell_type": "code",
      "execution_count": null,
      "metadata": {
        "id": "zK9Ej8uLX5Ag",
        "outputId": "ea70efc0-fb3d-478a-f78d-91d4fea5e268"
      },
      "outputs": [
        {
          "name": "stdout",
          "output_type": "stream",
          "text": [
            "              precision    recall  f1-score   support\n",
            "\n",
            "       angry       0.21      0.32      0.26        96\n",
            "        calm       0.47      0.22      0.30        96\n",
            "     disgust       0.08      0.06      0.07        48\n",
            "     fearful       0.23      0.19      0.21        96\n",
            "       happy       0.20      0.34      0.25        96\n",
            "     neutral       0.29      0.25      0.27        48\n",
            "         sad       0.30      0.22      0.25        96\n",
            "   surprised       0.22      0.17      0.19        48\n",
            "\n",
            "    accuracy                           0.24       624\n",
            "   macro avg       0.25      0.22      0.22       624\n",
            "weighted avg       0.26      0.24      0.23       624\n",
            "\n"
          ]
        }
      ],
      "source": [
        "clf = KNeighborsClassifier(metric='dtw_sakoechiba')\n",
        "clf.fit(X_train_sax, y_train)\n",
        "y_pred = clf.predict(X_test_sax)\n",
        "print(classification_report(y_test, y_pred))"
      ]
    },
    {
      "cell_type": "code",
      "execution_count": null,
      "metadata": {
        "id": "mTC7QL-2X5Ai",
        "outputId": "9b9a8289-2686-48b5-a6bb-45914f1e3952"
      },
      "outputs": [
        {
          "name": "stdout",
          "output_type": "stream",
          "text": [
            "              precision    recall  f1-score   support\n",
            "\n",
            "       angry       0.21      0.31      0.25        96\n",
            "        calm       0.50      0.22      0.30        96\n",
            "     disgust       0.12      0.12      0.12        48\n",
            "     fearful       0.28      0.24      0.26        96\n",
            "       happy       0.22      0.32      0.26        96\n",
            "     neutral       0.28      0.27      0.28        48\n",
            "         sad       0.28      0.24      0.26        96\n",
            "   surprised       0.25      0.21      0.23        48\n",
            "\n",
            "    accuracy                           0.25       624\n",
            "   macro avg       0.27      0.24      0.25       624\n",
            "weighted avg       0.28      0.25      0.25       624\n",
            "\n"
          ]
        }
      ],
      "source": [
        "clf = KNeighborsClassifier(metric='dtw_itakura')\n",
        "clf.fit(X_train_sax, y_train)\n",
        "y_pred = clf.predict(X_test_sax)\n",
        "print(classification_report(y_test, y_pred))"
      ]
    }
  ],
  "metadata": {
    "kernelspec": {
      "display_name": "myenv",
      "language": "python",
      "name": "python3"
    },
    "language_info": {
      "codemirror_mode": {
        "name": "ipython",
        "version": 3
      },
      "file_extension": ".py",
      "mimetype": "text/x-python",
      "name": "python",
      "nbconvert_exporter": "python",
      "pygments_lexer": "ipython3",
      "version": "3.10.9"
    },
    "orig_nbformat": 4,
    "colab": {
      "provenance": []
    }
  },
  "nbformat": 4,
  "nbformat_minor": 0
}