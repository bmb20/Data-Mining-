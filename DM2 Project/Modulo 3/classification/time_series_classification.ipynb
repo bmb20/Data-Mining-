{
  "cells": [
    {
      "cell_type": "code",
      "execution_count": null,
      "metadata": {
        "id": "1l4RvlTrXk5p"
      },
      "outputs": [],
      "source": [
        "#!pip install tslearn\n",
        "#!pip install sktime\n",
        "import pandas as pd\n",
        "import numpy as np\n",
        "import pathlib\n",
        "from tqdm.notebook import tqdm\n",
        "import librosa\n",
        "import awkward as ak\n",
        "import matplotlib.pyplot as plt\n",
        "from IPython.display import Audio \n",
        "from scipy.signal import decimate\n",
        "import tslearn\n",
        "from sklearn.neighbors import KNeighborsClassifier\n",
        "from sklearn.tree import DecisionTreeClassifier"
      ]
    },
    {
      "cell_type": "code",
      "execution_count": null,
      "metadata": {
        "id": "dRlPbpKwXk5w"
      },
      "outputs": [],
      "source": [
        "from sktime.datatypes._panel._convert import from_2d_array_to_nested\n",
        "from sklearn.linear_model import RidgeClassifierCV\n",
        "from sktime.transformations.panel.rocket import Rocket"
      ]
    },
    {
      "cell_type": "code",
      "execution_count": null,
      "metadata": {
        "id": "96e-cfa4Xk5y"
      },
      "outputs": [],
      "source": [
        "from tslearn.piecewise import PiecewiseAggregateApproximation\n",
        "from tslearn.piecewise import SymbolicAggregateApproximation\n",
        "from tslearn.piecewise import OneD_SymbolicAggregateApproximation"
      ]
    },
    {
      "cell_type": "code",
      "execution_count": null,
      "metadata": {
        "id": "C88ncUTTXk5y"
      },
      "outputs": [],
      "source": [
        "from sktime.classification.distance_based import KNeighborsTimeSeriesClassifier"
      ]
    },
    {
      "cell_type": "code",
      "execution_count": null,
      "metadata": {
        "id": "nuiE9s4QXk5z"
      },
      "outputs": [],
      "source": [
        "from sktime.transformations.panel.rocket import MiniRocket\n",
        "from sklearn.neighbors import KNeighborsClassifier"
      ]
    },
    {
      "cell_type": "code",
      "execution_count": null,
      "metadata": {
        "id": "cahsHqOSXk51"
      },
      "outputs": [],
      "source": [
        "X_train= np.load(\"RavdessAudioOnlyNumpy__X_train.npy\")\n",
        "X_test = np.load(\"RavdessAudioOnlyNumpy__X_test.npy\")\n",
        "y_train= pd.read_csv(\"RavdessAudioOnlyNumpy__Y_train.csv\")\n",
        "y_test= pd.read_csv(\"RavdessAudioOnlyNumpy__Y_test.csv\")"
      ]
    },
    {
      "cell_type": "code",
      "execution_count": null,
      "metadata": {
        "id": "XF2XXSDHXk53"
      },
      "outputs": [],
      "source": [
        "start_index = 45000\n",
        "end_index = 100000\n",
        "\n",
        "selected_intervals = []\n",
        "selected_intervals2 = []\n",
        "\n",
        "for i in range(len(X_train)):\n",
        "    selected_interval = X_train[i, start_index:end_index]\n",
        "    selected_intervals.append(selected_interval)\n",
        "\n",
        "selected_intervals = np.array(selected_intervals)\n",
        "\n",
        "for i in range(len(X_test)):\n",
        "    selected_interval2 = X_test[i, start_index:end_index]\n",
        "    selected_intervals2.append(selected_interval2)\n",
        "\n",
        "selected_intervals2 = np.array(selected_intervals2)\n"
      ]
    },
    {
      "cell_type": "code",
      "execution_count": null,
      "metadata": {
        "id": "ahA7Y4SUXk54"
      },
      "outputs": [],
      "source": [
        "X_train= selected_intervals\n",
        "X_test= selected_intervals2\n"
      ]
    },
    {
      "cell_type": "code",
      "execution_count": null,
      "metadata": {
        "id": "o92oPOEvXk56",
        "outputId": "48792cd0-8498-4dc5-d924-d56b8a854015"
      },
      "outputs": [
        {
          "data": {
            "text/html": [
              "<div>\n",
              "<style scoped>\n",
              "    .dataframe tbody tr th:only-of-type {\n",
              "        vertical-align: middle;\n",
              "    }\n",
              "\n",
              "    .dataframe tbody tr th {\n",
              "        vertical-align: top;\n",
              "    }\n",
              "\n",
              "    .dataframe thead th {\n",
              "        text-align: right;\n",
              "    }\n",
              "</style>\n",
              "<table border=\"1\" class=\"dataframe\">\n",
              "  <thead>\n",
              "    <tr style=\"text-align: right;\">\n",
              "      <th></th>\n",
              "      <th>0</th>\n",
              "      <th>1</th>\n",
              "      <th>2</th>\n",
              "      <th>3</th>\n",
              "      <th>4</th>\n",
              "      <th>5</th>\n",
              "      <th>6</th>\n",
              "      <th>7</th>\n",
              "      <th>8</th>\n",
              "      <th>9</th>\n",
              "      <th>...</th>\n",
              "      <th>54990</th>\n",
              "      <th>54991</th>\n",
              "      <th>54992</th>\n",
              "      <th>54993</th>\n",
              "      <th>54994</th>\n",
              "      <th>54995</th>\n",
              "      <th>54996</th>\n",
              "      <th>54997</th>\n",
              "      <th>54998</th>\n",
              "      <th>54999</th>\n",
              "    </tr>\n",
              "  </thead>\n",
              "  <tbody>\n",
              "    <tr>\n",
              "      <th>0</th>\n",
              "      <td>0.000000</td>\n",
              "      <td>0.000000</td>\n",
              "      <td>0.000000</td>\n",
              "      <td>0.000000</td>\n",
              "      <td>0.000000</td>\n",
              "      <td>0.000000</td>\n",
              "      <td>-0.000031</td>\n",
              "      <td>0.000000</td>\n",
              "      <td>0.000000</td>\n",
              "      <td>0.000000</td>\n",
              "      <td>...</td>\n",
              "      <td>0.008301</td>\n",
              "      <td>0.007874</td>\n",
              "      <td>0.007385</td>\n",
              "      <td>0.006714</td>\n",
              "      <td>0.005890</td>\n",
              "      <td>0.005188</td>\n",
              "      <td>0.004486</td>\n",
              "      <td>0.003754</td>\n",
              "      <td>0.003204</td>\n",
              "      <td>0.002716</td>\n",
              "    </tr>\n",
              "    <tr>\n",
              "      <th>1</th>\n",
              "      <td>0.000000</td>\n",
              "      <td>0.000031</td>\n",
              "      <td>0.000000</td>\n",
              "      <td>0.000000</td>\n",
              "      <td>0.000000</td>\n",
              "      <td>0.000000</td>\n",
              "      <td>-0.000031</td>\n",
              "      <td>-0.000031</td>\n",
              "      <td>0.000000</td>\n",
              "      <td>0.000000</td>\n",
              "      <td>...</td>\n",
              "      <td>0.013489</td>\n",
              "      <td>0.013031</td>\n",
              "      <td>0.012421</td>\n",
              "      <td>0.011871</td>\n",
              "      <td>0.011078</td>\n",
              "      <td>0.010284</td>\n",
              "      <td>0.009705</td>\n",
              "      <td>0.009460</td>\n",
              "      <td>0.009216</td>\n",
              "      <td>0.009064</td>\n",
              "    </tr>\n",
              "    <tr>\n",
              "      <th>2</th>\n",
              "      <td>0.000000</td>\n",
              "      <td>0.000000</td>\n",
              "      <td>0.000000</td>\n",
              "      <td>0.000000</td>\n",
              "      <td>0.000000</td>\n",
              "      <td>0.000000</td>\n",
              "      <td>0.000000</td>\n",
              "      <td>0.000000</td>\n",
              "      <td>0.000000</td>\n",
              "      <td>0.000000</td>\n",
              "      <td>...</td>\n",
              "      <td>0.000000</td>\n",
              "      <td>0.000061</td>\n",
              "      <td>0.000305</td>\n",
              "      <td>0.000580</td>\n",
              "      <td>0.000916</td>\n",
              "      <td>0.001434</td>\n",
              "      <td>0.001831</td>\n",
              "      <td>0.002045</td>\n",
              "      <td>0.002136</td>\n",
              "      <td>0.002075</td>\n",
              "    </tr>\n",
              "    <tr>\n",
              "      <th>3</th>\n",
              "      <td>-0.000031</td>\n",
              "      <td>-0.000031</td>\n",
              "      <td>-0.000031</td>\n",
              "      <td>-0.000061</td>\n",
              "      <td>-0.000031</td>\n",
              "      <td>-0.000031</td>\n",
              "      <td>-0.000092</td>\n",
              "      <td>-0.000092</td>\n",
              "      <td>-0.000061</td>\n",
              "      <td>-0.000092</td>\n",
              "      <td>...</td>\n",
              "      <td>-0.000763</td>\n",
              "      <td>-0.001190</td>\n",
              "      <td>-0.001617</td>\n",
              "      <td>-0.002106</td>\n",
              "      <td>-0.002563</td>\n",
              "      <td>-0.002991</td>\n",
              "      <td>-0.003510</td>\n",
              "      <td>-0.004059</td>\n",
              "      <td>-0.004456</td>\n",
              "      <td>-0.004730</td>\n",
              "    </tr>\n",
              "    <tr>\n",
              "      <th>4</th>\n",
              "      <td>0.000000</td>\n",
              "      <td>0.000000</td>\n",
              "      <td>-0.000061</td>\n",
              "      <td>0.000000</td>\n",
              "      <td>0.000000</td>\n",
              "      <td>-0.000031</td>\n",
              "      <td>-0.000061</td>\n",
              "      <td>0.000000</td>\n",
              "      <td>0.000000</td>\n",
              "      <td>0.000000</td>\n",
              "      <td>...</td>\n",
              "      <td>-0.001465</td>\n",
              "      <td>-0.002014</td>\n",
              "      <td>-0.002960</td>\n",
              "      <td>-0.003967</td>\n",
              "      <td>-0.005096</td>\n",
              "      <td>-0.006378</td>\n",
              "      <td>-0.007721</td>\n",
              "      <td>-0.008972</td>\n",
              "      <td>-0.009979</td>\n",
              "      <td>-0.010986</td>\n",
              "    </tr>\n",
              "    <tr>\n",
              "      <th>...</th>\n",
              "      <td>...</td>\n",
              "      <td>...</td>\n",
              "      <td>...</td>\n",
              "      <td>...</td>\n",
              "      <td>...</td>\n",
              "      <td>...</td>\n",
              "      <td>...</td>\n",
              "      <td>...</td>\n",
              "      <td>...</td>\n",
              "      <td>...</td>\n",
              "      <td>...</td>\n",
              "      <td>...</td>\n",
              "      <td>...</td>\n",
              "      <td>...</td>\n",
              "      <td>...</td>\n",
              "      <td>...</td>\n",
              "      <td>...</td>\n",
              "      <td>...</td>\n",
              "      <td>...</td>\n",
              "      <td>...</td>\n",
              "      <td>...</td>\n",
              "    </tr>\n",
              "    <tr>\n",
              "      <th>1823</th>\n",
              "      <td>-0.000031</td>\n",
              "      <td>0.000000</td>\n",
              "      <td>0.000000</td>\n",
              "      <td>0.000000</td>\n",
              "      <td>-0.000031</td>\n",
              "      <td>-0.000031</td>\n",
              "      <td>-0.000061</td>\n",
              "      <td>0.000000</td>\n",
              "      <td>0.000000</td>\n",
              "      <td>0.000000</td>\n",
              "      <td>...</td>\n",
              "      <td>0.001587</td>\n",
              "      <td>0.001678</td>\n",
              "      <td>0.001678</td>\n",
              "      <td>0.001740</td>\n",
              "      <td>0.001831</td>\n",
              "      <td>0.001892</td>\n",
              "      <td>0.001892</td>\n",
              "      <td>0.001923</td>\n",
              "      <td>0.001984</td>\n",
              "      <td>0.002014</td>\n",
              "    </tr>\n",
              "    <tr>\n",
              "      <th>1824</th>\n",
              "      <td>0.000000</td>\n",
              "      <td>0.000031</td>\n",
              "      <td>0.000000</td>\n",
              "      <td>0.000000</td>\n",
              "      <td>0.000000</td>\n",
              "      <td>0.000031</td>\n",
              "      <td>0.000000</td>\n",
              "      <td>0.000031</td>\n",
              "      <td>0.000000</td>\n",
              "      <td>0.000000</td>\n",
              "      <td>...</td>\n",
              "      <td>-0.001648</td>\n",
              "      <td>-0.001801</td>\n",
              "      <td>-0.002014</td>\n",
              "      <td>-0.002045</td>\n",
              "      <td>-0.001984</td>\n",
              "      <td>-0.001862</td>\n",
              "      <td>-0.001862</td>\n",
              "      <td>-0.001892</td>\n",
              "      <td>-0.001770</td>\n",
              "      <td>-0.001709</td>\n",
              "    </tr>\n",
              "    <tr>\n",
              "      <th>1825</th>\n",
              "      <td>0.000000</td>\n",
              "      <td>0.000000</td>\n",
              "      <td>0.000000</td>\n",
              "      <td>0.000000</td>\n",
              "      <td>0.000031</td>\n",
              "      <td>0.000000</td>\n",
              "      <td>0.000000</td>\n",
              "      <td>0.000000</td>\n",
              "      <td>0.000000</td>\n",
              "      <td>0.000000</td>\n",
              "      <td>...</td>\n",
              "      <td>-0.003876</td>\n",
              "      <td>-0.009033</td>\n",
              "      <td>-0.013641</td>\n",
              "      <td>-0.015594</td>\n",
              "      <td>-0.015869</td>\n",
              "      <td>-0.014648</td>\n",
              "      <td>-0.012970</td>\n",
              "      <td>-0.012360</td>\n",
              "      <td>-0.012756</td>\n",
              "      <td>-0.012878</td>\n",
              "    </tr>\n",
              "    <tr>\n",
              "      <th>1826</th>\n",
              "      <td>0.000000</td>\n",
              "      <td>0.000000</td>\n",
              "      <td>0.000000</td>\n",
              "      <td>0.000000</td>\n",
              "      <td>0.000000</td>\n",
              "      <td>0.000000</td>\n",
              "      <td>0.000000</td>\n",
              "      <td>0.000000</td>\n",
              "      <td>0.000000</td>\n",
              "      <td>0.000000</td>\n",
              "      <td>...</td>\n",
              "      <td>0.013123</td>\n",
              "      <td>0.012299</td>\n",
              "      <td>0.013000</td>\n",
              "      <td>0.018738</td>\n",
              "      <td>0.017761</td>\n",
              "      <td>0.013977</td>\n",
              "      <td>0.016998</td>\n",
              "      <td>0.022125</td>\n",
              "      <td>0.025848</td>\n",
              "      <td>0.026764</td>\n",
              "    </tr>\n",
              "    <tr>\n",
              "      <th>1827</th>\n",
              "      <td>0.000000</td>\n",
              "      <td>0.000000</td>\n",
              "      <td>0.000000</td>\n",
              "      <td>0.000000</td>\n",
              "      <td>0.000000</td>\n",
              "      <td>0.000000</td>\n",
              "      <td>0.000000</td>\n",
              "      <td>0.000031</td>\n",
              "      <td>0.000000</td>\n",
              "      <td>0.000000</td>\n",
              "      <td>...</td>\n",
              "      <td>-0.025330</td>\n",
              "      <td>-0.020569</td>\n",
              "      <td>-0.018707</td>\n",
              "      <td>-0.023346</td>\n",
              "      <td>-0.029114</td>\n",
              "      <td>-0.029877</td>\n",
              "      <td>-0.027466</td>\n",
              "      <td>-0.029236</td>\n",
              "      <td>-0.030365</td>\n",
              "      <td>-0.027527</td>\n",
              "    </tr>\n",
              "  </tbody>\n",
              "</table>\n",
              "<p>1828 rows × 55000 columns</p>\n",
              "</div>"
            ],
            "text/plain": [
              "         0         1         2         3         4         5         6      \\\n",
              "0     0.000000  0.000000  0.000000  0.000000  0.000000  0.000000 -0.000031   \n",
              "1     0.000000  0.000031  0.000000  0.000000  0.000000  0.000000 -0.000031   \n",
              "2     0.000000  0.000000  0.000000  0.000000  0.000000  0.000000  0.000000   \n",
              "3    -0.000031 -0.000031 -0.000031 -0.000061 -0.000031 -0.000031 -0.000092   \n",
              "4     0.000000  0.000000 -0.000061  0.000000  0.000000 -0.000031 -0.000061   \n",
              "...        ...       ...       ...       ...       ...       ...       ...   \n",
              "1823 -0.000031  0.000000  0.000000  0.000000 -0.000031 -0.000031 -0.000061   \n",
              "1824  0.000000  0.000031  0.000000  0.000000  0.000000  0.000031  0.000000   \n",
              "1825  0.000000  0.000000  0.000000  0.000000  0.000031  0.000000  0.000000   \n",
              "1826  0.000000  0.000000  0.000000  0.000000  0.000000  0.000000  0.000000   \n",
              "1827  0.000000  0.000000  0.000000  0.000000  0.000000  0.000000  0.000000   \n",
              "\n",
              "         7         8         9      ...     54990     54991     54992  \\\n",
              "0     0.000000  0.000000  0.000000  ...  0.008301  0.007874  0.007385   \n",
              "1    -0.000031  0.000000  0.000000  ...  0.013489  0.013031  0.012421   \n",
              "2     0.000000  0.000000  0.000000  ...  0.000000  0.000061  0.000305   \n",
              "3    -0.000092 -0.000061 -0.000092  ... -0.000763 -0.001190 -0.001617   \n",
              "4     0.000000  0.000000  0.000000  ... -0.001465 -0.002014 -0.002960   \n",
              "...        ...       ...       ...  ...       ...       ...       ...   \n",
              "1823  0.000000  0.000000  0.000000  ...  0.001587  0.001678  0.001678   \n",
              "1824  0.000031  0.000000  0.000000  ... -0.001648 -0.001801 -0.002014   \n",
              "1825  0.000000  0.000000  0.000000  ... -0.003876 -0.009033 -0.013641   \n",
              "1826  0.000000  0.000000  0.000000  ...  0.013123  0.012299  0.013000   \n",
              "1827  0.000031  0.000000  0.000000  ... -0.025330 -0.020569 -0.018707   \n",
              "\n",
              "         54993     54994     54995     54996     54997     54998     54999  \n",
              "0     0.006714  0.005890  0.005188  0.004486  0.003754  0.003204  0.002716  \n",
              "1     0.011871  0.011078  0.010284  0.009705  0.009460  0.009216  0.009064  \n",
              "2     0.000580  0.000916  0.001434  0.001831  0.002045  0.002136  0.002075  \n",
              "3    -0.002106 -0.002563 -0.002991 -0.003510 -0.004059 -0.004456 -0.004730  \n",
              "4    -0.003967 -0.005096 -0.006378 -0.007721 -0.008972 -0.009979 -0.010986  \n",
              "...        ...       ...       ...       ...       ...       ...       ...  \n",
              "1823  0.001740  0.001831  0.001892  0.001892  0.001923  0.001984  0.002014  \n",
              "1824 -0.002045 -0.001984 -0.001862 -0.001862 -0.001892 -0.001770 -0.001709  \n",
              "1825 -0.015594 -0.015869 -0.014648 -0.012970 -0.012360 -0.012756 -0.012878  \n",
              "1826  0.018738  0.017761  0.013977  0.016998  0.022125  0.025848  0.026764  \n",
              "1827 -0.023346 -0.029114 -0.029877 -0.027466 -0.029236 -0.030365 -0.027527  \n",
              "\n",
              "[1828 rows x 55000 columns]"
            ]
          },
          "execution_count": 24,
          "metadata": {},
          "output_type": "execute_result"
        }
      ],
      "source": [
        "pd.DataFrame(X_train)"
      ]
    },
    {
      "cell_type": "code",
      "execution_count": null,
      "metadata": {
        "id": "XIc7VmbEXk5_",
        "outputId": "c96cfd6b-8667-462b-f29c-ed57eb8b1295"
      },
      "outputs": [
        {
          "data": {
            "text/plain": [
              "1828"
            ]
          },
          "execution_count": 11,
          "metadata": {},
          "output_type": "execute_result"
        }
      ],
      "source": [
        "len(X_train)"
      ]
    },
    {
      "cell_type": "code",
      "execution_count": null,
      "metadata": {
        "id": "NY5jOxdZXk6A"
      },
      "outputs": [],
      "source": [
        "from tslearn.preprocessing import TimeSeriesScalerMinMax\n",
        "scaler = TimeSeriesScalerMinMax()\n",
        "X_train = scaler.fit_transform(X_train).reshape(X_train.shape[0], X_train.shape[1])\n",
        "X_test = scaler.fit_transform(X_test).reshape(X_test.shape[0], X_test.shape[1])"
      ]
    },
    {
      "cell_type": "code",
      "execution_count": null,
      "metadata": {
        "id": "_Xev2lcTXk6B",
        "outputId": "1202cd75-2c97-41f1-c315-99847a7ee96f"
      },
      "outputs": [
        {
          "data": {
            "text/plain": [
              "[<matplotlib.lines.Line2D at 0x1c7b0b864d0>]"
            ]
          },
          "execution_count": 25,
          "metadata": {},
          "output_type": "execute_result"
        },
        {
          "data": {
            "image/png": "[encoded data removed]",
            "text/plain": [
              "<Figure size 640x480 with 1 Axes>"
            ]
          },
          "metadata": {},
          "output_type": "display_data"
        }
      ],
      "source": [
        "plt.plot(pd.DataFrame(X_train[5]))"
      ]
    },
    {
      "cell_type": "code",
      "execution_count": null,
      "metadata": {
        "id": "QlBFg-tYXk6C"
      },
      "outputs": [],
      "source": [
        "X_train = pd.DataFrame(X_train)\n",
        "X_test = pd.DataFrame(X_test)"
      ]
    },
    {
      "cell_type": "code",
      "execution_count": null,
      "metadata": {
        "id": "hoU5fcBxXk6D"
      },
      "outputs": [],
      "source": [
        "X_train_nested = pd.DataFrame(from_2d_array_to_nested(X_train))\n",
        "X_test_nested = pd.DataFrame(from_2d_array_to_nested(X_test))"
      ]
    },
    {
      "cell_type": "code",
      "execution_count": null,
      "metadata": {
        "id": "euL-DnjVXk6E"
      },
      "outputs": [],
      "source": [
        "from sklearn.preprocessing import LabelEncoder\n",
        "encoder = LabelEncoder()\n",
        "\n",
        "y_train = encoder.fit_transform(y_train['emotion'])\n",
        "y_test = encoder.transform(y_test['emotion'])\n"
      ]
    },
    {
      "cell_type": "code",
      "execution_count": null,
      "metadata": {
        "id": "6Seg7rY9Xk6F",
        "outputId": "3eeda69f-72fa-4804-fd4f-4645d3547b2c"
      },
      "outputs": [
        {
          "data": {
            "text/plain": [
              "array([5, 5, 5, ..., 7, 7, 7])"
            ]
          },
          "execution_count": 28,
          "metadata": {},
          "output_type": "execute_result"
        }
      ],
      "source": [
        "y_train"
      ]
    },
    {
      "cell_type": "code",
      "execution_count": null,
      "metadata": {
        "id": "eINFcHh9Xk6G"
      },
      "outputs": [],
      "source": [
        "%%time\n",
        "\n",
        "rocket = Rocket()\n",
        "rocket.fit(X_train_nested)\n",
        "X_train_transform = rocket.transform(X_train_nested)\n",
        "clf = RidgeClassifierCV(alphas=np.logspace(-3, 3, 10))\n",
        "clf.fit(X_train_transform, y_train)"
      ]
    },
    {
      "cell_type": "code",
      "execution_count": null,
      "metadata": {
        "id": "igGC71aNXk6H",
        "outputId": "910c1579-6004-419e-9e75-2a335d873a74"
      },
      "outputs": [
        {
          "name": "stdout",
          "output_type": "stream",
          "text": [
            "              precision    recall  f1-score   support\n",
            "\n",
            "       angry       0.39      0.40      0.39        96\n",
            "        calm       0.48      0.54      0.51        96\n",
            "     disgust       0.34      0.27      0.30        48\n",
            "     fearful       0.19      0.16      0.17        96\n",
            "       happy       0.28      0.33      0.30        96\n",
            "     neutral       0.47      0.42      0.44        48\n",
            "         sad       0.27      0.31      0.29        96\n",
            "   surprised       0.27      0.17      0.21        48\n",
            "\n",
            "    accuracy                           0.33       624\n",
            "   macro avg       0.33      0.32      0.33       624\n",
            "weighted avg       0.33      0.33      0.33       624\n",
            "\n"
          ]
        }
      ],
      "source": [
        "from sklearn.metrics import accuracy_score, f1_score, classification_report\n",
        "\n",
        "X_test_transform = rocket.transform(X_test_nested)\n",
        "y_pred = clf.predict(X_test_transform)\n",
        "print(classification_report(y_test, y_pred))"
      ]
    },
    {
      "cell_type": "code",
      "execution_count": null,
      "metadata": {
        "id": "eqP9xlJfXk6J",
        "outputId": "83acad05-b209-48df-9230-7483edceb000"
      },
      "outputs": [
        {
          "name": "stdout",
          "output_type": "stream",
          "text": [
            "CPU times: total: 7min 23s\n",
            "Wall time: 7min 20s\n"
          ]
        },
        {
          "data": {
            "text/html": [
              "<style>#sk-container-id-3 {color: black;background-color: white;}#sk-container-id-3 pre{padding: 0;}#sk-container-id-3 div.sk-toggleable {background-color: white;}#sk-container-id-3 label.sk-toggleable__label {cursor: pointer;display: block;width: 100%;margin-bottom: 0;padding: 0.3em;box-sizing: border-box;text-align: center;}#sk-container-id-3 label.sk-toggleable__label-arrow:before {content: \"▸\";float: left;margin-right: 0.25em;color: #696969;}#sk-container-id-3 label.sk-toggleable__label-arrow:hover:before {color: black;}#sk-container-id-3 div.sk-estimator:hover label.sk-toggleable__label-arrow:before {color: black;}#sk-container-id-3 div.sk-toggleable__content {max-height: 0;max-width: 0;overflow: hidden;text-align: left;background-color: #f0f8ff;}#sk-container-id-3 div.sk-toggleable__content pre {margin: 0.2em;color: black;border-radius: 0.25em;background-color: #f0f8ff;}#sk-container-id-3 input.sk-toggleable__control:checked~div.sk-toggleable__content {max-height: 200px;max-width: 100%;overflow: auto;}#sk-container-id-3 input.sk-toggleable__control:checked~label.sk-toggleable__label-arrow:before {content: \"▾\";}#sk-container-id-3 div.sk-estimator input.sk-toggleable__control:checked~label.sk-toggleable__label {background-color: #d4ebff;}#sk-container-id-3 div.sk-label input.sk-toggleable__control:checked~label.sk-toggleable__label {background-color: #d4ebff;}#sk-container-id-3 input.sk-hidden--visually {border: 0;clip: rect(1px 1px 1px 1px);clip: rect(1px, 1px, 1px, 1px);height: 1px;margin: -1px;overflow: hidden;padding: 0;position: absolute;width: 1px;}#sk-container-id-3 div.sk-estimator {font-family: monospace;background-color: #f0f8ff;border: 1px dotted black;border-radius: 0.25em;box-sizing: border-box;margin-bottom: 0.5em;}#sk-container-id-3 div.sk-estimator:hover {background-color: #d4ebff;}#sk-container-id-3 div.sk-parallel-item::after {content: \"\";width: 100%;border-bottom: 1px solid gray;flex-grow: 1;}#sk-container-id-3 div.sk-label:hover label.sk-toggleable__label {background-color: #d4ebff;}#sk-container-id-3 div.sk-serial::before {content: \"\";position: absolute;border-left: 1px solid gray;box-sizing: border-box;top: 0;bottom: 0;left: 50%;z-index: 0;}#sk-container-id-3 div.sk-serial {display: flex;flex-direction: column;align-items: center;background-color: white;padding-right: 0.2em;padding-left: 0.2em;position: relative;}#sk-container-id-3 div.sk-item {position: relative;z-index: 1;}#sk-container-id-3 div.sk-parallel {display: flex;align-items: stretch;justify-content: center;background-color: white;position: relative;}#sk-container-id-3 div.sk-item::before, #sk-container-id-3 div.sk-parallel-item::before {content: \"\";position: absolute;border-left: 1px solid gray;box-sizing: border-box;top: 0;bottom: 0;left: 50%;z-index: -1;}#sk-container-id-3 div.sk-parallel-item {display: flex;flex-direction: column;z-index: 1;position: relative;background-color: white;}#sk-container-id-3 div.sk-parallel-item:first-child::after {align-self: flex-end;width: 50%;}#sk-container-id-3 div.sk-parallel-item:last-child::after {align-self: flex-start;width: 50%;}#sk-container-id-3 div.sk-parallel-item:only-child::after {width: 0;}#sk-container-id-3 div.sk-dashed-wrapped {border: 1px dashed gray;margin: 0 0.4em 0.5em 0.4em;box-sizing: border-box;padding-bottom: 0.4em;background-color: white;}#sk-container-id-3 div.sk-label label {font-family: monospace;font-weight: bold;display: inline-block;line-height: 1.2em;}#sk-container-id-3 div.sk-label-container {text-align: center;}#sk-container-id-3 div.sk-container {/* jupyter's `normalize.less` sets `[hidden] { display: none; }` but bootstrap.min.css set `[hidden] { display: none !important; }` so we also need the `!important` here to be able to override the default hidden behavior on the sphinx rendered scikit-learn.org. See: https://github.com/scikit-learn/scikit-learn/issues/21755 */display: inline-block !important;position: relative;}#sk-container-id-3 div.sk-text-repr-fallback {display: none;}</style><div id=\"sk-container-id-3\" class=\"sk-top-container\"><div class=\"sk-text-repr-fallback\"><pre>RidgeClassifierCV(alphas=array([1.00000000e-03, 4.64158883e-03, 2.15443469e-02, 1.00000000e-01,\n",
              "       4.64158883e-01, 2.15443469e+00, 1.00000000e+01, 4.64158883e+01,\n",
              "       2.15443469e+02, 1.00000000e+03]))</pre><b>In a Jupyter environment, please rerun this cell to show the HTML representation or trust the notebook. <br />On GitHub, the HTML representation is unable to render, please try loading this page with nbviewer.org.</b></div><div class=\"sk-container\" hidden><div class=\"sk-item\"><div class=\"sk-estimator sk-toggleable\"><input class=\"sk-toggleable__control sk-hidden--visually\" id=\"sk-estimator-id-3\" type=\"checkbox\" checked><label for=\"sk-estimator-id-3\" class=\"sk-toggleable__label sk-toggleable__label-arrow\">RidgeClassifierCV</label><div class=\"sk-toggleable__content\"><pre>RidgeClassifierCV(alphas=array([1.00000000e-03, 4.64158883e-03, 2.15443469e-02, 1.00000000e-01,\n",
              "       4.64158883e-01, 2.15443469e+00, 1.00000000e+01, 4.64158883e+01,\n",
              "       2.15443469e+02, 1.00000000e+03]))</pre></div></div></div></div></div>"
            ],
            "text/plain": [
              "RidgeClassifierCV(alphas=array([1.00000000e-03, 4.64158883e-03, 2.15443469e-02, 1.00000000e-01,\n",
              "       4.64158883e-01, 2.15443469e+00, 1.00000000e+01, 4.64158883e+01,\n",
              "       2.15443469e+02, 1.00000000e+03]))"
            ]
          },
          "execution_count": 26,
          "metadata": {},
          "output_type": "execute_result"
        }
      ],
      "source": [
        "%%time\n",
        "\n",
        "minirocket = MiniRocket()\n",
        "minirocket.fit(X_train_nested)\n",
        "X_train_transform_mini = minirocket.transform(X_train_nested)\n",
        "clf = RidgeClassifierCV(alphas=np.logspace(-3, 3, 10))\n",
        "clf.fit(X_train_transform_mini, y_train)"
      ]
    },
    {
      "cell_type": "code",
      "execution_count": null,
      "metadata": {
        "id": "Appa3Lj9Xk6K",
        "outputId": "0b045ab5-f984-48fc-e588-f1b110a33cdb"
      },
      "outputs": [
        {
          "name": "stdout",
          "output_type": "stream",
          "text": [
            "              precision    recall  f1-score   support\n",
            "\n",
            "       angry       0.56      0.83      0.67        96\n",
            "        calm       0.65      0.61      0.63        96\n",
            "     disgust       0.54      0.60      0.57        48\n",
            "     fearful       0.43      0.27      0.33        96\n",
            "       happy       0.52      0.50      0.51        96\n",
            "     neutral       0.70      0.54      0.61        48\n",
            "         sad       0.52      0.59      0.56        96\n",
            "   surprised       0.49      0.38      0.42        48\n",
            "\n",
            "    accuracy                           0.55       624\n",
            "   macro avg       0.55      0.54      0.54       624\n",
            "weighted avg       0.55      0.55      0.54       624\n",
            "\n"
          ]
        }
      ],
      "source": [
        "X_test_transform_mini = minirocket.transform(X_test_nested)\n",
        "y_pred = clf.predict(X_test_transform_mini)\n",
        "print(classification_report(y_test, y_pred))"
      ]
    },
    {
      "cell_type": "code",
      "execution_count": null,
      "metadata": {
        "id": "0YVH02ztXk6L",
        "outputId": "019abff2-657f-48b1-fd3b-f594a6a80d5f"
      },
      "outputs": [
        {
          "name": "stdout",
          "output_type": "stream",
          "text": [
            "              precision    recall  f1-score   support\n",
            "\n",
            "           0       0.67      0.04      0.08        96\n",
            "           1       0.12      0.19      0.14        96\n",
            "           2       0.06      0.04      0.05        48\n",
            "           3       0.29      0.10      0.15        96\n",
            "           4       0.00      0.00      0.00        96\n",
            "           5       0.15      0.08      0.11        48\n",
            "           6       0.18      0.68      0.29        96\n",
            "           7       0.15      0.04      0.07        48\n",
            "\n",
            "    accuracy                           0.17       624\n",
            "   macro avg       0.20      0.15      0.11       624\n",
            "weighted avg       0.22      0.17      0.12       624\n",
            "\n"
          ]
        }
      ],
      "source": [
        "from pyts.classification import KNeighborsClassifier\n",
        "from sklearn.metrics import classification_report\n",
        "\n",
        "clf = KNeighborsClassifier(metric='euclidean')\n",
        "clf.fit(X_train, y_train)\n",
        "y_pred = clf.predict(X_test)\n",
        "print(classification_report(y_test, y_pred))"
      ]
    }
  ],
  "metadata": {
    "kernelspec": {
      "display_name": "myenv",
      "language": "python",
      "name": "python3"
    },
    "language_info": {
      "codemirror_mode": {
        "name": "ipython",
        "version": 3
      },
      "file_extension": ".py",
      "mimetype": "text/x-python",
      "name": "python",
      "nbconvert_exporter": "python",
      "pygments_lexer": "ipython3",
      "version": "3.10.9"
    },
    "orig_nbformat": 4,
    "colab": {
      "provenance": []
    }
  },
  "nbformat": 4,
  "nbformat_minor": 0
}